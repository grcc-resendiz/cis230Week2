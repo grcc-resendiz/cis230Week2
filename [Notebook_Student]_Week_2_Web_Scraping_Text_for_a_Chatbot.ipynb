{
  "cells": [
    {
      "cell_type": "markdown",
      "metadata": {
        "id": "ngDNEdTkkiu2"
      },
      "source": [
        "# Week 5 - Data Collection"
      ]
    },
    {
      "cell_type": "markdown",
      "metadata": {
        "id": "TJOxW7fikiu4"
      },
      "source": [
        "![data_collection-2.png](attachment:data_collection-2.png)"
      ]
    },
    {
      "cell_type": "markdown",
      "metadata": {
        "id": "4e8iibaXkiu5"
      },
      "source": [
        "##  Table of Contents\n",
        "\n",
        "- Theoretical Overview\n",
        "- Problem Statement\n",
        "- Code\n",
        "    1. Adding knowledge base to your chatbot\n",
        "        - Importing libraries\n",
        "        - Data collection\n",
        "        - Preprocessing data\n",
        "    2. Get your chatbot to say its first words\n",
        "    3. Test your clever chatbot!"
      ]
    },
    {
      "cell_type": "markdown",
      "metadata": {
        "id": "P6XsbR1_kiu5"
      },
      "source": [
        "## Theoretical Overview\n",
        "\n",
        "Data collection is the process of gathering information from various sources for analysis and storage. Web scraping is a specific form of data collection that involves extracting information from websites. The process involves sending HTTP requests to a website's server, downloading the HTML content, and parsing the data of interest. This is achieved with the help of web scraping softwares or with programming language libraries. The extracted information can be text data that can be used for natural language processing purposes, image data or tabular data that can be used for general machine learning purposes. It remains a valuable tool for data collection."
      ]
    },
    {
      "cell_type": "markdown",
      "metadata": {
        "id": "McOGJlickiu5"
      },
      "source": [
        "## Problem Statement"
      ]
    },
    {
      "cell_type": "markdown",
      "metadata": {
        "id": "zTj6W62fkiu6"
      },
      "source": [
        "This activity will include web scraping techniques for Data Collection. In this activity, you will have to scrape the text data from a Wikipedia page. Then, you are required to create a chatbot using the cosine similarity algorithm. You have to create a chatbot which will recognise certain input and reply it with a response that makes sense. <br> This exercise is inspired by the [great work](https://medium.com/analytics-vidhya/building-a-simple-chatbot-in-python-using-nltk-7c8c8215ac6e) by Parul Pandey."
      ]
    },
    {
      "cell_type": "markdown",
      "metadata": {
        "id": "iRwRdXffkiu6"
      },
      "source": [
        "## Code"
      ]
    },
    {
      "cell_type": "markdown",
      "metadata": {
        "id": "63Tw3wyvkiu6"
      },
      "source": [
        "## 1. Adding knowledge base to your chatbot\n",
        "\n",
        "Your chatbot's ability to converse and interact depends on the data that you input to it. Therefore, the first step you want to do is to plan your chatbot. You will have to choose the right knowledge base for your particular task. For instance, you would not train your chatbot on movie reviews if you want it to answer questions about sports cars!\n",
        "\n",
        "In this exercise, you will decide what you want your chatbot to have knowledge on, and look for webpages required to build a dataset.\n",
        "\n",
        "To start off, we will collect the raw text data from Wikipedia on Chatbots. The processed data have been stored in a text document file called robots.txt.\n",
        "  \n",
        "What questions would you like your chatbot to answer? You could train your chatbot on endangered species, hunger, gender equality, clean energy, or any other topic you would like! Use the tools you have learned from the previous Experiences to collect information, and process it into a corpus of knowledge.  "
      ]
    },
    {
      "cell_type": "markdown",
      "metadata": {
        "id": "rw3mnSGSkiu6"
      },
      "source": [
        "### Importing libraries\n",
        "\n",
        "In this exercise, we will be requiring the following libraries:"
      ]
    },
    {
      "cell_type": "code",
      "execution_count": null,
      "metadata": {
        "id": "-UUgS7rEkiu7"
      },
      "outputs": [],
      "source": [
        "# Import packages\n",
        "from urllib.request import urlopen\n",
        "from bs4 import BeautifulSoup\n",
        "import re\n",
        "import numpy as np # to represent corpus as arrays\n",
        "import random\n",
        "import string # to process standard python strings\n",
        "from sklearn.metrics.pairwise import cosine_similarity # We will use this later to decide how similar two sentences are\n",
        "from sklearn.feature_extraction.text import TfidfVectorizer # Remember when you built a function to create a tfidf bag of words in Experience 2? This function does the same thing!\n",
        "import nltk # to process text data"
      ]
    },
    {
      "cell_type": "markdown",
      "metadata": {
        "id": "R5Kv0_4Zkiu7"
      },
      "source": [
        "### Data Collection"
      ]
    },
    {
      "cell_type": "markdown",
      "metadata": {
        "id": "D0C9rVSVkiu8"
      },
      "source": [
        "### Specify url of the web page as the source\n",
        "We will specify the required webpage url, where we collect the data from"
      ]
    },
    {
      "cell_type": "code",
      "execution_count": null,
      "metadata": {
        "id": "yYTqp0VRkiu8"
      },
      "outputs": [],
      "source": [
        "source = urlopen('https://en.wikipedia.org/wiki/Chatbot').read()"
      ]
    },
    {
      "cell_type": "markdown",
      "metadata": {
        "id": "J5TxmjQQkiu8"
      },
      "source": [
        "### Initiating BeautifulSoup\n",
        "We will initiate and create an instance of BeautifulSoup"
      ]
    },
    {
      "cell_type": "code",
      "execution_count": null,
      "metadata": {
        "id": "tntkhGKkkiu8",
        "outputId": "16cfe7eb-bf49-4802-89cd-bae172733687"
      },
      "outputs": [
        {
          "data": {
            "text/plain": [
              "<!DOCTYPE html>\n",
              "<html class=\"client-nojs\" dir=\"ltr\" lang=\"en\">\n",
              "<head>\n",
              "<meta charset=\"utf-8\"/>\n",
              "<title>Chatbot - Wikipedia</title>\n",
              "<script>document.documentElement.className=\"client-js\";RLCONF={\"wgBreakFrames\":false,\"wgSeparatorTransformTable\":[\"\",\"\"],\"wgDigitTransformTable\":[\"\",\"\"],\"wgDefaultDateFormat\":\"dmy\",\"wgMonthNames\":[\"\",\"January\",\"February\",\"March\",\"April\",\"May\",\"June\",\"July\",\"August\",\"September\",\"October\",\"November\",\"December\"],\"wgRequestId\":\"2415fe3d-30b8-423b-875c-85794084fed8\",\"wgCSPNonce\":false,\"wgCanonicalNamespace\":\"\",\"wgCanonicalSpecialPageName\":false,\"wgNamespaceNumber\":0,\"wgPageName\":\"Chatbot\",\"wgTitle\":\"Chatbot\",\"wgCurRevisionId\":1135577018,\"wgRevisionId\":1135577018,\"wgArticleId\":148349,\"wgIsArticle\":true,\"wgIsRedirect\":false,\"wgAction\":\"view\",\"wgUserName\":null,\"wgUserGroups\":[\"*\"],\"wgCategories\":[\"CS1 errors: missing periodical\",\"Articles with short description\",\"Short description is different from Wikidata\",\"Commons category link from Wikidata\",\"Articles with GND identifiers\",\"Articles with NKC identifiers\",\"Chatbots\",\"Instant messaging\",\"Interactive narrative\",\"Natural language parsing\"],\n",
              "\"wgPageContentLanguage\":\"en\",\"wgPageContentModel\":\"wikitext\",\"wgRelevantPageName\":\"Chatbot\",\"wgRelevantArticleId\":148349,\"wgIsProbablyEditable\":true,\"wgRelevantPageIsProbablyEditable\":true,\"wgRestrictionEdit\":[],\"wgRestrictionMove\":[],\"wgFlaggedRevsParams\":{\"tags\":{\"status\":{\"levels\":1}}},\"wgVisualEditor\":{\"pageLanguageCode\":\"en\",\"pageLanguageDir\":\"ltr\",\"pageVariantFallbacks\":\"en\"},\"wgMFDisplayWikibaseDescriptions\":{\"search\":true,\"watchlist\":true,\"tagline\":false,\"nearby\":true},\"wgWMESchemaEditAttemptStepOversample\":false,\"wgWMEPageLength\":40000,\"wgNoticeProject\":\"wikipedia\",\"wgVector2022PreviewPages\":[],\"wgMediaViewerOnClick\":true,\"wgMediaViewerEnabledByDefault\":true,\"wgPopupsFlags\":10,\"wgULSCurrentAutonym\":\"English\",\"wgEditSubmitButtonLabelPublish\":true,\"wgCentralAuthMobileDomain\":false,\"wgULSPosition\":\"interlanguage\",\"wgULSisCompactLinksEnabled\":true,\"wgULSisLanguageSelectorEmpty\":false,\"wgWikibaseItemId\":\"Q870780\",\"GEHomepageSuggestedEditsEnableTopics\":true,\n",
              "\"wgGETopicsMatchModeEnabled\":false,\"wgGEStructuredTaskRejectionReasonTextInputEnabled\":false};RLSTATE={\"skins.vector.user.styles\":\"ready\",\"ext.globalCssJs.user.styles\":\"ready\",\"site.styles\":\"ready\",\"user.styles\":\"ready\",\"skins.vector.user\":\"ready\",\"ext.globalCssJs.user\":\"ready\",\"user\":\"ready\",\"user.options\":\"loading\",\"ext.cite.styles\":\"ready\",\"mediawiki.ui.button\":\"ready\",\"skins.vector.styles\":\"ready\",\"skins.vector.icons\":\"ready\",\"mediawiki.ui.icon\":\"ready\",\"jquery.makeCollapsible.styles\":\"ready\",\"ext.visualEditor.desktopArticleTarget.noscript\":\"ready\",\"ext.wikimediaBadges\":\"ready\",\"ext.uls.interlanguage\":\"ready\",\"wikibase.client.init\":\"ready\"};RLPAGEMODULES=[\"ext.cite.ux-enhancements\",\"ext.scribunto.logs\",\"site\",\"mediawiki.page.ready\",\"jquery.makeCollapsible\",\"mediawiki.toc\",\"skins.vector.js\",\"skins.vector.es6\",\"mmv.head\",\"mmv.bootstrap.autostart\",\"ext.visualEditor.desktopArticleTarget.init\",\"ext.visualEditor.targetLoader\",\"ext.eventLogging\",\"ext.wikimediaEvents\",\n",
              "\"ext.navigationTiming\",\"ext.cx.eventlogging.campaigns\",\"ext.centralNotice.geoIP\",\"ext.centralNotice.startUp\",\"ext.gadget.ReferenceTooltips\",\"ext.gadget.charinsert\",\"ext.gadget.extra-toolbar-buttons\",\"ext.gadget.switcher\",\"ext.centralauth.centralautologin\",\"ext.popups\",\"ext.echo.centralauth\",\"ext.uls.compactlinks\",\"ext.uls.interface\",\"ext.cx.uls.quick.actions\",\"ext.growthExperiments.SuggestedEditSession\"];</script>\n",
              "<script>(RLQ=window.RLQ||[]).push(function(){mw.loader.implement(\"user.options@12s5i\",function($,jQuery,require,module){mw.user.tokens.set({\"patrolToken\":\"+\\\\\",\"watchToken\":\"+\\\\\",\"csrfToken\":\"+\\\\\"});});});</script>\n",
              "<link href=\"/w/load.php?lang=en&amp;modules=ext.cite.styles%7Cext.uls.interlanguage%7Cext.visualEditor.desktopArticleTarget.noscript%7Cext.wikimediaBadges%7Cjquery.makeCollapsible.styles%7Cmediawiki.ui.button%2Cicon%7Cskins.vector.icons%2Cstyles%7Cwikibase.client.init&amp;only=styles&amp;skin=vector-2022\" rel=\"stylesheet\"/>\n",
              "<script async=\"\" src=\"/w/load.php?lang=en&amp;modules=startup&amp;only=scripts&amp;raw=1&amp;skin=vector-2022\"></script>\n",
              "<meta content=\"\" name=\"ResourceLoaderDynamicStyles\"/>\n",
              "<link href=\"/w/load.php?lang=en&amp;modules=site.styles&amp;only=styles&amp;skin=vector-2022\" rel=\"stylesheet\"/>\n",
              "<meta content=\"MediaWiki 1.40.0-wmf.19\" name=\"generator\"/>\n",
              "<meta content=\"origin\" name=\"referrer\"/>\n",
              "<meta content=\"origin-when-crossorigin\" name=\"referrer\"/>\n",
              "<meta content=\"origin-when-cross-origin\" name=\"referrer\"/>\n",
              "<meta content=\"max-image-preview:standard\" name=\"robots\"/>\n",
              "<meta content=\"telephone=no\" name=\"format-detection\"/>\n",
              "<meta content=\"https://upload.wikimedia.org/wikipedia/commons/8/8b/Automated_online_assistant.png\" property=\"og:image\"/>\n",
              "<meta content=\"1200\" property=\"og:image:width\"/>\n",
              "<meta content=\"1503\" property=\"og:image:height\"/>\n",
              "<meta content=\"https://upload.wikimedia.org/wikipedia/commons/8/8b/Automated_online_assistant.png\" property=\"og:image\"/>\n",
              "<meta content=\"800\" property=\"og:image:width\"/>\n",
              "<meta content=\"1002\" property=\"og:image:height\"/>\n",
              "<meta content=\"640\" property=\"og:image:width\"/>\n",
              "<meta content=\"802\" property=\"og:image:height\"/>\n",
              "<meta content=\"width=1000\" name=\"viewport\"/>\n",
              "<meta content=\"Chatbot - Wikipedia\" property=\"og:title\"/>\n",
              "<meta content=\"website\" property=\"og:type\"/>\n",
              "<link href=\"//upload.wikimedia.org\" rel=\"preconnect\"/>\n",
              "<link href=\"//en.m.wikipedia.org/wiki/Chatbot\" media=\"only screen and (max-width: 720px)\" rel=\"alternate\"/>\n",
              "<link href=\"/w/index.php?title=Chatbot&amp;action=edit\" rel=\"alternate\" title=\"Edit this page\" type=\"application/x-wiki\"/>\n",
              "<link href=\"/static/apple-touch/wikipedia.png\" rel=\"apple-touch-icon\"/>\n",
              "<link href=\"/static/favicon/wikipedia.ico\" rel=\"icon\"/>\n",
              "<link href=\"/w/opensearch_desc.php\" rel=\"search\" title=\"Wikipedia (en)\" type=\"application/opensearchdescription+xml\"/>\n",
              "<link href=\"//en.wikipedia.org/w/api.php?action=rsd\" rel=\"EditURI\" type=\"application/rsd+xml\"/>\n",
              "<link href=\"https://creativecommons.org/licenses/by-sa/3.0/\" rel=\"license\"/>\n",
              "<link href=\"https://en.wikipedia.org/wiki/Chatbot\" rel=\"canonical\"/>\n",
              "<link href=\"//meta.wikimedia.org\" rel=\"dns-prefetch\"/>\n",
              "<link href=\"//login.wikimedia.org\" rel=\"dns-prefetch\"/>\n",
              "</head>\n",
              "<body class=\"skin-vector skin-vector-search-vue vector-toc-pinned mediawiki ltr sitedir-ltr mw-hide-empty-elt ns-0 ns-subject mw-editable page-Chatbot rootpage-Chatbot skin-vector-2022 action-view vector-feature-language-in-header-enabled vector-feature-language-in-main-page-header-disabled vector-feature-language-alert-in-sidebar-enabled vector-feature-sticky-header-disabled vector-feature-sticky-header-edit-disabled vector-feature-page-tools-disabled vector-feature-page-tools-pinned-disabled vector-feature-main-menu-pinned-disabled vector-feature-limited-width-enabled vector-feature-limited-width-content-enabled\"><div class=\"mw-page-container\">\n",
              "<a class=\"mw-jump-link\" href=\"#bodyContent\">Jump to content</a>\n",
              "<div class=\"mw-page-container-inner\">\n",
              "<input class=\"mw-checkbox-hack-checkbox\" id=\"mw-sidebar-checkbox\" type=\"checkbox\"/>\n",
              "<header class=\"mw-header mw-ui-icon-flush-left mw-ui-icon-flush-right\">\n",
              "<div class=\"vector-header-start\">\n",
              "<label aria-controls=\"mw-panel\" class=\"mw-checkbox-hack-button mw-ui-icon mw-ui-button mw-ui-quiet mw-ui-icon-element mw-ui-icon-flush-right\" data-event-name=\"ui.sidebar\" for=\"mw-sidebar-checkbox\" id=\"mw-sidebar-button\" role=\"button\" tabindex=\"0\" title=\"Main menu\">\n",
              "<span>Toggle sidebar</span>\n",
              "</label>\n",
              "<a class=\"mw-logo\" href=\"/wiki/Main_Page\">\n",
              "<img alt=\"\" aria-hidden=\"true\" class=\"mw-logo-icon\" height=\"50\" src=\"/static/images/icons/wikipedia.png\" width=\"50\"/>\n",
              "<span class=\"mw-logo-container\">\n",
              "<img alt=\"Wikipedia\" class=\"mw-logo-wordmark\" src=\"/static/images/mobile/copyright/wikipedia-wordmark-en.svg\" style=\"width: 7.5em; height: 1.125em;\"/>\n",
              "<img alt=\"The Free Encyclopedia\" class=\"mw-logo-tagline\" height=\"13\" src=\"/static/images/mobile/copyright/wikipedia-tagline-en.svg\" style=\"width: 7.3125em; height: 0.8125em;\" width=\"117\"/>\n",
              "</span>\n",
              "</a>\n",
              "</div>\n",
              "<div class=\"vector-header-end\">\n",
              "<div class=\"vector-search-box-vue vector-search-box-collapses vector-search-box-show-thumbnail vector-search-box-auto-expand-width vector-search-box\" id=\"p-search\" role=\"search\">\n",
              "<a accesskey=\"f\" class=\"mw-ui-button mw-ui-quiet mw-ui-icon mw-ui-icon-element mw-ui-icon-wikimedia-search search-toggle\" href=\"/wiki/Special:Search\" title=\"Search Wikipedia [f]\">\n",
              "<span>Search</span>\n",
              "</a>\n",
              "<div>\n",
              "<form action=\"/w/index.php\" class=\"vector-search-box-form\" id=\"searchform\">\n",
              "<div class=\"vector-search-box-inner\" data-search-loc=\"header-moved\" id=\"simpleSearch\">\n",
              "<input accesskey=\"f\" aria-label=\"Search Wikipedia\" autocapitalize=\"sentences\" class=\"vector-search-box-input\" id=\"searchInput\" name=\"search\" placeholder=\"Search Wikipedia\" title=\"Search Wikipedia [f]\" type=\"search\"/>\n",
              "<input name=\"title\" type=\"hidden\" value=\"Special:Search\"/>\n",
              "<input class=\"searchButton mw-fallbackSearchButton\" id=\"mw-searchButton\" name=\"fulltext\" title=\"Search Wikipedia for this text\" type=\"submit\" value=\"Search\"/>\n",
              "<input class=\"searchButton\" id=\"searchButton\" name=\"go\" title=\"Go to a page with this exact name if it exists\" type=\"submit\" value=\"Go\"/>\n",
              "</div>\n",
              "</form>\n",
              "</div>\n",
              "</div>\n",
              "<nav aria-label=\"Personal tools\" class=\"vector-user-links\" role=\"navigation\">\n",
              "<div class=\"vector-menu mw-portlet mw-portlet-vector-user-menu-overflow\" id=\"p-vector-user-menu-overflow\">\n",
              "<div class=\"vector-menu-heading\">\n",
              "</div>\n",
              "<div class=\"vector-menu-content\">\n",
              "<ul class=\"vector-menu-content-list\"><li class=\"user-links-collapsible-item mw-list-item\" id=\"pt-createaccount-2\"><a href=\"/w/index.php?title=Special:CreateAccount&amp;returnto=Chatbot\" title=\"You are encouraged to create an account and log in; however, it is not mandatory\"><span>Create account</span></a></li></ul>\n",
              "</div>\n",
              "</div>\n",
              "<div class=\"vector-menu vector-dropdown vector-menu-dropdown mw-portlet mw-portlet-personal vector-user-menu vector-user-menu-logged-out\" id=\"p-personal\" title=\"Log in and more options\">\n",
              "<input aria-haspopup=\"true\" class=\"vector-menu-checkbox\" data-event-name=\"ui.dropdown-p-personal\" id=\"p-personal-checkbox\" role=\"button\" type=\"checkbox\"/>\n",
              "<label class=\"vector-menu-heading mw-checkbox-hack-button mw-ui-icon mw-ui-button mw-ui-quiet mw-ui-icon-element mw-ui-icon-wikimedia-ellipsis\" for=\"p-personal-checkbox\" id=\"p-personal-label\">\n",
              "<span class=\"vector-menu-heading-label\">Foo</span>\n",
              "</label>\n",
              "<div class=\"vector-menu-content\">\n",
              "<div class=\"vector-menu-content\">\n",
              "<ul class=\"vector-menu-content-list\"><li class=\"vector-user-menu-create-account user-links-collapsible-item\"><a data-mw=\"interface\" href=\"/w/index.php?title=Special:CreateAccount&amp;returnto=Chatbot\"><span class=\"mw-ui-icon mw-ui-icon-userAdd mw-ui-icon-wikimedia-userAdd\"></span><span>Create account</span></a>\n",
              "</li><li class=\"vector-user-menu-login\"><a accesskey=\"o\" data-mw=\"interface\" href=\"/w/index.php?title=Special:UserLogin&amp;returnto=Chatbot\" title=\"[o]\"><span class=\"mw-ui-icon mw-ui-icon-logIn mw-ui-icon-wikimedia-logIn\"></span><span>Log in</span></a>\n",
              "</li></ul>\n",
              "</div>\n",
              "<div class=\"vector-user-menu-anon-editor\">\n",
              "<p>\n",
              "\t\t\t\tPages for logged out editors <a aria-label=\"Learn more about editing\" data-mw=\"interface\" href=\"/wiki/Help:Introduction\"><span>learn more</span></a>\n",
              "</p>\n",
              "</div>\n",
              "<div class=\"vector-menu-content\">\n",
              "<ul class=\"vector-menu-content-list\"><li class=\"mw-list-item\" id=\"pt-anontalk\"><a accesskey=\"n\" href=\"/wiki/Special:MyTalk\" title=\"Discussion about edits from this IP address [n]\"><span>Talk</span></a></li><li class=\"mw-list-item\" id=\"pt-anoncontribs\"><a accesskey=\"y\" href=\"/wiki/Special:MyContributions\" title=\"A list of edits made from this IP address [y]\"><span>Contributions</span></a></li></ul>\n",
              "</div>\n",
              "</div>\n",
              "</div></nav>\n",
              "</div>\n",
              "</header>\n",
              "<div class=\"vector-main-menu-container\">\n",
              "<div id=\"mw-navigation\">\n",
              "<nav aria-label=\"Site\" class=\"vector-main-menu-landmark\" id=\"mw-panel\" role=\"navigation\">\n",
              "<div class=\"vector-main-menu vector-pinnable-element\" id=\"vector-main-menu\">\n",
              "<div class=\"vector-main-menu-group vector-menu mw-portlet mw-portlet-navigation\" id=\"p-navigation\">\n",
              "<div class=\"vector-menu-heading\" id=\"p-navigation-label\">\n",
              "<span class=\"vector-menu-heading-label\">Navigation</span>\n",
              "</div>\n",
              "<div class=\"vector-menu-content\">\n",
              "<ul class=\"vector-menu-content-list\"><li class=\"mw-list-item\" id=\"n-mainpage-description\"><a accesskey=\"z\" href=\"/wiki/Main_Page\" title=\"Visit the main page [z]\"><span>Main page</span></a></li><li class=\"mw-list-item\" id=\"n-contents\"><a href=\"/wiki/Wikipedia:Contents\" title=\"Guides to browsing Wikipedia\"><span>Contents</span></a></li><li class=\"mw-list-item\" id=\"n-currentevents\"><a href=\"/wiki/Portal:Current_events\" title=\"Articles related to current events\"><span>Current events</span></a></li><li class=\"mw-list-item\" id=\"n-randompage\"><a accesskey=\"x\" href=\"/wiki/Special:Random\" title=\"Visit a randomly selected article [x]\"><span>Random article</span></a></li><li class=\"mw-list-item\" id=\"n-aboutsite\"><a href=\"/wiki/Wikipedia:About\" title=\"Learn about Wikipedia and how it works\"><span>About Wikipedia</span></a></li><li class=\"mw-list-item\" id=\"n-contactpage\"><a href=\"//en.wikipedia.org/wiki/Wikipedia:Contact_us\" title=\"How to contact Wikipedia\"><span>Contact us</span></a></li><li class=\"mw-list-item\" id=\"n-sitesupport\"><a href=\"https://donate.wikimedia.org/wiki/Special:FundraiserRedirector?utm_source=donate&amp;utm_medium=sidebar&amp;utm_campaign=C13_en.wikipedia.org&amp;uselang=en\" title=\"Support us by donating to the Wikimedia Foundation\"><span>Donate</span></a></li></ul>\n",
              "</div>\n",
              "</div>\n",
              "<div class=\"vector-main-menu-group vector-menu mw-portlet mw-portlet-interaction\" id=\"p-interaction\">\n",
              "<div class=\"vector-menu-heading\" id=\"p-interaction-label\">\n",
              "<span class=\"vector-menu-heading-label\">Contribute</span>\n",
              "</div>\n",
              "<div class=\"vector-menu-content\">\n",
              "<ul class=\"vector-menu-content-list\"><li class=\"mw-list-item\" id=\"n-help\"><a href=\"/wiki/Help:Contents\" title=\"Guidance on how to use and edit Wikipedia\"><span>Help</span></a></li><li class=\"mw-list-item\" id=\"n-introduction\"><a href=\"/wiki/Help:Introduction\" title=\"Learn how to edit Wikipedia\"><span>Learn to edit</span></a></li><li class=\"mw-list-item\" id=\"n-portal\"><a href=\"/wiki/Wikipedia:Community_portal\" title=\"The hub for editors\"><span>Community portal</span></a></li><li class=\"mw-list-item\" id=\"n-recentchanges\"><a accesskey=\"r\" href=\"/wiki/Special:RecentChanges\" title=\"A list of recent changes to Wikipedia [r]\"><span>Recent changes</span></a></li><li class=\"mw-list-item\" id=\"n-upload\"><a href=\"/wiki/Wikipedia:File_upload_wizard\" title=\"Add images or other media for use on Wikipedia\"><span>Upload file</span></a></li></ul>\n",
              "</div>\n",
              "</div>\n",
              "<div class=\"vector-main-menu-group vector-menu mw-portlet mw-portlet-tb\" id=\"p-tb\">\n",
              "<div class=\"vector-menu-heading\" id=\"p-tb-label\">\n",
              "<span class=\"vector-menu-heading-label\">Tools</span>\n",
              "</div>\n",
              "<div class=\"vector-menu-content\">\n",
              "<ul class=\"vector-menu-content-list\"><li class=\"mw-list-item\" id=\"t-whatlinkshere\"><a accesskey=\"j\" href=\"/wiki/Special:WhatLinksHere/Chatbot\" title=\"List of all English Wikipedia pages containing links to this page [j]\"><span>What links here</span></a></li><li class=\"mw-list-item\" id=\"t-recentchangeslinked\"><a accesskey=\"k\" href=\"/wiki/Special:RecentChangesLinked/Chatbot\" rel=\"nofollow\" title=\"Recent changes in pages linked from this page [k]\"><span>Related changes</span></a></li><li class=\"mw-list-item\" id=\"t-upload\"><a accesskey=\"u\" href=\"/wiki/Wikipedia:File_Upload_Wizard\" title=\"Upload files [u]\"><span>Upload file</span></a></li><li class=\"mw-list-item\" id=\"t-specialpages\"><a accesskey=\"q\" href=\"/wiki/Special:SpecialPages\" title=\"A list of all special pages [q]\"><span>Special pages</span></a></li><li class=\"mw-list-item\" id=\"t-permalink\"><a href=\"/w/index.php?title=Chatbot&amp;oldid=1135577018\" title=\"Permanent link to this revision of this page\"><span>Permanent link</span></a></li><li class=\"mw-list-item\" id=\"t-info\"><a href=\"/w/index.php?title=Chatbot&amp;action=info\" title=\"More information about this page\"><span>Page information</span></a></li><li class=\"mw-list-item\" id=\"t-cite\"><a href=\"/w/index.php?title=Special:CiteThisPage&amp;page=Chatbot&amp;id=1135577018&amp;wpFormIdentifier=titleform\" title=\"Information on how to cite this page\"><span>Cite this page</span></a></li><li class=\"mw-list-item\" id=\"t-wikibase\"><a accesskey=\"g\" href=\"https://www.wikidata.org/wiki/Special:EntityPage/Q870780\" title=\"Structured data on this page hosted by Wikidata [g]\"><span>Wikidata item</span></a></li></ul>\n",
              "</div>\n",
              "</div>\n",
              "<div class=\"vector-main-menu-group vector-menu mw-portlet mw-portlet-coll-print_export\" id=\"p-coll-print_export\">\n",
              "<div class=\"vector-menu-heading\" id=\"p-coll-print_export-label\">\n",
              "<span class=\"vector-menu-heading-label\">Print/export</span>\n",
              "</div>\n",
              "<div class=\"vector-menu-content\">\n",
              "<ul class=\"vector-menu-content-list\"><li class=\"mw-list-item\" id=\"coll-download-as-rl\"><a href=\"/w/index.php?title=Special:DownloadAsPdf&amp;page=Chatbot&amp;action=show-download-screen\" title=\"Download this page as a PDF file\"><span>Download as PDF</span></a></li><li class=\"mw-list-item\" id=\"t-print\"><a accesskey=\"p\" href=\"/w/index.php?title=Chatbot&amp;printable=yes\" title=\"Printable version of this page [p]\"><span>Printable version</span></a></li></ul>\n",
              "</div>\n",
              "</div>\n",
              "<div class=\"vector-main-menu-group vector-menu mw-portlet mw-portlet-wikibase-otherprojects\" id=\"p-wikibase-otherprojects\">\n",
              "<div class=\"vector-menu-heading\" id=\"p-wikibase-otherprojects-label\">\n",
              "<span class=\"vector-menu-heading-label\">In other projects</span>\n",
              "</div>\n",
              "<div class=\"vector-menu-content\">\n",
              "<ul class=\"vector-menu-content-list\"><li class=\"wb-otherproject-link wb-otherproject-commons mw-list-item\"><a href=\"https://commons.wikimedia.org/wiki/Category:Chatbots\" hreflang=\"en\"><span>Wikimedia Commons</span></a></li><li class=\"wb-otherproject-link wb-otherproject-wikibooks mw-list-item\"><a href=\"https://en.wikibooks.org/wiki/Conversational_bots\" hreflang=\"en\"><span>Wikibooks</span></a></li></ul>\n",
              "</div>\n",
              "</div>\n",
              "<div class=\"vector-main-menu-action vector-main-menu-action-lang-alert\">\n",
              "<div class=\"vector-main-menu-action-item\">\n",
              "<div class=\"vector-main-menu-action-heading vector-menu-heading\">Languages</div>\n",
              "<div class=\"vector-main-menu-action-content vector-menu-content\">\n",
              "<div class=\"mw-message-box-notice vector-language-sidebar-alert mw-message-box\">On this Wikipedia the language links are at the top of the page across from the article title. <a href=\"#p-lang-btn\">Go to top</a>.</div>\n",
              "</div>\n",
              "</div>\n",
              "</div>\n",
              "</div>\n",
              "</nav>\n",
              "</div>\n",
              "</div>\n",
              "<div class=\"vector-sitenotice-container\">\n",
              "<div id=\"siteNotice\"><!-- CentralNotice --></div>\n",
              "</div>\n",
              "<input class=\"mw-checkbox-hack-checkbox\" id=\"vector-toc-collapsed-checkbox\" type=\"checkbox\"/>\n",
              "<nav aria-label=\"Contents\" class=\"mw-table-of-contents-container\" data-event-name=\"ui.sidebar-toc\" id=\"mw-panel-toc\" role=\"navigation\">\n",
              "<div class=\"vector-pinned-container\" id=\"vector-toc-pinned-container\">\n",
              "<div class=\"vector-toc vector-pinnable-element\" id=\"vector-toc\">\n",
              "<div class=\"vector-pinnable-header vector-toc-pinnable-header vector-pinnable-header-pinned\" data-name=\"vector-toc\">\n",
              "<h2 class=\"vector-pinnable-header-label\">Contents</h2>\n",
              "<button class=\"vector-pinnable-header-toggle-button vector-pinnable-header-pin-button\" data-event-name=\"pinnable-header.vector-toc.pin\">move to sidebar</button>\n",
              "<button class=\"vector-pinnable-header-toggle-button vector-pinnable-header-unpin-button\" data-event-name=\"pinnable-header.vector-toc.unpin\">hide</button>\n",
              "</div>\n",
              "<ul class=\"vector-toc-contents\" id=\"mw-panel-toc-list\">\n",
              "<li class=\"vector-toc-list-item vector-toc-level-1\" id=\"toc-mw-content-text\">\n",
              "<a class=\"vector-toc-link\" href=\"#\">\n",
              "<div class=\"vector-toc-text\">(Top)</div>\n",
              "</a>\n",
              "</li>\n",
              "<li class=\"vector-toc-list-item vector-toc-level-1 vector-toc-list-item-expanded\" id=\"toc-Background\">\n",
              "<a class=\"vector-toc-link\" href=\"#Background\">\n",
              "<div class=\"vector-toc-text\">\n",
              "<span class=\"vector-toc-numb\">1</span>Background</div>\n",
              "</a>\n",
              "<ul class=\"vector-toc-list\" id=\"toc-Background-sublist\">\n",
              "</ul>\n",
              "</li>\n",
              "<li class=\"vector-toc-list-item vector-toc-level-1 vector-toc-list-item-expanded\" id=\"toc-Development\">\n",
              "<a class=\"vector-toc-link\" href=\"#Development\">\n",
              "<div class=\"vector-toc-text\">\n",
              "<span class=\"vector-toc-numb\">2</span>Development</div>\n",
              "</a>\n",
              "<ul class=\"vector-toc-list\" id=\"toc-Development-sublist\">\n",
              "</ul>\n",
              "</li>\n",
              "<li class=\"vector-toc-list-item vector-toc-level-1 vector-toc-list-item-expanded\" id=\"toc-Application\">\n",
              "<a class=\"vector-toc-link\" href=\"#Application\">\n",
              "<div class=\"vector-toc-text\">\n",
              "<span class=\"vector-toc-numb\">3</span>Application</div>\n",
              "</a>\n",
              "<button aria-controls=\"toc-Application-sublist\" class=\"mw-ui-icon mw-ui-icon-wikimedia-expand mw-ui-icon-small vector-toc-toggle\">\n",
              "</button>\n",
              "<ul class=\"vector-toc-list\" id=\"toc-Application-sublist\">\n",
              "<li class=\"vector-toc-list-item vector-toc-level-2\" id=\"toc-Messaging_apps\">\n",
              "<a class=\"vector-toc-link\" href=\"#Messaging_apps\">\n",
              "<div class=\"vector-toc-text\">\n",
              "<span class=\"vector-toc-numb\">3.1</span>Messaging apps</div>\n",
              "</a>\n",
              "<ul class=\"vector-toc-list\" id=\"toc-Messaging_apps-sublist\">\n",
              "<li class=\"vector-toc-list-item vector-toc-level-3\" id=\"toc-As_part_of_company_apps_and_websites\">\n",
              "<a class=\"vector-toc-link\" href=\"#As_part_of_company_apps_and_websites\">\n",
              "<div class=\"vector-toc-text\">\n",
              "<span class=\"vector-toc-numb\">3.1.1</span>As part of company apps and websites</div>\n",
              "</a>\n",
              "<ul class=\"vector-toc-list\" id=\"toc-As_part_of_company_apps_and_websites-sublist\">\n",
              "</ul>\n",
              "</li>\n",
              "<li class=\"vector-toc-list-item vector-toc-level-3\" id=\"toc-Chatbot_sequences\">\n",
              "<a class=\"vector-toc-link\" href=\"#Chatbot_sequences\">\n",
              "<div class=\"vector-toc-text\">\n",
              "<span class=\"vector-toc-numb\">3.1.2</span>Chatbot sequences</div>\n",
              "</a>\n",
              "<ul class=\"vector-toc-list\" id=\"toc-Chatbot_sequences-sublist\">\n",
              "</ul>\n",
              "</li>\n",
              "</ul>\n",
              "</li>\n",
              "<li class=\"vector-toc-list-item vector-toc-level-2\" id=\"toc-Company_internal_platforms\">\n",
              "<a class=\"vector-toc-link\" href=\"#Company_internal_platforms\">\n",
              "<div class=\"vector-toc-text\">\n",
              "<span class=\"vector-toc-numb\">3.2</span>Company internal platforms</div>\n",
              "</a>\n",
              "<ul class=\"vector-toc-list\" id=\"toc-Company_internal_platforms-sublist\">\n",
              "</ul>\n",
              "</li>\n",
              "<li class=\"vector-toc-list-item vector-toc-level-2\" id=\"toc-Customer_service\">\n",
              "<a class=\"vector-toc-link\" href=\"#Customer_service\">\n",
              "<div class=\"vector-toc-text\">\n",
              "<span class=\"vector-toc-numb\">3.3</span>Customer service</div>\n",
              "</a>\n",
              "<ul class=\"vector-toc-list\" id=\"toc-Customer_service-sublist\">\n",
              "</ul>\n",
              "</li>\n",
              "<li class=\"vector-toc-list-item vector-toc-level-2\" id=\"toc-Healthcare\">\n",
              "<a class=\"vector-toc-link\" href=\"#Healthcare\">\n",
              "<div class=\"vector-toc-text\">\n",
              "<span class=\"vector-toc-numb\">3.4</span>Healthcare</div>\n",
              "</a>\n",
              "<ul class=\"vector-toc-list\" id=\"toc-Healthcare-sublist\">\n",
              "</ul>\n",
              "</li>\n",
              "<li class=\"vector-toc-list-item vector-toc-level-2\" id=\"toc-Politics\">\n",
              "<a class=\"vector-toc-link\" href=\"#Politics\">\n",
              "<div class=\"vector-toc-text\">\n",
              "<span class=\"vector-toc-numb\">3.5</span>Politics</div>\n",
              "</a>\n",
              "<ul class=\"vector-toc-list\" id=\"toc-Politics-sublist\">\n",
              "</ul>\n",
              "</li>\n",
              "<li class=\"vector-toc-list-item vector-toc-level-2\" id=\"toc-Toys\">\n",
              "<a class=\"vector-toc-link\" href=\"#Toys\">\n",
              "<div class=\"vector-toc-text\">\n",
              "<span class=\"vector-toc-numb\">3.6</span>Toys</div>\n",
              "</a>\n",
              "<ul class=\"vector-toc-list\" id=\"toc-Toys-sublist\">\n",
              "</ul>\n",
              "</li>\n",
              "<li class=\"vector-toc-list-item vector-toc-level-2\" id=\"toc-Malicious_use\">\n",
              "<a class=\"vector-toc-link\" href=\"#Malicious_use\">\n",
              "<div class=\"vector-toc-text\">\n",
              "<span class=\"vector-toc-numb\">3.7</span>Malicious use</div>\n",
              "</a>\n",
              "<ul class=\"vector-toc-list\" id=\"toc-Malicious_use-sublist\">\n",
              "</ul>\n",
              "</li>\n",
              "</ul>\n",
              "</li>\n",
              "<li class=\"vector-toc-list-item vector-toc-level-1 vector-toc-list-item-expanded\" id=\"toc-Limitations_of_chatbots\">\n",
              "<a class=\"vector-toc-link\" href=\"#Limitations_of_chatbots\">\n",
              "<div class=\"vector-toc-text\">\n",
              "<span class=\"vector-toc-numb\">4</span>Limitations of chatbots</div>\n",
              "</a>\n",
              "<ul class=\"vector-toc-list\" id=\"toc-Limitations_of_chatbots-sublist\">\n",
              "</ul>\n",
              "</li>\n",
              "<li class=\"vector-toc-list-item vector-toc-level-1 vector-toc-list-item-expanded\" id=\"toc-Chatbots_and_jobs\">\n",
              "<a class=\"vector-toc-link\" href=\"#Chatbots_and_jobs\">\n",
              "<div class=\"vector-toc-text\">\n",
              "<span class=\"vector-toc-numb\">5</span>Chatbots and jobs</div>\n",
              "</a>\n",
              "<ul class=\"vector-toc-list\" id=\"toc-Chatbots_and_jobs-sublist\">\n",
              "</ul>\n",
              "</li>\n",
              "<li class=\"vector-toc-list-item vector-toc-level-1 vector-toc-list-item-expanded\" id=\"toc-See_also\">\n",
              "<a class=\"vector-toc-link\" href=\"#See_also\">\n",
              "<div class=\"vector-toc-text\">\n",
              "<span class=\"vector-toc-numb\">6</span>See also</div>\n",
              "</a>\n",
              "<ul class=\"vector-toc-list\" id=\"toc-See_also-sublist\">\n",
              "</ul>\n",
              "</li>\n",
              "<li class=\"vector-toc-list-item vector-toc-level-1 vector-toc-list-item-expanded\" id=\"toc-References\">\n",
              "<a class=\"vector-toc-link\" href=\"#References\">\n",
              "<div class=\"vector-toc-text\">\n",
              "<span class=\"vector-toc-numb\">7</span>References</div>\n",
              "</a>\n",
              "<button aria-controls=\"toc-References-sublist\" class=\"mw-ui-icon mw-ui-icon-wikimedia-expand mw-ui-icon-small vector-toc-toggle\">\n",
              "</button>\n",
              "<ul class=\"vector-toc-list\" id=\"toc-References-sublist\">\n",
              "<li class=\"vector-toc-list-item vector-toc-level-2\" id=\"toc-Bibliography\">\n",
              "<a class=\"vector-toc-link\" href=\"#Bibliography\">\n",
              "<div class=\"vector-toc-text\">\n",
              "<span class=\"vector-toc-numb\">7.1</span>Bibliography</div>\n",
              "</a>\n",
              "<ul class=\"vector-toc-list\" id=\"toc-Bibliography-sublist\">\n",
              "</ul>\n",
              "</li>\n",
              "</ul>\n",
              "</li>\n",
              "<li class=\"vector-toc-list-item vector-toc-level-1 vector-toc-list-item-expanded\" id=\"toc-Further_reading\">\n",
              "<a class=\"vector-toc-link\" href=\"#Further_reading\">\n",
              "<div class=\"vector-toc-text\">\n",
              "<span class=\"vector-toc-numb\">8</span>Further reading</div>\n",
              "</a>\n",
              "<ul class=\"vector-toc-list\" id=\"toc-Further_reading-sublist\">\n",
              "</ul>\n",
              "</li>\n",
              "<li class=\"vector-toc-list-item vector-toc-level-1 vector-toc-list-item-expanded\" id=\"toc-External_links\">\n",
              "<a class=\"vector-toc-link\" href=\"#External_links\">\n",
              "<div class=\"vector-toc-text\">\n",
              "<span class=\"vector-toc-numb\">9</span>External links</div>\n",
              "</a>\n",
              "<ul class=\"vector-toc-list\" id=\"toc-External_links-sublist\">\n",
              "</ul>\n",
              "</li>\n",
              "</ul>\n",
              "</div>\n",
              "</div>\n",
              "</nav>\n",
              "<div class=\"mw-content-container\">\n",
              "<main class=\"mw-body\" id=\"content\" role=\"main\">\n",
              "<header class=\"mw-body-header vector-page-titlebar\">\n",
              "<label aria-controls=\"toc-toggle-list\" class=\"mw-ui-button mw-ui-quiet mw-ui-icon mw-ui-icon-flush-left mw-ui-icon-element mw-ui-icon-wikimedia-listBullet mw-checkbox-hack-button\" data-event-name=\"vector.toc-toggle-list\" for=\"vector-toc-collapsed-checkbox\" id=\"vector-toc-collapsed-button\" role=\"button\" tabindex=\"0\" title=\"Table of Contents\">\n",
              "\t\t\t\t\t\tToggle the table of contents\n",
              "\t\t\t\t\t</label>\n",
              "<div class=\"vector-menu vector-dropdown vector-menu-dropdown vector-page-titlebar-toc mw-ui-icon-flush-left\" id=\"vector-page-titlebar-toc\">\n",
              "<input aria-haspopup=\"true\" class=\"vector-menu-checkbox\" data-event-name=\"ui.dropdown-vector-page-titlebar-toc\" id=\"vector-page-titlebar-toc-checkbox\" role=\"button\" type=\"checkbox\"/>\n",
              "<label class=\"vector-menu-heading mw-checkbox-hack-button mw-ui-icon mw-ui-button mw-ui-quiet mw-ui-icon-element mw-ui-icon-wikimedia-listBullet\" for=\"vector-page-titlebar-toc-checkbox\" id=\"vector-page-titlebar-toc-label\">\n",
              "<span class=\"vector-menu-heading-label\"></span>\n",
              "</label>\n",
              "<div class=\"vector-menu-content\">\n",
              "<div class=\"vector-unpinned-container\" id=\"vector-page-titlebar-toc-unpinned-container\">\n",
              "</div>\n",
              "</div>\n",
              "</div>\n",
              "<h1 class=\"firstHeading mw-first-heading\" id=\"firstHeading\"><span class=\"mw-page-title-main\">Chatbot</span></h1>\n",
              "<div class=\"vector-menu vector-dropdown vector-menu-dropdown mw-portlet mw-portlet-lang mw-ui-icon-flush-right\" id=\"p-lang-btn\">\n",
              "<input aria-haspopup=\"true\" aria-label=\"Go to an article in another language. Available in 41 languages\" class=\"vector-menu-checkbox mw-interlanguage-selector\" data-event-name=\"ui.dropdown-p-lang-btn\" id=\"p-lang-btn-checkbox\" role=\"button\" type=\"checkbox\"/>\n",
              "<label class=\"vector-menu-heading mw-ui-button mw-ui-quiet mw-ui-progressive mw-portlet-lang-heading-41\" for=\"p-lang-btn-checkbox\" id=\"p-lang-btn-label\">\n",
              "<span class=\"mw-ui-icon mw-ui-icon-wikimedia-language-progressive\"></span><span class=\"vector-menu-heading-label\">41 languages</span>\n",
              "</label>\n",
              "<div class=\"vector-menu-content\">\n",
              "<div class=\"vector-menu-content\">\n",
              "<ul class=\"vector-menu-content-list\"><li class=\"interlanguage-link interwiki-af mw-list-item\"><a class=\"interlanguage-link-target\" href=\"https://af.wikipedia.org/wiki/Kletsbot\" hreflang=\"af\" lang=\"af\" title=\"Kletsbot – Afrikaans\"><span>Afrikaans</span></a></li><li class=\"interlanguage-link interwiki-ar mw-list-item\"><a class=\"interlanguage-link-target\" href=\"https://ar.wikipedia.org/wiki/%D8%B1%D9%88%D8%A8%D9%88%D8%AA_%D8%AF%D8%B1%D8%AF%D8%B4%D8%A9\" hreflang=\"ar\" lang=\"ar\" title=\"روبوت دردشة – Arabic\"><span>العربية</span></a></li><li class=\"interlanguage-link interwiki-bn mw-list-item\"><a class=\"interlanguage-link-target\" href=\"https://bn.wikipedia.org/wiki/%E0%A6%9A%E0%A7%8D%E0%A6%AF%E0%A6%BE%E0%A6%9F%E0%A6%AC%E0%A6%9F\" hreflang=\"bn\" lang=\"bn\" title=\"চ্যাটবট – Bangla\"><span>বাংলা</span></a></li><li class=\"interlanguage-link interwiki-ca mw-list-item\"><a class=\"interlanguage-link-target\" href=\"https://ca.wikipedia.org/wiki/Bot_conversacional\" hreflang=\"ca\" lang=\"ca\" title=\"Bot conversacional – Catalan\"><span>Català</span></a></li><li class=\"interlanguage-link interwiki-cs mw-list-item\"><a class=\"interlanguage-link-target\" href=\"https://cs.wikipedia.org/wiki/Chatbot\" hreflang=\"cs\" lang=\"cs\" title=\"Chatbot – Czech\"><span>Čeština</span></a></li><li class=\"interlanguage-link interwiki-da mw-list-item\"><a class=\"interlanguage-link-target\" href=\"https://da.wikipedia.org/wiki/Chatbot\" hreflang=\"da\" lang=\"da\" title=\"Chatbot – Danish\"><span>Dansk</span></a></li><li class=\"interlanguage-link interwiki-de mw-list-item\"><a class=\"interlanguage-link-target\" href=\"https://de.wikipedia.org/wiki/Chatbot\" hreflang=\"de\" lang=\"de\" title=\"Chatbot – German\"><span>Deutsch</span></a></li><li class=\"interlanguage-link interwiki-et mw-list-item\"><a class=\"interlanguage-link-target\" href=\"https://et.wikipedia.org/wiki/Juturobot\" hreflang=\"et\" lang=\"et\" title=\"Juturobot – Estonian\"><span>Eesti</span></a></li><li class=\"interlanguage-link interwiki-es mw-list-item\"><a class=\"interlanguage-link-target\" href=\"https://es.wikipedia.org/wiki/Bot_conversacional\" hreflang=\"es\" lang=\"es\" title=\"Bot conversacional – Spanish\"><span>Español</span></a></li><li class=\"interlanguage-link interwiki-eo mw-list-item\"><a class=\"interlanguage-link-target\" href=\"https://eo.wikipedia.org/wiki/Babilroboto\" hreflang=\"eo\" lang=\"eo\" title=\"Babilroboto – Esperanto\"><span>Esperanto</span></a></li><li class=\"interlanguage-link interwiki-eu mw-list-item\"><a class=\"interlanguage-link-target\" href=\"https://eu.wikipedia.org/wiki/Chatbot\" hreflang=\"eu\" lang=\"eu\" title=\"Chatbot – Basque\"><span>Euskara</span></a></li><li class=\"interlanguage-link interwiki-fa mw-list-item\"><a class=\"interlanguage-link-target\" href=\"https://fa.wikipedia.org/wiki/%D8%A8%D8%A7%D8%AA_%D9%85%DA%A9%D8%A7%D9%84%D9%85%D9%87\" hreflang=\"fa\" lang=\"fa\" title=\"بات مکالمه – Persian\"><span>فارسی</span></a></li><li class=\"interlanguage-link interwiki-fr mw-list-item\"><a class=\"interlanguage-link-target\" href=\"https://fr.wikipedia.org/wiki/Chatbot\" hreflang=\"fr\" lang=\"fr\" title=\"Chatbot – French\"><span>Français</span></a></li><li class=\"interlanguage-link interwiki-ko mw-list-item\"><a class=\"interlanguage-link-target\" href=\"https://ko.wikipedia.org/wiki/%EC%B1%97%EB%B4%87\" hreflang=\"ko\" lang=\"ko\" title=\"챗봇 – Korean\"><span>한국어</span></a></li><li class=\"interlanguage-link interwiki-hy mw-list-item\"><a class=\"interlanguage-link-target\" href=\"https://hy.wikipedia.org/wiki/%D5%89%D5%A1%D5%BF%D5%A2%D5%B8%D5%BF\" hreflang=\"hy\" lang=\"hy\" title=\"Չատբոտ – Armenian\"><span>Հայերեն</span></a></li><li class=\"interlanguage-link interwiki-hr mw-list-item\"><a class=\"interlanguage-link-target\" href=\"https://hr.wikipedia.org/wiki/Chatbot\" hreflang=\"hr\" lang=\"hr\" title=\"Chatbot – Croatian\"><span>Hrvatski</span></a></li><li class=\"interlanguage-link interwiki-id mw-list-item\"><a class=\"interlanguage-link-target\" href=\"https://id.wikipedia.org/wiki/Bot_percakapan\" hreflang=\"id\" lang=\"id\" title=\"Bot percakapan – Indonesian\"><span>Bahasa Indonesia</span></a></li><li class=\"interlanguage-link interwiki-zu mw-list-item\"><a class=\"interlanguage-link-target\" href=\"https://zu.wikipedia.org/wiki/Isiqavithi\" hreflang=\"zu\" lang=\"zu\" title=\"Isiqavithi – Zulu\"><span>IsiZulu</span></a></li><li class=\"interlanguage-link interwiki-is mw-list-item\"><a class=\"interlanguage-link-target\" href=\"https://is.wikipedia.org/wiki/Spjallmenni\" hreflang=\"is\" lang=\"is\" title=\"Spjallmenni – Icelandic\"><span>Íslenska</span></a></li><li class=\"interlanguage-link interwiki-it mw-list-item\"><a class=\"interlanguage-link-target\" href=\"https://it.wikipedia.org/wiki/Chat_bot\" hreflang=\"it\" lang=\"it\" title=\"Chat bot – Italian\"><span>Italiano</span></a></li><li class=\"interlanguage-link interwiki-he mw-list-item\"><a class=\"interlanguage-link-target\" href=\"https://he.wikipedia.org/wiki/%D7%A6%27%D7%98%D7%91%D7%95%D7%98\" hreflang=\"he\" lang=\"he\" title=\"צ'טבוט – Hebrew\"><span>עברית</span></a></li><li class=\"interlanguage-link interwiki-ky mw-list-item\"><a class=\"interlanguage-link-target\" href=\"https://ky.wikipedia.org/wiki/%D0%A7%D0%B0%D1%82_%D0%B1%D0%BE%D1%82\" hreflang=\"ky\" lang=\"ky\" title=\"Чат бот – Kyrgyz\"><span>Кыргызча</span></a></li><li class=\"interlanguage-link interwiki-nl mw-list-item\"><a class=\"interlanguage-link-target\" href=\"https://nl.wikipedia.org/wiki/Chatbot\" hreflang=\"nl\" lang=\"nl\" title=\"Chatbot – Dutch\"><span>Nederlands</span></a></li><li class=\"interlanguage-link interwiki-ja mw-list-item\"><a class=\"interlanguage-link-target\" href=\"https://ja.wikipedia.org/wiki/%E4%BA%BA%E5%B7%A5%E7%84%A1%E8%84%B3\" hreflang=\"ja\" lang=\"ja\" title=\"人工無脳 – Japanese\"><span>日本語</span></a></li><li class=\"interlanguage-link interwiki-no mw-list-item\"><a class=\"interlanguage-link-target\" href=\"https://no.wikipedia.org/wiki/Chatbot\" hreflang=\"nb\" lang=\"nb\" title=\"Chatbot – Norwegian Bokmål\"><span>Norsk bokmål</span></a></li><li class=\"interlanguage-link interwiki-pl mw-list-item\"><a class=\"interlanguage-link-target\" href=\"https://pl.wikipedia.org/wiki/Chatbot\" hreflang=\"pl\" lang=\"pl\" title=\"Chatbot – Polish\"><span>Polski</span></a></li><li class=\"interlanguage-link interwiki-pt mw-list-item\"><a class=\"interlanguage-link-target\" href=\"https://pt.wikipedia.org/wiki/Chatterbot\" hreflang=\"pt\" lang=\"pt\" title=\"Chatterbot – Portuguese\"><span>Português</span></a></li><li class=\"interlanguage-link interwiki-ro mw-list-item\"><a class=\"interlanguage-link-target\" href=\"https://ro.wikipedia.org/wiki/Chatbot\" hreflang=\"ro\" lang=\"ro\" title=\"Chatbot – Romanian\"><span>Română</span></a></li><li class=\"interlanguage-link interwiki-ru mw-list-item\"><a class=\"interlanguage-link-target\" href=\"https://ru.wikipedia.org/wiki/%D0%92%D0%B8%D1%80%D1%82%D1%83%D0%B0%D0%BB%D1%8C%D0%BD%D1%8B%D0%B9_%D1%81%D0%BE%D0%B1%D0%B5%D1%81%D0%B5%D0%B4%D0%BD%D0%B8%D0%BA\" hreflang=\"ru\" lang=\"ru\" title=\"Виртуальный собеседник – Russian\"><span>Русский</span></a></li><li class=\"interlanguage-link interwiki-scn mw-list-item\"><a class=\"interlanguage-link-target\" href=\"https://scn.wikipedia.org/wiki/Bot_pi_ciaccirari\" hreflang=\"scn\" lang=\"scn\" title=\"Bot pi ciaccirari – Sicilian\"><span>Sicilianu</span></a></li><li class=\"interlanguage-link interwiki-simple mw-list-item\"><a class=\"interlanguage-link-target\" href=\"https://simple.wikipedia.org/wiki/Chatterbot\" hreflang=\"en-simple\" lang=\"en-simple\" title=\"Chatterbot – Simple English\"><span>Simple English</span></a></li><li class=\"interlanguage-link interwiki-sk mw-list-item\"><a class=\"interlanguage-link-target\" href=\"https://sk.wikipedia.org/wiki/Konverza%C4%8Dn%C3%BD_robot\" hreflang=\"sk\" lang=\"sk\" title=\"Konverzačný robot – Slovak\"><span>Slovenčina</span></a></li><li class=\"interlanguage-link interwiki-fi mw-list-item\"><a class=\"interlanguage-link-target\" href=\"https://fi.wikipedia.org/wiki/Chatbot\" hreflang=\"fi\" lang=\"fi\" title=\"Chatbot – Finnish\"><span>Suomi</span></a></li><li class=\"interlanguage-link interwiki-sv mw-list-item\"><a class=\"interlanguage-link-target\" href=\"https://sv.wikipedia.org/wiki/Textrobot\" hreflang=\"sv\" lang=\"sv\" title=\"Textrobot – Swedish\"><span>Svenska</span></a></li><li class=\"interlanguage-link interwiki-ta mw-list-item\"><a class=\"interlanguage-link-target\" href=\"https://ta.wikipedia.org/wiki/%E0%AE%B5%E0%AE%BE%E0%AE%AF%E0%AE%BE%E0%AE%9F%E0%AE%BF_(%E0%AE%AE%E0%AF%86%E0%AE%A9%E0%AF%8D%E0%AE%AA%E0%AF%8A%E0%AE%B0%E0%AF%81%E0%AE%B3%E0%AF%8D)\" hreflang=\"ta\" lang=\"ta\" title=\"வாயாடி (மென்பொருள்) – Tamil\"><span>தமிழ்</span></a></li><li class=\"interlanguage-link interwiki-tr mw-list-item\"><a class=\"interlanguage-link-target\" href=\"https://tr.wikipedia.org/wiki/Chatbot\" hreflang=\"tr\" lang=\"tr\" title=\"Chatbot – Turkish\"><span>Türkçe</span></a></li><li class=\"interlanguage-link interwiki-uk mw-list-item\"><a class=\"interlanguage-link-target\" href=\"https://uk.wikipedia.org/wiki/%D0%A7%D0%B0%D1%82-%D0%B1%D0%BE%D1%82\" hreflang=\"uk\" lang=\"uk\" title=\"Чат-бот – Ukrainian\"><span>Українська</span></a></li><li class=\"interlanguage-link interwiki-vi mw-list-item\"><a class=\"interlanguage-link-target\" href=\"https://vi.wikipedia.org/wiki/Chatbot\" hreflang=\"vi\" lang=\"vi\" title=\"Chatbot – Vietnamese\"><span>Tiếng Việt</span></a></li><li class=\"interlanguage-link interwiki-wuu mw-list-item\"><a class=\"interlanguage-link-target\" href=\"https://wuu.wikipedia.org/wiki/%E8%81%8A%E5%A4%A9%E6%9C%BA%E5%99%A8%E4%BA%BA\" hreflang=\"wuu\" lang=\"wuu\" title=\"聊天机器人 – Wu Chinese\"><span>吴语</span></a></li><li class=\"interlanguage-link interwiki-zh-yue mw-list-item\"><a class=\"interlanguage-link-target\" href=\"https://zh-yue.wikipedia.org/wiki/%E5%82%BE%E5%81%88%E6%A9%9F%E6%A2%B0%E4%BA%BA\" hreflang=\"yue\" lang=\"yue\" title=\"傾偈機械人 – Cantonese\"><span>粵語</span></a></li><li class=\"interlanguage-link interwiki-zh mw-list-item\"><a class=\"interlanguage-link-target\" href=\"https://zh.wikipedia.org/wiki/%E8%81%8A%E5%A4%A9%E6%A9%9F%E5%99%A8%E4%BA%BA\" hreflang=\"zh\" lang=\"zh\" title=\"聊天機器人 – Chinese\"><span>中文</span></a></li></ul>\n",
              "<div class=\"after-portlet after-portlet-lang\"><span class=\"wb-langlinks-edit wb-langlinks-link\"><a class=\"wbc-editpage\" href=\"https://www.wikidata.org/wiki/Special:EntityPage/Q870780#sitelinks-wikipedia\" title=\"Edit interlanguage links\">Edit links</a></span></div>\n",
              "</div>\n",
              "</div>\n",
              "</div>\n",
              "</header>\n",
              "<div class=\"vector-page-toolbar\">\n",
              "<div class=\"vector-page-toolbar-container\">\n",
              "<div id=\"left-navigation\">\n",
              "<nav aria-label=\"Namespaces\">\n",
              "<div class=\"vector-menu vector-menu-tabs mw-portlet mw-portlet-associated-pages\" id=\"p-associated-pages\">\n",
              "<div class=\"vector-menu-content\">\n",
              "<ul class=\"vector-menu-content-list\"><li class=\"selected vector-tab-noicon mw-list-item\" id=\"ca-nstab-main\"><a accesskey=\"c\" href=\"/wiki/Chatbot\" title=\"View the content page [c]\"><span>Article</span></a></li><li class=\"vector-tab-noicon mw-list-item\" id=\"ca-talk\"><a accesskey=\"t\" href=\"/wiki/Talk:Chatbot\" rel=\"discussion\" title=\"Discuss improvements to the content page [t]\"><span>Talk</span></a></li></ul>\n",
              "</div>\n",
              "</div>\n",
              "<div class=\"vector-menu vector-dropdown vector-menu-dropdown mw-portlet mw-portlet-variants emptyPortlet\" id=\"p-variants\">\n",
              "<input aria-haspopup=\"true\" aria-label=\"Change language variant\" class=\"vector-menu-checkbox\" data-event-name=\"ui.dropdown-p-variants\" id=\"p-variants-checkbox\" role=\"button\" type=\"checkbox\"/>\n",
              "<label class=\"vector-menu-heading\" for=\"p-variants-checkbox\" id=\"p-variants-label\">\n",
              "<span class=\"vector-menu-heading-label\">English</span>\n",
              "</label>\n",
              "<div class=\"vector-menu-content\">\n",
              "<div class=\"vector-menu-content\">\n",
              "<ul class=\"vector-menu-content-list\"></ul>\n",
              "</div>\n",
              "</div>\n",
              "</div>\n",
              "</nav>\n",
              "</div>\n",
              "<div class=\"vector-collapsible\" id=\"right-navigation\">\n",
              "<nav aria-label=\"Views\">\n",
              "<div class=\"vector-menu vector-menu-tabs mw-portlet mw-portlet-views\" id=\"p-views\">\n",
              "<div class=\"vector-menu-content\">\n",
              "<ul class=\"vector-menu-content-list\"><li class=\"selected vector-tab-noicon mw-list-item\" id=\"ca-view\"><a href=\"/wiki/Chatbot\"><span>Read</span></a></li><li class=\"vector-tab-noicon mw-list-item\" id=\"ca-edit\"><a accesskey=\"e\" href=\"/w/index.php?title=Chatbot&amp;action=edit\" title=\"Edit this page [e]\"><span>Edit</span></a></li><li class=\"vector-tab-noicon mw-list-item\" id=\"ca-history\"><a accesskey=\"h\" href=\"/w/index.php?title=Chatbot&amp;action=history\" title=\"Past revisions of this page [h]\"><span>View history</span></a></li></ul>\n",
              "</div>\n",
              "</div>\n",
              "</nav>\n",
              "<nav aria-label=\"More options\" class=\"vector-page-tools-landmark\">\n",
              "<div class=\"vector-menu vector-dropdown vector-menu-dropdown mw-portlet mw-portlet-cactions emptyPortlet vector-has-collapsible-items\" id=\"p-cactions\" title=\"More options\">\n",
              "<input aria-haspopup=\"true\" class=\"vector-menu-checkbox\" data-event-name=\"ui.dropdown-p-cactions\" id=\"p-cactions-checkbox\" role=\"button\" type=\"checkbox\"/>\n",
              "<label class=\"vector-menu-heading\" for=\"p-cactions-checkbox\" id=\"p-cactions-label\">\n",
              "<span class=\"vector-menu-heading-label\">More</span>\n",
              "</label>\n",
              "<div class=\"vector-menu-content\">\n",
              "<div class=\"vector-menu-content\">\n",
              "<ul class=\"vector-menu-content-list\"><li class=\"selected vector-more-collapsible-item mw-list-item\" id=\"ca-more-view\"><a href=\"/wiki/Chatbot\"><span>Read</span></a></li><li class=\"vector-more-collapsible-item mw-list-item\" id=\"ca-more-edit\"><a href=\"/w/index.php?title=Chatbot&amp;action=edit\"><span>Edit</span></a></li><li class=\"vector-more-collapsible-item mw-list-item\" id=\"ca-more-history\"><a href=\"/w/index.php?title=Chatbot&amp;action=history\"><span>View history</span></a></li></ul>\n",
              "</div>\n",
              "</div>\n",
              "</div>\n",
              "</nav>\n",
              "</div>\n",
              "</div>\n",
              "</div>\n",
              "<div aria-labelledby=\"firstHeading\" class=\"vector-body\" data-mw-ve-target-container=\"\" id=\"bodyContent\">\n",
              "<div class=\"vector-body-before-content\">\n",
              "<div class=\"mw-indicators\">\n",
              "</div>\n",
              "<div class=\"noprint\" id=\"siteSub\">From Wikipedia, the free encyclopedia</div>\n",
              "</div>\n",
              "<div id=\"contentSub\"><div id=\"mw-content-subtitle\"></div></div>\n",
              "<div class=\"mw-body-content mw-content-ltr\" dir=\"ltr\" id=\"mw-content-text\" lang=\"en\"><div class=\"mw-parser-output\"><div class=\"shortdescription nomobile noexcerpt noprint searchaux\" style=\"display:none\">Program that simulates conversation</div>\n",
              "<style data-mw-deduplicate=\"TemplateStyles:r1033289096\">.mw-parser-output .hatnote{font-style:italic}.mw-parser-output div.hatnote{padding-left:1.6em;margin-bottom:0.5em}.mw-parser-output .hatnote i{font-style:normal}.mw-parser-output .hatnote+link+.hatnote{margin-top:-0.5em}</style><div class=\"hatnote navigation-not-searchable\" role=\"note\">For other uses, see <a class=\"mw-disambig\" href=\"/wiki/Chatbot_(disambiguation)\" title=\"Chatbot (disambiguation)\">Chatbot (disambiguation)</a>.</div>\n",
              "<div class=\"thumb tright\"><div class=\"thumbinner\" style=\"width:222px;\"><a class=\"image\" href=\"/wiki/File:Automated_online_assistant.png\"><img alt=\"\" class=\"thumbimage\" data-file-height=\"501\" data-file-width=\"400\" decoding=\"async\" height=\"276\" src=\"//upload.wikimedia.org/wikipedia/commons/thumb/8/8b/Automated_online_assistant.png/220px-Automated_online_assistant.png\" srcset=\"//upload.wikimedia.org/wikipedia/commons/thumb/8/8b/Automated_online_assistant.png/330px-Automated_online_assistant.png 1.5x, //upload.wikimedia.org/wikipedia/commons/8/8b/Automated_online_assistant.png 2x\" width=\"220\"/></a> <div class=\"thumbcaption\"><div class=\"magnify\"><a class=\"internal\" href=\"/wiki/File:Automated_online_assistant.png\" title=\"Enlarge\"></a></div>A <a href=\"/wiki/Virtual_assistant\" title=\"Virtual assistant\">virtual assistant</a> chatbot</div></div></div>\n",
              "<div class=\"thumb tright\"><div class=\"thumbinner\" style=\"width:222px;\"><a class=\"image\" href=\"/wiki/File:ELIZA_conversation.png\"><img alt=\"\" class=\"thumbimage\" data-file-height=\"487\" data-file-width=\"751\" decoding=\"async\" height=\"143\" src=\"//upload.wikimedia.org/wikipedia/commons/thumb/7/79/ELIZA_conversation.png/220px-ELIZA_conversation.png\" srcset=\"//upload.wikimedia.org/wikipedia/commons/thumb/7/79/ELIZA_conversation.png/330px-ELIZA_conversation.png 1.5x, //upload.wikimedia.org/wikipedia/commons/thumb/7/79/ELIZA_conversation.png/440px-ELIZA_conversation.png 2x\" width=\"220\"/></a> <div class=\"thumbcaption\"><div class=\"magnify\"><a class=\"internal\" href=\"/wiki/File:ELIZA_conversation.png\" title=\"Enlarge\"></a></div>The 1966 <a href=\"/wiki/ELIZA\" title=\"ELIZA\">ELIZA</a> chatbot</div></div></div>\n",
              "<p>A <b>chatbot</b> or <b>chatterbot</b> is a <a href=\"/wiki/Software_agent\" title=\"Software agent\">software</a> application used to conduct an online chat <a href=\"/wiki/Conversation\" title=\"Conversation\">conversation</a> via text or <a href=\"/wiki/Speech_synthesis\" title=\"Speech synthesis\">text-to-speech</a>, in lieu of providing direct contact with a live human agent.<sup class=\"reference\" id=\"cite_ref-target_1-0\"><a href=\"#cite_note-target-1\">[1]</a></sup><sup class=\"reference\" id=\"cite_ref-:1_2-0\"><a href=\"#cite_note-:1-2\">[2]</a></sup> Designed to convincingly simulate the way a human would behave as a conversational partner, chatbot systems typically require continuous tuning and testing, and many in production remain unable to adequately converse, while none of them can pass the standard <a href=\"/wiki/Turing_test\" title=\"Turing test\">Turing test</a>.<sup class=\"reference\" id=\"cite_ref-chatbots_and_Turing_Test_3-0\"><a href=\"#cite_note-chatbots_and_Turing_Test-3\">[3]</a></sup> The term \"ChatterBot\" was originally coined by <a href=\"/wiki/Michael_Loren_Mauldin\" title=\"Michael Loren Mauldin\">Michael Mauldin</a> (creator of the first <a href=\"/wiki/Verbot\" title=\"Verbot\">Verbot</a>) in 1994 to describe these conversational programs.<sup class=\"reference\" id=\"cite_ref-4\"><a href=\"#cite_note-4\">[4]</a></sup>\n",
              "</p><p>Chatbots are used in <a class=\"mw-redirect\" href=\"/wiki/Dialog_system\" title=\"Dialog system\">dialog systems</a> for various purposes including customer service, request routing, or information gathering. While some chatbot applications use extensive word-classification processes, <a href=\"/wiki/Natural_language_processing\" title=\"Natural language processing\">natural-language processors</a>, and sophisticated <a href=\"/wiki/Artificial_intelligence\" title=\"Artificial intelligence\">AI</a>, others simply scan for general keywords and generate responses using common phrases obtained from an associated library or <a href=\"/wiki/Database\" title=\"Database\">database</a>.\n",
              "</p><p>Most chatbots are accessed on-line via website popups or through <a class=\"mw-redirect\" href=\"/wiki/Virtual_assistant_(artificial_intelligence)\" title=\"Virtual assistant (artificial intelligence)\">virtual assistants</a>. They can be classified into usage categories that include: <a href=\"/wiki/Conversational_commerce\" title=\"Conversational commerce\">commerce</a> (<a href=\"/wiki/E-commerce\" title=\"E-commerce\">e-commerce</a> via chat), <a href=\"/wiki/Education\" title=\"Education\">education</a>, <a href=\"/wiki/Entertainment\" title=\"Entertainment\">entertainment</a>, <a href=\"/wiki/Finance\" title=\"Finance\">finance</a>, <a href=\"/wiki/Health\" title=\"Health\">health</a>, <a href=\"/wiki/News\" title=\"News\">news</a>, and <a href=\"/wiki/Productivity\" title=\"Productivity\">productivity</a>.<sup class=\"reference\" id=\"cite_ref-5\"><a href=\"#cite_note-5\">[5]</a></sup>\n",
              "</p>\n",
              "<meta property=\"mw:PageProp/toc\"/>\n",
              "<h2><span class=\"mw-headline\" id=\"Background\">Background</span><span class=\"mw-editsection\"><span class=\"mw-editsection-bracket\">[</span><a href=\"/w/index.php?title=Chatbot&amp;action=edit&amp;section=1\" title=\"Edit section: Background\">edit</a><span class=\"mw-editsection-bracket\">]</span></span></h2>\n",
              "<p>In 1950, <a href=\"/wiki/Alan_Turing\" title=\"Alan Turing\">Alan Turing</a>'s famous article \"<a href=\"/wiki/Computing_Machinery_and_Intelligence\" title=\"Computing Machinery and Intelligence\">Computing Machinery and Intelligence</a>\" was published,<sup class=\"reference\" id=\"cite_ref-6\"><a href=\"#cite_note-6\">[6]</a></sup> which proposed what is now called the <a href=\"/wiki/Turing_test\" title=\"Turing test\">Turing test</a> as a criterion of intelligence. This criterion depends on the ability of a <a href=\"/wiki/Computer_program\" title=\"Computer program\">computer program</a> to impersonate a human in a <a href=\"/wiki/Real-time_computing\" title=\"Real-time computing\">real-time</a> written conversation with a human judge to the extent that the judge is unable to distinguish reliably—on the basis of the conversational content alone—between the program and a real human. The notoriety of Turing's proposed test stimulated great interest in <a href=\"/wiki/Joseph_Weizenbaum\" title=\"Joseph Weizenbaum\">Joseph Weizenbaum</a>'s program <a href=\"/wiki/ELIZA\" title=\"ELIZA\">ELIZA</a>, published in 1966, which seemed to be able to fool users into believing that they were conversing with a real human. However Weizenbaum himself did not claim that ELIZA was genuinely intelligent, and the introduction to his paper presented it more as a debunking exercise:\n",
              "</p>\n",
              "<blockquote><p>[In] artificial intelligence ... machines are made to behave in wondrous ways, often sufficient to dazzle even the most experienced observer. But once a particular program is unmasked, once its inner workings are explained ... its magic crumbles away; it stands revealed as a mere collection of procedures ... The observer says to himself \"I could have written that\". With that thought, he moves the program in question from the shelf marked \"intelligent\", to that reserved for curios ... The object of this paper is to cause just such a re-evaluation of the program about to be \"explained\". Few programs ever needed it more.<sup class=\"reference\" id=\"cite_ref-7\"><a href=\"#cite_note-7\">[7]</a></sup></p></blockquote>\n",
              "<p>ELIZA's key method of operation (copied by chatbot designers ever since) involves the recognition of clue words or phrases in the input, and the output of the corresponding pre-prepared or pre-programmed responses that can move the conversation forward in an apparently meaningful way (e.g. by responding to any input that contains the word 'MOTHER' with 'TELL ME MORE ABOUT YOUR FAMILY').<sup class=\"reference\" id=\"cite_ref-8\"><a href=\"#cite_note-8\">[8]</a></sup> Thus an illusion of understanding is generated, even though the processing involved has been merely superficial. ELIZA showed that such an illusion is surprisingly easy to generate because human judges are so ready to give the benefit of the doubt when conversational responses are <i>capable of being interpreted</i> as \"intelligent\".\n",
              "</p><p>Interface designers have come to appreciate that humans' readiness to interpret computer output as genuinely conversational—even when it is actually based on rather simple pattern-matching—can be exploited for useful purposes. Most people prefer to engage with programs that are human-like, and this gives chatbot-style techniques a potentially useful role in interactive systems that need to elicit information from users, as long as that information is relatively straightforward and falls into predictable categories. Thus, for example, online help systems can usefully employ chatbot techniques to identify the area of help that users require, potentially providing a \"friendlier\" interface than a more formal search or menu system. This sort of usage holds the prospect of moving chatbot technology from Weizenbaum's \"shelf ... reserved for curios\" to that marked \"genuinely useful computational methods\".\n",
              "</p>\n",
              "<h2><span class=\"mw-headline\" id=\"Development\">Development</span><span class=\"mw-editsection\"><span class=\"mw-editsection-bracket\">[</span><a href=\"/w/index.php?title=Chatbot&amp;action=edit&amp;section=2\" title=\"Edit section: Development\">edit</a><span class=\"mw-editsection-bracket\">]</span></span></h2>\n",
              "<p>Among the most notable early chatbots are <a href=\"/wiki/ELIZA\" title=\"ELIZA\">ELIZA</a> (1966) and <a href=\"/wiki/PARRY\" title=\"PARRY\">PARRY</a> (1972).<sup class=\"reference\" id=\"cite_ref-Güzeldere_9-0\"><a href=\"#cite_note-Güzeldere-9\">[9]</a></sup><sup class=\"reference\" id=\"cite_ref-comphis_10-0\"><a href=\"#cite_note-comphis-10\">[10]</a></sup><sup class=\"reference\" id=\"cite_ref-11\"><a href=\"#cite_note-11\">[11]</a></sup><sup class=\"reference\" id=\"cite_ref-12\"><a href=\"#cite_note-12\">[12]</a></sup> More recent notable programs include <a href=\"/wiki/Artificial_Linguistic_Internet_Computer_Entity\" title=\"Artificial Linguistic Internet Computer Entity\">A.L.I.C.E.</a>, <a href=\"/wiki/Jabberwacky\" title=\"Jabberwacky\">Jabberwacky</a> and D.U.D.E (<a class=\"mw-redirect\" href=\"/wiki/Agence_Nationale_de_la_Recherche\" title=\"Agence Nationale de la Recherche\">Agence Nationale de la Recherche</a> and <a class=\"mw-redirect\" href=\"/wiki/CNRS\" title=\"CNRS\">CNRS</a> 2006). While ELIZA and PARRY were used exclusively to simulate typed conversation, many chatbots now include other functional features, such as games and <a href=\"/wiki/Search_engine\" title=\"Search engine\">web searching</a> abilities. In 1984, a book called <i>The Policeman's Beard is Half Constructed</i> was published, allegedly written by the chatbot <a href=\"/wiki/Racter\" title=\"Racter\">Racter</a> (though the program as released would not have been capable of doing so).<sup class=\"reference\" id=\"cite_ref-13\"><a href=\"#cite_note-13\">[13]</a></sup>\n",
              "</p><p>One pertinent field of AI research is <a href=\"/wiki/Natural_language_processing\" title=\"Natural language processing\">natural-language processing</a>. Usually, <a href=\"/wiki/Artificial_general_intelligence\" title=\"Artificial general intelligence\">weak AI</a> fields employ specialized software or programming languages created specifically for the narrow function required. For example, A.L.I.C.E. uses a <a href=\"/wiki/Markup_language\" title=\"Markup language\">markup language</a> called AIML,<sup class=\"reference\" id=\"cite_ref-:1_2-1\"><a href=\"#cite_note-:1-2\">[2]</a></sup> which is specific to its function as a <a href=\"/wiki/Dialogue_system\" title=\"Dialogue system\">conversational agent</a>, and has since been adopted by various other developers of, so-called, <a class=\"mw-redirect\" href=\"/wiki/Alicebot\" title=\"Alicebot\">Alicebots</a>. Nevertheless, A.L.I.C.E. is still purely based on <a href=\"/wiki/Pattern_matching\" title=\"Pattern matching\">pattern matching</a> techniques without any reasoning capabilities, the same technique ELIZA was using back in 1966. This is not strong AI, which would require <a class=\"mw-redirect\" href=\"/wiki/Sapience\" title=\"Sapience\">sapience</a> and <a href=\"/wiki/Logical_reasoning\" title=\"Logical reasoning\">logical reasoning</a> abilities.\n",
              "</p><p>Jabberwacky learns new responses and context based on <a href=\"/wiki/Real-time_computing\" title=\"Real-time computing\">real-time</a> <a href=\"/wiki/Human%E2%80%93computer_interaction\" title=\"Human–computer interaction\">user interactions</a>, rather than being driven from a static <a href=\"/wiki/Database\" title=\"Database\">database</a>. Some more recent chatbots also combine real-time learning with <a href=\"/wiki/Evolutionary_algorithm\" title=\"Evolutionary algorithm\">evolutionary algorithms</a> that optimize their ability to communicate based on each conversation held. Still, there is currently no general purpose conversational artificial intelligence, and some software developers focus on the practical aspect, <a href=\"/wiki/Information_retrieval\" title=\"Information retrieval\">information retrieval</a>.\n",
              "</p><p>Chatbot competitions focus on the Turing test or more specific goals. Two such annual contests are the <a href=\"/wiki/Loebner_Prize\" title=\"Loebner Prize\">Loebner Prize</a> and The Chatterbox Challenge (the latter has been offline since 2015, however, materials can still be found from web archives).<sup class=\"reference\" id=\"cite_ref-14\"><a href=\"#cite_note-14\">[14]</a></sup>\n",
              "</p><p><a href=\"/wiki/DBpedia\" title=\"DBpedia\">DBpedia</a> created a chatbot during the <a href=\"/wiki/Google_Summer_of_Code\" title=\"Google Summer of Code\">GSoC</a> of 2017.<sup class=\"reference\" id=\"cite_ref-15\"><a href=\"#cite_note-15\">[15]</a></sup><sup class=\"reference\" id=\"cite_ref-16\"><a href=\"#cite_note-16\">[16]</a></sup><sup class=\"reference\" id=\"cite_ref-17\"><a href=\"#cite_note-17\">[17]</a></sup> It can communicate through <a href=\"/wiki/Messenger_(software)\" title=\"Messenger (software)\">Facebook Messenger</a>.\n",
              "</p><p>In November 2022, <a href=\"/wiki/OpenAI\" title=\"OpenAI\">OpenAI</a> developed an <a href=\"/wiki/Artificial_intelligence\" title=\"Artificial intelligence\">AI</a> chatbot called <a href=\"/wiki/ChatGPT\" title=\"ChatGPT\">ChatGPT</a> which interacts using conversation to the general public and has garnered attention for its detailed responses and historical knowledge, although its accuracy has been criticized.\n",
              "</p>\n",
              "<h2><span class=\"mw-headline\" id=\"Application\">Application</span><span class=\"mw-editsection\"><span class=\"mw-editsection-bracket\">[</span><a href=\"/w/index.php?title=Chatbot&amp;action=edit&amp;section=3\" title=\"Edit section: Application\">edit</a><span class=\"mw-editsection-bracket\">]</span></span></h2>\n",
              "<link href=\"mw-data:TemplateStyles:r1033289096\" rel=\"mw-deduplicated-inline-style\"/><div class=\"hatnote navigation-not-searchable\" role=\"note\">See also: <a href=\"/wiki/Virtual_assistant\" title=\"Virtual assistant\">Virtual assistant</a></div>\n",
              "<h3><span class=\"mw-headline\" id=\"Messaging_apps\">Messaging apps</span><span class=\"mw-editsection\"><span class=\"mw-editsection-bracket\">[</span><a href=\"/w/index.php?title=Chatbot&amp;action=edit&amp;section=4\" title=\"Edit section: Messaging apps\">edit</a><span class=\"mw-editsection-bracket\">]</span></span></h3>\n",
              "<p>Many companies' chatbots run on <a class=\"mw-redirect\" href=\"/wiki/Messaging_apps\" title=\"Messaging apps\">messaging apps</a> or simply via <a href=\"/wiki/SMS\" title=\"SMS\">SMS</a>. They are used for <a class=\"mw-redirect\" href=\"/wiki/B2C\" title=\"B2C\">B2C</a> customer service, sales and marketing.<sup class=\"reference\" id=\"cite_ref-18\"><a href=\"#cite_note-18\">[18]</a></sup>\n",
              "</p><p>In 2016, Facebook Messenger allowed developers to place chatbots on their platform. There were 30,000 bots created for Messenger in the first six months, rising to 100,000 by September 2017.<sup class=\"reference\" id=\"cite_ref-19\"><a href=\"#cite_note-19\">[19]</a></sup>\n",
              "</p><p>Since September 2017, this has also been as part of a pilot program on <a href=\"/wiki/WhatsApp\" title=\"WhatsApp\">WhatsApp</a>. Airlines <a href=\"/wiki/KLM\" title=\"KLM\">KLM</a> and <a href=\"/wiki/Aerom%C3%A9xico\" title=\"Aeroméxico\">Aeroméxico</a> both announced their participation in the testing;<sup class=\"reference\" id=\"cite_ref-tnooz_20-0\"><a href=\"#cite_note-tnooz-20\">[20]</a></sup><sup class=\"reference\" id=\"cite_ref-21\"><a href=\"#cite_note-21\">[21]</a></sup><sup class=\"reference\" id=\"cite_ref-22\"><a href=\"#cite_note-22\">[22]</a></sup><sup class=\"reference\" id=\"cite_ref-23\"><a href=\"#cite_note-23\">[23]</a></sup> both airlines had previously launched customer services on the <a class=\"mw-redirect\" href=\"/wiki/Facebook_Messenger\" title=\"Facebook Messenger\">Facebook Messenger</a> platform.\n",
              "</p><p>The bots usually appear as one of the user's contacts, but can sometimes act as participants in a <a href=\"/wiki/Chat_room\" title=\"Chat room\">group chat</a>.\n",
              "</p><p>Many banks, insurers, media companies, e-commerce companies, airlines, hotel chains, retailers, health care providers, government entities and restaurant chains have used chatbots to <a href=\"/wiki/Question_answering\" title=\"Question answering\">answer simple questions</a>, increase <a href=\"/wiki/Customer_engagement\" title=\"Customer engagement\">customer engagement</a>,<sup class=\"reference\" id=\"cite_ref-24\"><a href=\"#cite_note-24\">[24]</a></sup> for promotion, and to offer additional ways to order from them.<sup class=\"reference\" id=\"cite_ref-25\"><a href=\"#cite_note-25\">[25]</a></sup>\n",
              "</p><p>A 2017 study showed 4% of companies used chatbots.<sup class=\"reference\" id=\"cite_ref-26\"><a href=\"#cite_note-26\">[26]</a></sup> According to a 2016 study, 80% of businesses said they intended to have one by 2020.<sup class=\"reference\" id=\"cite_ref-27\"><a href=\"#cite_note-27\">[27]</a></sup>\n",
              "</p>\n",
              "<h4><span class=\"mw-headline\" id=\"As_part_of_company_apps_and_websites\">As part of company apps and websites</span><span class=\"mw-editsection\"><span class=\"mw-editsection-bracket\">[</span><a href=\"/w/index.php?title=Chatbot&amp;action=edit&amp;section=5\" title=\"Edit section: As part of company apps and websites\">edit</a><span class=\"mw-editsection-bracket\">]</span></span></h4>\n",
              "<p>Previous generations of chatbots were present on company websites, e.g. Ask Jenn from <a href=\"/wiki/Alaska_Airlines\" title=\"Alaska Airlines\">Alaska Airlines</a> which debuted in 2008<sup class=\"reference\" id=\"cite_ref-nytimes.com_28-0\"><a href=\"#cite_note-nytimes.com-28\">[28]</a></sup> or <a href=\"/wiki/Expedia\" title=\"Expedia\">Expedia</a>'s virtual customer service agent which launched in 2011.<sup class=\"reference\" id=\"cite_ref-nytimes.com_28-1\"><a href=\"#cite_note-nytimes.com-28\">[28]</a></sup><sup class=\"reference\" id=\"cite_ref-:0_29-0\"><a href=\"#cite_note-:0-29\">[29]</a></sup> The newer generation of chatbots includes <a href=\"/wiki/IBM_Watson\" title=\"IBM Watson\">IBM Watson</a>-powered \"Rocky\", introduced in February 2017 by the <a href=\"/wiki/New_York_City\" title=\"New York City\">New York City</a>-based <a href=\"/wiki/E-commerce\" title=\"E-commerce\">e-commerce</a> company Rare Carat to provide information to prospective diamond buyers.<sup class=\"reference\" id=\"cite_ref-30\"><a href=\"#cite_note-30\">[30]</a></sup><sup class=\"reference\" id=\"cite_ref-31\"><a href=\"#cite_note-31\">[31]</a></sup>\n",
              "</p>\n",
              "<h4><span class=\"mw-headline\" id=\"Chatbot_sequences\">Chatbot sequences</span><span class=\"mw-editsection\"><span class=\"mw-editsection-bracket\">[</span><a href=\"/w/index.php?title=Chatbot&amp;action=edit&amp;section=6\" title=\"Edit section: Chatbot sequences\">edit</a><span class=\"mw-editsection-bracket\">]</span></span></h4>\n",
              "<p>Used by marketers to script sequences of messages, very similar to an <a href=\"/wiki/Autoresponder\" title=\"Autoresponder\">Autoresponder</a> sequence. Such sequences can be triggered by user opt-in or the use of keywords within user interactions. After a trigger occurs a sequence of messages is delivered until the next anticipated user response. Each user response is used in the decision tree to help the chatbot navigate the response sequences to deliver the correct response message.\n",
              "</p>\n",
              "<h3><span class=\"mw-headline\" id=\"Company_internal_platforms\">Company internal platforms</span><span class=\"mw-editsection\"><span class=\"mw-editsection-bracket\">[</span><a href=\"/w/index.php?title=Chatbot&amp;action=edit&amp;section=7\" title=\"Edit section: Company internal platforms\">edit</a><span class=\"mw-editsection-bracket\">]</span></span></h3>\n",
              "<p>Other companies explore ways they can use chatbots internally, for example for Customer Support, Human Resources, or even in <a class=\"mw-redirect\" href=\"/wiki/Internet_of_Things\" title=\"Internet of Things\">Internet-of-Things</a> (IoT) projects. <a href=\"/wiki/Overstock.com\" title=\"Overstock.com\">Overstock.com</a>, for one, has reportedly launched a chatbot named Mila to automate certain simple yet <a href=\"/wiki/Cost\" title=\"Cost\">time-consuming</a> processes when requesting sick leave.<sup class=\"reference\" id=\"cite_ref-32\"><a href=\"#cite_note-32\">[32]</a></sup> Other large companies such as <a href=\"/wiki/Lloyds_Banking_Group\" title=\"Lloyds Banking Group\">Lloyds Banking Group</a>, <a href=\"/wiki/Royal_Bank_of_Scotland\" title=\"Royal Bank of Scotland\">Royal Bank of Scotland</a>, <a href=\"/wiki/Renault\" title=\"Renault\">Renault</a> and <a href=\"/wiki/Citro%C3%ABn\" title=\"Citroën\">Citroën</a> are now using automated online assistants instead of <a class=\"mw-redirect\" href=\"/wiki/Call_centres\" title=\"Call centres\">call centres</a> with humans to provide a first point of contact. A <a href=\"/wiki/Software_as_a_service\" title=\"Software as a service\">SaaS</a> chatbot business ecosystem has been steadily growing since the <a href=\"/wiki/Facebook_F8\" title=\"Facebook F8\">F8</a> Conference when Facebook's <a href=\"/wiki/Mark_Zuckerberg\" title=\"Mark Zuckerberg\">Mark Zuckerberg</a> unveiled that Messenger would allow chatbots into the app.<sup class=\"reference\" id=\"cite_ref-33\"><a href=\"#cite_note-33\">[33]</a></sup> In large companies, like in hospitals and aviation organizations, IT architects are designing reference architectures for Intelligent Chatbots that are used to unlock and share knowledge and experience in the organization more efficiently, and reduce the errors in answers from expert service desks significantly.<sup class=\"reference\" id=\"cite_ref-34\"><a href=\"#cite_note-34\">[34]</a></sup> These Intelligent Chatbots make use of all kinds of artificial intelligence like image moderation and <a href=\"/wiki/Natural-language_understanding\" title=\"Natural-language understanding\">natural-language understanding</a> (NLU), <a href=\"/wiki/Natural_language_generation\" title=\"Natural language generation\">natural-language generation</a> (NLG), <a href=\"/wiki/Machine_learning\" title=\"Machine learning\">machine learning</a> and deep learning.\n",
              "</p>\n",
              "<h3><span class=\"mw-headline\" id=\"Customer_service\">Customer service</span><span class=\"mw-editsection\"><span class=\"mw-editsection-bracket\">[</span><a href=\"/w/index.php?title=Chatbot&amp;action=edit&amp;section=8\" title=\"Edit section: Customer service\">edit</a><span class=\"mw-editsection-bracket\">]</span></span></h3>\n",
              "<p>Many high-tech banking organizations are looking to integrate automated AI-based solutions such as chatbots into their customer service in order to provide faster and cheaper assistance to their clients who are becoming increasingly comfortable with technology.  In particular, chatbots can efficiently conduct a dialogue, usually replacing other communication tools such as email, phone, or <a href=\"/wiki/SMS\" title=\"SMS\">SMS</a>. In banking, their major application is related to quick customer service answering common requests, as well as transactional support.\n",
              "</p><p>Several studies report significant reduction in the cost of customer services, expected to lead to billions of dollars of economic savings in the next ten years.<sup class=\"reference\" id=\"cite_ref-WSBanks_35-0\"><a href=\"#cite_note-WSBanks-35\">[35]</a></sup> In 2019, <a href=\"/wiki/Gartner\" title=\"Gartner\">Gartner</a> predicted that by 2021, 15% of all customer service interactions globally will be handled completely by AI.<sup class=\"reference\" id=\"cite_ref-36\"><a href=\"#cite_note-36\">[36]</a></sup>  A study by Juniper Research in 2019 estimates retail sales resulting from chatbot-based interactions will reach $112 billion by 2023.<sup class=\"reference\" id=\"cite_ref-37\"><a href=\"#cite_note-37\">[37]</a></sup>\n",
              "</p><p>Since 2016, when <a href=\"/wiki/Facebook\" title=\"Facebook\">Facebook</a> allowed businesses to deliver automated customer support, e-commerce guidance, content, and interactive experiences through chatbots, a large variety of chatbots were developed for the <a class=\"mw-redirect\" href=\"/wiki/Facebook_Messenger\" title=\"Facebook Messenger\">Facebook Messenger</a> platform.<sup class=\"reference\" id=\"cite_ref-38\"><a href=\"#cite_note-38\">[38]</a></sup>\n",
              "</p><p>In 2016, Russia-based Tochka Bank launched the world's first Facebook bot for a range of financial services, including a possibility of making payments.<sup class=\"reference\" id=\"cite_ref-39\"><a href=\"#cite_note-39\">[39]</a></sup>\n",
              "</p><p>In July 2016, <a class=\"mw-redirect\" href=\"/wiki/ABSA_Group_Limited\" title=\"ABSA Group Limited\">Barclays Africa</a> also launched a Facebook chatbot, making it the first bank to do so in Africa.<sup class=\"reference\" id=\"cite_ref-40\"><a href=\"#cite_note-40\">[40]</a></sup>\n",
              "</p><p>The France's third-largest bank by total assets<sup class=\"reference\" id=\"cite_ref-41\"><a href=\"#cite_note-41\">[41]</a></sup> <a href=\"/wiki/Soci%C3%A9t%C3%A9_G%C3%A9n%C3%A9rale\" title=\"Société Générale\">Société Générale</a> launched their chatbot called SoBot in March 2018. While 80% of users of the SoBot expressed their satisfaction after having tested it, Société Générale deputy director Bertrand Cozzarolo stated that it will never replace the expertise provided by a human advisor.\n",
              "<sup class=\"reference\" id=\"cite_ref-42\"><a href=\"#cite_note-42\">[42]</a></sup>\n",
              "</p><p>The advantages of using chatbots for customer interactions in banking include cost reduction, financial advice, and 24/7 support.<sup class=\"reference\" id=\"cite_ref-FinancialBrain_43-0\"><a href=\"#cite_note-FinancialBrain-43\">[43]</a></sup><sup class=\"reference\" id=\"cite_ref-BornBane_44-0\"><a href=\"#cite_note-BornBane-44\">[44]</a></sup>\n",
              "</p>\n",
              "<h3><span class=\"mw-headline\" id=\"Healthcare\">Healthcare</span><span class=\"mw-editsection\"><span class=\"mw-editsection-bracket\">[</span><a href=\"/w/index.php?title=Chatbot&amp;action=edit&amp;section=9\" title=\"Edit section: Healthcare\">edit</a><span class=\"mw-editsection-bracket\">]</span></span></h3>\n",
              "<link href=\"mw-data:TemplateStyles:r1033289096\" rel=\"mw-deduplicated-inline-style\"/><div class=\"hatnote navigation-not-searchable\" role=\"note\">See also: <a href=\"/wiki/Artificial_intelligence_in_healthcare\" title=\"Artificial intelligence in healthcare\">Artificial intelligence in healthcare</a></div>\n",
              "<p>Chatbots are also appearing in the healthcare industry.<sup class=\"reference\" id=\"cite_ref-45\"><a href=\"#cite_note-45\">[45]</a></sup><sup class=\"reference\" id=\"cite_ref-46\"><a href=\"#cite_note-46\">[46]</a></sup> A study suggested that physicians in the United States believed that chatbots would be most beneficial for scheduling doctor appointments, locating health clinics, or providing medication information.<sup class=\"reference\" id=\"cite_ref-47\"><a href=\"#cite_note-47\">[47]</a></sup>\n",
              "</p><p><a href=\"/wiki/WhatsApp\" title=\"WhatsApp\">Whatsapp</a> has teamed up with the <a href=\"/wiki/World_Health_Organization\" title=\"World Health Organization\">World Health Organisation</a> (<a href=\"/wiki/World_Health_Organization\" title=\"World Health Organization\">WHO</a>) to make a chatbot service that answers users’ questions on <a class=\"mw-redirect\" href=\"/wiki/Coronavirus_disease_2019\" title=\"Coronavirus disease 2019\">COVID-19</a>.<sup class=\"reference\" id=\"cite_ref-48\"><a href=\"#cite_note-48\">[48]</a></sup>\n",
              "</p><p>In 2020, <a href=\"/wiki/Government_of_India\" title=\"Government of India\">The Indian Government</a> launched a chatbot called MyGov Corona Helpdesk,<sup class=\"reference\" id=\"cite_ref-49\"><a href=\"#cite_note-49\">[49]</a></sup> that worked through <a href=\"/wiki/WhatsApp\" title=\"WhatsApp\">Whatsapp</a> and helped people access information about the Coronavirus (COVID-19) pandemic.<sup class=\"reference\" id=\"cite_ref-50\"><a href=\"#cite_note-50\">[50]</a></sup><sup class=\"reference\" id=\"cite_ref-51\"><a href=\"#cite_note-51\">[51]</a></sup>\n",
              "</p><p>Certain patient groups are still reluctant to use chatbots. A mixed-methods study showed that people are still hesitant to use chatbots for their healthcare due to poor understanding of the technological complexity, the lack of empathy, and concerns about cyber-security.<sup class=\"reference\" id=\"cite_ref-52\"><a href=\"#cite_note-52\">[52]</a></sup> The analysis showed that while 6% had heard of a health chatbot and 3% had experience of using it, 67% perceived themselves as likely to use one within 12 months. The majority of participants would use a health chatbot for seeking general health information (78%), booking a medical appointment (78%), and looking for local health services (80%). However, a health chatbot was perceived as less suitable for seeking results of medical tests and seeking specialist advice such as sexual health. The analysis of attitudinal variables showed that most participants reported their preference for discussing their health with doctors (73%) and having access to reliable and accurate health information (93%). While 80% were curious about new technologies that could improve their health, 66% reported only seeking a doctor when experiencing a health problem and 65% thought that a chatbot was a good idea. Interestingly, 30% reported dislike about talking to computers, 41% felt it would be strange to discuss health matters with a chatbot and about half were unsure if they could trust the advice given by a chatbot. Therefore, perceived trustworthiness, individual attitudes towards bots, and dislike for talking to computers are the main barriers to health chatbots.\n",
              "</p>\n",
              "<h3><span class=\"mw-headline\" id=\"Politics\">Politics</span><span class=\"mw-editsection\"><span class=\"mw-editsection-bracket\">[</span><a href=\"/w/index.php?title=Chatbot&amp;action=edit&amp;section=10\" title=\"Edit section: Politics\">edit</a><span class=\"mw-editsection-bracket\">]</span></span></h3>\n",
              "<link href=\"mw-data:TemplateStyles:r1033289096\" rel=\"mw-deduplicated-inline-style\"/><div class=\"hatnote navigation-not-searchable\" role=\"note\">See also: <a href=\"/wiki/Government_by_algorithm#AI_politicians\" title=\"Government by algorithm\">Government by algorithm § AI politicians</a></div>\n",
              "<p>In New Zealand, the chatbot SAM – short for <a href=\"/wiki/Semantic_analysis_(machine_learning)\" title=\"Semantic analysis (machine learning)\">Semantic Analysis Machine</a><sup class=\"reference\" id=\"cite_ref-53\"><a href=\"#cite_note-53\">[53]</a></sup> (made by Nick Gerritsen of Touchtech<sup class=\"reference\" id=\"cite_ref-54\"><a href=\"#cite_note-54\">[54]</a></sup>) – has been developed. It is designed to share its political thoughts, for example on topics such as climate change, healthcare and education, etc. It talks to people through Facebook Messenger.<sup class=\"reference\" id=\"cite_ref-55\"><a href=\"#cite_note-55\">[55]</a></sup><sup class=\"reference\" id=\"cite_ref-56\"><a href=\"#cite_note-56\">[56]</a></sup><sup class=\"reference\" id=\"cite_ref-57\"><a href=\"#cite_note-57\">[57]</a></sup><sup class=\"reference\" id=\"cite_ref-58\"><a href=\"#cite_note-58\">[58]</a></sup>\n",
              "</p><p>In 2022, the chatbot \"Leader Lars\" or \"Leder Lars\" was nominated for <a class=\"new\" href=\"/w/index.php?title=The_Synthetic_Party&amp;action=edit&amp;redlink=1\" title=\"The Synthetic Party (page does not exist)\">The Synthetic Party</a> to run in the <a href=\"/wiki/Danish_Realm\" title=\"Danish Realm\">Danish</a> parliamentary election,<sup class=\"reference\" id=\"cite_ref-59\"><a href=\"#cite_note-59\">[59]</a></sup> and was built by the artist collective <a class=\"external text\" href=\"https://computerlars.com\" rel=\"nofollow\">Computer Lars</a>.<sup class=\"reference\" id=\"cite_ref-60\"><a href=\"#cite_note-60\">[60]</a></sup> Leader Lars differed from earlier virtual politicians by leading a <a href=\"/wiki/Political_party\" title=\"Political party\">political party</a> and by not pretending to be an objective candidate.<sup class=\"reference\" id=\"cite_ref-61\"><a href=\"#cite_note-61\">[61]</a></sup> This chatbot engaged in critical discussions on politics with users from around the world.<sup class=\"reference\" id=\"cite_ref-62\"><a href=\"#cite_note-62\">[62]</a></sup>\n",
              "</p><p>In <a href=\"/wiki/India\" title=\"India\">India</a>, the state government has launched a chatbot for its Aaple Sarkar platform,<sup class=\"reference\" id=\"cite_ref-63\"><a href=\"#cite_note-63\">[63]</a></sup> which provides conversational access to information regarding public services managed.<sup class=\"reference\" id=\"cite_ref-64\"><a href=\"#cite_note-64\">[64]</a></sup><sup class=\"reference\" id=\"cite_ref-65\"><a href=\"#cite_note-65\">[65]</a></sup>\n",
              "</p>\n",
              "<h3><span class=\"mw-headline\" id=\"Toys\">Toys</span><span class=\"mw-editsection\"><span class=\"mw-editsection-bracket\">[</span><a href=\"/w/index.php?title=Chatbot&amp;action=edit&amp;section=11\" title=\"Edit section: Toys\">edit</a><span class=\"mw-editsection-bracket\">]</span></span></h3>\n",
              "<p>Chatbots have also been incorporated into devices not primarily meant for computing, such as toys.<sup class=\"reference\" id=\"cite_ref-virtualagentchat_66-0\"><a href=\"#cite_note-virtualagentchat-66\">[66]</a></sup>\n",
              "</p><p><i>Hello <a href=\"/wiki/Barbie\" title=\"Barbie\">Barbie</a></i> is an Internet-connected version of the doll that uses a chatbot provided by the company ToyTalk,<sup class=\"reference\" id=\"cite_ref-67\"><a href=\"#cite_note-67\">[67]</a></sup> which previously used the chatbot for a range of smartphone-based characters for children.<sup class=\"reference\" id=\"cite_ref-68\"><a href=\"#cite_note-68\">[68]</a></sup> These characters' behaviors are constrained by a set of rules that in effect emulate a particular character and produce a storyline.<sup class=\"reference\" id=\"cite_ref-69\"><a href=\"#cite_note-69\">[69]</a></sup>\n",
              "</p><p>The <a href=\"/wiki/My_Friend_Cayla\" title=\"My Friend Cayla\">My Friend Cayla</a> doll was marketed as a line of 18-inch (46 cm) dolls which uses <a href=\"/wiki/Speech_recognition\" title=\"Speech recognition\">speech recognition</a> technology in conjunction with an <a href=\"/wiki/Android_(operating_system)\" title=\"Android (operating system)\">Android</a> or <a href=\"/wiki/IOS\" title=\"IOS\">iOS</a> mobile app to recognize the child's speech and have a conversation. It, like the Hello Barbie doll, attracted controversy due to vulnerabilities with the doll's <a href=\"/wiki/Bluetooth\" title=\"Bluetooth\">Bluetooth</a> stack and its use of data collected from the child's speech.\n",
              "</p><p>IBM's <a class=\"mw-redirect\" href=\"/wiki/Watson_(computer)\" title=\"Watson (computer)\">Watson computer</a> has been used as the basis for chatbot-based educational toys for companies such as <i>CogniToys</i><sup class=\"reference\" id=\"cite_ref-virtualagentchat_66-1\"><a href=\"#cite_note-virtualagentchat-66\">[66]</a></sup> intended to interact with children for educational purposes.<sup class=\"reference\" id=\"cite_ref-70\"><a href=\"#cite_note-70\">[70]</a></sup>\n",
              "</p>\n",
              "<h3><span class=\"mw-headline\" id=\"Malicious_use\">Malicious use</span><span class=\"mw-editsection\"><span class=\"mw-editsection-bracket\">[</span><a href=\"/w/index.php?title=Chatbot&amp;action=edit&amp;section=12\" title=\"Edit section: Malicious use\">edit</a><span class=\"mw-editsection-bracket\">]</span></span></h3>\n",
              "<p>Malicious chatbots are frequently used to fill <a class=\"mw-redirect\" href=\"/wiki/Chat_rooms\" title=\"Chat rooms\">chat rooms</a> with spam and advertisements, by mimicking human behavior and conversations or to entice people into revealing personal information, such as bank account numbers. They were commonly found on <a href=\"/wiki/Yahoo!_Messenger\" title=\"Yahoo! Messenger\">Yahoo! Messenger</a>, <a href=\"/wiki/Windows_Live_Messenger\" title=\"Windows Live Messenger\">Windows Live Messenger</a>, <a class=\"mw-redirect\" href=\"/wiki/AOL_Instant_Messenger\" title=\"AOL Instant Messenger\">AOL Instant Messenger</a> and other <a href=\"/wiki/Instant_messaging\" title=\"Instant messaging\">instant messaging</a> protocols. There has also been a published report of a chatbot used in a fake personal ad on a dating service's website.<sup class=\"reference\" id=\"cite_ref-71\"><a href=\"#cite_note-71\">[71]</a></sup>\n",
              "</p><p><a href=\"/wiki/Tay_(bot)\" title=\"Tay (bot)\">Tay</a>, an AI chatbot that learns from previous interaction, caused major controversy due to it being targeted by internet trolls on Twitter. The bot was exploited, and after 16 hours began to send extremely offensive Tweets to users. This suggests that although the bot learned effectively from experience, adequate protection was not put in place to prevent misuse.<sup class=\"reference\" id=\"cite_ref-72\"><a href=\"#cite_note-72\">[72]</a></sup>\n",
              "</p><p>If a text-sending <a href=\"/wiki/Algorithm\" title=\"Algorithm\">algorithm</a> can pass itself off as a human instead of a chatbot, its message would be more credible. Therefore, human-seeming chatbots with well-crafted online identities could start scattering fake news that seems plausible, for instance making false claims during an election. With enough chatbots, it might be even possible to achieve artificial <a href=\"/wiki/Social_proof\" title=\"Social proof\">social proof</a>.<sup class=\"reference\" id=\"cite_ref-73\"><a href=\"#cite_note-73\">[73]</a></sup><sup class=\"reference\" id=\"cite_ref-74\"><a href=\"#cite_note-74\">[74]</a></sup>\n",
              "</p>\n",
              "<h2><span class=\"mw-headline\" id=\"Limitations_of_chatbots\">Limitations of chatbots</span><span class=\"mw-editsection\"><span class=\"mw-editsection-bracket\">[</span><a href=\"/w/index.php?title=Chatbot&amp;action=edit&amp;section=13\" title=\"Edit section: Limitations of chatbots\">edit</a><span class=\"mw-editsection-bracket\">]</span></span></h2>\n",
              "<p>The creation and implementation of chatbots is still a developing area, heavily related to <a href=\"/wiki/Artificial_intelligence\" title=\"Artificial intelligence\">artificial intelligence</a> and <a href=\"/wiki/Machine_learning\" title=\"Machine learning\">machine learning</a>, so the provided solutions, while possessing obvious advantages, have some important limitations in terms of functionalities and use cases. However, this is changing over time.\n",
              "</p><p>The most common limitations are listed below:<sup class=\"reference\" id=\"cite_ref-Meet11_75-0\"><a href=\"#cite_note-Meet11-75\">[75]</a></sup>\n",
              "</p>\n",
              "<ul><li>As the database, used for output generation, is fixed and limited, chatbots can fail while dealing with an unsaved query.<sup class=\"reference\" id=\"cite_ref-BornBane_44-1\"><a href=\"#cite_note-BornBane-44\">[44]</a></sup></li>\n",
              "<li>A chatbot's efficiency highly depends on language processing and is limited because of irregularities, such as accents and mistakes.</li>\n",
              "<li>Chatbots are unable to deal with multiple questions at the same time and so conversation opportunities are limited.<sup class=\"reference\" id=\"cite_ref-Meet11_75-1\"><a href=\"#cite_note-Meet11-75\">[75]</a></sup></li>\n",
              "<li>Chatbots require a large amount of conversational data to train.  Generative models, which are based on deep learning algorithms to  generate new responses word by word based on user input, are usually trained on a large dataset of natural-language phrases.<sup class=\"reference\" id=\"cite_ref-:1_2-2\"><a href=\"#cite_note-:1-2\">[2]</a></sup></li>\n",
              "<li>Chatbots have difficulty managing non-linear conversations that must go back and forth on a topic with a user.<sup class=\"reference\" id=\"cite_ref-Grudin-Jacques_76-0\"><a href=\"#cite_note-Grudin-Jacques-76\">[76]</a></sup></li>\n",
              "<li>As it happens usually with technology-led changes in existing services, some consumers, more often than not from older generations, are uncomfortable with chatbots due to their limited understanding, making it obvious that their requests are being dealt with by machines.<sup class=\"reference\" id=\"cite_ref-Meet11_75-2\"><a href=\"#cite_note-Meet11-75\">[75]</a></sup></li></ul>\n",
              "<h2><span class=\"mw-headline\" id=\"Chatbots_and_jobs\">Chatbots and jobs</span><span class=\"mw-editsection\"><span class=\"mw-editsection-bracket\">[</span><a href=\"/w/index.php?title=Chatbot&amp;action=edit&amp;section=14\" title=\"Edit section: Chatbots and jobs\">edit</a><span class=\"mw-editsection-bracket\">]</span></span></h2>\n",
              "<p>Chatbots are increasingly present in businesses and often are used to automate tasks that do not require skill-based talents. With customer service taking place via messaging apps as well as phone calls, there are growing numbers of use-cases where chatbot deployment gives organizations a clear return on investment. Call center workers may be particularly at risk from AI-driven chatbots.<sup class=\"reference\" id=\"cite_ref-77\"><a href=\"#cite_note-77\">[77]</a></sup>\n",
              "</p><p><b>Chatbot jobs</b>\n",
              "</p><p>Chatbot developers create, debug, and maintain applications that automate customer services or other communication processes. Their duties include reviewing and simplifying code when needed. They may also help companies implement bots in their operations.\n",
              "</p><p>A study by <a href=\"/wiki/Forrester_Research\" title=\"Forrester Research\">Forrester</a> (June 2017) predicted that 25% of all jobs would be impacted by AI technologies by 2019.<sup class=\"reference\" id=\"cite_ref-78\"><a href=\"#cite_note-78\">[78]</a></sup>\n",
              "</p>\n",
              "<h2><span class=\"mw-headline\" id=\"See_also\">See also</span><span class=\"mw-editsection\"><span class=\"mw-editsection-bracket\">[</span><a href=\"/w/index.php?title=Chatbot&amp;action=edit&amp;section=15\" title=\"Edit section: See also\">edit</a><span class=\"mw-editsection-bracket\">]</span></span></h2>\n",
              "<style data-mw-deduplicate=\"TemplateStyles:r1132942124\">.mw-parser-output .portalbox{padding:0;margin:0.5em 0;display:table;box-sizing:border-box;max-width:175px;list-style:none}.mw-parser-output .portalborder{border:solid #aaa 1px;padding:0.1em;background:#f9f9f9}.mw-parser-output .portalbox-entry{display:table-row;font-size:85%;line-height:110%;height:1.9em;font-style:italic;font-weight:bold}.mw-parser-output .portalbox-image{display:table-cell;padding:0.2em;vertical-align:middle;text-align:center}.mw-parser-output .portalbox-link{display:table-cell;padding:0.2em 0.2em 0.2em 0.3em;vertical-align:middle}@media(min-width:720px){.mw-parser-output .portalleft{clear:left;float:left;margin:0.5em 1em 0.5em 0}.mw-parser-output .portalright{clear:right;float:right;margin:0.5em 0 0.5em 1em}}</style><ul aria-label=\"Portals\" class=\"noprint portalbox portalborder portalright\" role=\"navigation\">\n",
              "<li class=\"portalbox-entry\"><span class=\"portalbox-image\"><a class=\"image\" href=\"/wiki/File:Globe_of_letters.svg\"><img alt=\"icon\" class=\"noviewer\" data-file-height=\"512\" data-file-width=\"512\" decoding=\"async\" height=\"28\" src=\"//upload.wikimedia.org/wikipedia/commons/thumb/d/de/Globe_of_letters.svg/28px-Globe_of_letters.svg.png\" srcset=\"//upload.wikimedia.org/wikipedia/commons/thumb/d/de/Globe_of_letters.svg/42px-Globe_of_letters.svg.png 1.5x, //upload.wikimedia.org/wikipedia/commons/thumb/d/de/Globe_of_letters.svg/56px-Globe_of_letters.svg.png 2x\" width=\"28\"/></a></span><span class=\"portalbox-link\"><a href=\"/wiki/Portal:Linguistics\" title=\"Portal:Linguistics\">Linguistics portal</a></span></li></ul>\n",
              "<style data-mw-deduplicate=\"TemplateStyles:r998391716\">.mw-parser-output .div-col{margin-top:0.3em;column-width:30em}.mw-parser-output .div-col-small{font-size:90%}.mw-parser-output .div-col-rules{column-rule:1px solid #aaa}.mw-parser-output .div-col dl,.mw-parser-output .div-col ol,.mw-parser-output .div-col ul{margin-top:0}.mw-parser-output .div-col li,.mw-parser-output .div-col dd{page-break-inside:avoid;break-inside:avoid-column}</style><div class=\"div-col\" style=\"column-width: 20em;\">\n",
              "<ul><li><a href=\"/wiki/Applications_of_artificial_intelligence\" title=\"Applications of artificial intelligence\">Applications of artificial intelligence</a></li>\n",
              "<li>Artificial philosophy</li>\n",
              "<li><a href=\"/wiki/Autonomous_agent\" title=\"Autonomous agent\">Autonomous agent</a></li>\n",
              "<li><a href=\"/wiki/ChatGPT\" title=\"ChatGPT\">ChatGPT</a> (from <a href=\"/wiki/OpenAI\" title=\"OpenAI\">OpenAI</a>)</li>\n",
              "<li><a href=\"/wiki/Conversational_user_interface\" title=\"Conversational user interface\">Conversational user interface</a></li>\n",
              "<li><a href=\"/wiki/Eugene_Goostman\" title=\"Eugene Goostman\">Eugene Goostman</a></li>\n",
              "<li><a href=\"/wiki/Friendly_artificial_intelligence\" title=\"Friendly artificial intelligence\">Friendly artificial intelligence</a></li>\n",
              "<li><a href=\"/wiki/Hybrid_intelligent_system\" title=\"Hybrid intelligent system\">Hybrid intelligent system</a></li>\n",
              "<li><a href=\"/wiki/Intelligent_agent\" title=\"Intelligent agent\">Intelligent agent</a></li>\n",
              "<li><a href=\"/wiki/Internet_bot\" title=\"Internet bot\">Internet bot</a></li>\n",
              "<li><a href=\"/wiki/List_of_chatbots\" title=\"List of chatbots\">List of chatbots</a></li>\n",
              "<li><a href=\"/wiki/Multi-agent_system\" title=\"Multi-agent system\">Multi-agent system</a></li>\n",
              "<li><a href=\"/wiki/Natural_language_processing\" title=\"Natural language processing\">Natural language processing</a></li>\n",
              "<li><a href=\"/wiki/Social_bot\" title=\"Social bot\">Social bot</a></li>\n",
              "<li><a href=\"/wiki/Software_agent\" title=\"Software agent\">Software agent</a></li>\n",
              "<li><a href=\"/wiki/Software_bot\" title=\"Software bot\">Software bot</a></li>\n",
              "<li><a class=\"mw-redirect\" href=\"/wiki/Twitterbot\" title=\"Twitterbot\">Twitterbot</a></li>\n",
              "<li><a href=\"/wiki/Virtual_assistant\" title=\"Virtual assistant\">Virtual assistant</a></li></ul>\n",
              "</div>\n",
              "<h2><span class=\"mw-headline\" id=\"References\">References</span><span class=\"mw-editsection\"><span class=\"mw-editsection-bracket\">[</span><a href=\"/w/index.php?title=Chatbot&amp;action=edit&amp;section=16\" title=\"Edit section: References\">edit</a><span class=\"mw-editsection-bracket\">]</span></span></h2>\n",
              "<style data-mw-deduplicate=\"TemplateStyles:r1011085734\">.mw-parser-output .reflist{font-size:90%;margin-bottom:0.5em;list-style-type:decimal}.mw-parser-output .reflist .references{font-size:100%;margin-bottom:0;list-style-type:inherit}.mw-parser-output .reflist-columns-2{column-width:30em}.mw-parser-output .reflist-columns-3{column-width:25em}.mw-parser-output .reflist-columns{margin-top:0.3em}.mw-parser-output .reflist-columns ol{margin-top:0}.mw-parser-output .reflist-columns li{page-break-inside:avoid;break-inside:avoid-column}.mw-parser-output .reflist-upper-alpha{list-style-type:upper-alpha}.mw-parser-output .reflist-upper-roman{list-style-type:upper-roman}.mw-parser-output .reflist-lower-alpha{list-style-type:lower-alpha}.mw-parser-output .reflist-lower-greek{list-style-type:lower-greek}.mw-parser-output .reflist-lower-roman{list-style-type:lower-roman}</style><div class=\"reflist\">\n",
              "<div class=\"mw-references-wrap mw-references-columns\"><ol class=\"references\">\n",
              "<li id=\"cite_note-target-1\"><span class=\"mw-cite-backlink\"><b><a href=\"#cite_ref-target_1-0\">^</a></b></span> <span class=\"reference-text\"><style data-mw-deduplicate=\"TemplateStyles:r1133582631\">.mw-parser-output cite.citation{font-style:inherit;word-wrap:break-word}.mw-parser-output .citation q{quotes:\"\\\"\"\"\\\"\"\"'\"\"'\"}.mw-parser-output .citation:target{background-color:rgba(0,127,255,0.133)}.mw-parser-output .id-lock-free a,.mw-parser-output .citation .cs1-lock-free a{background:url(\"//upload.wikimedia.org/wikipedia/commons/6/65/Lock-green.svg\")right 0.1em center/9px no-repeat}.mw-parser-output .id-lock-limited a,.mw-parser-output .id-lock-registration a,.mw-parser-output .citation .cs1-lock-limited a,.mw-parser-output .citation .cs1-lock-registration a{background:url(\"//upload.wikimedia.org/wikipedia/commons/d/d6/Lock-gray-alt-2.svg\")right 0.1em center/9px no-repeat}.mw-parser-output .id-lock-subscription a,.mw-parser-output .citation .cs1-lock-subscription a{background:url(\"//upload.wikimedia.org/wikipedia/commons/a/aa/Lock-red-alt-2.svg\")right 0.1em center/9px no-repeat}.mw-parser-output .cs1-ws-icon a{background:url(\"//upload.wikimedia.org/wikipedia/commons/4/4c/Wikisource-logo.svg\")right 0.1em center/12px no-repeat}.mw-parser-output .cs1-code{color:inherit;background:inherit;border:none;padding:inherit}.mw-parser-output .cs1-hidden-error{display:none;color:#d33}.mw-parser-output .cs1-visible-error{color:#d33}.mw-parser-output .cs1-maint{display:none;color:#3a3;margin-left:0.3em}.mw-parser-output .cs1-format{font-size:95%}.mw-parser-output .cs1-kern-left{padding-left:0.2em}.mw-parser-output .cs1-kern-right{padding-right:0.2em}.mw-parser-output .citation .mw-selflink{font-weight:inherit}</style><cite class=\"citation web cs1\"><a class=\"external text\" href=\"http://searchdomino.techtarget.com/sDefinition/0,,sid4_gci935566,00.html\" rel=\"nofollow\">\"What is a chatbot?\"</a>. <i>techtarget.com</i><span class=\"reference-accessdate\">. Retrieved <span class=\"nowrap\">30 January</span> 2017</span>.</cite><span class=\"Z3988\" title=\"ctx_ver=Z39.88-2004&amp;rft_val_fmt=info%3Aofi%2Ffmt%3Akev%3Amtx%3Ajournal&amp;rft.genre=unknown&amp;rft.jtitle=techtarget.com&amp;rft.atitle=What+is+a+chatbot%3F&amp;rft_id=http%3A%2F%2Fsearchdomino.techtarget.com%2FsDefinition%2F0%2C%2Csid4_gci935566%2C00.html&amp;rfr_id=info%3Asid%2Fen.wikipedia.org%3AChatbot\"></span></span>\n",
              "</li>\n",
              "<li id=\"cite_note-:1-2\"><span class=\"mw-cite-backlink\">^ <a href=\"#cite_ref-:1_2-0\"><sup><i><b>a</b></i></sup></a> <a href=\"#cite_ref-:1_2-1\"><sup><i><b>b</b></i></sup></a> <a href=\"#cite_ref-:1_2-2\"><sup><i><b>c</b></i></sup></a></span> <span class=\"reference-text\"><link href=\"mw-data:TemplateStyles:r1133582631\" rel=\"mw-deduplicated-inline-style\"/><cite class=\"citation journal cs1\" id=\"CITEREFCaldariniJafMcGarry2022\">Caldarini, Guendalina; Jaf, Sardar; McGarry, Kenneth (2022). <a class=\"external text\" href=\"https://doi.org/10.3390%2Finfo13010041\" rel=\"nofollow\">\"A Literature Survey of Recent Advances in Chatbots\"</a>. <i>Information</i>. MDPI. <b>13</b> (1): 41. <a class=\"mw-redirect\" href=\"/wiki/Doi_(identifier)\" title=\"Doi (identifier)\">doi</a>:<span class=\"cs1-lock-free\" title=\"Freely accessible\"><a class=\"external text\" href=\"https://doi.org/10.3390%2Finfo13010041\" rel=\"nofollow\">10.3390/info13010041</a></span>.</cite><span class=\"Z3988\" title=\"ctx_ver=Z39.88-2004&amp;rft_val_fmt=info%3Aofi%2Ffmt%3Akev%3Amtx%3Ajournal&amp;rft.genre=article&amp;rft.jtitle=Information&amp;rft.atitle=A+Literature+Survey+of+Recent+Advances+in+Chatbots&amp;rft.volume=13&amp;rft.issue=1&amp;rft.pages=41&amp;rft.date=2022&amp;rft_id=info%3Adoi%2F10.3390%2Finfo13010041&amp;rft.aulast=Caldarini&amp;rft.aufirst=Guendalina&amp;rft.au=Jaf%2C+Sardar&amp;rft.au=McGarry%2C+Kenneth&amp;rft_id=%2F%2Fdoi.org%2F10.3390%252Finfo13010041&amp;rfr_id=info%3Asid%2Fen.wikipedia.org%3AChatbot\"></span></span>\n",
              "</li>\n",
              "<li id=\"cite_note-chatbots_and_Turing_Test-3\"><span class=\"mw-cite-backlink\"><b><a href=\"#cite_ref-chatbots_and_Turing_Test_3-0\">^</a></b></span> <span class=\"reference-text\"><link href=\"mw-data:TemplateStyles:r1133582631\" rel=\"mw-deduplicated-inline-style\"/><cite class=\"citation journal cs1\" id=\"CITEREFLuka_Bradeško,_Dunja_Mladenić\">Luka Bradeško, Dunja Mladenić. \"A Survey of Chabot Systems through a Loebner Prize Competition\". <a class=\"mw-redirect\" href=\"/wiki/S2CID_(identifier)\" title=\"S2CID (identifier)\">S2CID</a> <a class=\"external text\" href=\"https://api.semanticscholar.org/CorpusID:39745939\" rel=\"nofollow\">39745939</a>.</cite><span class=\"Z3988\" title=\"ctx_ver=Z39.88-2004&amp;rft_val_fmt=info%3Aofi%2Ffmt%3Akev%3Amtx%3Ajournal&amp;rft.genre=article&amp;rft.atitle=A+Survey+of+Chabot+Systems+through+a+Loebner+Prize+Competition&amp;rft_id=https%3A%2F%2Fapi.semanticscholar.org%2FCorpusID%3A39745939%23id-name%3DS2CID&amp;rft.au=Luka+Brade%C5%A1ko%2C+Dunja+Mladeni%C4%87&amp;rfr_id=info%3Asid%2Fen.wikipedia.org%3AChatbot\"></span> <span class=\"cs1-hidden-error citation-comment\"><code class=\"cs1-code\">{{<a href=\"/wiki/Template:Cite_journal\" title=\"Template:Cite journal\">cite journal</a>}}</code>: </span><span class=\"cs1-hidden-error citation-comment\">Cite journal requires <code class=\"cs1-code\">|journal=</code> (<a href=\"/wiki/Help:CS1_errors#missing_periodical\" title=\"Help:CS1 errors\">help</a>)</span></span>\n",
              "</li>\n",
              "<li id=\"cite_note-4\"><span class=\"mw-cite-backlink\"><b><a href=\"#cite_ref-4\">^</a></b></span> <span class=\"reference-text\"><a href=\"#CITEREFMauldin1994\">Mauldin 1994</a></span>\n",
              "</li>\n",
              "<li id=\"cite_note-5\"><span class=\"mw-cite-backlink\"><b><a href=\"#cite_ref-5\">^</a></b></span> <span class=\"reference-text\"><link href=\"mw-data:TemplateStyles:r1133582631\" rel=\"mw-deduplicated-inline-style\"/><cite class=\"citation web cs1\"><a class=\"external text\" href=\"https://cai.tools.sap/blog/2017-messenger-bot-landscape/\" rel=\"nofollow\">\"2017 Messenger Bot Landscape, a Public Spreadsheet Gathering 1000+ Messenger Bots\"</a>. 3 May 2017.</cite><span class=\"Z3988\" title=\"ctx_ver=Z39.88-2004&amp;rft_val_fmt=info%3Aofi%2Ffmt%3Akev%3Amtx%3Abook&amp;rft.genre=unknown&amp;rft.btitle=2017+Messenger+Bot+Landscape%2C+a+Public+Spreadsheet+Gathering+1000%2B+Messenger+Bots&amp;rft.date=2017-05-03&amp;rft_id=https%3A%2F%2Fcai.tools.sap%2Fblog%2F2017-messenger-bot-landscape%2F&amp;rfr_id=info%3Asid%2Fen.wikipedia.org%3AChatbot\"></span></span>\n",
              "</li>\n",
              "<li id=\"cite_note-6\"><span class=\"mw-cite-backlink\"><b><a href=\"#cite_ref-6\">^</a></b></span> <span class=\"reference-text\">(<a href=\"#CITEREFTuring1950\">Turing 1950</a>)</span>\n",
              "</li>\n",
              "<li id=\"cite_note-7\"><span class=\"mw-cite-backlink\"><b><a href=\"#cite_ref-7\">^</a></b></span> <span class=\"reference-text\">(<a href=\"#CITEREFWeizenbaum1966\">Weizenbaum 1966</a>, p. 36)</span>\n",
              "</li>\n",
              "<li id=\"cite_note-8\"><span class=\"mw-cite-backlink\"><b><a href=\"#cite_ref-8\">^</a></b></span> <span class=\"reference-text\">(<a href=\"#CITEREFWeizenbaum1966\">Weizenbaum 1966</a>, pp. 44–5)</span>\n",
              "</li>\n",
              "<li id=\"cite_note-Güzeldere-9\"><span class=\"mw-cite-backlink\"><b><a href=\"#cite_ref-Güzeldere_9-0\">^</a></b></span> <span class=\"reference-text\"><a href=\"#CITEREFGüzeldereFranchi1995\">GüzeldereFranchi 1995</a></span>\n",
              "</li>\n",
              "<li id=\"cite_note-comphis-10\"><span class=\"mw-cite-backlink\"><b><a href=\"#cite_ref-comphis_10-0\">^</a></b></span> <span class=\"reference-text\"><a href=\"#CITEREFComputer_History_Museum2006\">Computer History Museum 2006</a></span>\n",
              "</li>\n",
              "<li id=\"cite_note-11\"><span class=\"mw-cite-backlink\"><b><a href=\"#cite_ref-11\">^</a></b></span> <span class=\"reference-text\"><a href=\"#CITEREFSondheim1997\">Sondheim 1997</a></span>\n",
              "</li>\n",
              "<li id=\"cite_note-12\"><span class=\"mw-cite-backlink\"><b><a href=\"#cite_ref-12\">^</a></b></span> <span class=\"reference-text\"><a href=\"#CITEREFNetwork_Working_Group1973\">Network Working Group 1973</a>—Transcript of a session between Parry and Eliza. (This is <i>not</i> the dialogue from the ICCC, which took place October 24–26, 1972, whereas this session is from September 18, 1972.)</span>\n",
              "</li>\n",
              "<li id=\"cite_note-13\"><span class=\"mw-cite-backlink\"><b><a href=\"#cite_ref-13\">^</a></b></span> <span class=\"reference-text\"><a class=\"external free\" href=\"http://everything2.com/title/The+Policeman%2527s+Beard+is+Half+Constructed\" rel=\"nofollow\">http://everything2.com/title/The+Policeman%2527s+Beard+is+Half+Constructed</a> 13 November 1999</span>\n",
              "</li>\n",
              "<li id=\"cite_note-14\"><span class=\"mw-cite-backlink\"><b><a href=\"#cite_ref-14\">^</a></b></span> <span class=\"reference-text\"><link href=\"mw-data:TemplateStyles:r1133582631\" rel=\"mw-deduplicated-inline-style\"/><cite class=\"citation web cs1\"><a class=\"external text\" href=\"http://www.schwaebische.de/archiv_artikel,-Chatroboter-simulieren-Menschen-_arid,855141.html\" rel=\"nofollow\">\"Chatroboter simulieren Menschen\"</a>.</cite><span class=\"Z3988\" title=\"ctx_ver=Z39.88-2004&amp;rft_val_fmt=info%3Aofi%2Ffmt%3Akev%3Amtx%3Abook&amp;rft.genre=unknown&amp;rft.btitle=Chatroboter+simulieren+Menschen&amp;rft_id=http%3A%2F%2Fwww.schwaebische.de%2Farchiv_artikel%2C-Chatroboter-simulieren-Menschen-_arid%2C855141.html&amp;rfr_id=info%3Asid%2Fen.wikipedia.org%3AChatbot\"></span></span>\n",
              "</li>\n",
              "<li id=\"cite_note-15\"><span class=\"mw-cite-backlink\"><b><a href=\"#cite_ref-15\">^</a></b></span> <span class=\"reference-text\"><link href=\"mw-data:TemplateStyles:r1133582631\" rel=\"mw-deduplicated-inline-style\"/><cite class=\"citation web cs1\"><a class=\"external text\" href=\"https://chat.dbpedia.org/\" rel=\"nofollow\">\"DBpedia Chatbot\"</a>. <i>chat.dbpedia.org</i>.</cite><span class=\"Z3988\" title=\"ctx_ver=Z39.88-2004&amp;rft_val_fmt=info%3Aofi%2Ffmt%3Akev%3Amtx%3Ajournal&amp;rft.genre=unknown&amp;rft.jtitle=chat.dbpedia.org&amp;rft.atitle=DBpedia+Chatbot&amp;rft_id=https%3A%2F%2Fchat.dbpedia.org%2F&amp;rfr_id=info%3Asid%2Fen.wikipedia.org%3AChatbot\"></span></span>\n",
              "</li>\n",
              "<li id=\"cite_note-16\"><span class=\"mw-cite-backlink\"><b><a href=\"#cite_ref-16\">^</a></b></span> <span class=\"reference-text\"><link href=\"mw-data:TemplateStyles:r1133582631\" rel=\"mw-deduplicated-inline-style\"/><cite class=\"citation web cs1\"><a class=\"external text\" href=\"https://wiki.dbpedia.org/blog/meet-dbpedia-chatbot\" rel=\"nofollow\">\"Meet the DBpedia Chatbot | DBpedia\"</a>. <i>wiki.dbpedia.org</i>. 22 August 2018.</cite><span class=\"Z3988\" title=\"ctx_ver=Z39.88-2004&amp;rft_val_fmt=info%3Aofi%2Ffmt%3Akev%3Amtx%3Ajournal&amp;rft.genre=unknown&amp;rft.jtitle=wiki.dbpedia.org&amp;rft.atitle=Meet+the+DBpedia+Chatbot+%26%23124%3B+DBpedia&amp;rft.date=2018-08-22&amp;rft_id=https%3A%2F%2Fwiki.dbpedia.org%2Fblog%2Fmeet-dbpedia-chatbot&amp;rfr_id=info%3Asid%2Fen.wikipedia.org%3AChatbot\"></span></span>\n",
              "</li>\n",
              "<li id=\"cite_note-17\"><span class=\"mw-cite-backlink\"><b><a href=\"#cite_ref-17\">^</a></b></span> <span class=\"reference-text\"><link href=\"mw-data:TemplateStyles:r1133582631\" rel=\"mw-deduplicated-inline-style\"/><cite class=\"citation web cs1\"><a class=\"external text\" href=\"https://blog.dbpedia.org/2018/08/22/dbpedia-chatbot-2/\" rel=\"nofollow\">\"Meet the DBpedia Chatbot\"</a>. August 22, 2018.</cite><span class=\"Z3988\" title=\"ctx_ver=Z39.88-2004&amp;rft_val_fmt=info%3Aofi%2Ffmt%3Akev%3Amtx%3Abook&amp;rft.genre=unknown&amp;rft.btitle=Meet+the+DBpedia+Chatbot&amp;rft.date=2018-08-22&amp;rft_id=https%3A%2F%2Fblog.dbpedia.org%2F2018%2F08%2F22%2Fdbpedia-chatbot-2%2F&amp;rfr_id=info%3Asid%2Fen.wikipedia.org%3AChatbot\"></span></span>\n",
              "</li>\n",
              "<li id=\"cite_note-18\"><span class=\"mw-cite-backlink\"><b><a href=\"#cite_ref-18\">^</a></b></span> <span class=\"reference-text\"><link href=\"mw-data:TemplateStyles:r1133582631\" rel=\"mw-deduplicated-inline-style\"/><cite class=\"citation book cs1\" id=\"CITEREFBeaver2016\">Beaver, Laurie (July 2016). <a class=\"external text\" href=\"https://www.businessinsider.com/chatbots-explained-why-businesses-should-be-paying-attention-to-the-chatbot-revolution-2016-7?IR=T\" rel=\"nofollow\"><i>The Chatbots Explainer</i></a>. BI Intelligence.</cite><span class=\"Z3988\" title=\"ctx_ver=Z39.88-2004&amp;rft_val_fmt=info%3Aofi%2Ffmt%3Akev%3Amtx%3Abook&amp;rft.genre=book&amp;rft.btitle=The+Chatbots+Explainer&amp;rft.pub=BI+Intelligence&amp;rft.date=2016-07&amp;rft.aulast=Beaver&amp;rft.aufirst=Laurie&amp;rft_id=https%3A%2F%2Fwww.businessinsider.com%2Fchatbots-explained-why-businesses-should-be-paying-attention-to-the-chatbot-revolution-2016-7%3FIR%3DT&amp;rfr_id=info%3Asid%2Fen.wikipedia.org%3AChatbot\"></span></span>\n",
              "</li>\n",
              "<li id=\"cite_note-19\"><span class=\"mw-cite-backlink\"><b><a href=\"#cite_ref-19\">^</a></b></span> <span class=\"reference-text\"><link href=\"mw-data:TemplateStyles:r1133582631\" rel=\"mw-deduplicated-inline-style\"/><cite class=\"citation web cs1\"><a class=\"external text\" href=\"https://venturebeat.com/2017/04/18/facebook-messenger-hits-100000-bots/\" rel=\"nofollow\">\"Facebook Messenger Hits 100,000 bots\"</a>. 2017-04-18<span class=\"reference-accessdate\">. Retrieved <span class=\"nowrap\">2017-09-22</span></span>.</cite><span class=\"Z3988\" title=\"ctx_ver=Z39.88-2004&amp;rft_val_fmt=info%3Aofi%2Ffmt%3Akev%3Amtx%3Abook&amp;rft.genre=unknown&amp;rft.btitle=Facebook+Messenger+Hits+100%2C000+bots&amp;rft.date=2017-04-18&amp;rft_id=https%3A%2F%2Fventurebeat.com%2F2017%2F04%2F18%2Ffacebook-messenger-hits-100000-bots%2F&amp;rfr_id=info%3Asid%2Fen.wikipedia.org%3AChatbot\"></span></span>\n",
              "</li>\n",
              "<li id=\"cite_note-tnooz-20\"><span class=\"mw-cite-backlink\"><b><a href=\"#cite_ref-tnooz_20-0\">^</a></b></span> <span class=\"reference-text\"><link href=\"mw-data:TemplateStyles:r1133582631\" rel=\"mw-deduplicated-inline-style\"/><cite class=\"citation web cs1\"><a class=\"external text\" href=\"https://www.phocuswire.com/KLM-claims-airline-first-with-WhatsApp-Business-Platform\" rel=\"nofollow\">\"KLM claims airline first with WhatsApp Business Platform\"</a>. <i>www.phocuswire.com</i>.</cite><span class=\"Z3988\" title=\"ctx_ver=Z39.88-2004&amp;rft_val_fmt=info%3Aofi%2Ffmt%3Akev%3Amtx%3Ajournal&amp;rft.genre=unknown&amp;rft.jtitle=www.phocuswire.com&amp;rft.atitle=KLM+claims+airline+first+with+WhatsApp+Business+Platform&amp;rft_id=https%3A%2F%2Fwww.phocuswire.com%2FKLM-claims-airline-first-with-WhatsApp-Business-Platform&amp;rfr_id=info%3Asid%2Fen.wikipedia.org%3AChatbot\"></span></span>\n",
              "</li>\n",
              "<li id=\"cite_note-21\"><span class=\"mw-cite-backlink\"><b><a href=\"#cite_ref-21\">^</a></b></span> <span class=\"reference-text\"><link href=\"mw-data:TemplateStyles:r1133582631\" rel=\"mw-deduplicated-inline-style\"/><cite class=\"citation web cs1\" id=\"CITEREFForbes_Staff2017\">Forbes Staff (26 October 2017). <a class=\"external text\" href=\"https://www.forbes.com.mx/aeromexico-te-respondera-por-whatsapp-durante-2018/\" rel=\"nofollow\">\"Aeroméxico te atenderá por WhatsApp durante 2018\"</a><span class=\"reference-accessdate\">. Retrieved <span class=\"nowrap\">2 July</span> 2018</span>.</cite><span class=\"Z3988\" title=\"ctx_ver=Z39.88-2004&amp;rft_val_fmt=info%3Aofi%2Ffmt%3Akev%3Amtx%3Abook&amp;rft.genre=unknown&amp;rft.btitle=Aerom%C3%A9xico+te+atender%C3%A1+por+WhatsApp+durante+2018&amp;rft.date=2017-10-26&amp;rft.au=Forbes+Staff&amp;rft_id=https%3A%2F%2Fwww.forbes.com.mx%2Faeromexico-te-respondera-por-whatsapp-durante-2018%2F&amp;rfr_id=info%3Asid%2Fen.wikipedia.org%3AChatbot\"></span></span>\n",
              "</li>\n",
              "<li id=\"cite_note-22\"><span class=\"mw-cite-backlink\"><b><a href=\"#cite_ref-22\">^</a></b></span> <span class=\"reference-text\"><link href=\"mw-data:TemplateStyles:r1133582631\" rel=\"mw-deduplicated-inline-style\"/><cite class=\"citation news cs1\" id=\"CITEREFRedacción2017\">Redacción (27 October 2017). <a class=\"external text\" href=\"https://web.archive.org/web/20180310135702/https://www.huffingtonpost.com.mx/2017/10/27/podras-hacer-check-in-y-consultar-tu-vuelo-con-aeromexico-a-traves-de-whatsapp_a_23258181/\" rel=\"nofollow\">\"Podrás hacer 'check in' y consultar tu vuelo con Aeroméxico a través de WhatsApp\"</a>. <i>Huffington Post</i>. Archived from <a class=\"external text\" href=\"https://www.huffingtonpost.com.mx/2017/10/27/podras-hacer-check-in-y-consultar-tu-vuelo-con-aeromexico-a-traves-de-whatsapp_a_23258181/\" rel=\"nofollow\">the original</a> on 10 March 2018<span class=\"reference-accessdate\">. Retrieved <span class=\"nowrap\">2 July</span> 2018</span>.</cite><span class=\"Z3988\" title=\"ctx_ver=Z39.88-2004&amp;rft_val_fmt=info%3Aofi%2Ffmt%3Akev%3Amtx%3Ajournal&amp;rft.genre=article&amp;rft.jtitle=Huffington+Post&amp;rft.atitle=Podr%C3%A1s+hacer+%27check+in%27+y+consultar+tu+vuelo+con+Aerom%C3%A9xico+a+trav%C3%A9s+de+WhatsApp&amp;rft.date=2017-10-27&amp;rft.au=Redacci%C3%B3n&amp;rft_id=https%3A%2F%2Fwww.huffingtonpost.com.mx%2F2017%2F10%2F27%2Fpodras-hacer-check-in-y-consultar-tu-vuelo-con-aeromexico-a-traves-de-whatsapp_a_23258181%2F&amp;rfr_id=info%3Asid%2Fen.wikipedia.org%3AChatbot\"></span></span>\n",
              "</li>\n",
              "<li id=\"cite_note-23\"><span class=\"mw-cite-backlink\"><b><a href=\"#cite_ref-23\">^</a></b></span> <span class=\"reference-text\"><link href=\"mw-data:TemplateStyles:r1133582631\" rel=\"mw-deduplicated-inline-style\"/><cite class=\"citation web cs1\"><a class=\"external text\" href=\"https://blog.whatsapp.com/10000633/Building-for-People-and-Now-Businesses\" rel=\"nofollow\">\"Building for People, and Now Businesses\"</a>. <i>WhatsApp.com</i><span class=\"reference-accessdate\">. Retrieved <span class=\"nowrap\">2 July</span> 2018</span>.</cite><span class=\"Z3988\" title=\"ctx_ver=Z39.88-2004&amp;rft_val_fmt=info%3Aofi%2Ffmt%3Akev%3Amtx%3Ajournal&amp;rft.genre=unknown&amp;rft.jtitle=WhatsApp.com&amp;rft.atitle=Building+for+People%2C+and+Now+Businesses&amp;rft_id=https%3A%2F%2Fblog.whatsapp.com%2F10000633%2FBuilding-for-People-and-Now-Businesses&amp;rfr_id=info%3Asid%2Fen.wikipedia.org%3AChatbot\"></span></span>\n",
              "</li>\n",
              "<li id=\"cite_note-24\"><span class=\"mw-cite-backlink\"><b><a href=\"#cite_ref-24\">^</a></b></span> <span class=\"reference-text\"><link href=\"mw-data:TemplateStyles:r1133582631\" rel=\"mw-deduplicated-inline-style\"/><cite class=\"citation web cs1\"><a class=\"external text\" href=\"https://translate.google.com/translate?sl=no&amp;tl=en&amp;js=y&amp;prev=_t&amp;hl=no&amp;ie=UTF-8&amp;u=https%3A%2F%2Fnordeanews.no%2F2017%2F09%2Fhun-er-bankens-mest-effektive-medarbeider%2F&amp;edit-text=&amp;act=url\" rel=\"nofollow\">\"She is the company's most effective employee\"</a>. <i>Nordea News</i>.</cite><span class=\"Z3988\" title=\"ctx_ver=Z39.88-2004&amp;rft_val_fmt=info%3Aofi%2Ffmt%3Akev%3Amtx%3Ajournal&amp;rft.genre=unknown&amp;rft.jtitle=Nordea+News&amp;rft.atitle=She+is+the+company%27s+most+effective+employee&amp;rft_id=https%3A%2F%2Ftranslate.google.com%2Ftranslate%3Fsl%3Dno%26tl%3Den%26js%3Dy%26prev%3D_t%26hl%3Dno%26ie%3DUTF-8%26u%3Dhttps%253A%252F%252Fnordeanews.no%252F2017%252F09%252Fhun-er-bankens-mest-effektive-medarbeider%252F%26edit-text%3D%26act%3Durl&amp;rfr_id=info%3Asid%2Fen.wikipedia.org%3AChatbot\"></span></span>\n",
              "</li>\n",
              "<li id=\"cite_note-25\"><span class=\"mw-cite-backlink\"><b><a href=\"#cite_ref-25\">^</a></b></span> <span class=\"reference-text\"><link href=\"mw-data:TemplateStyles:r1133582631\" rel=\"mw-deduplicated-inline-style\"/><cite class=\"citation web cs1\"><a class=\"external text\" href=\"https://venturebeat.com/2016/07/24/better-believe-the-bot-boom-is-blowing-up-big-for-b2b-b2c-businesses-vb-live/\" rel=\"nofollow\">\"Better believe the bot boom is blowing up big for B2B, B2C businesses\"</a>. <i>VentureBeat</i>. 2016-07-24.</cite><span class=\"Z3988\" title=\"ctx_ver=Z39.88-2004&amp;rft_val_fmt=info%3Aofi%2Ffmt%3Akev%3Amtx%3Ajournal&amp;rft.genre=unknown&amp;rft.jtitle=VentureBeat&amp;rft.atitle=Better+believe+the+bot+boom+is+blowing+up+big+for+B2B%2C+B2C+businesses&amp;rft.date=2016-07-24&amp;rft_id=https%3A%2F%2Fventurebeat.com%2F2016%2F07%2F24%2Fbetter-believe-the-bot-boom-is-blowing-up-big-for-b2b-b2c-businesses-vb-live%2F&amp;rfr_id=info%3Asid%2Fen.wikipedia.org%3AChatbot\"></span></span>\n",
              "</li>\n",
              "<li id=\"cite_note-26\"><span class=\"mw-cite-backlink\"><b><a href=\"#cite_ref-26\">^</a></b></span> <span class=\"reference-text\"><link href=\"mw-data:TemplateStyles:r1133582631\" rel=\"mw-deduplicated-inline-style\"/><cite class=\"citation web cs1\"><a class=\"external text\" href=\"https://www.pm360online.com/the-ai-revolution-is-underway/\" rel=\"nofollow\">\"The AI Revolution is Underway! – PM360\"</a>. <i>www.pm360online.com</i><span class=\"reference-accessdate\">. Retrieved <span class=\"nowrap\">2 July</span> 2018</span>.</cite><span class=\"Z3988\" title=\"ctx_ver=Z39.88-2004&amp;rft_val_fmt=info%3Aofi%2Ffmt%3Akev%3Amtx%3Ajournal&amp;rft.genre=unknown&amp;rft.jtitle=www.pm360online.com&amp;rft.atitle=The+AI+Revolution+is+Underway%21+%E2%80%93+PM360&amp;rft_id=https%3A%2F%2Fwww.pm360online.com%2Fthe-ai-revolution-is-underway%2F&amp;rfr_id=info%3Asid%2Fen.wikipedia.org%3AChatbot\"></span></span>\n",
              "</li>\n",
              "<li id=\"cite_note-27\"><span class=\"mw-cite-backlink\"><b><a href=\"#cite_ref-27\">^</a></b></span> <span class=\"reference-text\"><link href=\"mw-data:TemplateStyles:r1133582631\" rel=\"mw-deduplicated-inline-style\"/><cite class=\"citation web cs1\"><a class=\"external text\" href=\"http://www.businessinsider.com/80-of-businesses-want-chatbots-by-2020-2016-12\" rel=\"nofollow\">\"80% of businesses want chatbots by 2020\"</a>. <i><a href=\"/wiki/Business_Insider\" title=\"Business Insider\">Business Insider</a></i><span class=\"reference-accessdate\">. Retrieved <span class=\"nowrap\">2 July</span> 2018</span>.</cite><span class=\"Z3988\" title=\"ctx_ver=Z39.88-2004&amp;rft_val_fmt=info%3Aofi%2Ffmt%3Akev%3Amtx%3Ajournal&amp;rft.genre=unknown&amp;rft.jtitle=Business+Insider&amp;rft.atitle=80%25+of+businesses+want+chatbots+by+2020&amp;rft_id=http%3A%2F%2Fwww.businessinsider.com%2F80-of-businesses-want-chatbots-by-2020-2016-12&amp;rfr_id=info%3Asid%2Fen.wikipedia.org%3AChatbot\"></span></span>\n",
              "</li>\n",
              "<li id=\"cite_note-nytimes.com-28\"><span class=\"mw-cite-backlink\">^ <a href=\"#cite_ref-nytimes.com_28-0\"><sup><i><b>a</b></i></sup></a> <a href=\"#cite_ref-nytimes.com_28-1\"><sup><i><b>b</b></i></sup></a></span> <span class=\"reference-text\"><link href=\"mw-data:TemplateStyles:r1133582631\" rel=\"mw-deduplicated-inline-style\"/><cite class=\"citation web cs1\"><a class=\"external text\" href=\"https://www.nytimes.com/2008/03/04/business/04road.html\" rel=\"nofollow\">\"A Virtual Travel Agent With All the Answers\"</a>. <i>The New York Times</i>. 4 March 2008.</cite><span class=\"Z3988\" title=\"ctx_ver=Z39.88-2004&amp;rft_val_fmt=info%3Aofi%2Ffmt%3Akev%3Amtx%3Ajournal&amp;rft.genre=unknown&amp;rft.jtitle=The+New+York+Times&amp;rft.atitle=A+Virtual+Travel+Agent+With+All+the+Answers&amp;rft.date=2008-03-04&amp;rft_id=https%3A%2F%2Fwww.nytimes.com%2F2008%2F03%2F04%2Fbusiness%2F04road.html&amp;rfr_id=info%3Asid%2Fen.wikipedia.org%3AChatbot\"></span></span>\n",
              "</li>\n",
              "<li id=\"cite_note-:0-29\"><span class=\"mw-cite-backlink\"><b><a href=\"#cite_ref-:0_29-0\">^</a></b></span> <span class=\"reference-text\"><link href=\"mw-data:TemplateStyles:r1133582631\" rel=\"mw-deduplicated-inline-style\"/><cite class=\"citation web cs1\"><a class=\"external text\" href=\"http://www.hypergridbusiness.com/2011/10/chatbot-vendor-directory-released/\" rel=\"nofollow\">\"Chatbot vendor directory released –\"</a>. <i>www.hypergridbusiness.com</i>.</cite><span class=\"Z3988\" title=\"ctx_ver=Z39.88-2004&amp;rft_val_fmt=info%3Aofi%2Ffmt%3Akev%3Amtx%3Ajournal&amp;rft.genre=unknown&amp;rft.jtitle=www.hypergridbusiness.com&amp;rft.atitle=Chatbot+vendor+directory+released+%E2%80%93&amp;rft_id=http%3A%2F%2Fwww.hypergridbusiness.com%2F2011%2F10%2Fchatbot-vendor-directory-released%2F&amp;rfr_id=info%3Asid%2Fen.wikipedia.org%3AChatbot\"></span></span>\n",
              "</li>\n",
              "<li id=\"cite_note-30\"><span class=\"mw-cite-backlink\"><b><a href=\"#cite_ref-30\">^</a></b></span> <span class=\"reference-text\"><link href=\"mw-data:TemplateStyles:r1133582631\" rel=\"mw-deduplicated-inline-style\"/><cite class=\"citation news cs1\"><a class=\"external text\" href=\"https://techcrunch.com/2017/02/15/rare-carats-watson-powered-chat-bot-will-help-you-put-a-diamond-ring-on-it/\" rel=\"nofollow\">\"Rare Carat's Watson-powered chatbot will help you put a diamond ring on it\"</a>. TechCrunch. February 15, 2017.</cite><span class=\"Z3988\" title=\"ctx_ver=Z39.88-2004&amp;rft_val_fmt=info%3Aofi%2Ffmt%3Akev%3Amtx%3Ajournal&amp;rft.genre=article&amp;rft.atitle=Rare+Carat%27s+Watson-powered+chatbot+will+help+you+put+a+diamond+ring+on+it&amp;rft.date=2017-02-15&amp;rft_id=https%3A%2F%2Ftechcrunch.com%2F2017%2F02%2F15%2Frare-carats-watson-powered-chat-bot-will-help-you-put-a-diamond-ring-on-it%2F&amp;rfr_id=info%3Asid%2Fen.wikipedia.org%3AChatbot\"></span></span>\n",
              "</li>\n",
              "<li id=\"cite_note-31\"><span class=\"mw-cite-backlink\"><b><a href=\"#cite_ref-31\">^</a></b></span> <span class=\"reference-text\"><link href=\"mw-data:TemplateStyles:r1133582631\" rel=\"mw-deduplicated-inline-style\"/><cite class=\"citation news cs1\"><a class=\"external text\" href=\"https://venturebeat.com/2017/03/10/10-ways-you-may-have-already-used-ibm-watson/\" rel=\"nofollow\">\"10 ways you may have already used IBM Watson\"</a>. VentureBeat. March 10, 2017.</cite><span class=\"Z3988\" title=\"ctx_ver=Z39.88-2004&amp;rft_val_fmt=info%3Aofi%2Ffmt%3Akev%3Amtx%3Ajournal&amp;rft.genre=article&amp;rft.atitle=10+ways+you+may+have+already+used+IBM+Watson&amp;rft.date=2017-03-10&amp;rft_id=https%3A%2F%2Fventurebeat.com%2F2017%2F03%2F10%2F10-ways-you-may-have-already-used-ibm-watson%2F&amp;rfr_id=info%3Asid%2Fen.wikipedia.org%3AChatbot\"></span></span>\n",
              "</li>\n",
              "<li id=\"cite_note-32\"><span class=\"mw-cite-backlink\"><b><a href=\"#cite_ref-32\">^</a></b></span> <span class=\"reference-text\"><link href=\"mw-data:TemplateStyles:r1133582631\" rel=\"mw-deduplicated-inline-style\"/><cite class=\"citation news cs1\" id=\"CITEREFGreenfield2016\">Greenfield, Rebecca (5 May 2016). <a class=\"external text\" href=\"https://www.bloomberg.com/news/articles/2016-05-05/chatbots-are-your-newest-dumbest-co-workers\" rel=\"nofollow\">\"Chatbots Are Your Newest, Dumbest Co-Workers\"</a>. <i>Bloomberg.com</i>.</cite><span class=\"Z3988\" title=\"ctx_ver=Z39.88-2004&amp;rft_val_fmt=info%3Aofi%2Ffmt%3Akev%3Amtx%3Ajournal&amp;rft.genre=article&amp;rft.jtitle=Bloomberg.com&amp;rft.atitle=Chatbots+Are+Your+Newest%2C+Dumbest+Co-Workers&amp;rft.date=2016-05-05&amp;rft.aulast=Greenfield&amp;rft.aufirst=Rebecca&amp;rft_id=https%3A%2F%2Fwww.bloomberg.com%2Fnews%2Farticles%2F2016-05-05%2Fchatbots-are-your-newest-dumbest-co-workers&amp;rfr_id=info%3Asid%2Fen.wikipedia.org%3AChatbot\"></span></span>\n",
              "</li>\n",
              "<li id=\"cite_note-33\"><span class=\"mw-cite-backlink\"><b><a href=\"#cite_ref-33\">^</a></b></span> <span class=\"reference-text\"><link href=\"mw-data:TemplateStyles:r1133582631\" rel=\"mw-deduplicated-inline-style\"/><cite class=\"citation web cs1\"><a class=\"external text\" href=\"https://venturebeat.com/2016/04/12/facebook-opens-its-messenger-platform-to-chatbots/\" rel=\"nofollow\">\"Facebook opens its Messenger platform to chatbots\"</a>. 12 April 2016.</cite><span class=\"Z3988\" title=\"ctx_ver=Z39.88-2004&amp;rft_val_fmt=info%3Aofi%2Ffmt%3Akev%3Amtx%3Abook&amp;rft.genre=unknown&amp;rft.btitle=Facebook+opens+its+Messenger+platform+to+chatbots&amp;rft.date=2016-04-12&amp;rft_id=https%3A%2F%2Fventurebeat.com%2F2016%2F04%2F12%2Ffacebook-opens-its-messenger-platform-to-chatbots%2F&amp;rfr_id=info%3Asid%2Fen.wikipedia.org%3AChatbot\"></span></span>\n",
              "</li>\n",
              "<li id=\"cite_note-34\"><span class=\"mw-cite-backlink\"><b><a href=\"#cite_ref-34\">^</a></b></span> <span class=\"reference-text\"><link href=\"mw-data:TemplateStyles:r1133582631\" rel=\"mw-deduplicated-inline-style\"/><cite class=\"citation web cs1\"><a class=\"external text\" href=\"https://www.dragon1.com/watch/470340/chatbot-reference-architecture/\" rel=\"nofollow\">\"Chatbot Reference Architecture\"</a>. 1 January 2019.</cite><span class=\"Z3988\" title=\"ctx_ver=Z39.88-2004&amp;rft_val_fmt=info%3Aofi%2Ffmt%3Akev%3Amtx%3Abook&amp;rft.genre=unknown&amp;rft.btitle=Chatbot+Reference+Architecture&amp;rft.date=2019-01-01&amp;rft_id=https%3A%2F%2Fwww.dragon1.com%2Fwatch%2F470340%2Fchatbot-reference-architecture%2F&amp;rfr_id=info%3Asid%2Fen.wikipedia.org%3AChatbot\"></span></span>\n",
              "</li>\n",
              "<li id=\"cite_note-WSBanks-35\"><span class=\"mw-cite-backlink\"><b><a href=\"#cite_ref-WSBanks_35-0\">^</a></b></span> <span class=\"reference-text\"><link href=\"mw-data:TemplateStyles:r1133582631\" rel=\"mw-deduplicated-inline-style\"/><cite class=\"citation web cs1\"><a class=\"external text\" href=\"https://www.marutitech.com/chatbots-transforming-wall-street-main-street-banks/\" rel=\"nofollow\">\"How Chatbots are Transforming Wall Street and Main Street Banks?\"</a>. 1 April 2019.</cite><span class=\"Z3988\" title=\"ctx_ver=Z39.88-2004&amp;rft_val_fmt=info%3Aofi%2Ffmt%3Akev%3Amtx%3Abook&amp;rft.genre=unknown&amp;rft.btitle=How+Chatbots+are+Transforming+Wall+Street+and+Main+Street+Banks%3F&amp;rft.date=2019-04-01&amp;rft_id=https%3A%2F%2Fwww.marutitech.com%2Fchatbots-transforming-wall-street-main-street-banks%2F&amp;rfr_id=info%3Asid%2Fen.wikipedia.org%3AChatbot\"></span></span>\n",
              "</li>\n",
              "<li id=\"cite_note-36\"><span class=\"mw-cite-backlink\"><b><a href=\"#cite_ref-36\">^</a></b></span> <span class=\"reference-text\"><link href=\"mw-data:TemplateStyles:r1133582631\" rel=\"mw-deduplicated-inline-style\"/><cite class=\"citation web cs1\"><a class=\"external text\" href=\"https://web.archive.org/web/20191211081442/https://www.gartner.com/smarterwithgartner/27297-2/\" rel=\"nofollow\">\"How to Manage Customer Service Technology Innovation\"</a>. <i>www.gartner.com</i>. Archived from <a class=\"external text\" href=\"https://www.gartner.com/smarterwithgartner/27297-2/\" rel=\"nofollow\">the original</a> on December 11, 2019<span class=\"reference-accessdate\">. Retrieved <span class=\"nowrap\">2020-01-02</span></span>.</cite><span class=\"Z3988\" title=\"ctx_ver=Z39.88-2004&amp;rft_val_fmt=info%3Aofi%2Ffmt%3Akev%3Amtx%3Ajournal&amp;rft.genre=unknown&amp;rft.jtitle=www.gartner.com&amp;rft.atitle=How+to+Manage+Customer+Service+Technology+Innovation&amp;rft_id=https%3A%2F%2Fwww.gartner.com%2Fsmarterwithgartner%2F27297-2%2F&amp;rfr_id=info%3Asid%2Fen.wikipedia.org%3AChatbot\"></span></span>\n",
              "</li>\n",
              "<li id=\"cite_note-37\"><span class=\"mw-cite-backlink\"><b><a href=\"#cite_ref-37\">^</a></b></span> <span class=\"reference-text\"><link href=\"mw-data:TemplateStyles:r1133582631\" rel=\"mw-deduplicated-inline-style\"/><cite class=\"citation web cs1\"><a class=\"external text\" href=\"https://www.juniperresearch.com/press/press-releases/chatbot-interactions-retail-reach-22-billion-2023\" rel=\"nofollow\">\"CHATBOT INTERACTIONS IN RETAIL TO REACH 22 BILLION BY 2023, AS AI OFFERS COMPELLING NEW ENGAGEMENT SOLUTIONS\"</a>. <i>www.juniperresearch.com</i><span class=\"reference-accessdate\">. Retrieved <span class=\"nowrap\">2020-01-02</span></span>.</cite><span class=\"Z3988\" title=\"ctx_ver=Z39.88-2004&amp;rft_val_fmt=info%3Aofi%2Ffmt%3Akev%3Amtx%3Ajournal&amp;rft.genre=unknown&amp;rft.jtitle=www.juniperresearch.com&amp;rft.atitle=CHATBOT+INTERACTIONS+IN+RETAIL+TO+REACH+22+BILLION+BY+2023%2C+AS+AI+OFFERS+COMPELLING+NEW+ENGAGEMENT+SOLUTIONS&amp;rft_id=https%3A%2F%2Fwww.juniperresearch.com%2Fpress%2Fpress-releases%2Fchatbot-interactions-retail-reach-22-billion-2023&amp;rfr_id=info%3Asid%2Fen.wikipedia.org%3AChatbot\"></span></span>\n",
              "</li>\n",
              "<li id=\"cite_note-38\"><span class=\"mw-cite-backlink\"><b><a href=\"#cite_ref-38\">^</a></b></span> <span class=\"reference-text\"><link href=\"mw-data:TemplateStyles:r1133582631\" rel=\"mw-deduplicated-inline-style\"/><cite class=\"citation web cs1\"><a class=\"external text\" href=\"https://techcrunch.com/2016/04/12/agents-on-messenger/\" rel=\"nofollow\">\"Facebook launches Messenger platform with chatbots\"</a>. 1 April 2019.</cite><span class=\"Z3988\" title=\"ctx_ver=Z39.88-2004&amp;rft_val_fmt=info%3Aofi%2Ffmt%3Akev%3Amtx%3Abook&amp;rft.genre=unknown&amp;rft.btitle=Facebook+launches+Messenger+platform+with+chatbots&amp;rft.date=2019-04-01&amp;rft_id=https%3A%2F%2Ftechcrunch.com%2F2016%2F04%2F12%2Fagents-on-messenger%2F&amp;rfr_id=info%3Asid%2Fen.wikipedia.org%3AChatbot\"></span></span>\n",
              "</li>\n",
              "<li id=\"cite_note-39\"><span class=\"mw-cite-backlink\"><b><a href=\"#cite_ref-39\">^</a></b></span> <span class=\"reference-text\"><link href=\"mw-data:TemplateStyles:r1133582631\" rel=\"mw-deduplicated-inline-style\"/><cite class=\"citation web cs1\"><a class=\"external text\" href=\"https://www.vedomosti.ru/technology/articles/2016/07/13/649035-rossiiskii-bank-zapustil-chatbota-v-facebook\" rel=\"nofollow\">\"Российский банк запустил чат-бота в Facebook\"</a>. 1 April 2019.</cite><span class=\"Z3988\" title=\"ctx_ver=Z39.88-2004&amp;rft_val_fmt=info%3Aofi%2Ffmt%3Akev%3Amtx%3Abook&amp;rft.genre=unknown&amp;rft.btitle=%D0%A0%D0%BE%D1%81%D1%81%D0%B8%D0%B9%D1%81%D0%BA%D0%B8%D0%B9+%D0%B1%D0%B0%D0%BD%D0%BA+%D0%B7%D0%B0%D0%BF%D1%83%D1%81%D1%82%D0%B8%D0%BB+%D1%87%D0%B0%D1%82-%D0%B1%D0%BE%D1%82%D0%B0+%D0%B2+Facebook&amp;rft.date=2019-04-01&amp;rft_id=https%3A%2F%2Fwww.vedomosti.ru%2Ftechnology%2Farticles%2F2016%2F07%2F13%2F649035-rossiiskii-bank-zapustil-chatbota-v-facebook&amp;rfr_id=info%3Asid%2Fen.wikipedia.org%3AChatbot\"></span></span>\n",
              "</li>\n",
              "<li id=\"cite_note-40\"><span class=\"mw-cite-backlink\"><b><a href=\"#cite_ref-40\">^</a></b></span> <span class=\"reference-text\"><link href=\"mw-data:TemplateStyles:r1133582631\" rel=\"mw-deduplicated-inline-style\"/><cite class=\"citation web cs1\"><a class=\"external text\" href=\"https://www.fin24.com/Tech/Companies/absa-launches-world-first-facebook-messenger-banking-20160719\" rel=\"nofollow\">\"Absa launches 'world-first' Facebook Messenger banking\"</a>. 1 April 2019.</cite><span class=\"Z3988\" title=\"ctx_ver=Z39.88-2004&amp;rft_val_fmt=info%3Aofi%2Ffmt%3Akev%3Amtx%3Abook&amp;rft.genre=unknown&amp;rft.btitle=Absa+launches+%27world-first%27+Facebook+Messenger+banking&amp;rft.date=2019-04-01&amp;rft_id=https%3A%2F%2Fwww.fin24.com%2FTech%2FCompanies%2Fabsa-launches-world-first-facebook-messenger-banking-20160719&amp;rfr_id=info%3Asid%2Fen.wikipedia.org%3AChatbot\"></span></span>\n",
              "</li>\n",
              "<li id=\"cite_note-41\"><span class=\"mw-cite-backlink\"><b><a href=\"#cite_ref-41\">^</a></b></span> <span class=\"reference-text\"><link href=\"mw-data:TemplateStyles:r1133582631\" rel=\"mw-deduplicated-inline-style\"/><cite class=\"citation web cs1\"><a class=\"external text\" href=\"http://www.relbanks.com/europe/france\" rel=\"nofollow\">\"The Biggest French Banks by Total Assets\"</a>. <i>Banks around the World</i><span class=\"reference-accessdate\">. Retrieved <span class=\"nowrap\">April 1,</span> 2019</span>.</cite><span class=\"Z3988\" title=\"ctx_ver=Z39.88-2004&amp;rft_val_fmt=info%3Aofi%2Ffmt%3Akev%3Amtx%3Ajournal&amp;rft.genre=unknown&amp;rft.jtitle=Banks+around+the+World&amp;rft.atitle=The+Biggest+French+Banks+by+Total+Assets&amp;rft_id=http%3A%2F%2Fwww.relbanks.com%2Feurope%2Ffrance&amp;rfr_id=info%3Asid%2Fen.wikipedia.org%3AChatbot\"></span></span>\n",
              "</li>\n",
              "<li id=\"cite_note-42\"><span class=\"mw-cite-backlink\"><b><a href=\"#cite_ref-42\">^</a></b></span> <span class=\"reference-text\"><link href=\"mw-data:TemplateStyles:r1133582631\" rel=\"mw-deduplicated-inline-style\"/><cite class=\"citation web cs1\"><a class=\"external text\" href=\"https://marketingclient.lesechos.fr/ils-lont-fait/gagner-temps-chatbot-bancaire/\" rel=\"nofollow\">\"GAGNER DU TEMPS AVEC LE CHATBOT BANCAIRE POUR GAGNER EN INTELLIGENCE AVEC LES CONSEILLERS\"</a>. <i>Marketing Client</i><span class=\"reference-accessdate\">. Retrieved <span class=\"nowrap\">April 1,</span> 2019</span>.</cite><span class=\"Z3988\" title=\"ctx_ver=Z39.88-2004&amp;rft_val_fmt=info%3Aofi%2Ffmt%3Akev%3Amtx%3Ajournal&amp;rft.genre=unknown&amp;rft.jtitle=Marketing+Client&amp;rft.atitle=GAGNER+DU+TEMPS+AVEC+LE+CHATBOT+BANCAIRE+POUR+GAGNER+EN+INTELLIGENCE+AVEC+LES+CONSEILLERS&amp;rft_id=https%3A%2F%2Fmarketingclient.lesechos.fr%2Fils-lont-fait%2Fgagner-temps-chatbot-bancaire%2F&amp;rfr_id=info%3Asid%2Fen.wikipedia.org%3AChatbot\"></span></span>\n",
              "</li>\n",
              "<li id=\"cite_note-FinancialBrain-43\"><span class=\"mw-cite-backlink\"><b><a href=\"#cite_ref-FinancialBrain_43-0\">^</a></b></span> <span class=\"reference-text\"><link href=\"mw-data:TemplateStyles:r1133582631\" rel=\"mw-deduplicated-inline-style\"/><cite class=\"citation web cs1\"><a class=\"external text\" href=\"https://thefinancialbrand.com/71251/chatbots-banking-trends-ai-cx//\" rel=\"nofollow\">\"Meet 11 of the Most Interesting Chatbots in Banking\"</a>. <i>The Financial Brain</i>. 14 March 2018<span class=\"reference-accessdate\">. Retrieved <span class=\"nowrap\">April 1,</span> 2019</span>.</cite><span class=\"Z3988\" title=\"ctx_ver=Z39.88-2004&amp;rft_val_fmt=info%3Aofi%2Ffmt%3Akev%3Amtx%3Ajournal&amp;rft.genre=unknown&amp;rft.jtitle=The+Financial+Brain&amp;rft.atitle=Meet+11+of+the+Most+Interesting+Chatbots+in+Banking&amp;rft.date=2018-03-14&amp;rft_id=https%3A%2F%2Fthefinancialbrand.com%2F71251%2Fchatbots-banking-trends-ai-cx%2F%2F&amp;rfr_id=info%3Asid%2Fen.wikipedia.org%3AChatbot\"></span></span>\n",
              "</li>\n",
              "<li id=\"cite_note-BornBane-44\"><span class=\"mw-cite-backlink\">^ <a href=\"#cite_ref-BornBane_44-0\"><sup><i><b>a</b></i></sup></a> <a href=\"#cite_ref-BornBane_44-1\"><sup><i><b>b</b></i></sup></a></span> <span class=\"reference-text\"><link href=\"mw-data:TemplateStyles:r1133582631\" rel=\"mw-deduplicated-inline-style\"/><cite class=\"citation web cs1\"><a class=\"external text\" href=\"https://blog.bluelupin.com/chatbot-advantages-and-disadvantages/\" rel=\"nofollow\">\"CHATBOTS: BOON OR BANE?\"</a>. <i>bluelupin</i>. 9 January 2018<span class=\"reference-accessdate\">. Retrieved <span class=\"nowrap\">April 1,</span> 2019</span>.</cite><span class=\"Z3988\" title=\"ctx_ver=Z39.88-2004&amp;rft_val_fmt=info%3Aofi%2Ffmt%3Akev%3Amtx%3Ajournal&amp;rft.genre=unknown&amp;rft.jtitle=bluelupin&amp;rft.atitle=CHATBOTS%3A+BOON+OR+BANE%3F&amp;rft.date=2018-01-09&amp;rft_id=https%3A%2F%2Fblog.bluelupin.com%2Fchatbot-advantages-and-disadvantages%2F&amp;rfr_id=info%3Asid%2Fen.wikipedia.org%3AChatbot\"></span></span>\n",
              "</li>\n",
              "<li id=\"cite_note-45\"><span class=\"mw-cite-backlink\"><b><a href=\"#cite_ref-45\">^</a></b></span> <span class=\"reference-text\"><link href=\"mw-data:TemplateStyles:r1133582631\" rel=\"mw-deduplicated-inline-style\"/><cite class=\"citation web cs1\" id=\"CITEREFLarson2016\">Larson, Selena (October 11, 2016). <a class=\"external text\" href=\"https://money.cnn.com/2016/10/11/technology/baidu-doctor-ai-melody/index.html\" rel=\"nofollow\">\"Baidu is bringing AI chatbots to healthcare\"</a>. <i><a class=\"mw-redirect\" href=\"/wiki/CNN_Money\" title=\"CNN Money\">CNN Money</a></i>.</cite><span class=\"Z3988\" title=\"ctx_ver=Z39.88-2004&amp;rft_val_fmt=info%3Aofi%2Ffmt%3Akev%3Amtx%3Ajournal&amp;rft.genre=unknown&amp;rft.jtitle=CNN+Money&amp;rft.atitle=Baidu+is+bringing+AI+chatbots+to+healthcare&amp;rft.date=2016-10-11&amp;rft.aulast=Larson&amp;rft.aufirst=Selena&amp;rft_id=https%3A%2F%2Fmoney.cnn.com%2F2016%2F10%2F11%2Ftechnology%2Fbaidu-doctor-ai-melody%2Findex.html&amp;rfr_id=info%3Asid%2Fen.wikipedia.org%3AChatbot\"></span></span>\n",
              "</li>\n",
              "<li id=\"cite_note-46\"><span class=\"mw-cite-backlink\"><b><a href=\"#cite_ref-46\">^</a></b></span> <span class=\"reference-text\"><link href=\"mw-data:TemplateStyles:r1133582631\" rel=\"mw-deduplicated-inline-style\"/><cite class=\"citation news cs1\"><a class=\"external text\" href=\"https://www.aiin.healthcare/topics/robotics/ai-chatbots-have-future-healthcare-caveats\" rel=\"nofollow\">\"AI chatbots have a future in healthcare, with caveats\"</a>. <i>AI in Healthcare</i>.</cite><span class=\"Z3988\" title=\"ctx_ver=Z39.88-2004&amp;rft_val_fmt=info%3Aofi%2Ffmt%3Akev%3Amtx%3Ajournal&amp;rft.genre=article&amp;rft.jtitle=AI+in+Healthcare&amp;rft.atitle=AI+chatbots+have+a+future+in+healthcare%2C+with+caveats&amp;rft_id=https%3A%2F%2Fwww.aiin.healthcare%2Ftopics%2Frobotics%2Fai-chatbots-have-future-healthcare-caveats&amp;rfr_id=info%3Asid%2Fen.wikipedia.org%3AChatbot\"></span></span>\n",
              "</li>\n",
              "<li id=\"cite_note-47\"><span class=\"mw-cite-backlink\"><b><a href=\"#cite_ref-47\">^</a></b></span> <span class=\"reference-text\"><link href=\"mw-data:TemplateStyles:r1133582631\" rel=\"mw-deduplicated-inline-style\"/><cite class=\"citation journal cs1\" id=\"CITEREFPalanicaFlaschnerThommandramLi2019\">Palanica, Adam; Flaschner, Peter; Thommandram, Anirudh; Li, Michael; Fossat, Yan (January 3, 2019). <a class=\"external text\" href=\"//www.ncbi.nlm.nih.gov/pmc/articles/PMC6473203\" rel=\"nofollow\">\"Physicians' Perceptions of Chatbots in Health Care: Cross-Sectional Web-Based Survey\"</a>. <i>Journal of Medical Internet Research</i>. <b>21</b> (4): e12887. <a class=\"mw-redirect\" href=\"/wiki/Doi_(identifier)\" title=\"Doi (identifier)\">doi</a>:<a class=\"external text\" href=\"https://doi.org/10.2196%2F12887\" rel=\"nofollow\">10.2196/12887</a>. <a class=\"mw-redirect\" href=\"/wiki/PMC_(identifier)\" title=\"PMC (identifier)\">PMC</a> <span class=\"cs1-lock-free\" title=\"Freely accessible\"><a class=\"external text\" href=\"//www.ncbi.nlm.nih.gov/pmc/articles/PMC6473203\" rel=\"nofollow\">6473203</a></span>. <a class=\"mw-redirect\" href=\"/wiki/PMID_(identifier)\" title=\"PMID (identifier)\">PMID</a> <a class=\"external text\" href=\"//pubmed.ncbi.nlm.nih.gov/30950796\" rel=\"nofollow\">30950796</a>.</cite><span class=\"Z3988\" title=\"ctx_ver=Z39.88-2004&amp;rft_val_fmt=info%3Aofi%2Ffmt%3Akev%3Amtx%3Ajournal&amp;rft.genre=article&amp;rft.jtitle=Journal+of+Medical+Internet+Research&amp;rft.atitle=Physicians%27+Perceptions+of+Chatbots+in+Health+Care%3A+Cross-Sectional+Web-Based+Survey&amp;rft.volume=21&amp;rft.issue=4&amp;rft.pages=e12887&amp;rft.date=2019-01-03&amp;rft_id=%2F%2Fwww.ncbi.nlm.nih.gov%2Fpmc%2Farticles%2FPMC6473203%23id-name%3DPMC&amp;rft_id=info%3Apmid%2F30950796&amp;rft_id=info%3Adoi%2F10.2196%2F12887&amp;rft.aulast=Palanica&amp;rft.aufirst=Adam&amp;rft.au=Flaschner%2C+Peter&amp;rft.au=Thommandram%2C+Anirudh&amp;rft.au=Li%2C+Michael&amp;rft.au=Fossat%2C+Yan&amp;rft_id=%2F%2Fwww.ncbi.nlm.nih.gov%2Fpmc%2Farticles%2FPMC6473203&amp;rfr_id=info%3Asid%2Fen.wikipedia.org%3AChatbot\"></span></span>\n",
              "</li>\n",
              "<li id=\"cite_note-48\"><span class=\"mw-cite-backlink\"><b><a href=\"#cite_ref-48\">^</a></b></span> <span class=\"reference-text\"><link href=\"mw-data:TemplateStyles:r1133582631\" rel=\"mw-deduplicated-inline-style\"/><cite class=\"citation web cs1\" id=\"CITEREFAhaskar2020\">Ahaskar, Abhijit (2020-03-27). <a class=\"external text\" href=\"https://www.livemint.com/technology/tech-news/how-whatsapp-chatbots-are-helping-in-the-fight-against-covid-19-11585310168911.html\" rel=\"nofollow\">\"How WhatsApp chatbots are helping in the fight against Covid-19\"</a>. <i><a href=\"/wiki/Mint_(newspaper)\" title=\"Mint (newspaper)\">Mint</a></i><span class=\"reference-accessdate\">. Retrieved <span class=\"nowrap\">2020-07-23</span></span>.</cite><span class=\"Z3988\" title=\"ctx_ver=Z39.88-2004&amp;rft_val_fmt=info%3Aofi%2Ffmt%3Akev%3Amtx%3Ajournal&amp;rft.genre=unknown&amp;rft.jtitle=Mint&amp;rft.atitle=How+WhatsApp+chatbots+are+helping+in+the+fight+against+Covid-19&amp;rft.date=2020-03-27&amp;rft.aulast=Ahaskar&amp;rft.aufirst=Abhijit&amp;rft_id=https%3A%2F%2Fwww.livemint.com%2Ftechnology%2Ftech-news%2Fhow-whatsapp-chatbots-are-helping-in-the-fight-against-covid-19-11585310168911.html&amp;rfr_id=info%3Asid%2Fen.wikipedia.org%3AChatbot\"></span></span>\n",
              "</li>\n",
              "<li id=\"cite_note-49\"><span class=\"mw-cite-backlink\"><b><a href=\"#cite_ref-49\">^</a></b></span> <span class=\"reference-text\"><link href=\"mw-data:TemplateStyles:r1133582631\" rel=\"mw-deduplicated-inline-style\"/><cite class=\"citation web cs1\"><a class=\"external text\" href=\"https://gadgets.ndtv.com/apps/news/coronavirus-mygov-corona-helpdesk-chatbot-whatsapp-indian-government-total-users-haptik-2204458\" rel=\"nofollow\">\"India's Coronavirus Chatbot on WhatsApp Crosses 1.7 Crore Users in 10 Days\"</a>. <i>NDTV Gadgets 360</i><span class=\"reference-accessdate\">. Retrieved <span class=\"nowrap\">2020-07-23</span></span>.</cite><span class=\"Z3988\" title=\"ctx_ver=Z39.88-2004&amp;rft_val_fmt=info%3Aofi%2Ffmt%3Akev%3Amtx%3Ajournal&amp;rft.genre=unknown&amp;rft.jtitle=NDTV+Gadgets+360&amp;rft.atitle=India%27s+Coronavirus+Chatbot+on+WhatsApp+Crosses+1.7+Crore+Users+in+10+Days&amp;rft_id=https%3A%2F%2Fgadgets.ndtv.com%2Fapps%2Fnews%2Fcoronavirus-mygov-corona-helpdesk-chatbot-whatsapp-indian-government-total-users-haptik-2204458&amp;rfr_id=info%3Asid%2Fen.wikipedia.org%3AChatbot\"></span></span>\n",
              "</li>\n",
              "<li id=\"cite_note-50\"><span class=\"mw-cite-backlink\"><b><a href=\"#cite_ref-50\">^</a></b></span> <span class=\"reference-text\"><link href=\"mw-data:TemplateStyles:r1133582631\" rel=\"mw-deduplicated-inline-style\"/><cite class=\"citation web cs1\" id=\"CITEREFKurup2020\">Kurup, Rajesh (21 March 2020). <a class=\"external text\" href=\"https://www.thehindubusinessline.com/info-tech/covid-19-india-launches-a-whatsapp-chatbot/article31127438.ece\" rel=\"nofollow\">\"COVID-19: Govt of India launches a WhatsApp chatbot\"</a>. <i><a href=\"/wiki/Business_Line\" title=\"Business Line\">Business Line</a></i><span class=\"reference-accessdate\">. Retrieved <span class=\"nowrap\">2020-07-23</span></span>.</cite><span class=\"Z3988\" title=\"ctx_ver=Z39.88-2004&amp;rft_val_fmt=info%3Aofi%2Ffmt%3Akev%3Amtx%3Ajournal&amp;rft.genre=unknown&amp;rft.jtitle=Business+Line&amp;rft.atitle=COVID-19%3A+Govt+of+India+launches+a+WhatsApp+chatbot&amp;rft.date=2020-03-21&amp;rft.aulast=Kurup&amp;rft.aufirst=Rajesh&amp;rft_id=https%3A%2F%2Fwww.thehindubusinessline.com%2Finfo-tech%2Fcovid-19-india-launches-a-whatsapp-chatbot%2Farticle31127438.ece&amp;rfr_id=info%3Asid%2Fen.wikipedia.org%3AChatbot\"></span></span>\n",
              "</li>\n",
              "<li id=\"cite_note-51\"><span class=\"mw-cite-backlink\"><b><a href=\"#cite_ref-51\">^</a></b></span> <span class=\"reference-text\"><link href=\"mw-data:TemplateStyles:r1133582631\" rel=\"mw-deduplicated-inline-style\"/><cite class=\"citation web cs1\"><a class=\"external text\" href=\"https://tech.hindustantimes.com/tech/news/in-focus-mumbai-based-haptik-which-developed-india-s-official-whatsapp-chatbot-for-covid-19-story-SkSTENvrXVmvfM9YWEKXBP.html\" rel=\"nofollow\">\"In focus: Mumbai-based Haptik which developed India's official WhatsApp chatbot for Covid-19\"</a>. <i><a href=\"/wiki/Hindustan_Times\" title=\"Hindustan Times\">Hindustan Times</a></i>. 7 April 2020<span class=\"reference-accessdate\">. Retrieved <span class=\"nowrap\">2020-07-23</span></span>.</cite><span class=\"Z3988\" title=\"ctx_ver=Z39.88-2004&amp;rft_val_fmt=info%3Aofi%2Ffmt%3Akev%3Amtx%3Ajournal&amp;rft.genre=unknown&amp;rft.jtitle=Hindustan+Times&amp;rft.atitle=In+focus%3A+Mumbai-based+Haptik+which+developed+India%27s+official+WhatsApp+chatbot+for+Covid-19&amp;rft.date=2020-04-07&amp;rft_id=https%3A%2F%2Ftech.hindustantimes.com%2Ftech%2Fnews%2Fin-focus-mumbai-based-haptik-which-developed-india-s-official-whatsapp-chatbot-for-covid-19-story-SkSTENvrXVmvfM9YWEKXBP.html&amp;rfr_id=info%3Asid%2Fen.wikipedia.org%3AChatbot\"></span></span>\n",
              "</li>\n",
              "<li id=\"cite_note-52\"><span class=\"mw-cite-backlink\"><b><a href=\"#cite_ref-52\">^</a></b></span> <span class=\"reference-text\"><link href=\"mw-data:TemplateStyles:r1133582631\" rel=\"mw-deduplicated-inline-style\"/><cite class=\"citation journal cs1\" id=\"CITEREFNadarzynskiMilesCowieRidge2019\">Nadarzynski, Tom; Miles, Oliver; Cowie, Aimee; Ridge, Damien (January 1, 2019). <a class=\"external text\" href=\"//www.ncbi.nlm.nih.gov/pmc/articles/PMC6704417\" rel=\"nofollow\">\"Acceptability of artificial intelligence (AI)-led chatbot services in healthcare: A mixed-methods study\"</a>. <i>Digital Health</i>. <b>5</b>: 2055207619871808. <a class=\"mw-redirect\" href=\"/wiki/Doi_(identifier)\" title=\"Doi (identifier)\">doi</a>:<a class=\"external text\" href=\"https://doi.org/10.1177%2F2055207619871808\" rel=\"nofollow\">10.1177/2055207619871808</a>. <a class=\"mw-redirect\" href=\"/wiki/PMC_(identifier)\" title=\"PMC (identifier)\">PMC</a> <span class=\"cs1-lock-free\" title=\"Freely accessible\"><a class=\"external text\" href=\"//www.ncbi.nlm.nih.gov/pmc/articles/PMC6704417\" rel=\"nofollow\">6704417</a></span>. <a class=\"mw-redirect\" href=\"/wiki/PMID_(identifier)\" title=\"PMID (identifier)\">PMID</a> <a class=\"external text\" href=\"//pubmed.ncbi.nlm.nih.gov/31467682\" rel=\"nofollow\">31467682</a>.</cite><span class=\"Z3988\" title=\"ctx_ver=Z39.88-2004&amp;rft_val_fmt=info%3Aofi%2Ffmt%3Akev%3Amtx%3Ajournal&amp;rft.genre=article&amp;rft.jtitle=Digital+Health&amp;rft.atitle=Acceptability+of+artificial+intelligence+%28AI%29-led+chatbot+services+in+healthcare%3A+A+mixed-methods+study&amp;rft.volume=5&amp;rft.pages=2055207619871808&amp;rft.date=2019-01-01&amp;rft_id=%2F%2Fwww.ncbi.nlm.nih.gov%2Fpmc%2Farticles%2FPMC6704417%23id-name%3DPMC&amp;rft_id=info%3Apmid%2F31467682&amp;rft_id=info%3Adoi%2F10.1177%2F2055207619871808&amp;rft.aulast=Nadarzynski&amp;rft.aufirst=Tom&amp;rft.au=Miles%2C+Oliver&amp;rft.au=Cowie%2C+Aimee&amp;rft.au=Ridge%2C+Damien&amp;rft_id=%2F%2Fwww.ncbi.nlm.nih.gov%2Fpmc%2Farticles%2FPMC6704417&amp;rfr_id=info%3Asid%2Fen.wikipedia.org%3AChatbot\"></span></span>\n",
              "</li>\n",
              "<li id=\"cite_note-53\"><span class=\"mw-cite-backlink\"><b><a href=\"#cite_ref-53\">^</a></b></span> <span class=\"reference-text\"><link href=\"mw-data:TemplateStyles:r1133582631\" rel=\"mw-deduplicated-inline-style\"/><cite class=\"citation web cs1\"><a class=\"external text\" href=\"https://tuiainnovation.com/sam%2c-the-virtual-politician\" rel=\"nofollow\">\"Sam, the virtual politician\"</a>. <i>Tuia Innovation</i>.</cite><span class=\"Z3988\" title=\"ctx_ver=Z39.88-2004&amp;rft_val_fmt=info%3Aofi%2Ffmt%3Akev%3Amtx%3Ajournal&amp;rft.genre=unknown&amp;rft.jtitle=Tuia+Innovation&amp;rft.atitle=Sam%2C+the+virtual+politician&amp;rft_id=https%3A%2F%2Ftuiainnovation.com%2Fsam%252c-the-virtual-politician&amp;rfr_id=info%3Asid%2Fen.wikipedia.org%3AChatbot\"></span></span>\n",
              "</li>\n",
              "<li id=\"cite_note-54\"><span class=\"mw-cite-backlink\"><b><a href=\"#cite_ref-54\">^</a></b></span> <span class=\"reference-text\"><link href=\"mw-data:TemplateStyles:r1133582631\" rel=\"mw-deduplicated-inline-style\"/><cite class=\"citation web cs1\" id=\"CITEREFWellington2017\">Wellington, Victoria University of (December 15, 2017). <a class=\"external text\" href=\"https://www.wgtn.ac.nz/news/2017/12/meet-the-worlds-first-virtual-politician\" rel=\"nofollow\">\"Meet the world's first virtual politician\"</a>. <i>Victoria University of Wellington</i>.</cite><span class=\"Z3988\" title=\"ctx_ver=Z39.88-2004&amp;rft_val_fmt=info%3Aofi%2Ffmt%3Akev%3Amtx%3Ajournal&amp;rft.genre=unknown&amp;rft.jtitle=Victoria+University+of+Wellington&amp;rft.atitle=Meet+the+world%27s+first+virtual+politician&amp;rft.date=2017-12-15&amp;rft.aulast=Wellington&amp;rft.aufirst=Victoria+University+of&amp;rft_id=https%3A%2F%2Fwww.wgtn.ac.nz%2Fnews%2F2017%2F12%2Fmeet-the-worlds-first-virtual-politician&amp;rfr_id=info%3Asid%2Fen.wikipedia.org%3AChatbot\"></span></span>\n",
              "</li>\n",
              "<li id=\"cite_note-55\"><span class=\"mw-cite-backlink\"><b><a href=\"#cite_ref-55\">^</a></b></span> <span class=\"reference-text\"><link href=\"mw-data:TemplateStyles:r1133582631\" rel=\"mw-deduplicated-inline-style\"/><cite class=\"citation web cs1\" id=\"CITEREFWagner2017\">Wagner, Meg (23 November 2017). <a class=\"external text\" href=\"https://www.cnn.com/2017/11/23/tech/first-virtual-politician-trnd/index.html\" rel=\"nofollow\">\"This virtual politician wants to run for office\"</a>. <i>CNN</i>.</cite><span class=\"Z3988\" title=\"ctx_ver=Z39.88-2004&amp;rft_val_fmt=info%3Aofi%2Ffmt%3Akev%3Amtx%3Ajournal&amp;rft.genre=unknown&amp;rft.jtitle=CNN&amp;rft.atitle=This+virtual+politician+wants+to+run+for+office&amp;rft.date=2017-11-23&amp;rft.aulast=Wagner&amp;rft.aufirst=Meg&amp;rft_id=https%3A%2F%2Fwww.cnn.com%2F2017%2F11%2F23%2Ftech%2Ffirst-virtual-politician-trnd%2Findex.html&amp;rfr_id=info%3Asid%2Fen.wikipedia.org%3AChatbot\"></span></span>\n",
              "</li>\n",
              "<li id=\"cite_note-56\"><span class=\"mw-cite-backlink\"><b><a href=\"#cite_ref-56\">^</a></b></span> <span class=\"reference-text\"><link href=\"mw-data:TemplateStyles:r1133582631\" rel=\"mw-deduplicated-inline-style\"/><cite class=\"citation web cs1\"><a class=\"external text\" href=\"https://www.engadget.com/2017/11/25/talk-with-the-first-ever-robot-politician-on-facebook-messenger/\" rel=\"nofollow\">\"Talk with the first-ever robot politician on Facebook Messenger\"</a>. <i>Engadget</i>.</cite><span class=\"Z3988\" title=\"ctx_ver=Z39.88-2004&amp;rft_val_fmt=info%3Aofi%2Ffmt%3Akev%3Amtx%3Ajournal&amp;rft.genre=unknown&amp;rft.jtitle=Engadget&amp;rft.atitle=Talk+with+the+first-ever+robot+politician+on+Facebook+Messenger&amp;rft_id=https%3A%2F%2Fwww.engadget.com%2F2017%2F11%2F25%2Ftalk-with-the-first-ever-robot-politician-on-facebook-messenger%2F&amp;rfr_id=info%3Asid%2Fen.wikipedia.org%3AChatbot\"></span></span>\n",
              "</li>\n",
              "<li id=\"cite_note-57\"><span class=\"mw-cite-backlink\"><b><a href=\"#cite_ref-57\">^</a></b></span> <span class=\"reference-text\"><link href=\"mw-data:TemplateStyles:r1133582631\" rel=\"mw-deduplicated-inline-style\"/><cite class=\"citation web cs1\" id=\"CITEREFPrakash2018\">Prakash, Abishur (August 8, 2018). <a class=\"external text\" href=\"https://medium.com/politics-ai/ai-politicians-a-revolution-in-politics-11a7e4ce90b0\" rel=\"nofollow\">\"AI-Politicians: A Revolution In Politics\"</a>. <i>Medium</i>.</cite><span class=\"Z3988\" title=\"ctx_ver=Z39.88-2004&amp;rft_val_fmt=info%3Aofi%2Ffmt%3Akev%3Amtx%3Ajournal&amp;rft.genre=unknown&amp;rft.jtitle=Medium&amp;rft.atitle=AI-Politicians%3A+A+Revolution+In+Politics&amp;rft.date=2018-08-08&amp;rft.aulast=Prakash&amp;rft.aufirst=Abishur&amp;rft_id=https%3A%2F%2Fmedium.com%2Fpolitics-ai%2Fai-politicians-a-revolution-in-politics-11a7e4ce90b0&amp;rfr_id=info%3Asid%2Fen.wikipedia.org%3AChatbot\"></span></span>\n",
              "</li>\n",
              "<li id=\"cite_note-58\"><span class=\"mw-cite-backlink\"><b><a href=\"#cite_ref-58\">^</a></b></span> <span class=\"reference-text\"><a class=\"external text\" href=\"https://www.politiciansam.nz/\" rel=\"nofollow\">SAM website</a></span>\n",
              "</li>\n",
              "<li id=\"cite_note-59\"><span class=\"mw-cite-backlink\"><b><a href=\"#cite_ref-59\">^</a></b></span> <span class=\"reference-text\"><link href=\"mw-data:TemplateStyles:r1133582631\" rel=\"mw-deduplicated-inline-style\"/><cite class=\"citation news cs1\" id=\"CITEREFSternberg2022\">Sternberg, Sarah (20 June 2022). <a class=\"external text\" href=\"https://jyllands-posten.dk/kultur/ECE14145385/danskere-vil-ind-paa-den-politiske-scene-med-kunstig-intelligens/\" rel=\"nofollow\">\"Danskere vil ind på den politiske scene med kunstig intelligens\"</a> [Danes want to enter the political scene with artificial intelligence]. <i><a href=\"/wiki/Jyllands-Posten\" title=\"Jyllands-Posten\">Jyllands-Posten</a></i><span class=\"reference-accessdate\">. Retrieved <span class=\"nowrap\">2022-06-20</span></span>.</cite><span class=\"Z3988\" title=\"ctx_ver=Z39.88-2004&amp;rft_val_fmt=info%3Aofi%2Ffmt%3Akev%3Amtx%3Ajournal&amp;rft.genre=article&amp;rft.jtitle=Jyllands-Posten&amp;rft.atitle=Danskere+vil+ind+p%C3%A5+den+politiske+scene+med+kunstig+intelligens&amp;rft.date=2022-06-20&amp;rft.aulast=Sternberg&amp;rft.aufirst=Sarah&amp;rft_id=https%3A%2F%2Fjyllands-posten.dk%2Fkultur%2FECE14145385%2Fdanskere-vil-ind-paa-den-politiske-scene-med-kunstig-intelligens%2F&amp;rfr_id=info%3Asid%2Fen.wikipedia.org%3AChatbot\"></span></span>\n",
              "</li>\n",
              "<li id=\"cite_note-60\"><span class=\"mw-cite-backlink\"><b><a href=\"#cite_ref-60\">^</a></b></span> <span class=\"reference-text\"><link href=\"mw-data:TemplateStyles:r1133582631\" rel=\"mw-deduplicated-inline-style\"/><cite class=\"citation news cs1\" id=\"CITEREFDiwakar2022\">Diwakar, Amar (2022-08-22). <a class=\"external text\" href=\"https://www.trtworld.com/magazine/can-an-ai-led-danish-party-usher-in-an-age-of-algorithmic-politics-60008\" rel=\"nofollow\">\"Can an AI-led Danish party usher in an age of algorithmic politics?\"</a>. <i><a href=\"/wiki/TRT_World\" title=\"TRT World\">TRT World</a></i><span class=\"reference-accessdate\">. Retrieved <span class=\"nowrap\">2022-08-22</span></span>.</cite><span class=\"Z3988\" title=\"ctx_ver=Z39.88-2004&amp;rft_val_fmt=info%3Aofi%2Ffmt%3Akev%3Amtx%3Ajournal&amp;rft.genre=article&amp;rft.jtitle=TRT+World&amp;rft.atitle=Can+an+AI-led+Danish+party+usher+in+an+age+of+algorithmic+politics%3F&amp;rft.date=2022-08-22&amp;rft.aulast=Diwakar&amp;rft.aufirst=Amar&amp;rft_id=https%3A%2F%2Fwww.trtworld.com%2Fmagazine%2Fcan-an-ai-led-danish-party-usher-in-an-age-of-algorithmic-politics-60008&amp;rfr_id=info%3Asid%2Fen.wikipedia.org%3AChatbot\"></span></span>\n",
              "</li>\n",
              "<li id=\"cite_note-61\"><span class=\"mw-cite-backlink\"><b><a href=\"#cite_ref-61\">^</a></b></span> <span class=\"reference-text\"><link href=\"mw-data:TemplateStyles:r1133582631\" rel=\"mw-deduplicated-inline-style\"/><cite class=\"citation news cs1\" id=\"CITEREFXiang2022\">Xiang, Chloe (13 October 2022). <a class=\"external text\" href=\"https://www.vice.com/en/article/jgpb3p/this-danish-political-party-is-led-by-an-ai\" rel=\"nofollow\">\"This Danish Political Party Is Led by an AI\"</a>. <i><a class=\"new\" href=\"/w/index.php?title=Vice:_Motherboard&amp;action=edit&amp;redlink=1\" title=\"Vice: Motherboard (page does not exist)\">Vice: Motherboard</a></i><span class=\"reference-accessdate\">. Retrieved <span class=\"nowrap\">2022-10-13</span></span>.</cite><span class=\"Z3988\" title=\"ctx_ver=Z39.88-2004&amp;rft_val_fmt=info%3Aofi%2Ffmt%3Akev%3Amtx%3Ajournal&amp;rft.genre=article&amp;rft.jtitle=Vice%3A+Motherboard&amp;rft.atitle=This+Danish+Political+Party+Is+Led+by+an+AI&amp;rft.date=2022-10-13&amp;rft.aulast=Xiang&amp;rft.aufirst=Chloe&amp;rft_id=https%3A%2F%2Fwww.vice.com%2Fen%2Farticle%2Fjgpb3p%2Fthis-danish-political-party-is-led-by-an-ai&amp;rfr_id=info%3Asid%2Fen.wikipedia.org%3AChatbot\"></span></span>\n",
              "</li>\n",
              "<li id=\"cite_note-62\"><span class=\"mw-cite-backlink\"><b><a href=\"#cite_ref-62\">^</a></b></span> <span class=\"reference-text\"><link href=\"mw-data:TemplateStyles:r1133582631\" rel=\"mw-deduplicated-inline-style\"/><cite class=\"citation web cs1\" id=\"CITEREFHearing2022\">Hearing, Alice (14 October 2022). <a class=\"external text\" href=\"https://fortune.com/2022/10/14/ai-chatbot-leader-lars-the-synthetic-party-discord-russia-ukraine-crimea-policy/\" rel=\"nofollow\">\"A.I. chatbot is leading a Danish political party and setting its policies. Now users are grilling it for its stance on political landmines\"</a>. <i>Fortune</i>.</cite><span class=\"Z3988\" title=\"ctx_ver=Z39.88-2004&amp;rft_val_fmt=info%3Aofi%2Ffmt%3Akev%3Amtx%3Ajournal&amp;rft.genre=unknown&amp;rft.jtitle=Fortune&amp;rft.atitle=A.I.+chatbot+is+leading+a+Danish+political+party+and+setting+its+policies.+Now+users+are+grilling+it+for+its+stance+on+political+landmines&amp;rft.date=2022-10-14&amp;rft.aulast=Hearing&amp;rft.aufirst=Alice&amp;rft_id=https%3A%2F%2Ffortune.com%2F2022%2F10%2F14%2Fai-chatbot-leader-lars-the-synthetic-party-discord-russia-ukraine-crimea-policy%2F&amp;rfr_id=info%3Asid%2Fen.wikipedia.org%3AChatbot\"></span></span>\n",
              "</li>\n",
              "<li id=\"cite_note-63\"><span class=\"mw-cite-backlink\"><b><a href=\"#cite_ref-63\">^</a></b></span> <span class=\"reference-text\"><link href=\"mw-data:TemplateStyles:r1133582631\" rel=\"mw-deduplicated-inline-style\"/><cite class=\"citation web cs1\"><a class=\"external text\" href=\"https://www.cnbctv18.com/technology/maharashtra-government-launches-aaple-sarkar-chatbot-to-provide-info-on-1400-public-services-2490621.htm\" rel=\"nofollow\">\"Maharashtra government launches Aaple Sarkar chatbot to provide info on 1,400 public services\"</a>. <i><a href=\"/wiki/CNBC_TV18\" title=\"CNBC TV18\">CNBC TV18</a></i>. 5 March 2019<span class=\"reference-accessdate\">. Retrieved <span class=\"nowrap\">2020-07-23</span></span>.</cite><span class=\"Z3988\" title=\"ctx_ver=Z39.88-2004&amp;rft_val_fmt=info%3Aofi%2Ffmt%3Akev%3Amtx%3Ajournal&amp;rft.genre=unknown&amp;rft.jtitle=CNBC+TV18&amp;rft.atitle=Maharashtra+government+launches+Aaple+Sarkar+chatbot+to+provide+info+on+1%2C400+public+services&amp;rft.date=2019-03-05&amp;rft_id=https%3A%2F%2Fwww.cnbctv18.com%2Ftechnology%2Fmaharashtra-government-launches-aaple-sarkar-chatbot-to-provide-info-on-1400-public-services-2490621.htm&amp;rfr_id=info%3Asid%2Fen.wikipedia.org%3AChatbot\"></span></span>\n",
              "</li>\n",
              "<li id=\"cite_note-64\"><span class=\"mw-cite-backlink\"><b><a href=\"#cite_ref-64\">^</a></b></span> <span class=\"reference-text\"><link href=\"mw-data:TemplateStyles:r1133582631\" rel=\"mw-deduplicated-inline-style\"/><cite class=\"citation news cs1\"><a class=\"external text\" href=\"https://economictimes.indiatimes.com/news/politics-and-nation/government-of-maharashtra-launches-aaple-sarkar-chatbot-with-haptik/articleshow/68268917.cms?from=mdr\" rel=\"nofollow\">\"Government of Maharashtra launches Aaple Sarkar chatbot with Haptik\"</a>. <i>The Economic Times</i><span class=\"reference-accessdate\">. Retrieved <span class=\"nowrap\">2020-07-23</span></span>.</cite><span class=\"Z3988\" title=\"ctx_ver=Z39.88-2004&amp;rft_val_fmt=info%3Aofi%2Ffmt%3Akev%3Amtx%3Ajournal&amp;rft.genre=article&amp;rft.jtitle=The+Economic+Times&amp;rft.atitle=Government+of+Maharashtra+launches+Aaple+Sarkar+chatbot+with+Haptik&amp;rft_id=https%3A%2F%2Feconomictimes.indiatimes.com%2Fnews%2Fpolitics-and-nation%2Fgovernment-of-maharashtra-launches-aaple-sarkar-chatbot-with-haptik%2Farticleshow%2F68268917.cms%3Ffrom%3Dmdr&amp;rfr_id=info%3Asid%2Fen.wikipedia.org%3AChatbot\"></span></span>\n",
              "</li>\n",
              "<li id=\"cite_note-65\"><span class=\"mw-cite-backlink\"><b><a href=\"#cite_ref-65\">^</a></b></span> <span class=\"reference-text\"><link href=\"mw-data:TemplateStyles:r1133582631\" rel=\"mw-deduplicated-inline-style\"/><cite class=\"citation web cs1\" id=\"CITEREFAggarwal2019\">Aggarwal, Varun (5 March 2019). <a class=\"external text\" href=\"https://www.thehindubusinessline.com/info-tech/maharashtra-launches-aaple-sarkar-chatbot/article26438199.ece\" rel=\"nofollow\">\"Maharashtra launches Aaple Sarkar chatbot\"</a>. <i><a href=\"/wiki/Business_Line\" title=\"Business Line\">Business Line</a></i><span class=\"reference-accessdate\">. Retrieved <span class=\"nowrap\">2020-07-23</span></span>.</cite><span class=\"Z3988\" title=\"ctx_ver=Z39.88-2004&amp;rft_val_fmt=info%3Aofi%2Ffmt%3Akev%3Amtx%3Ajournal&amp;rft.genre=unknown&amp;rft.jtitle=Business+Line&amp;rft.atitle=Maharashtra+launches+Aaple+Sarkar+chatbot&amp;rft.date=2019-03-05&amp;rft.aulast=Aggarwal&amp;rft.aufirst=Varun&amp;rft_id=https%3A%2F%2Fwww.thehindubusinessline.com%2Finfo-tech%2Fmaharashtra-launches-aaple-sarkar-chatbot%2Farticle26438199.ece&amp;rfr_id=info%3Asid%2Fen.wikipedia.org%3AChatbot\"></span></span>\n",
              "</li>\n",
              "<li id=\"cite_note-virtualagentchat-66\"><span class=\"mw-cite-backlink\">^ <a href=\"#cite_ref-virtualagentchat_66-0\"><sup><i><b>a</b></i></sup></a> <a href=\"#cite_ref-virtualagentchat_66-1\"><sup><i><b>b</b></i></sup></a></span> <span class=\"reference-text\"><link href=\"mw-data:TemplateStyles:r1133582631\" rel=\"mw-deduplicated-inline-style\"/><cite class=\"citation web cs1\" id=\"CITEREFAmy2015\">Amy (2015-02-23). <a class=\"external text\" href=\"https://web.archive.org/web/20180221035430/https://virtualagentchat.com/2015/02/23/conversational-toys-the-latest-trend-in-speech-technology/\" rel=\"nofollow\">\"Conversational Toys – The Latest Trend in Speech Technology\"</a>. <i>Virtual Agent Chat</i>. Archived from <a class=\"external text\" href=\"https://virtualagentchat.com/2015/02/23/conversational-toys-the-latest-trend-in-speech-technology/\" rel=\"nofollow\">the original</a> on 2018-02-21<span class=\"reference-accessdate\">. Retrieved <span class=\"nowrap\">2016-08-11</span></span>.</cite><span class=\"Z3988\" title=\"ctx_ver=Z39.88-2004&amp;rft_val_fmt=info%3Aofi%2Ffmt%3Akev%3Amtx%3Ajournal&amp;rft.genre=unknown&amp;rft.jtitle=Virtual+Agent+Chat&amp;rft.atitle=Conversational+Toys+%E2%80%93+The+Latest+Trend+in+Speech+Technology&amp;rft.date=2015-02-23&amp;rft.au=Amy&amp;rft_id=https%3A%2F%2Fvirtualagentchat.com%2F2015%2F02%2F23%2Fconversational-toys-the-latest-trend-in-speech-technology%2F&amp;rfr_id=info%3Asid%2Fen.wikipedia.org%3AChatbot\"></span></span>\n",
              "</li>\n",
              "<li id=\"cite_note-67\"><span class=\"mw-cite-backlink\"><b><a href=\"#cite_ref-67\">^</a></b></span> <span class=\"reference-text\"><link href=\"mw-data:TemplateStyles:r1133582631\" rel=\"mw-deduplicated-inline-style\"/><cite class=\"citation web cs1\" id=\"CITEREFNAGY2015\">NAGY, EVIE (13 February 2015). <a class=\"external text\" href=\"http://www.fastcompany.com/3042430/most-creative-people/using-toytalk-technology-new-hello-barbie-will-have-real-conversations-\" rel=\"nofollow\">\"USING TOY-TALK TECHNOLOGY, NEW HELLO BARBIE WILL HAVE REAL CONVERSATIONS WITH KIDS\"</a>. <i>Fast Company</i><span class=\"reference-accessdate\">. Retrieved <span class=\"nowrap\">18 March</span> 2015</span>.</cite><span class=\"Z3988\" title=\"ctx_ver=Z39.88-2004&amp;rft_val_fmt=info%3Aofi%2Ffmt%3Akev%3Amtx%3Ajournal&amp;rft.genre=unknown&amp;rft.jtitle=Fast+Company&amp;rft.atitle=USING+TOY-TALK+TECHNOLOGY%2C+NEW+HELLO+BARBIE+WILL+HAVE+REAL+CONVERSATIONS+WITH+KIDS&amp;rft.date=2015-02-13&amp;rft.aulast=NAGY&amp;rft.aufirst=EVIE&amp;rft_id=http%3A%2F%2Fwww.fastcompany.com%2F3042430%2Fmost-creative-people%2Fusing-toytalk-technology-new-hello-barbie-will-have-real-conversations-&amp;rfr_id=info%3Asid%2Fen.wikipedia.org%3AChatbot\"></span></span>\n",
              "</li>\n",
              "<li id=\"cite_note-68\"><span class=\"mw-cite-backlink\"><b><a href=\"#cite_ref-68\">^</a></b></span> <span class=\"reference-text\"><a class=\"external text\" href=\"https://twit.tv/shows/triangulation/episodes/179/\" rel=\"nofollow\">Oren Jacob, the co-founder and CEO of ToyTalk</a> interviewed on the TV show Triangulation on the <a href=\"/wiki/TWiT.tv\" title=\"TWiT.tv\">TWiT.tv</a> network</span>\n",
              "</li>\n",
              "<li id=\"cite_note-69\"><span class=\"mw-cite-backlink\"><b><a href=\"#cite_ref-69\">^</a></b></span> <span class=\"reference-text\"><link href=\"mw-data:TemplateStyles:r1133582631\" rel=\"mw-deduplicated-inline-style\"/><cite class=\"citation web cs1\"><a class=\"external text\" href=\"https://patents.google.com/patent/US20140032471/en\" rel=\"nofollow\">\"Artificial intelligence script tool\"</a>.</cite><span class=\"Z3988\" title=\"ctx_ver=Z39.88-2004&amp;rft_val_fmt=info%3Aofi%2Ffmt%3Akev%3Amtx%3Abook&amp;rft.genre=unknown&amp;rft.btitle=Artificial+intelligence+script+tool&amp;rft_id=https%3A%2F%2Fpatents.google.com%2Fpatent%2FUS20140032471%2Fen&amp;rfr_id=info%3Asid%2Fen.wikipedia.org%3AChatbot\"></span></span>\n",
              "</li>\n",
              "<li id=\"cite_note-70\"><span class=\"mw-cite-backlink\"><b><a href=\"#cite_ref-70\">^</a></b></span> <span class=\"reference-text\"><link href=\"mw-data:TemplateStyles:r1133582631\" rel=\"mw-deduplicated-inline-style\"/><cite class=\"citation web cs1\" id=\"CogniToys\">Takahashi, Dean (23 February 2015). <a class=\"external text\" href=\"https://venturebeat.com/2015/02/23/elementals-smart-connected-toy-cognitoys-taps-ibms-watson-supercomputer-for-its-brains/\" rel=\"nofollow\">\"Elemental's smart connected toy taps IBM's Watson supercomputer for its brains\"</a>. <i>Venture Beat</i><span class=\"reference-accessdate\">. Retrieved <span class=\"nowrap\">15 May</span> 2015</span>.</cite><span class=\"Z3988\" title=\"ctx_ver=Z39.88-2004&amp;rft_val_fmt=info%3Aofi%2Ffmt%3Akev%3Amtx%3Ajournal&amp;rft.genre=unknown&amp;rft.jtitle=Venture+Beat&amp;rft.atitle=Elemental%27s+smart+connected+toy+taps+IBM%27s+Watson+supercomputer+for+its+brains&amp;rft.date=2015-02-23&amp;rft.aulast=Takahashi&amp;rft.aufirst=Dean&amp;rft_id=https%3A%2F%2Fventurebeat.com%2F2015%2F02%2F23%2Felementals-smart-connected-toy-cognitoys-taps-ibms-watson-supercomputer-for-its-brains%2F&amp;rfr_id=info%3Asid%2Fen.wikipedia.org%3AChatbot\"></span></span>\n",
              "</li>\n",
              "<li id=\"cite_note-71\"><span class=\"mw-cite-backlink\"><b><a href=\"#cite_ref-71\">^</a></b></span> <span class=\"reference-text\"><link href=\"mw-data:TemplateStyles:r1133582631\" rel=\"mw-deduplicated-inline-style\"/><cite class=\"citation web cs1\"><a class=\"external text\" href=\"http://drrobertepstein.com/downloads/FROM_RUSSIA_WITH_LOVE-Epstein-Sci_Am_Mind-Oct-Nov2007.pdf\" rel=\"nofollow\">\"From Russia With Love\"</a> <span class=\"cs1-format\">(PDF)</span><span class=\"reference-accessdate\">. Retrieved <span class=\"nowrap\">2007-12-09</span></span>.</cite><span class=\"Z3988\" title=\"ctx_ver=Z39.88-2004&amp;rft_val_fmt=info%3Aofi%2Ffmt%3Akev%3Amtx%3Abook&amp;rft.genre=unknown&amp;rft.btitle=From+Russia+With+Love&amp;rft_id=http%3A%2F%2Fdrrobertepstein.com%2Fdownloads%2FFROM_RUSSIA_WITH_LOVE-Epstein-Sci_Am_Mind-Oct-Nov2007.pdf&amp;rfr_id=info%3Asid%2Fen.wikipedia.org%3AChatbot\"></span>\n",
              "Psychologist and <i>Scientific American: Mind</i> contributing editor <a href=\"/wiki/Robert_Epstein\" title=\"Robert Epstein\">Robert Epstein</a> reports how he was initially fooled by a chatterbot posing as an attractive girl in a <a class=\"mw-redirect\" href=\"/wiki/Personal_ad\" title=\"Personal ad\">personal ad</a> he answered on a dating website. In the ad, the girl portrayed herself as being in Southern California and then soon revealed, in poor English, that she was actually in Russia. He became suspicious after a couple of months of email exchanges, sent her an email test of gibberish, and she still replied in general terms. The dating website is not named. <i>Scientific American: Mind</i>, October–November 2007, page 16–17, \"From Russia With Love: How I got fooled (and somewhat humiliated) by a computer\". Also available online.</span>\n",
              "</li>\n",
              "<li id=\"cite_note-72\"><span class=\"mw-cite-backlink\"><b><a href=\"#cite_ref-72\">^</a></b></span> <span class=\"reference-text\"><link href=\"mw-data:TemplateStyles:r1133582631\" rel=\"mw-deduplicated-inline-style\"/><cite class=\"citation book cs1\" id=\"birdchatbot\">Bird, Jordan J.; Ekart, Aniko; Faria, Diego R. (June 2018). <i>Learning from Interaction: An Intelligent Networked-based Human-bot and Bot-bot Chatbot System in: Advances in Computational Intelligence Systems</i> (1st ed.). Nottingham, UK: Springer. pp. 179–190. <a class=\"mw-redirect\" href=\"/wiki/Doi_(identifier)\" title=\"Doi (identifier)\">doi</a>:<a class=\"external text\" href=\"https://doi.org/10.1007%2F978-3-319-97982-3_15\" rel=\"nofollow\">10.1007/978-3-319-97982-3_15</a>. <a class=\"mw-redirect\" href=\"/wiki/ISBN_(identifier)\" title=\"ISBN (identifier)\">ISBN</a> <a href=\"/wiki/Special:BookSources/978-3-319-97982-3\" title=\"Special:BookSources/978-3-319-97982-3\"><bdi>978-3-319-97982-3</bdi></a>. <a class=\"mw-redirect\" href=\"/wiki/S2CID_(identifier)\" title=\"S2CID (identifier)\">S2CID</a> <a class=\"external text\" href=\"https://api.semanticscholar.org/CorpusID:52069140\" rel=\"nofollow\">52069140</a>.</cite><span class=\"Z3988\" title=\"ctx_ver=Z39.88-2004&amp;rft_val_fmt=info%3Aofi%2Ffmt%3Akev%3Amtx%3Abook&amp;rft.genre=book&amp;rft.btitle=Learning+from+Interaction%3A+An+Intelligent+Networked-based+Human-bot+and+Bot-bot+Chatbot+System+in%3A+Advances+in+Computational+Intelligence+Systems&amp;rft.place=Nottingham%2C+UK&amp;rft.pages=179-190&amp;rft.edition=1st&amp;rft.pub=Springer&amp;rft.date=2018-06&amp;rft_id=https%3A%2F%2Fapi.semanticscholar.org%2FCorpusID%3A52069140%23id-name%3DS2CID&amp;rft_id=info%3Adoi%2F10.1007%2F978-3-319-97982-3_15&amp;rft.isbn=978-3-319-97982-3&amp;rft.aulast=Bird&amp;rft.aufirst=Jordan+J.&amp;rft.au=Ekart%2C+Aniko&amp;rft.au=Faria%2C+Diego+R.&amp;rfr_id=info%3Asid%2Fen.wikipedia.org%3AChatbot\"></span></span>\n",
              "</li>\n",
              "<li id=\"cite_note-73\"><span class=\"mw-cite-backlink\"><b><a href=\"#cite_ref-73\">^</a></b></span> <span class=\"reference-text\"><link href=\"mw-data:TemplateStyles:r1133582631\" rel=\"mw-deduplicated-inline-style\"/><cite class=\"citation web cs1\"><a class=\"external text\" href=\"https://www.sciencenews.org/article/twitter-bots-fake-news-2016-election\" rel=\"nofollow\">\"Fake News\"</a>. 20 November 2018<span class=\"reference-accessdate\">. Retrieved <span class=\"nowrap\">2018-11-20</span></span>.</cite><span class=\"Z3988\" title=\"ctx_ver=Z39.88-2004&amp;rft_val_fmt=info%3Aofi%2Ffmt%3Akev%3Amtx%3Abook&amp;rft.genre=unknown&amp;rft.btitle=Fake+News&amp;rft.date=2018-11-20&amp;rft_id=https%3A%2F%2Fwww.sciencenews.org%2Farticle%2Ftwitter-bots-fake-news-2016-election&amp;rfr_id=info%3Asid%2Fen.wikipedia.org%3AChatbot\"></span></span>\n",
              "</li>\n",
              "<li id=\"cite_note-74\"><span class=\"mw-cite-backlink\"><b><a href=\"#cite_ref-74\">^</a></b></span> <span class=\"reference-text\"><link href=\"mw-data:TemplateStyles:r1133582631\" rel=\"mw-deduplicated-inline-style\"/><cite class=\"citation web cs1\"><a class=\"external text\" href=\"https://medium.com/@lenepp/five-potential-malicious-uses-for-chatbots-a15f4955fba7\" rel=\"nofollow\">\"Malicious uses\"</a><span class=\"reference-accessdate\">. Retrieved <span class=\"nowrap\">2016-05-11</span></span>.</cite><span class=\"Z3988\" title=\"ctx_ver=Z39.88-2004&amp;rft_val_fmt=info%3Aofi%2Ffmt%3Akev%3Amtx%3Abook&amp;rft.genre=unknown&amp;rft.btitle=Malicious+uses&amp;rft_id=https%3A%2F%2Fmedium.com%2F%40lenepp%2Ffive-potential-malicious-uses-for-chatbots-a15f4955fba7&amp;rfr_id=info%3Asid%2Fen.wikipedia.org%3AChatbot\"></span></span>\n",
              "</li>\n",
              "<li id=\"cite_note-Meet11-75\"><span class=\"mw-cite-backlink\">^ <a href=\"#cite_ref-Meet11_75-0\"><sup><i><b>a</b></i></sup></a> <a href=\"#cite_ref-Meet11_75-1\"><sup><i><b>b</b></i></sup></a> <a href=\"#cite_ref-Meet11_75-2\"><sup><i><b>c</b></i></sup></a></span> <span class=\"reference-text\"><link href=\"mw-data:TemplateStyles:r1133582631\" rel=\"mw-deduplicated-inline-style\"/><cite class=\"citation web cs1\"><a class=\"external text\" href=\"https://thefinancialbrand.com/71251/chatbots-banking-trends-ai-cx/\" rel=\"nofollow\">\"Meet 11 of the Most Interesting Chatbots in Banking\"</a>. 14 March 2018<span class=\"reference-accessdate\">. Retrieved <span class=\"nowrap\">2019-04-01</span></span>.</cite><span class=\"Z3988\" title=\"ctx_ver=Z39.88-2004&amp;rft_val_fmt=info%3Aofi%2Ffmt%3Akev%3Amtx%3Abook&amp;rft.genre=unknown&amp;rft.btitle=Meet+11+of+the+Most+Interesting+Chatbots+in+Banking&amp;rft.date=2018-03-14&amp;rft_id=https%3A%2F%2Fthefinancialbrand.com%2F71251%2Fchatbots-banking-trends-ai-cx%2F&amp;rfr_id=info%3Asid%2Fen.wikipedia.org%3AChatbot\"></span></span>\n",
              "</li>\n",
              "<li id=\"cite_note-Grudin-Jacques-76\"><span class=\"mw-cite-backlink\"><b><a href=\"#cite_ref-Grudin-Jacques_76-0\">^</a></b></span> <span class=\"reference-text\"><link href=\"mw-data:TemplateStyles:r1133582631\" rel=\"mw-deduplicated-inline-style\"/><cite class=\"citation cs2\" id=\"CITEREFGrudinJacques2019\"><a href=\"/wiki/Jonathan_Grudin\" title=\"Jonathan Grudin\">Grudin, Jonathan</a>; Jacques, Richard (2019), \"Chatbots, Humbots, and the Quest for Artificial General Intelligence\", <i>Proceedings of the 2019 CHI Conference on Human Factors in Computing Systems – CHI '19</i>, ACM CHI 2020, pp. 209–219, <a class=\"mw-redirect\" href=\"/wiki/Doi_(identifier)\" title=\"Doi (identifier)\">doi</a>:<a class=\"external text\" href=\"https://doi.org/10.1145%2F3290605.3300439\" rel=\"nofollow\">10.1145/3290605.3300439</a>, <a class=\"mw-redirect\" href=\"/wiki/ISBN_(identifier)\" title=\"ISBN (identifier)\">ISBN</a> <a href=\"/wiki/Special:BookSources/978-1-4503-5970-2\" title=\"Special:BookSources/978-1-4503-5970-2\"><bdi>978-1-4503-5970-2</bdi></a>, <a class=\"mw-redirect\" href=\"/wiki/S2CID_(identifier)\" title=\"S2CID (identifier)\">S2CID</a> <a class=\"external text\" href=\"https://api.semanticscholar.org/CorpusID:140274744\" rel=\"nofollow\">140274744</a></cite><span class=\"Z3988\" title=\"ctx_ver=Z39.88-2004&amp;rft_val_fmt=info%3Aofi%2Ffmt%3Akev%3Amtx%3Abook&amp;rft.genre=bookitem&amp;rft.atitle=Chatbots%2C+Humbots%2C+and+the+Quest+for+Artificial+General+Intelligence&amp;rft.btitle=Proceedings+of+the+2019+CHI+Conference+on+Human+Factors+in+Computing+Systems+%E2%80%93+CHI+%2719&amp;rft.pages=209-219&amp;rft.pub=ACM+CHI+2020&amp;rft.date=2019&amp;rft_id=https%3A%2F%2Fapi.semanticscholar.org%2FCorpusID%3A140274744%23id-name%3DS2CID&amp;rft_id=info%3Adoi%2F10.1145%2F3290605.3300439&amp;rft.isbn=978-1-4503-5970-2&amp;rft.aulast=Grudin&amp;rft.aufirst=Jonathan&amp;rft.au=Jacques%2C+Richard&amp;rfr_id=info%3Asid%2Fen.wikipedia.org%3AChatbot\"></span></span>\n",
              "</li>\n",
              "<li id=\"cite_note-77\"><span class=\"mw-cite-backlink\"><b><a href=\"#cite_ref-77\">^</a></b></span> <span class=\"reference-text\"><link href=\"mw-data:TemplateStyles:r1133582631\" rel=\"mw-deduplicated-inline-style\"/><cite class=\"citation news cs1\"><a class=\"external text\" href=\"https://www.bbc.com/news/business-45272835/\" rel=\"nofollow\">\"How talking machines are taking call center jobs\"</a>. <i>BBC News</i>. 23 August 2018<span class=\"reference-accessdate\">. Retrieved <span class=\"nowrap\">2019-04-01</span></span>.</cite><span class=\"Z3988\" title=\"ctx_ver=Z39.88-2004&amp;rft_val_fmt=info%3Aofi%2Ffmt%3Akev%3Amtx%3Ajournal&amp;rft.genre=article&amp;rft.jtitle=BBC+News&amp;rft.atitle=How+talking+machines+are+taking+call+center+jobs&amp;rft.date=2018-08-23&amp;rft_id=https%3A%2F%2Fwww.bbc.com%2Fnews%2Fbusiness-45272835%2F&amp;rfr_id=info%3Asid%2Fen.wikipedia.org%3AChatbot\"></span></span>\n",
              "</li>\n",
              "<li id=\"cite_note-78\"><span class=\"mw-cite-backlink\"><b><a href=\"#cite_ref-78\">^</a></b></span> <span class=\"reference-text\"><link href=\"mw-data:TemplateStyles:r1133582631\" rel=\"mw-deduplicated-inline-style\"/><cite class=\"citation web cs1\"><a class=\"external text\" href=\"https://venturebeat.com/2017/06/18/how-chatbots-are-killing-jobs-and-creating-new-ones/\" rel=\"nofollow\">\"How chatbots are killing jobs (and creating new ones)\"</a>. June 2017<span class=\"reference-accessdate\">. Retrieved <span class=\"nowrap\">2019-04-01</span></span>.</cite><span class=\"Z3988\" title=\"ctx_ver=Z39.88-2004&amp;rft_val_fmt=info%3Aofi%2Ffmt%3Akev%3Amtx%3Abook&amp;rft.genre=unknown&amp;rft.btitle=How+chatbots+are+killing+jobs+%28and+creating+new+ones%29&amp;rft.date=2017-06&amp;rft_id=https%3A%2F%2Fventurebeat.com%2F2017%2F06%2F18%2Fhow-chatbots-are-killing-jobs-and-creating-new-ones%2F&amp;rfr_id=info%3Asid%2Fen.wikipedia.org%3AChatbot\"></span></span>\n",
              "</li>\n",
              "</ol></div></div>\n",
              "<h3><span class=\"mw-headline\" id=\"Bibliography\">Bibliography</span><span class=\"mw-editsection\"><span class=\"mw-editsection-bracket\">[</span><a href=\"/w/index.php?title=Chatbot&amp;action=edit&amp;section=17\" title=\"Edit section: Bibliography\">edit</a><span class=\"mw-editsection-bracket\">]</span></span></h3>\n",
              "<ul><li><link href=\"mw-data:TemplateStyles:r1133582631\" rel=\"mw-deduplicated-inline-style\"/><cite class=\"citation cs2\" id=\"CITEREFComputer_History_Museum2006\">Computer History Museum (2006), <a class=\"external text\" href=\"https://web.archive.org/web/20080221093646/http://www.computerhistory.org/internet_history/internet_history_70s.shtml\" rel=\"nofollow\">\"Internet History—1970's\"</a>, <i>Exhibits</i>, <a href=\"/wiki/Computer_History_Museum\" title=\"Computer History Museum\">Computer History Museum</a>, archived from <a class=\"external text\" href=\"http://www.computerhistory.org/internet_history/internet_history_70s.shtml\" rel=\"nofollow\">the original</a> on 2008-02-21<span class=\"reference-accessdate\">, retrieved <span class=\"nowrap\">2008-03-05</span></span></cite><span class=\"Z3988\" title=\"ctx_ver=Z39.88-2004&amp;rft_val_fmt=info%3Aofi%2Ffmt%3Akev%3Amtx%3Abook&amp;rft.genre=bookitem&amp;rft.atitle=Internet+History%E2%80%941970%27s&amp;rft.btitle=Exhibits&amp;rft.pub=Computer+History+Museum&amp;rft.date=2006&amp;rft.au=Computer+History+Museum&amp;rft_id=http%3A%2F%2Fwww.computerhistory.org%2Finternet_history%2Finternet_history_70s.shtml&amp;rfr_id=info%3Asid%2Fen.wikipedia.org%3AChatbot\"></span></li>\n",
              "<li><link href=\"mw-data:TemplateStyles:r1133582631\" rel=\"mw-deduplicated-inline-style\"/><cite class=\"citation cs2\" id=\"CITEREFGüzeldereFranchi1995\">Güzeldere, Güven; Franchi, Stefano (1995-07-24), <a class=\"external text\" href=\"http://www.stanford.edu/group/SHR/4-2/text/dialogues.html\" rel=\"nofollow\">\"Constructions of the Mind\"</a>, <i>Stanford Humanities Review</i>, SEHR, <a href=\"/wiki/Stanford_University\" title=\"Stanford University\">Stanford University</a>, <b>4</b> (2)<span class=\"reference-accessdate\">, retrieved <span class=\"nowrap\">2008-03-05</span></span></cite><span class=\"Z3988\" title=\"ctx_ver=Z39.88-2004&amp;rft_val_fmt=info%3Aofi%2Ffmt%3Akev%3Amtx%3Ajournal&amp;rft.genre=article&amp;rft.jtitle=Stanford+Humanities+Review&amp;rft.atitle=Constructions+of+the+Mind&amp;rft.volume=4&amp;rft.issue=2&amp;rft.date=1995-07-24&amp;rft.aulast=G%C3%BCzeldere&amp;rft.aufirst=G%C3%BCven&amp;rft.au=Franchi%2C+Stefano&amp;rft_id=http%3A%2F%2Fwww.stanford.edu%2Fgroup%2FSHR%2F4-2%2Ftext%2Fdialogues.html&amp;rfr_id=info%3Asid%2Fen.wikipedia.org%3AChatbot\"></span></li>\n",
              "<li><link href=\"mw-data:TemplateStyles:r1133582631\" rel=\"mw-deduplicated-inline-style\"/><cite class=\"citation cs2\" id=\"CITEREFMauldin1994\">Mauldin, Michael (1994), \"ChatterBots, TinyMuds, and the Turing Test: Entering the Loebner Prize Competition\", <a class=\"external text\" href=\"http://www.aaai.org/Library/AAAI/aaai94contents.php\" rel=\"nofollow\"><i>Proceedings of the Eleventh National Conference on Artificial Intelligence</i></a>, <a class=\"mw-redirect\" href=\"/wiki/AAAI_Press\" title=\"AAAI Press\">AAAI Press</a><span class=\"reference-accessdate\">, retrieved <span class=\"nowrap\">2008-03-05</span></span></cite><span class=\"Z3988\" title=\"ctx_ver=Z39.88-2004&amp;rft_val_fmt=info%3Aofi%2Ffmt%3Akev%3Amtx%3Abook&amp;rft.genre=bookitem&amp;rft.atitle=ChatterBots%2C+TinyMuds%2C+and+the+Turing+Test%3A+Entering+the+Loebner+Prize+Competition&amp;rft.btitle=Proceedings+of+the+Eleventh+National+Conference+on+Artificial+Intelligence&amp;rft.pub=AAAI+Press&amp;rft.date=1994&amp;rft.aulast=Mauldin&amp;rft.aufirst=Michael&amp;rft_id=http%3A%2F%2Fwww.aaai.org%2FLibrary%2FAAAI%2Faaai94contents.php&amp;rfr_id=info%3Asid%2Fen.wikipedia.org%3AChatbot\"></span> (<a class=\"external text\" href=\"http://www.aaai.org/Library/AAAI/1994/aaai94-003.php\" rel=\"nofollow\">abstract</a>)</li>\n",
              "<li><link href=\"mw-data:TemplateStyles:r1133582631\" rel=\"mw-deduplicated-inline-style\"/><cite class=\"citation cs2\" id=\"CITEREFNetwork_Working_Group1973\">Network Working Group (1973), <a class=\"external text\" href=\"http://tools.ietf.org/html/rfc439\" rel=\"nofollow\">\"RFC 439, PARRY Encounters the DOCTOR\"</a>, <i><a href=\"/wiki/Internet_Engineering_Task_Force\" title=\"Internet Engineering Task Force\">Internet Engineering Task Force</a></i>, <a href=\"/wiki/Internet_Society\" title=\"Internet Society\">Internet Society</a>, <a class=\"mw-redirect\" href=\"/wiki/Doi_(identifier)\" title=\"Doi (identifier)\">doi</a>:<a class=\"external text\" href=\"https://doi.org/10.17487%2FRFC0439\" rel=\"nofollow\">10.17487/RFC0439</a><span class=\"reference-accessdate\">, retrieved <span class=\"nowrap\">2008-03-05</span></span></cite><span class=\"Z3988\" title=\"ctx_ver=Z39.88-2004&amp;rft_val_fmt=info%3Aofi%2Ffmt%3Akev%3Amtx%3Ajournal&amp;rft.genre=article&amp;rft.jtitle=Internet+Engineering+Task+Force&amp;rft.atitle=RFC+439%2C+PARRY+Encounters+the+DOCTOR&amp;rft.date=1973&amp;rft_id=info%3Adoi%2F10.17487%2FRFC0439&amp;rft.au=Network+Working+Group&amp;rft_id=http%3A%2F%2Ftools.ietf.org%2Fhtml%2Frfc439&amp;rfr_id=info%3Asid%2Fen.wikipedia.org%3AChatbot\"></span></li>\n",
              "<li><link href=\"mw-data:TemplateStyles:r1133582631\" rel=\"mw-deduplicated-inline-style\"/><cite class=\"citation cs2\" id=\"CITEREFSondheim1997\">Sondheim, Alan J (1997), <a class=\"external text\" href=\"https://web.archive.org/web/20080613072047/http://www.nettime.org/Lists-Archives/nettime-l-9707/msg00059.html\" rel=\"nofollow\"><i>&lt;nettime&gt; Important Documents from the Early Internet (1972)</i></a>, nettime.org, archived from <a class=\"external text\" href=\"http://www.nettime.org/Lists-Archives/nettime-l-9707/msg00059.html\" rel=\"nofollow\">the original</a> on 2008-06-13<span class=\"reference-accessdate\">, retrieved <span class=\"nowrap\">2008-03-05</span></span></cite><span class=\"Z3988\" title=\"ctx_ver=Z39.88-2004&amp;rft_val_fmt=info%3Aofi%2Ffmt%3Akev%3Amtx%3Abook&amp;rft.genre=book&amp;rft.btitle=%3Cnettime%3E+Important+Documents+from+the+Early+Internet+%281972%29&amp;rft.pub=nettime.org&amp;rft.date=1997&amp;rft.aulast=Sondheim&amp;rft.aufirst=Alan+J&amp;rft_id=http%3A%2F%2Fwww.nettime.org%2FLists-Archives%2Fnettime-l-9707%2Fmsg00059.html&amp;rfr_id=info%3Asid%2Fen.wikipedia.org%3AChatbot\"></span></li>\n",
              "<li><link href=\"mw-data:TemplateStyles:r1133582631\" rel=\"mw-deduplicated-inline-style\"/><cite class=\"citation cs2\" id=\"CITEREFTuring1950\"><a href=\"/wiki/Alan_Turing\" title=\"Alan Turing\">Turing, Alan</a> (1950), \"Computing Machinery and Intelligence\", <i>Mind</i>, <b>59</b> (236): 433–60, <a class=\"mw-redirect\" href=\"/wiki/Doi_(identifier)\" title=\"Doi (identifier)\">doi</a>:<a class=\"external text\" href=\"https://doi.org/10.1093%2Fmind%2Flix.236.433\" rel=\"nofollow\">10.1093/mind/lix.236.433</a></cite><span class=\"Z3988\" title=\"ctx_ver=Z39.88-2004&amp;rft_val_fmt=info%3Aofi%2Ffmt%3Akev%3Amtx%3Ajournal&amp;rft.genre=article&amp;rft.jtitle=Mind&amp;rft.atitle=Computing+Machinery+and+Intelligence&amp;rft.volume=59&amp;rft.issue=236&amp;rft.pages=433-60&amp;rft.date=1950&amp;rft_id=info%3Adoi%2F10.1093%2Fmind%2Flix.236.433&amp;rft.aulast=Turing&amp;rft.aufirst=Alan&amp;rfr_id=info%3Asid%2Fen.wikipedia.org%3AChatbot\"></span></li>\n",
              "<li><link href=\"mw-data:TemplateStyles:r1133582631\" rel=\"mw-deduplicated-inline-style\"/><cite class=\"citation cs2\" id=\"CITEREFWeizenbaum1966\"><a href=\"/wiki/Joseph_Weizenbaum\" title=\"Joseph Weizenbaum\">Weizenbaum, Joseph</a> (January 1966), \"ELIZA—A Computer Program For the Study of Natural Language Communication Between Man And Machine\", <i><a href=\"/wiki/Communications_of_the_ACM\" title=\"Communications of the ACM\">Communications of the ACM</a></i>, <b>9</b> (1): 36–45, <a class=\"mw-redirect\" href=\"/wiki/Doi_(identifier)\" title=\"Doi (identifier)\">doi</a>:<a class=\"external text\" href=\"https://doi.org/10.1145%2F365153.365168\" rel=\"nofollow\">10.1145/365153.365168</a>, <a class=\"mw-redirect\" href=\"/wiki/S2CID_(identifier)\" title=\"S2CID (identifier)\">S2CID</a> <a class=\"external text\" href=\"https://api.semanticscholar.org/CorpusID:1896290\" rel=\"nofollow\">1896290</a></cite><span class=\"Z3988\" title=\"ctx_ver=Z39.88-2004&amp;rft_val_fmt=info%3Aofi%2Ffmt%3Akev%3Amtx%3Ajournal&amp;rft.genre=article&amp;rft.jtitle=Communications+of+the+ACM&amp;rft.atitle=ELIZA%E2%80%94A+Computer+Program+For+the+Study+of+Natural+Language+Communication+Between+Man+And+Machine&amp;rft.volume=9&amp;rft.issue=1&amp;rft.pages=36-45&amp;rft.date=1966-01&amp;rft_id=info%3Adoi%2F10.1145%2F365153.365168&amp;rft_id=https%3A%2F%2Fapi.semanticscholar.org%2FCorpusID%3A1896290%23id-name%3DS2CID&amp;rft.aulast=Weizenbaum&amp;rft.aufirst=Joseph&amp;rfr_id=info%3Asid%2Fen.wikipedia.org%3AChatbot\"></span></li></ul>\n",
              "<h2><span class=\"mw-headline\" id=\"Further_reading\">Further reading</span><span class=\"mw-editsection\"><span class=\"mw-editsection-bracket\">[</span><a href=\"/w/index.php?title=Chatbot&amp;action=edit&amp;section=18\" title=\"Edit section: Further reading\">edit</a><span class=\"mw-editsection-bracket\">]</span></span></h2>\n",
              "<ul><li><link href=\"mw-data:TemplateStyles:r1133582631\" rel=\"mw-deduplicated-inline-style\"/><cite class=\"citation cs2\"><a href=\"/wiki/John_Searle\" title=\"John Searle\">Searle, John</a> (1980), <a class=\"external text\" href=\"http://members.aol.com/NeoNoetics/MindsBrainsPrograms.html\" rel=\"nofollow\">\"Minds, Brains and Programs\"</a>, <i>Behavioral and Brain Sciences</i>, <b>3</b> (3): 417–457, <a class=\"mw-redirect\" href=\"/wiki/Doi_(identifier)\" title=\"Doi (identifier)\">doi</a>:<a class=\"external text\" href=\"https://doi.org/10.1017%2FS0140525X00005756\" rel=\"nofollow\">10.1017/S0140525X00005756</a>, <a class=\"mw-redirect\" href=\"/wiki/S2CID_(identifier)\" title=\"S2CID (identifier)\">S2CID</a> <a class=\"external text\" href=\"https://api.semanticscholar.org/CorpusID:55303721\" rel=\"nofollow\">55303721</a></cite><span class=\"Z3988\" title=\"ctx_ver=Z39.88-2004&amp;rft_val_fmt=info%3Aofi%2Ffmt%3Akev%3Amtx%3Ajournal&amp;rft.genre=article&amp;rft.jtitle=Behavioral+and+Brain+Sciences&amp;rft.atitle=Minds%2C+Brains+and+Programs&amp;rft.volume=3&amp;rft.issue=3&amp;rft.pages=417-457&amp;rft.date=1980&amp;rft_id=info%3Adoi%2F10.1017%2FS0140525X00005756&amp;rft_id=https%3A%2F%2Fapi.semanticscholar.org%2FCorpusID%3A55303721%23id-name%3DS2CID&amp;rft.aulast=Searle&amp;rft.aufirst=John&amp;rft_id=http%3A%2F%2Fmembers.aol.com%2FNeoNoetics%2FMindsBrainsPrograms.html&amp;rfr_id=info%3Asid%2Fen.wikipedia.org%3AChatbot\"></span></li>\n",
              "<li><link href=\"mw-data:TemplateStyles:r1133582631\" rel=\"mw-deduplicated-inline-style\"/><cite class=\"citation book cs1\">Shevat, Amir (2017). <i>Designing bots: Creating conversational experiences</i> (First ed.). Sebastopol, CA: O'Reilly Media. <a class=\"mw-redirect\" href=\"/wiki/ISBN_(identifier)\" title=\"ISBN (identifier)\">ISBN</a> <a href=\"/wiki/Special:BookSources/978-1-4919-7482-7\" title=\"Special:BookSources/978-1-4919-7482-7\"><bdi>978-1-4919-7482-7</bdi></a>. <a class=\"mw-redirect\" href=\"/wiki/OCLC_(identifier)\" title=\"OCLC (identifier)\">OCLC</a> <a class=\"external text\" href=\"//www.worldcat.org/oclc/962125282\" rel=\"nofollow\">962125282</a>.</cite><span class=\"Z3988\" title=\"ctx_ver=Z39.88-2004&amp;rft_val_fmt=info%3Aofi%2Ffmt%3Akev%3Amtx%3Abook&amp;rft.genre=book&amp;rft.btitle=Designing+bots%3A+Creating+conversational+experiences&amp;rft.place=Sebastopol%2C+CA&amp;rft.edition=First&amp;rft.pub=O%27Reilly+Media&amp;rft.date=2017&amp;rft_id=info%3Aoclcnum%2F962125282&amp;rft.isbn=978-1-4919-7482-7&amp;rft.aulast=Shevat&amp;rft.aufirst=Amir&amp;rfr_id=info%3Asid%2Fen.wikipedia.org%3AChatbot\"></span></li></ul>\n",
              "<h2><span class=\"mw-headline\" id=\"External_links\">External links</span><span class=\"mw-editsection\"><span class=\"mw-editsection-bracket\">[</span><a href=\"/w/index.php?title=Chatbot&amp;action=edit&amp;section=19\" title=\"Edit section: External links\">edit</a><span class=\"mw-editsection-bracket\">]</span></span></h2>\n",
              "<ul><li><a class=\"image\" href=\"/wiki/File:Commons-logo.svg\"><img alt=\"\" class=\"noviewer\" data-file-height=\"1376\" data-file-width=\"1024\" decoding=\"async\" height=\"16\" src=\"//upload.wikimedia.org/wikipedia/en/thumb/4/4a/Commons-logo.svg/12px-Commons-logo.svg.png\" srcset=\"//upload.wikimedia.org/wikipedia/en/thumb/4/4a/Commons-logo.svg/18px-Commons-logo.svg.png 1.5x, //upload.wikimedia.org/wikipedia/en/thumb/4/4a/Commons-logo.svg/24px-Commons-logo.svg.png 2x\" width=\"12\"/></a> Media related to <a class=\"extiw\" href=\"https://commons.wikimedia.org/wiki/Category:Chatbots\" title=\"commons:Category:Chatbots\">Chatbots</a> at Wikimedia Commons</li>\n",
              "<li><a class=\"image\" href=\"/wiki/File:Wikibooks-logo-en-noslogan.svg\"><img alt=\"\" class=\"noviewer\" data-file-height=\"400\" data-file-width=\"400\" decoding=\"async\" height=\"16\" src=\"//upload.wikimedia.org/wikipedia/commons/thumb/d/df/Wikibooks-logo-en-noslogan.svg/16px-Wikibooks-logo-en-noslogan.svg.png\" srcset=\"//upload.wikimedia.org/wikipedia/commons/thumb/d/df/Wikibooks-logo-en-noslogan.svg/24px-Wikibooks-logo-en-noslogan.svg.png 1.5x, //upload.wikimedia.org/wikipedia/commons/thumb/d/df/Wikibooks-logo-en-noslogan.svg/32px-Wikibooks-logo-en-noslogan.svg.png 2x\" width=\"16\"/></a> <a class=\"extiw\" href=\"https://en.wikibooks.org/wiki/Conversational_bots\" title=\"wikibooks:Conversational bots\">Conversational bots</a> at Wikibooks</li></ul>\n",
              "<div class=\"navbox-styles\"><style data-mw-deduplicate=\"TemplateStyles:r1129693374\">.mw-parser-output .hlist dl,.mw-parser-output .hlist ol,.mw-parser-output .hlist ul{margin:0;padding:0}.mw-parser-output .hlist dd,.mw-parser-output .hlist dt,.mw-parser-output .hlist li{margin:0;display:inline}.mw-parser-output .hlist.inline,.mw-parser-output .hlist.inline dl,.mw-parser-output .hlist.inline ol,.mw-parser-output .hlist.inline ul,.mw-parser-output .hlist dl dl,.mw-parser-output .hlist dl ol,.mw-parser-output .hlist dl ul,.mw-parser-output .hlist ol dl,.mw-parser-output .hlist ol ol,.mw-parser-output .hlist ol ul,.mw-parser-output .hlist ul dl,.mw-parser-output .hlist ul ol,.mw-parser-output .hlist ul ul{display:inline}.mw-parser-output .hlist .mw-empty-li{display:none}.mw-parser-output .hlist dt::after{content:\": \"}.mw-parser-output .hlist dd::after,.mw-parser-output .hlist li::after{content:\" · \";font-weight:bold}.mw-parser-output .hlist dd:last-child::after,.mw-parser-output .hlist dt:last-child::after,.mw-parser-output .hlist li:last-child::after{content:none}.mw-parser-output .hlist dd dd:first-child::before,.mw-parser-output .hlist dd dt:first-child::before,.mw-parser-output .hlist dd li:first-child::before,.mw-parser-output .hlist dt dd:first-child::before,.mw-parser-output .hlist dt dt:first-child::before,.mw-parser-output .hlist dt li:first-child::before,.mw-parser-output .hlist li dd:first-child::before,.mw-parser-output .hlist li dt:first-child::before,.mw-parser-output .hlist li li:first-child::before{content:\" (\";font-weight:normal}.mw-parser-output .hlist dd dd:last-child::after,.mw-parser-output .hlist dd dt:last-child::after,.mw-parser-output .hlist dd li:last-child::after,.mw-parser-output .hlist dt dd:last-child::after,.mw-parser-output .hlist dt dt:last-child::after,.mw-parser-output .hlist dt li:last-child::after,.mw-parser-output .hlist li dd:last-child::after,.mw-parser-output .hlist li dt:last-child::after,.mw-parser-output .hlist li li:last-child::after{content:\")\";font-weight:normal}.mw-parser-output .hlist ol{counter-reset:listitem}.mw-parser-output .hlist ol>li{counter-increment:listitem}.mw-parser-output .hlist ol>li::before{content:\" \"counter(listitem)\"\\a0 \"}.mw-parser-output .hlist dd ol>li:first-child::before,.mw-parser-output .hlist dt ol>li:first-child::before,.mw-parser-output .hlist li ol>li:first-child::before{content:\" (\"counter(listitem)\"\\a0 \"}</style><style data-mw-deduplicate=\"TemplateStyles:r1061467846\">.mw-parser-output .navbox{box-sizing:border-box;border:1px solid #a2a9b1;width:100%;clear:both;font-size:88%;text-align:center;padding:1px;margin:1em auto 0}.mw-parser-output .navbox .navbox{margin-top:0}.mw-parser-output .navbox+.navbox,.mw-parser-output .navbox+.navbox-styles+.navbox{margin-top:-1px}.mw-parser-output .navbox-inner,.mw-parser-output .navbox-subgroup{width:100%}.mw-parser-output .navbox-group,.mw-parser-output .navbox-title,.mw-parser-output .navbox-abovebelow{padding:0.25em 1em;line-height:1.5em;text-align:center}.mw-parser-output .navbox-group{white-space:nowrap;text-align:right}.mw-parser-output .navbox,.mw-parser-output .navbox-subgroup{background-color:#fdfdfd}.mw-parser-output .navbox-list{line-height:1.5em;border-color:#fdfdfd}.mw-parser-output .navbox-list-with-group{text-align:left;border-left-width:2px;border-left-style:solid}.mw-parser-output tr+tr>.navbox-abovebelow,.mw-parser-output tr+tr>.navbox-group,.mw-parser-output tr+tr>.navbox-image,.mw-parser-output tr+tr>.navbox-list{border-top:2px solid #fdfdfd}.mw-parser-output .navbox-title{background-color:#ccf}.mw-parser-output .navbox-abovebelow,.mw-parser-output .navbox-group,.mw-parser-output .navbox-subgroup .navbox-title{background-color:#ddf}.mw-parser-output .navbox-subgroup .navbox-group,.mw-parser-output .navbox-subgroup .navbox-abovebelow{background-color:#e6e6ff}.mw-parser-output .navbox-even{background-color:#f7f7f7}.mw-parser-output .navbox-odd{background-color:transparent}.mw-parser-output .navbox .hlist td dl,.mw-parser-output .navbox .hlist td ol,.mw-parser-output .navbox .hlist td ul,.mw-parser-output .navbox td.hlist dl,.mw-parser-output .navbox td.hlist ol,.mw-parser-output .navbox td.hlist ul{padding:0.125em 0}.mw-parser-output .navbox .navbar{display:block;font-size:100%}.mw-parser-output .navbox-title .navbar{float:left;text-align:left;margin-right:0.5em}</style></div><div aria-labelledby=\"Natural_language_processing\" class=\"navbox\" role=\"navigation\" style=\"padding:3px\"><table class=\"nowraplinks hlist mw-collapsible mw-collapsed navbox-inner\" style=\"border-spacing:0;background:transparent;color:inherit\"><tbody><tr><th class=\"navbox-title\" colspan=\"2\" scope=\"col\"><link href=\"mw-data:TemplateStyles:r1129693374\" rel=\"mw-deduplicated-inline-style\"/><style data-mw-deduplicate=\"TemplateStyles:r1063604349\">.mw-parser-output .navbar{display:inline;font-size:88%;font-weight:normal}.mw-parser-output .navbar-collapse{float:left;text-align:left}.mw-parser-output .navbar-boxtext{word-spacing:0}.mw-parser-output .navbar ul{display:inline-block;white-space:nowrap;line-height:inherit}.mw-parser-output .navbar-brackets::before{margin-right:-0.125em;content:\"[ \"}.mw-parser-output .navbar-brackets::after{margin-left:-0.125em;content:\" ]\"}.mw-parser-output .navbar li{word-spacing:-0.125em}.mw-parser-output .navbar a>span,.mw-parser-output .navbar a>abbr{text-decoration:inherit}.mw-parser-output .navbar-mini abbr{font-variant:small-caps;border-bottom:none;text-decoration:none;cursor:inherit}.mw-parser-output .navbar-ct-full{font-size:114%;margin:0 7em}.mw-parser-output .navbar-ct-mini{font-size:114%;margin:0 4em}</style><div class=\"navbar plainlinks hlist navbar-mini\"><ul><li class=\"nv-view\"><a href=\"/wiki/Template:Natural_language_processing\" title=\"Template:Natural language processing\"><abbr style=\";;background:none transparent;border:none;box-shadow:none;padding:0;\" title=\"View this template\">v</abbr></a></li><li class=\"nv-talk\"><a href=\"/wiki/Template_talk:Natural_language_processing\" title=\"Template talk:Natural language processing\"><abbr style=\";;background:none transparent;border:none;box-shadow:none;padding:0;\" title=\"Discuss this template\">t</abbr></a></li><li class=\"nv-edit\"><a class=\"external text\" href=\"https://en.wikipedia.org/w/index.php?title=Template:Natural_language_processing&amp;action=edit\"><abbr style=\";;background:none transparent;border:none;box-shadow:none;padding:0;\" title=\"Edit this template\">e</abbr></a></li></ul></div><div id=\"Natural_language_processing\" style=\"font-size:114%;margin:0 4em\"><a href=\"/wiki/Natural_language_processing\" title=\"Natural language processing\">Natural language processing</a></div></th></tr><tr><th class=\"navbox-group\" scope=\"row\" style=\"width:1%\">General terms</th><td class=\"navbox-list-with-group navbox-list navbox-odd\" style=\"width:100%;padding:0\"><div style=\"padding:0 0.25em\">\n",
              "<ul><li><a href=\"/wiki/AI-complete\" title=\"AI-complete\">AI-complete</a></li>\n",
              "<li><a href=\"/wiki/Bag-of-words_model\" title=\"Bag-of-words model\">Bag-of-words</a></li>\n",
              "<li><a href=\"/wiki/N-gram\" title=\"N-gram\">n-gram</a>\n",
              "<ul><li><a href=\"/wiki/Bigram\" title=\"Bigram\">Bigram</a></li>\n",
              "<li><a href=\"/wiki/Trigram\" title=\"Trigram\">Trigram</a></li></ul></li>\n",
              "<li><a href=\"/wiki/Computational_linguistics\" title=\"Computational linguistics\">Computational linguistics</a></li>\n",
              "<li><a href=\"/wiki/Natural-language_understanding\" title=\"Natural-language understanding\">Natural-language understanding</a></li>\n",
              "<li><a href=\"/wiki/Stop_word\" title=\"Stop word\">Stop words</a></li>\n",
              "<li><a href=\"/wiki/Text_processing\" title=\"Text processing\">Text processing</a></li></ul>\n",
              "</div></td></tr><tr><th class=\"navbox-group\" scope=\"row\" style=\"width:1%\"><a href=\"/wiki/Text_mining\" title=\"Text mining\">Text analysis</a></th><td class=\"navbox-list-with-group navbox-list navbox-even\" style=\"width:100%;padding:0\"><div style=\"padding:0 0.25em\">\n",
              "<ul><li><a href=\"/wiki/Collocation_extraction\" title=\"Collocation extraction\">Collocation extraction</a></li>\n",
              "<li><a href=\"/wiki/Concept_mining\" title=\"Concept mining\">Concept mining</a></li>\n",
              "<li><a href=\"/wiki/Coreference#Coreference_resolution\" title=\"Coreference\">Coreference resolution</a></li>\n",
              "<li><a href=\"/wiki/Deep_linguistic_processing\" title=\"Deep linguistic processing\">Deep linguistic processing</a></li>\n",
              "<li><a href=\"/wiki/Distant_reading\" title=\"Distant reading\">Distant reading</a></li>\n",
              "<li><a href=\"/wiki/Information_extraction\" title=\"Information extraction\">Information extraction</a></li>\n",
              "<li><a href=\"/wiki/Named-entity_recognition\" title=\"Named-entity recognition\">Named-entity recognition</a></li>\n",
              "<li><a href=\"/wiki/Ontology_learning\" title=\"Ontology learning\">Ontology learning</a></li>\n",
              "<li><a href=\"/wiki/Parsing\" title=\"Parsing\">Parsing</a></li>\n",
              "<li><a href=\"/wiki/Part-of-speech_tagging\" title=\"Part-of-speech tagging\">Part-of-speech tagging</a></li>\n",
              "<li><a href=\"/wiki/Semantic_role_labeling\" title=\"Semantic role labeling\">Semantic role labeling</a></li>\n",
              "<li><a href=\"/wiki/Semantic_similarity\" title=\"Semantic similarity\">Semantic similarity</a></li>\n",
              "<li><a href=\"/wiki/Sentiment_analysis\" title=\"Sentiment analysis\">Sentiment analysis</a></li>\n",
              "<li><a href=\"/wiki/Terminology_extraction\" title=\"Terminology extraction\">Terminology extraction</a></li>\n",
              "<li><a href=\"/wiki/Text_mining\" title=\"Text mining\">Text mining</a></li>\n",
              "<li><a href=\"/wiki/Textual_entailment\" title=\"Textual entailment\">Textual entailment</a></li>\n",
              "<li><a href=\"/wiki/Truecasing\" title=\"Truecasing\">Truecasing</a></li>\n",
              "<li><a href=\"/wiki/Word-sense_disambiguation\" title=\"Word-sense disambiguation\">Word-sense disambiguation</a></li>\n",
              "<li><a href=\"/wiki/Word-sense_induction\" title=\"Word-sense induction\">Word-sense induction</a></li></ul>\n",
              "</div><table class=\"nowraplinks navbox-subgroup\" style=\"border-spacing:0\"><tbody><tr><th class=\"navbox-group\" id=\"Text_segmentation\" scope=\"row\" style=\"width:1%\"><a href=\"/wiki/Text_segmentation\" title=\"Text segmentation\">Text segmentation</a></th><td class=\"navbox-list-with-group navbox-list navbox-odd\" style=\"width:100%;padding:0\"><div style=\"padding:0 0.25em\">\n",
              "<ul><li><a href=\"/wiki/Compound-term_processing\" title=\"Compound-term processing\">Compound-term processing</a></li>\n",
              "<li><a href=\"/wiki/Lemmatisation\" title=\"Lemmatisation\">Lemmatisation</a></li>\n",
              "<li><a href=\"/wiki/Lexical_analysis\" title=\"Lexical analysis\">Lexical analysis</a></li>\n",
              "<li><a href=\"/wiki/Shallow_parsing\" title=\"Shallow parsing\">Text chunking</a></li>\n",
              "<li><a href=\"/wiki/Stemming\" title=\"Stemming\">Stemming</a></li>\n",
              "<li><a href=\"/wiki/Sentence_boundary_disambiguation\" title=\"Sentence boundary disambiguation\">Sentence segmentation</a></li>\n",
              "<li><a href=\"/wiki/Word#Word_boundaries\" title=\"Word\">Word segmentation</a></li></ul>\n",
              "</div></td></tr></tbody></table><div>\n",
              "</div></td></tr><tr><th class=\"navbox-group\" scope=\"row\" style=\"width:1%\"><a href=\"/wiki/Automatic_summarization\" title=\"Automatic summarization\">Automatic summarization</a></th><td class=\"navbox-list-with-group navbox-list navbox-even\" style=\"width:100%;padding:0\"><div style=\"padding:0 0.25em\">\n",
              "<ul><li><a href=\"/wiki/Multi-document_summarization\" title=\"Multi-document summarization\">Multi-document summarization</a></li>\n",
              "<li><a href=\"/wiki/Sentence_extraction\" title=\"Sentence extraction\">Sentence extraction</a></li>\n",
              "<li><a href=\"/wiki/Text_simplification\" title=\"Text simplification\">Text simplification</a></li></ul>\n",
              "</div></td></tr><tr><th class=\"navbox-group\" scope=\"row\" style=\"width:1%\"><a href=\"/wiki/Machine_translation\" title=\"Machine translation\">Machine translation</a></th><td class=\"navbox-list-with-group navbox-list navbox-odd\" style=\"width:100%;padding:0\"><div style=\"padding:0 0.25em\">\n",
              "<ul><li><a href=\"/wiki/Computer-assisted_translation\" title=\"Computer-assisted translation\">Computer-assisted</a></li>\n",
              "<li><a href=\"/wiki/Example-based_machine_translation\" title=\"Example-based machine translation\">Example-based</a></li>\n",
              "<li><a href=\"/wiki/Rule-based_machine_translation\" title=\"Rule-based machine translation\">Rule-based</a></li>\n",
              "<li><a href=\"/wiki/Statistical_machine_translation\" title=\"Statistical machine translation\">Statistical</a></li>\n",
              "<li><a href=\"/wiki/Transfer-based_machine_translation\" title=\"Transfer-based machine translation\">Transfer-based</a></li>\n",
              "<li><a href=\"/wiki/Neural_machine_translation\" title=\"Neural machine translation\">Neural</a></li></ul>\n",
              "</div></td></tr><tr><th class=\"navbox-group\" scope=\"row\" style=\"width:1%\"><a href=\"/wiki/Distributional_semantics\" title=\"Distributional semantics\">Distributional semantics</a> models</th><td class=\"navbox-list-with-group navbox-list navbox-even\" style=\"width:100%;padding:0\"><div style=\"padding:0 0.25em\">\n",
              "<ul><li><a href=\"/wiki/BERT_(language_model)\" title=\"BERT (language model)\">BERT</a></li>\n",
              "<li><a href=\"/wiki/Document-term_matrix\" title=\"Document-term matrix\">Document-term matrix</a></li>\n",
              "<li><a href=\"/wiki/Explicit_semantic_analysis\" title=\"Explicit semantic analysis\">Explicit semantic analysis</a></li>\n",
              "<li><a href=\"/wiki/FastText\" title=\"FastText\">fastText</a></li>\n",
              "<li><a href=\"/wiki/GloVe\" title=\"GloVe\">GloVe</a></li>\n",
              "<li><a href=\"/wiki/Language_model\" title=\"Language model\">Language model</a></li>\n",
              "<li><a href=\"/wiki/Latent_semantic_analysis\" title=\"Latent semantic analysis\">Latent semantic analysis</a></li>\n",
              "<li><a href=\"/wiki/Word_embedding\" title=\"Word embedding\">Word embedding</a></li>\n",
              "<li><a href=\"/wiki/Word2vec\" title=\"Word2vec\">Word2vec</a></li></ul>\n",
              "</div></td></tr><tr><th class=\"navbox-group\" scope=\"row\" style=\"width:1%\"><a href=\"/wiki/Language_resource\" title=\"Language resource\">Language resources</a>,<br/>datasets and corpora</th><td class=\"navbox-list-with-group navbox-list navbox-odd\" style=\"width:100%;padding:0\"><div style=\"padding:0 0.25em\"></div><table class=\"nowraplinks navbox-subgroup\" style=\"border-spacing:0\"><tbody><tr><th class=\"navbox-group\" scope=\"row\" style=\"width:1%\">Types and<br/>standards</th><td class=\"navbox-list-with-group navbox-list navbox-odd\" style=\"width:100%;padding:0\"><div style=\"padding:0 0.25em\">\n",
              "<ul><li><a href=\"/wiki/Corpus_linguistics\" title=\"Corpus linguistics\">Corpus linguistics</a></li>\n",
              "<li><a href=\"/wiki/Lexical_resource\" title=\"Lexical resource\">Lexical resource</a></li>\n",
              "<li><a href=\"/wiki/Linguistic_Linked_Open_Data\" title=\"Linguistic Linked Open Data\">Linguistic Linked Open Data</a></li>\n",
              "<li><a href=\"/wiki/Machine-readable_dictionary\" title=\"Machine-readable dictionary\">Machine-readable dictionary</a></li>\n",
              "<li><a href=\"/wiki/Parallel_text\" title=\"Parallel text\">Parallel text</a></li>\n",
              "<li><a href=\"/wiki/PropBank\" title=\"PropBank\">PropBank</a></li>\n",
              "<li><a href=\"/wiki/Semantic_network\" title=\"Semantic network\">Semantic network</a></li>\n",
              "<li><a href=\"/wiki/Simple_Knowledge_Organization_System\" title=\"Simple Knowledge Organization System\">Simple Knowledge Organization System</a></li>\n",
              "<li><a href=\"/wiki/Speech_corpus\" title=\"Speech corpus\">Speech corpus</a></li>\n",
              "<li><a href=\"/wiki/Text_corpus\" title=\"Text corpus\">Text corpus</a></li>\n",
              "<li><a href=\"/wiki/Thesaurus_(information_retrieval)\" title=\"Thesaurus (information retrieval)\">Thesaurus (information retrieval)</a></li>\n",
              "<li><a href=\"/wiki/Treebank\" title=\"Treebank\">Treebank</a></li>\n",
              "<li><a href=\"/wiki/Universal_Dependencies\" title=\"Universal Dependencies\">Universal Dependencies</a></li></ul>\n",
              "</div></td></tr><tr><th class=\"navbox-group\" scope=\"row\" style=\"width:1%\">Data</th><td class=\"navbox-list-with-group navbox-list navbox-even\" style=\"width:100%;padding:0\"><div style=\"padding:0 0.25em\">\n",
              "<ul><li><a href=\"/wiki/BabelNet\" title=\"BabelNet\">BabelNet</a></li>\n",
              "<li><a href=\"/wiki/Bank_of_English\" title=\"Bank of English\">Bank of English</a></li>\n",
              "<li><a href=\"/wiki/DBpedia\" title=\"DBpedia\">DBpedia</a></li>\n",
              "<li><a href=\"/wiki/FrameNet\" title=\"FrameNet\">FrameNet</a></li>\n",
              "<li><a href=\"/wiki/Google_Ngram_Viewer\" title=\"Google Ngram Viewer\">Google Ngram Viewer</a></li>\n",
              "<li><a href=\"/wiki/UBY\" title=\"UBY\">UBY</a></li>\n",
              "<li><a href=\"/wiki/WordNet\" title=\"WordNet\">WordNet</a></li></ul>\n",
              "</div></td></tr></tbody></table><div></div></td></tr><tr><th class=\"navbox-group\" scope=\"row\" style=\"width:1%\"><a href=\"/wiki/Automatic_identification_and_data_capture\" title=\"Automatic identification and data capture\">Automatic identification<br/>and data capture</a></th><td class=\"navbox-list-with-group navbox-list navbox-odd\" style=\"width:100%;padding:0\"><div style=\"padding:0 0.25em\">\n",
              "<ul><li><a href=\"/wiki/Speech_recognition\" title=\"Speech recognition\">Speech recognition</a></li>\n",
              "<li><a href=\"/wiki/Speech_segmentation\" title=\"Speech segmentation\">Speech segmentation</a></li>\n",
              "<li><a href=\"/wiki/Speech_synthesis\" title=\"Speech synthesis\">Speech synthesis</a></li>\n",
              "<li><a href=\"/wiki/Natural_language_generation\" title=\"Natural language generation\">Natural language generation</a></li>\n",
              "<li><a href=\"/wiki/Optical_character_recognition\" title=\"Optical character recognition\">Optical character recognition</a></li></ul>\n",
              "</div></td></tr><tr><th class=\"navbox-group\" scope=\"row\" style=\"width:1%\"><a href=\"/wiki/Topic_model\" title=\"Topic model\">Topic model</a></th><td class=\"navbox-list-with-group navbox-list navbox-even\" style=\"width:100%;padding:0\"><div style=\"padding:0 0.25em\">\n",
              "<ul><li><a href=\"/wiki/Document_classification\" title=\"Document classification\">Document classification</a></li>\n",
              "<li><a href=\"/wiki/Latent_Dirichlet_allocation\" title=\"Latent Dirichlet allocation\">Latent Dirichlet allocation</a></li>\n",
              "<li><a href=\"/wiki/Pachinko_allocation\" title=\"Pachinko allocation\">Pachinko allocation</a></li></ul>\n",
              "</div></td></tr><tr><th class=\"navbox-group\" scope=\"row\" style=\"width:1%\"><a href=\"/wiki/Computer-assisted_reviewing\" title=\"Computer-assisted reviewing\">Computer-assisted<br/>reviewing</a></th><td class=\"navbox-list-with-group navbox-list navbox-odd\" style=\"width:100%;padding:0\"><div style=\"padding:0 0.25em\">\n",
              "<ul><li><a href=\"/wiki/Automated_essay_scoring\" title=\"Automated essay scoring\">Automated essay scoring</a></li>\n",
              "<li><a href=\"/wiki/Concordancer\" title=\"Concordancer\">Concordancer</a></li>\n",
              "<li><a href=\"/wiki/Grammar_checker\" title=\"Grammar checker\">Grammar checker</a></li>\n",
              "<li><a href=\"/wiki/Predictive_text\" title=\"Predictive text\">Predictive text</a></li>\n",
              "<li><a href=\"/wiki/Spell_checker\" title=\"Spell checker\">Spell checker</a></li>\n",
              "<li><a class=\"mw-redirect\" href=\"/wiki/Syntax_guessing\" title=\"Syntax guessing\">Syntax guessing</a></li></ul>\n",
              "</div></td></tr><tr><th class=\"navbox-group\" scope=\"row\" style=\"width:1%\"><a class=\"mw-redirect\" href=\"/wiki/Natural_language_user_interface\" title=\"Natural language user interface\">Natural language<br/>user interface</a></th><td class=\"navbox-list-with-group navbox-list navbox-even\" style=\"width:100%;padding:0\"><div style=\"padding:0 0.25em\">\n",
              "<ul><li><a class=\"mw-selflink selflink\">Chatbot</a></li>\n",
              "<li><a href=\"/wiki/Interactive_fiction\" title=\"Interactive fiction\">Interactive fiction</a></li>\n",
              "<li><a href=\"/wiki/Question_answering\" title=\"Question answering\">Question answering</a></li>\n",
              "<li><a href=\"/wiki/Virtual_assistant\" title=\"Virtual assistant\">Virtual assistant</a></li>\n",
              "<li><a href=\"/wiki/Voice_user_interface\" title=\"Voice user interface\">Voice user interface</a></li></ul>\n",
              "</div></td></tr><tr><th class=\"navbox-group\" scope=\"row\" style=\"width:1%\">Other software</th><td class=\"navbox-list-with-group navbox-list navbox-odd\" style=\"width:100%;padding:0\"><div style=\"padding:0 0.25em\">\n",
              "<ul><li><a href=\"/wiki/Natural_Language_Toolkit\" title=\"Natural Language Toolkit\">Natural Language Toolkit</a></li>\n",
              "<li><a href=\"/wiki/SpaCy\" title=\"SpaCy\">spaCy</a></li></ul>\n",
              "</div></td></tr></tbody></table></div>\n",
              "<style data-mw-deduplicate=\"TemplateStyles:r1130092004\">.mw-parser-output .portal-bar{font-size:88%;font-weight:bold;display:flex;justify-content:center;align-items:baseline}.mw-parser-output .portal-bar-bordered{padding:0 2em;background-color:#fdfdfd;border:1px solid #a2a9b1;clear:both;margin:1em auto 0}.mw-parser-output .portal-bar-related{font-size:100%;justify-content:flex-start}.mw-parser-output .portal-bar-unbordered{padding:0 1.7em;margin-left:0}.mw-parser-output .portal-bar-header{margin:0 1em 0 0.5em;flex:0 0 auto;min-height:24px}.mw-parser-output .portal-bar-content{display:flex;flex-flow:row wrap;flex:0 1 auto;padding:0.15em 0;column-gap:1em;align-items:baseline;margin:0;list-style:none}.mw-parser-output .portal-bar-content-related{margin:0;list-style:none}.mw-parser-output .portal-bar-item{display:inline-block;margin:0.15em 0.2em;min-height:24px;line-height:24px}@media screen and (max-width:768px){.mw-parser-output .portal-bar{font-size:88%;font-weight:bold;display:flex;flex-flow:column wrap;align-items:baseline}.mw-parser-output .portal-bar-header{text-align:center;flex:0;padding-left:0.5em;margin:0 auto}.mw-parser-output .portal-bar-related{font-size:100%;align-items:flex-start}.mw-parser-output .portal-bar-content{display:flex;flex-flow:row wrap;align-items:center;flex:0;column-gap:1em;border-top:1px solid #a2a9b1;margin:0 auto;list-style:none}.mw-parser-output .portal-bar-content-related{border-top:none;margin:0;list-style:none}}.mw-parser-output .navbox+link+.portal-bar,.mw-parser-output .navbox+style+.portal-bar,.mw-parser-output .navbox+link+.portal-bar-bordered,.mw-parser-output .navbox+style+.portal-bar-bordered,.mw-parser-output .sister-bar+link+.portal-bar,.mw-parser-output .sister-bar+style+.portal-bar,.mw-parser-output .portal-bar+.navbox-styles+.navbox,.mw-parser-output .portal-bar+.navbox-styles+.sister-bar{margin-top:-1px}</style><div aria-label=\"Portals\" class=\"portal-bar noprint metadata noviewer portal-bar-bordered\" role=\"navigation\"><span class=\"portal-bar-header\"><a href=\"/wiki/Wikipedia:Contents/Portals\" title=\"Wikipedia:Contents/Portals\">Portal</a>:</span><ul class=\"portal-bar-content\"><li class=\"portal-bar-item\"><a class=\"image\" href=\"/wiki/File:Globe_of_letters.svg\"><img alt=\"icon\" data-file-height=\"512\" data-file-width=\"512\" decoding=\"async\" height=\"19\" src=\"//upload.wikimedia.org/wikipedia/commons/thumb/d/de/Globe_of_letters.svg/19px-Globe_of_letters.svg.png\" srcset=\"//upload.wikimedia.org/wikipedia/commons/thumb/d/de/Globe_of_letters.svg/29px-Globe_of_letters.svg.png 1.5x, //upload.wikimedia.org/wikipedia/commons/thumb/d/de/Globe_of_letters.svg/38px-Globe_of_letters.svg.png 2x\" width=\"19\"/></a> <a href=\"/wiki/Portal:Language\" title=\"Portal:Language\">Language</a></li></ul></div>\n",
              "<div class=\"navbox-styles\"><link href=\"mw-data:TemplateStyles:r1129693374\" rel=\"mw-deduplicated-inline-style\"/><link href=\"mw-data:TemplateStyles:r1061467846\" rel=\"mw-deduplicated-inline-style\"/></div><div aria-label=\"Navbox\" class=\"navbox authority-control\" role=\"navigation\" style=\"padding:3px\"><table class=\"nowraplinks hlist navbox-inner\" style=\"border-spacing:0;background:transparent;color:inherit\"><tbody><tr><th class=\"navbox-group\" scope=\"row\" style=\"width:1%\"><a href=\"/wiki/Help:Authority_control\" title=\"Help:Authority control\">Authority control</a>: National libraries <a href=\"https://www.wikidata.org/wiki/Q870780#identifiers\" title=\"Edit this at Wikidata\"><img alt=\"Edit this at Wikidata\" class=\"noprint\" data-file-height=\"20\" data-file-width=\"20\" decoding=\"async\" height=\"10\" src=\"//upload.wikimedia.org/wikipedia/en/thumb/8/8a/OOjs_UI_icon_edit-ltr-progressive.svg/10px-OOjs_UI_icon_edit-ltr-progressive.svg.png\" srcset=\"//upload.wikimedia.org/wikipedia/en/thumb/8/8a/OOjs_UI_icon_edit-ltr-progressive.svg/15px-OOjs_UI_icon_edit-ltr-progressive.svg.png 1.5x, //upload.wikimedia.org/wikipedia/en/thumb/8/8a/OOjs_UI_icon_edit-ltr-progressive.svg/20px-OOjs_UI_icon_edit-ltr-progressive.svg.png 2x\" style=\"vertical-align: text-top\" width=\"10\"/></a></th><td class=\"navbox-list-with-group navbox-list navbox-odd\" style=\"width:100%;padding:0\"><div style=\"padding:0 0.25em\">\n",
              "<ul><li><span class=\"uid\"><a class=\"external text\" href=\"https://d-nb.info/gnd/4841533-9\" rel=\"nofollow\">Germany</a></span></li>\n",
              "<li><span class=\"uid\"><a class=\"external text\" href=\"https://aleph.nkp.cz/F/?func=find-c&amp;local_base=aut&amp;ccl_term=ica=ph980006&amp;CON_LNG=ENG\" rel=\"nofollow\">Czech Republic</a></span></li></ul>\n",
              "</div></td></tr></tbody></table></div>\n",
              "<!-- \n",
              "NewPP limit report\n",
              "Parsed by mw2301\n",
              "Cached time: 20230125145943\n",
              "Cache expiry: 1814400\n",
              "Reduced expiry: false\n",
              "Complications: [vary‐revision‐sha1, show‐toc]\n",
              "CPU time usage: 0.777 seconds\n",
              "Real time usage: 0.935 seconds\n",
              "Preprocessor visited node count: 3794/1000000\n",
              "Post‐expand include size: 152118/2097152 bytes\n",
              "Template argument size: 855/2097152 bytes\n",
              "Highest expansion depth: 11/100\n",
              "Expensive parser function count: 8/500\n",
              "Unstrip recursion depth: 1/20\n",
              "Unstrip post‐expand size: 220014/5000000 bytes\n",
              "Lua time usage: 0.511/10.000 seconds\n",
              "Lua memory usage: 11367275/52428800 bytes\n",
              "Number of Wikibase entities loaded: 1/400\n",
              "-->\n",
              "<!--\n",
              "Transclusion expansion time report (%,ms,calls,template)\n",
              "100.00%  807.776      1 -total\n",
              " 50.18%  405.338      1 Template:Reflist\n",
              " 27.25%  220.093     50 Template:Cite_web\n",
              " 13.07%  105.557      1 Template:Natural_Language_Processing\n",
              " 12.96%  104.709      3 Template:Navbox\n",
              "  6.73%   54.342      1 Template:Short_description\n",
              "  6.51%   52.626      5 Template:Harvnb\n",
              "  5.52%   44.550      9 Template:Citation\n",
              "  5.03%   40.663      1 Template:Commonscat-inline\n",
              "  4.72%   38.113      2 Template:Sister-inline\n",
              "-->\n",
              "<!-- Saved in parser cache with key enwiki:pcache:idhash:148349-0!canonical and timestamp 20230125145942 and revision id 1135577018.\n",
              " -->\n",
              "</div><!--esi <esi:include src=\"/esitest-fa8a495983347898/content\" /> --><noscript><img alt=\"\" height=\"1\" src=\"//en.wikipedia.org/wiki/Special:CentralAutoLogin/start?type=1x1\" style=\"border: none; position: absolute;\" title=\"\" width=\"1\"/></noscript>\n",
              "<div class=\"printfooter\" data-nosnippet=\"\">Retrieved from \"<a dir=\"ltr\" href=\"https://en.wikipedia.org/w/index.php?title=Chatbot&amp;oldid=1135577018\">https://en.wikipedia.org/w/index.php?title=Chatbot&amp;oldid=1135577018</a>\"</div></div>\n",
              "<div class=\"catlinks\" data-mw=\"interface\" id=\"catlinks\"><div class=\"mw-normal-catlinks\" id=\"mw-normal-catlinks\"><a href=\"/wiki/Help:Category\" title=\"Help:Category\">Categories</a>: <ul><li><a href=\"/wiki/Category:Chatbots\" title=\"Category:Chatbots\">Chatbots</a></li><li><a href=\"/wiki/Category:Instant_messaging\" title=\"Category:Instant messaging\">Instant messaging</a></li><li><a href=\"/wiki/Category:Interactive_narrative\" title=\"Category:Interactive narrative\">Interactive narrative</a></li><li><a href=\"/wiki/Category:Natural_language_parsing\" title=\"Category:Natural language parsing\">Natural language parsing</a></li></ul></div><div class=\"mw-hidden-catlinks mw-hidden-cats-hidden\" id=\"mw-hidden-catlinks\">Hidden categories: <ul><li><a href=\"/wiki/Category:CS1_errors:_missing_periodical\" title=\"Category:CS1 errors: missing periodical\">CS1 errors: missing periodical</a></li><li><a href=\"/wiki/Category:Articles_with_short_description\" title=\"Category:Articles with short description\">Articles with short description</a></li><li><a href=\"/wiki/Category:Short_description_is_different_from_Wikidata\" title=\"Category:Short description is different from Wikidata\">Short description is different from Wikidata</a></li><li><a href=\"/wiki/Category:Commons_category_link_from_Wikidata\" title=\"Category:Commons category link from Wikidata\">Commons category link from Wikidata</a></li><li><a href=\"/wiki/Category:Articles_with_GND_identifiers\" title=\"Category:Articles with GND identifiers\">Articles with GND identifiers</a></li><li><a href=\"/wiki/Category:Articles_with_NKC_identifiers\" title=\"Category:Articles with NKC identifiers\">Articles with NKC identifiers</a></li></ul></div></div>\n",
              "</div>\n",
              "</main>\n",
              "</div>\n",
              "<div class=\"mw-footer-container\">\n",
              "<footer class=\"mw-footer\" id=\"footer\" role=\"contentinfo\">\n",
              "<ul id=\"footer-info\">\n",
              "<li id=\"footer-info-lastmod\"> This page was last edited on 25 January 2023, at 14:59<span class=\"anonymous-show\"> (UTC)</span>.</li>\n",
              "<li id=\"footer-info-copyright\">Text is available under the <a href=\"//en.wikipedia.org/wiki/Wikipedia:Text_of_the_Creative_Commons_Attribution-ShareAlike_3.0_Unported_License\" rel=\"license\">Creative Commons Attribution-ShareAlike License 3.0</a><a href=\"//creativecommons.org/licenses/by-sa/3.0/\" rel=\"license\" style=\"display:none;\"></a>;\n",
              "additional terms may apply.  By using this site, you agree to the <a href=\"//foundation.wikimedia.org/wiki/Terms_of_Use\">Terms of Use</a> and <a href=\"//foundation.wikimedia.org/wiki/Privacy_policy\">Privacy Policy</a>. Wikipedia® is a registered trademark of the <a href=\"//www.wikimediafoundation.org/\">Wikimedia Foundation, Inc.</a>, a non-profit organization.</li>\n",
              "</ul>\n",
              "<ul id=\"footer-places\">\n",
              "<li id=\"footer-places-privacy\"><a href=\"https://foundation.wikimedia.org/wiki/Privacy_policy\">Privacy policy</a></li>\n",
              "<li id=\"footer-places-about\"><a href=\"/wiki/Wikipedia:About\">About Wikipedia</a></li>\n",
              "<li id=\"footer-places-disclaimers\"><a href=\"/wiki/Wikipedia:General_disclaimer\">Disclaimers</a></li>\n",
              "<li id=\"footer-places-contact\"><a href=\"//en.wikipedia.org/wiki/Wikipedia:Contact_us\">Contact Wikipedia</a></li>\n",
              "<li id=\"footer-places-mobileview\"><a class=\"noprint stopMobileRedirectToggle\" href=\"//en.m.wikipedia.org/w/index.php?title=Chatbot&amp;mobileaction=toggle_view_mobile\">Mobile view</a></li>\n",
              "<li id=\"footer-places-developers\"><a href=\"https://developer.wikimedia.org\">Developers</a></li>\n",
              "<li id=\"footer-places-statslink\"><a href=\"https://stats.wikimedia.org/#/en.wikipedia.org\">Statistics</a></li>\n",
              "<li id=\"footer-places-cookiestatement\"><a href=\"https://foundation.wikimedia.org/wiki/Cookie_statement\">Cookie statement</a></li>\n",
              "</ul>\n",
              "<ul class=\"noprint\" id=\"footer-icons\">\n",
              "<li id=\"footer-copyrightico\"><a href=\"https://wikimediafoundation.org/\"><img alt=\"Wikimedia Foundation\" height=\"31\" loading=\"lazy\" src=\"/static/images/footer/wikimedia-button.png\" srcset=\"/static/images/footer/wikimedia-button-1.5x.png 1.5x, /static/images/footer/wikimedia-button-2x.png 2x\" width=\"88\"/></a></li>\n",
              "<li id=\"footer-poweredbyico\"><a href=\"https://www.mediawiki.org/\"><img alt=\"Powered by MediaWiki\" height=\"31\" loading=\"lazy\" src=\"/static/images/footer/poweredby_mediawiki_88x31.png\" srcset=\"/static/images/footer/poweredby_mediawiki_132x47.png 1.5x, /static/images/footer/poweredby_mediawiki_176x62.png 2x\" width=\"88\"/></a></li>\n",
              "</ul>\n",
              "</footer>\n",
              "</div>\n",
              "</div>\n",
              "</div>\n",
              "<script>(RLQ=window.RLQ||[]).push(function(){mw.config.set({\"wgPageParseReport\":{\"limitreport\":{\"cputime\":\"0.777\",\"walltime\":\"0.935\",\"ppvisitednodes\":{\"value\":3794,\"limit\":1000000},\"postexpandincludesize\":{\"value\":152118,\"limit\":2097152},\"templateargumentsize\":{\"value\":855,\"limit\":2097152},\"expansiondepth\":{\"value\":11,\"limit\":100},\"expensivefunctioncount\":{\"value\":8,\"limit\":500},\"unstrip-depth\":{\"value\":1,\"limit\":20},\"unstrip-size\":{\"value\":220014,\"limit\":5000000},\"entityaccesscount\":{\"value\":1,\"limit\":400},\"timingprofile\":[\"100.00%  807.776      1 -total\",\" 50.18%  405.338      1 Template:Reflist\",\" 27.25%  220.093     50 Template:Cite_web\",\" 13.07%  105.557      1 Template:Natural_Language_Processing\",\" 12.96%  104.709      3 Template:Navbox\",\"  6.73%   54.342      1 Template:Short_description\",\"  6.51%   52.626      5 Template:Harvnb\",\"  5.52%   44.550      9 Template:Citation\",\"  5.03%   40.663      1 Template:Commonscat-inline\",\"  4.72%   38.113      2 Template:Sister-inline\"]},\"scribunto\":{\"limitreport-timeusage\":{\"value\":\"0.511\",\"limit\":\"10.000\"},\"limitreport-memusage\":{\"value\":11367275,\"limit\":52428800},\"limitreport-logs\":\"anchor_id_list = table#1 {\\n    [\\\"CITEREFAggarwal2019\\\"] = 1,\\n    [\\\"CITEREFAhaskar2020\\\"] = 1,\\n    [\\\"CITEREFAmy2015\\\"] = 1,\\n    [\\\"CITEREFBeaver2016\\\"] = 1,\\n    [\\\"CITEREFCaldariniJafMcGarry2022\\\"] = 1,\\n    [\\\"CITEREFComputer_History_Museum2006\\\"] = 1,\\n    [\\\"CITEREFDiwakar2022\\\"] = 1,\\n    [\\\"CITEREFForbes_Staff2017\\\"] = 1,\\n    [\\\"CITEREFGreenfield2016\\\"] = 1,\\n    [\\\"CITEREFGrudinJacques2019\\\"] = 1,\\n    [\\\"CITEREFGüzeldereFranchi1995\\\"] = 1,\\n    [\\\"CITEREFHearing2022\\\"] = 1,\\n    [\\\"CITEREFKurup2020\\\"] = 1,\\n    [\\\"CITEREFLarson2016\\\"] = 1,\\n    [\\\"CITEREFLuka_Bradeško,_Dunja_Mladenić\\\"] = 1,\\n    [\\\"CITEREFMauldin1994\\\"] = 1,\\n    [\\\"CITEREFNAGY2015\\\"] = 1,\\n    [\\\"CITEREFNadarzynskiMilesCowieRidge2019\\\"] = 1,\\n    [\\\"CITEREFNetwork_Working_Group1973\\\"] = 1,\\n    [\\\"CITEREFPalanicaFlaschnerThommandramLi2019\\\"] = 1,\\n    [\\\"CITEREFPrakash2018\\\"] = 1,\\n    [\\\"CITEREFRedacción2017\\\"] = 1,\\n    [\\\"CITEREFSondheim1997\\\"] = 1,\\n    [\\\"CITEREFSternberg2022\\\"] = 1,\\n    [\\\"CITEREFTuring1950\\\"] = 1,\\n    [\\\"CITEREFWagner2017\\\"] = 1,\\n    [\\\"CITEREFWeizenbaum1966\\\"] = 1,\\n    [\\\"CITEREFWellington2017\\\"] = 1,\\n    [\\\"CITEREFXiang2022\\\"] = 1,\\n    [\\\"CogniToys\\\"] = 1,\\n    [\\\"birdchatbot\\\"] = 1,\\n}\\ntemplate_list = table#1 {\\n    [\\\"Authority control\\\"] = 1,\\n    [\\\"Citation\\\"] = 9,\\n    [\\\"Cite book\\\"] = 3,\\n    [\\\"Cite document\\\"] = 1,\\n    [\\\"Cite journal\\\"] = 3,\\n    [\\\"Cite news\\\"] = 10,\\n    [\\\"Cite web\\\"] = 50,\\n    [\\\"Commonscat-inline\\\"] = 1,\\n    [\\\"Convert\\\"] = 1,\\n    [\\\"Div col\\\"] = 1,\\n    [\\\"Div col end\\\"] = 1,\\n    [\\\"Harv\\\"] = 3,\\n    [\\\"Harvnb\\\"] = 5,\\n    [\\\"Natural Language Processing\\\"] = 1,\\n    [\\\"Other uses\\\"] = 1,\\n    [\\\"Portal\\\"] = 1,\\n    [\\\"Portal bar\\\"] = 1,\\n    [\\\"Reflist\\\"] = 1,\\n    [\\\"See also\\\"] = 3,\\n    [\\\"Short description\\\"] = 1,\\n    [\\\"Triangulation\\\"] = 1,\\n    [\\\"Wikibooks-inline\\\"] = 1,\\n}\\narticle_whitelist = table#1 {\\n}\\n\"},\"cachereport\":{\"origin\":\"mw2301\",\"timestamp\":\"20230125145943\",\"ttl\":1814400,\"transientcontent\":false}}});});</script>\n",
              "<script type=\"application/ld+json\">{\"@context\":\"https:\\/\\/schema.org\",\"@type\":\"Article\",\"name\":\"Chatbot\",\"url\":\"https:\\/\\/en.wikipedia.org\\/wiki\\/Chatbot\",\"sameAs\":\"http:\\/\\/www.wikidata.org\\/entity\\/Q870780\",\"mainEntity\":\"http:\\/\\/www.wikidata.org\\/entity\\/Q870780\",\"author\":{\"@type\":\"Organization\",\"name\":\"Contributors to Wikimedia projects\"},\"publisher\":{\"@type\":\"Organization\",\"name\":\"Wikimedia Foundation, Inc.\",\"logo\":{\"@type\":\"ImageObject\",\"url\":\"https:\\/\\/www.wikimedia.org\\/static\\/images\\/wmf-hor-googpub.png\"}},\"datePublished\":\"2002-11-17T21:22:06Z\",\"dateModified\":\"2023-01-25T14:59:20Z\",\"image\":\"https:\\/\\/upload.wikimedia.org\\/wikipedia\\/commons\\/8\\/8b\\/Automated_online_assistant.png\",\"headline\":\"program or set of instructions that simulates conversation with humans\"}</script><script type=\"application/ld+json\">{\"@context\":\"https:\\/\\/schema.org\",\"@type\":\"Article\",\"name\":\"Chatbot\",\"url\":\"https:\\/\\/en.wikipedia.org\\/wiki\\/Chatbot\",\"sameAs\":\"http:\\/\\/www.wikidata.org\\/entity\\/Q870780\",\"mainEntity\":\"http:\\/\\/www.wikidata.org\\/entity\\/Q870780\",\"author\":{\"@type\":\"Organization\",\"name\":\"Contributors to Wikimedia projects\"},\"publisher\":{\"@type\":\"Organization\",\"name\":\"Wikimedia Foundation, Inc.\",\"logo\":{\"@type\":\"ImageObject\",\"url\":\"https:\\/\\/www.wikimedia.org\\/static\\/images\\/wmf-hor-googpub.png\"}},\"datePublished\":\"2002-11-17T21:22:06Z\",\"dateModified\":\"2023-01-25T14:59:20Z\",\"image\":\"https:\\/\\/upload.wikimedia.org\\/wikipedia\\/commons\\/8\\/8b\\/Automated_online_assistant.png\",\"headline\":\"program or set of instructions that simulates conversation with humans\"}</script>\n",
              "<script>(RLQ=window.RLQ||[]).push(function(){mw.config.set({\"wgBackendResponseTime\":118,\"wgHostname\":\"mw2276\"});});</script>\n",
              "</body>\n",
              "</html>"
            ]
          },
          "execution_count": 5,
          "metadata": {},
          "output_type": "execute_result"
        }
      ],
      "source": [
        "soup = BeautifulSoup(source,'lxml')\n",
        "soup"
      ]
    },
    {
      "cell_type": "markdown",
      "metadata": {
        "id": "X7RyCSZSkiu9"
      },
      "source": [
        "### Text extraction\n",
        "We will extract the plain text content from paragraphs"
      ]
    },
    {
      "cell_type": "code",
      "execution_count": null,
      "metadata": {
        "id": "BNTZMhBUkiu9"
      },
      "outputs": [],
      "source": [
        "paras = []\n",
        "for paragraph in soup.find_all('p'):\n",
        "    paras.append(str(paragraph.text))"
      ]
    },
    {
      "cell_type": "markdown",
      "metadata": {
        "id": "dM7foQ25kiu9"
      },
      "source": [
        "We will extract text from paragraph headers"
      ]
    },
    {
      "cell_type": "code",
      "execution_count": null,
      "metadata": {
        "id": "Vo9iJzRlkiu-"
      },
      "outputs": [],
      "source": [
        "heads = []\n",
        "for head in soup.find_all('span', attrs={'mw-headline'}):\n",
        "    heads.append(str(head.text))"
      ]
    },
    {
      "cell_type": "markdown",
      "metadata": {
        "id": "30ciMdNzkiu-"
      },
      "source": [
        "### Interleaving the paragraphs and headers"
      ]
    },
    {
      "cell_type": "code",
      "execution_count": null,
      "metadata": {
        "id": "mIZYAtZgkiu-"
      },
      "outputs": [],
      "source": [
        "# Interleave paragraphs & headers\n",
        "text = [val for pair in zip(paras, heads) for val in pair]\n",
        "text = ' '.join(text)"
      ]
    },
    {
      "cell_type": "markdown",
      "metadata": {
        "id": "0UAvVZ_dkiu-"
      },
      "source": [
        "### Superscript edit\n",
        "We will drop footnote superscripts in brackets"
      ]
    },
    {
      "cell_type": "code",
      "execution_count": null,
      "metadata": {
        "id": "-PaukzKbkiu-"
      },
      "outputs": [],
      "source": [
        "text = re.sub(r\"\\[.*?\\]+\", '', text)"
      ]
    },
    {
      "cell_type": "markdown",
      "metadata": {
        "id": "prPdVDaKkiu-"
      },
      "source": [
        "### Trimming the text and replacing new lines\n",
        "We will replace '\\n' (a new line) with '' and trim the unwanted text from both the ends"
      ]
    },
    {
      "cell_type": "code",
      "execution_count": null,
      "metadata": {
        "id": "BPr_4HnZkiu_"
      },
      "outputs": [],
      "source": [
        "text = text.replace('\\n', '')[55:-15]"
      ]
    },
    {
      "cell_type": "code",
      "execution_count": null,
      "metadata": {
        "id": "SFL1D1LLkiu_",
        "outputId": "423b811d-88c8-4345-f179-f4e7e9edca81"
      },
      "outputs": [
        {
          "data": {
            "text/plain": [
              "'A chatbot or chatterbot is a software application used to conduct an online chat conversation via text or text-to-speech, in lieu of providing direct contact with a live human agent. Designed to convincingly simulate the way a human would behave as a conversational partner, chatbot systems typically require continuous tuning and testing, and many in production remain unable to adequately converse, while none of them can pass the standard Turing test. The term \"ChatterBot\" was originally coined by Michael Mauldin (creator of the first Verbot) in 1994 to describe these conversational programs. Development Chatbots are used in dialog systems for various purposes including customer service, request routing, or information gathering. While some chatbot applications use extensive word-classification processes, natural-language processors, and sophisticated AI, others simply scan for general keywords and generate responses using common phrases obtained from an associated library or database. Application Most chatbots are accessed on-line via website popups or through virtual assistants. They can be classified into usage categories that include: commerce (e-commerce via chat), education, entertainment, finance, health, news, and productivity. Messaging apps In 1950, Alan Turing\\'s famous article \"Computing Machinery and Intelligence\" was published, which proposed what is now called the Turing test as a criterion of intelligence. This criterion depends on the ability of a computer program to impersonate a human in a real-time written conversation with a human judge to the extent that the judge is unable to distinguish reliably—on the basis of the conversational content alone—between the program and a real human. The notoriety of Turing\\'s proposed test stimulated great interest in Joseph Weizenbaum\\'s program ELIZA, published in 1966, which seemed to be able to fool users into believing that they were conversing with a real human. However Weizenbaum himself did not claim that ELIZA was genuinely intelligent, and the introduction to his paper presented it more as a debunking exercise: As part of company apps and websites  artificial intelligence ... machines are made to behave in wondrous ways, often sufficient to dazzle even the most experienced observer. But once a particular program is unmasked, once its inner workings are explained ... its magic crumbles away; it stands revealed as a mere collection of procedures ... The observer says to himself \"I could have written that\". With that thought, he moves the program in question from the shelf marked \"intelligent\", to that reserved for curios ... The object of this paper is to cause just such a re-evaluation of the program about to be \"explained\". Few programs ever needed it more. Chatbot sequences ELIZA\\'s key method of operation (copied by chatbot designers ever since) involves the recognition of clue words or phrases in the input, and the output of the corresponding pre-prepared or pre-programmed responses that can move the conversation forward in an apparently meaningful way (e.g. by responding to any input that contains the word \\'MOTHER\\' with \\'TELL ME MORE ABOUT YOUR FAMILY\\'). Thus an illusion of understanding is generated, even though the processing involved has been merely superficial. ELIZA showed that such an illusion is surprisingly easy to generate because human judges are so ready to give the benefit of the doubt when conversational responses are capable of being interpreted as \"intelligent\". Company internal platforms Interface designers have come to appreciate that humans\\' readiness to interpret computer output as genuinely conversational—even when it is actually based on rather simple pattern-matching—can be exploited for useful purposes. Most people prefer to engage with programs that are human-like, and this gives chatbot-style techniques a potentially useful role in interactive systems that need to elicit information from users, as long as that information is relatively straightforward and falls into predictable categories. Thus, for example, online help systems can usefully employ chatbot techniques to identify the area of help that users require, potentially providing a \"friendlier\" interface than a more formal search or menu system. This sort of usage holds the prospect of moving chatbot technology from Weizenbaum\\'s \"shelf ... reserved for curios\" to that marked \"genuinely useful computational methods\". Customer service Among the most notable early chatbots are ELIZA (1966) and PARRY (1972). More recent notable programs include A.L.I.C.E., Jabberwacky and D.U.D.E (Agence Nationale de la Recherche and CNRS 2006). While ELIZA and PARRY were used exclusively to simulate typed conversation, many chatbots now include other functional features, such as games and web searching abilities. In 1984, a book called The Policeman\\'s Beard is Half Constructed was published, allegedly written by the chatbot Racter (though the program as released would not have been capable of doing so). Healthcare One pertinent field of AI research is natural-language processing. Usually, weak AI fields employ specialized software or programming languages created specifically for the narrow function required. For example, A.L.I.C.E. uses a markup language called AIML, which is specific to its function as a conversational agent, and has since been adopted by various other developers of, so-called, Alicebots. Nevertheless, A.L.I.C.E. is still purely based on pattern matching techniques without any reasoning capabilities, the same technique ELIZA was using back in 1966. This is not strong AI, which would require sapience and logical reasoning abilities. Politics Jabberwacky learns new responses and context based on real-time user interactions, rather than being driven from a static database. Some more recent chatbots also combine real-time learning with evolutionary algorithms that optimize their ability to communicate based on each conversation held. Still, there is currently no general purpose conversational artificial intelligence, and some software developers focus on the practical aspect, information retrieval. Toys Chatbot competitions focus on the Turing test or more specific goals. Two such annual contests are the Loebner Prize and The Chatterbox Challenge (the latter has been offline since 2015, however, materials can still be found from web archives). Malicious use DBpedia created a chatbot during the GSoC of 2017. It can communicate through Facebook Messenger. Limitations of chatbots In November 2022, OpenAI developed an AI chatbot called ChatGPT which interacts using conversation to the general public and has garnered attention for its detailed responses and historical knowledge, although its accuracy has been criticized. Chatbots and jobs Many companies\\' chatbots run on messaging apps or simply via SMS. They are used for B2C customer service, sales and marketing. See also In 2016, Facebook Messenger allowed developers to place chatbots on their platform. There were 30,000 bots created for Messenger in the first six months, rising to 100,000 by September 2017. References Since September 2017, this has also been as part of a pilot program on WhatsApp. Airlines KLM and Aeroméxico both announced their participation in the testing; both airlines had previously launched customer services on the Facebook Messenger platform. Bibliography The bots usually appear as one of the user\\'s contacts, but can sometimes act as participants in a group chat. Further reading Many banks, insurers, media companies, e-commerce companies, airlines, hotel chains, retailers, health care providers, government entities and restaurant chains have used chatbots to answer simple questions, increase customer engagement, for promotion, and to offer additional ways to order from them.'"
            ]
          },
          "execution_count": 11,
          "metadata": {},
          "output_type": "execute_result"
        }
      ],
      "source": [
        "text"
      ]
    },
    {
      "cell_type": "markdown",
      "metadata": {
        "id": "RxFPO7Lgkiu_"
      },
      "source": [
        "- **We have successfully scraped the text data from Wikipedia. Let us move on with the preprocessing part.**"
      ]
    },
    {
      "cell_type": "markdown",
      "metadata": {
        "id": "gZyiaoKXkiu_"
      },
      "source": [
        "### Processing data"
      ]
    },
    {
      "cell_type": "markdown",
      "metadata": {
        "id": "wx5dZehVkiu_"
      },
      "source": [
        "Now we begin to process the knowledge base. We will read the text file, convert everything to lowercase and tokenize it. Do you remember what tokenization does?  \n",
        "  \n",
        "There exists pre-trained tokenizers that will help split your document up into tokens.\n",
        "\n",
        "If this is the first time you are using these pre-trained tokenizers, you will have to download it with the command `nltk.download('punkt')`. We will also use a pre-defined model to perform lemmatization. This is downloaded using `nltk.download('wordnet')`. Subsequently, you can comment out the line if you ever have to run the cell again.\n",
        "\n",
        "**Optional: run these if you do not have the required functions**"
      ]
    },
    {
      "cell_type": "code",
      "execution_count": null,
      "metadata": {
        "id": "C0WrbuFAkiu_",
        "outputId": "7af81409-d4ec-4848-b489-5975bd1456f0"
      },
      "outputs": [
        {
          "name": "stderr",
          "output_type": "stream",
          "text": [
            "[nltk_data] Downloading package punkt to /Users/midhu/nltk_data...\n",
            "[nltk_data]   Unzipping tokenizers/punkt.zip.\n",
            "[nltk_data] Downloading package wordnet to /Users/midhu/nltk_data...\n"
          ]
        },
        {
          "data": {
            "text/plain": [
              "True"
            ]
          },
          "execution_count": 12,
          "metadata": {},
          "output_type": "execute_result"
        }
      ],
      "source": [
        "nltk.download('punkt') # first-time use only tokenizer\n",
        "nltk.download('wordnet') # first-time use only Used for the lemmatizer"
      ]
    },
    {
      "cell_type": "markdown",
      "metadata": {
        "id": "603yRs4KkivA"
      },
      "source": [
        "### Conversion to lower case\n",
        "\n",
        "We will convert all text to lower case first. Remember to inspect the result once we are done."
      ]
    },
    {
      "cell_type": "code",
      "execution_count": null,
      "metadata": {
        "id": "6-ISMHr-kivA",
        "outputId": "38cb13ba-a5c5-47da-b760-f63c98ae7de1"
      },
      "outputs": [
        {
          "name": "stdout",
          "output_type": "stream",
          "text": [
            "\n",
            "chatbot\n",
            "from wikipedia, the free encyclopedia\n",
            "jump to navigationjump to search\n",
            "a chatbot (also known as a smartbot, talkbot, chatterbot, bot, im bot, interactive agent, conversational interface or artificial conversational entity) is a computer program or an artificial intelligence which conducts a conversation via auditory or textual methods.[1] such programs are often designed to convincingly simulate how a human would behave as a conversational partner, thereby passing the turing test. chatbots are typically used in dialog systems for various practical purposes including customer service or information acquisition. some chatbots use sophisticated natural language processing systems, but many simpler ones scan for keywords within the input, then pull a reply with the most matching keywords, or the most similar wording pattern, from a database.\n",
            "\n",
            "the term \"chatterbot\" was originally coined by michael mauldin (creator of the first verbot, julia) in 1994 to describe these conversational programs.[2] today, most chatbots are accessed via virtual assistants such as google assistant and amazon alexa, via messaging apps such as facebook messenger or wechat, or via individual organizations' apps and websites.[3][4] chatbots can be classified into usage categories such as conversational commerce (e-commerce via chat), analytics, communication, customer support, design, developer tools, education, entertainment, finance, food, games, health, hr, marketing, news, personal, productivity, shopping, social, sports, travel and utilities.[5]\n",
            "background\n",
            "in 1950, alan turing's famous article \"computing machinery and intelligence\" was published,[6] which proposed what is now called the turing test as a criterion of intelligence. this criterion depends on the ability of a computer program to impersonate a human in a real-time written conversation with a human judge, sufficiently well that the judge is unable to distinguish reliably—on the basis of the conversational content alone—between the program and a real human. the notoriety of turing's proposed test stimulated great interest in joseph weizenbaum's program eliza, published in 1966, which seemed to be able to fool users into believing that they were conversing with a real human. however weizenbaum himself did not claim that eliza was genuinely intelligent, and the introduction to his paper presented it more as a debunking exercise:\n",
            "\n",
            "[in] artificial intelligence ... machines are made to behave in wondrous ways, often sufficient to dazzle even the most experienced observer. but once a particular program is unmasked, once its inner workings are explained ... its magic crumbles away; it stands revealed as a mere collection of procedures ... the observer says to himself \"i could have written that\". with that thought he moves the program in question from the shelf marked \"intelligent\", to that reserved for curios ... the object of this paper is to cause just such a re-evaluation of the program about to be \"explained\". few programs ever needed it more.[7]\n",
            "\n",
            "eliza's key method of operation (copied by chatbot designers ever since) involves the recognition of cue words or phrases in the input, and the output of corresponding pre-prepared or pre-programmed responses that can move the conversation forward in an apparently meaningful way (e.g. by responding to any input that contains the word 'mother' with 'tell me more about your family').[8] thus an illusion of understanding is generated, even though the processing involved has been merely superficial. eliza showed that such an illusion is surprisingly easy to generate, because human judges are so ready to give the benefit of the doubt when conversational responses are capable of being interpreted as \"intelligent\".\n",
            "\n",
            "interface designers have come to appreciate that humans' readiness to interpret computer output as genuinely conversational—even when it is actually based on rather simple pattern-matching—can be exploited for useful purposes. most people prefer to engage with programs that are human-like, and this gives chatbot-style techniques a potentially useful role in interactive systems that need to elicit information from users, as long as that information is relatively straightforward and falls into predictable categories. thus, for example, online help systems can usefully employ chatbot techniques to identify the area of help that users require, potentially providing a \"friendlier\" interface than a more formal search or menu system. this sort of usage holds the prospect of moving chatbot technology from weizenbaum's \"shelf ... reserved for curios\" to that marked \"genuinely useful computational methods\".\n",
            "\n",
            "development\n",
            "the classic historic early chatbots are eliza (1966) and parry (1972).[9][10][11][12] more recent notable programs include a.l.i.c.e., jabberwacky and d.u.d.e (agence nationale de la recherche and cnrs 2006). while eliza and parry were used exclusively to simulate typed conversation, many chatbots now include functional features such as games and web searching abilities. in 1984, a book called the policeman's beard is half constructed was published, allegedly written by the chatbot racter (though the program as released would not have been capable of doing so).[13]\n",
            "\n",
            "one pertinent field of ai research is natural language processing. usually, weak ai fields employ specialized software or programming languages created specifically for the narrow function required. for example, a.l.i.c.e. uses a markup language called aiml, which is specific to its function as a conversational agent, and has since been adopted by various other developers of, so called, alicebots. nevertheless, a.l.i.c.e. is still purely based on pattern matching techniques without any reasoning capabilities, the same technique eliza was using back in 1966. this is not strong ai, which would require sapience and logical reasoning abilities.\n",
            "\n",
            "jabberwacky learns new responses and context based on real-time user interactions, rather than being driven from a static database. some more recent chatbots also combine real-time learning with evolutionary algorithms that optimise their ability to communicate based on each conversation held. still, there is currently no general purpose conversational artificial intelligence, and some software developers focus on the practical aspect, information retrieval.\n",
            "\n",
            "chatbot competitions focus on the turing test or more specific goals. two such annual contests are the loebner prize and the chatterbox challenge (the latter has been offline since 2015, however materials can still be found from web archives).[14]\n",
            "\n",
            "application\n",
            "see also: virtual assistant\n",
            "\n",
            "aeromexico airline chatbot running on facebook messenger, march 2018\n",
            "messaging apps\n",
            "many companies' chatbots run on messaging apps like facebook messenger (since 2016), wechat (since 2013),[15] whatsapp, livechat, kik, slack, line, telegram, or simply via sms. they are used for b2c customer service, sales and marketing.[16]\n",
            "\n",
            "in 2016, facebook messenger allowed developers to place chatbots on their platform. there were 30,000 bots created for messenger in the first six months, rising to 100,000 by september 2017. [17]\n",
            "\n",
            "since september 2017, this has also been as part of a pilot program on whatsapp. airlines klm and aeroméxico both announced their participation in the testing;[18][19][20][21] both airlines had previously launched customer services on the facebook messenger platform.\n",
            "\n",
            "the bots usually appear as one of the user's contacts, but can sometimes act as participants in a group chat.\n",
            "\n",
            "many banks, insurers, media companies, e-commerce companies, airlines, hotel chains, retailers, health care providers, government entities and restaurant chains have used chatbots to answer simple questions, increase customer engagement,[22] for promotion, and to offer additional ways to order from them.[23][24]\n",
            "\n",
            "a 2017 study showed 4% of companies used chatbots.[25] according to a 2016 study, 80% of businesses said they intended to have one by 2020.[26]\n",
            "\n",
            "as part of company apps and websites\n",
            "previous generations of chatbots were present on company websites, e.g. ask jenn from alaska airlines which debuted in 2008[27] or expedia's virtual customer service agent which launched in 2011.[27][28] the newer generation of chatbots includes ibm watson-powered \"rocky\", introduced in february 2017 by the new york city-based e-commerce company rare carat to provide information to prospective diamond buyers.[29][30]\n",
            "\n",
            "company internal platforms\n",
            "other companies explore ways they can use chatbots internally, for example for customer support, human resources, or even in internet-of-things (iot) projects. overstock.com, for one, has reportedly launched a chatbot named mila to automate certain simple yet time-consuming processes when requesting for a sick leave.[31] other large companies such as lloyds banking group, royal bank of scotland, renault and citroën are now using automated online assistants instead of call centres with humans to provide a first point of contact. a saas chatbot business ecosystem has been steadily growing since the f8 conference when facebook's mark zuckerberg unveiled that messenger would allow chatbots into the app.[32] in large companies, like in hospitals and aviation organizations, it architects are designing reference architectures for intelligent chatbots that are used to unlock and share knowledge and experience in the organization more efficiently, and reduce the errors in answers from expert service desks significantly.[33]. these intelligent chatbots make use of all kinds of artificial intelligence like image moderation and natural language understanding (nlu), natural language generation (nlg), machine learning and deep learning.\n",
            "\n",
            "toys\n",
            "chatbots have also been incorporated into devices not primarily meant for computing such as toys.[34]\n",
            "\n",
            "hello barbie is an internet-connected version of the doll that uses a chatbot provided by the company toytalk,[35] which previously used the chatbot for a range of smartphone-based characters for children.[36] these characters' behaviors are constrained by a set of rules that in effect emulate a particular character and produce a storyline.[37]\n",
            "\n",
            "ibm's watson computer has been used as the basis for chatbot-based educational toys for companies such as cognitoys[34] intended to interact with children for educational purposes.[38]\n",
            "\n",
            "chatbot creation\n",
            "the process of creating a chatbot follows a pattern similar to the development of a web page or a mobile app. it can be divided into design, building, analytics and maintenance.[39]\n",
            "\n",
            "design\n",
            "the chatbot design is the process that defines the interaction between the user and the chatbot. the chatbot designer will define the chatbot personality, the questions that will be asked to the users, and the overall interaction.[40][41] it can be viewed as a subset of the conversational design. in order to speed up this process, designers can use dedicated chatbot design tools that allow for immediate preview, team collaboration and video export.[42] an important part of the chatbot design is also centered around user testing. user testing can be performed following the same principles that guide the user testing of graphical interfaces.[43]\n",
            "\n",
            "building\n",
            "the process of building a chatbot can be divided into two main tasks: understanding the user's intent and producing the correct answer. the first task involves understanding the user input. in order to properly understand a user input in a free text form, a natural language processing engine can be used.[44] the second task may involve different approaches depending on the type of the response that the chatbot will generate.\n",
            "\n",
            "analytics\n",
            "the usage of the chatbot can be monitored in order to spot potential flaws or problems. it can also provide useful insights that can improve the final user experience.[45]\n",
            "\n",
            "maintenance\n",
            "to keep chatbots up to speed with changing company products and services, traditional chatbot development platforms require ongoing maintenance. this can either be in the form of an ongoing service provider or for larger enterprises in the form of an in-house chatbot training team.[46] to eliminate these costs, some startups are experimenting with artificial intelligence to develop self-learning chatbots, particularly in customer service applications.\n",
            "\n",
            "chatbot development platforms\n",
            "the process of building, testing and deploying chatbots can be done on cloud-based chatbot development platforms[47] offered by cloud platform as a service (paas) providers such as oracle cloud platform and ibm watson.[48][49][50] these cloud platforms provide natural language processing, artificial intelligence and mobile backend as a service for chatbot development.\n",
            "\n",
            "malicious use\n",
            "malicious chatbots are frequently used to fill chat rooms with spam and advertisements, by mimicking human behavior and conversations or to entice people into revealing personal information, such as bank account numbers. they are commonly found on yahoo! messenger, windows live messenger, aol instant messenger and other instant messaging protocols. there has also been a published report of a chatbot used in a fake personal ad on a dating service's website.[51]\n",
            "\n",
            "tay, an ai chatbot that learns from previous interaction, caused major controversy due to it being targeted by internet trolls on twitter. the bot was exploited, and after 16 hours began to send extremely offensive tweets to users. this suggests that although the bot learnt effectively from experience, adequate protection was not put in place to prevent misuse.[52]\n",
            "\n",
            "see also\n",
            "applications of artificial intelligence\n",
            "eugene goostman\n",
            "interactive online characters\n",
            "list of chatterbots\n",
            "sitepal\n",
            "social bot\n",
            "tay\n",
            "twitterbot\n",
            "citations\n",
            " \"what is a chatbot?\". techtarget.com. retrieved 30 january 2017.\n",
            " mauldin 1994\n",
            " orf, darren. \"google assistant is a mega ai bot that wants to be absoutely everywhere\".\n",
            " \"the 8 best chatbots of 2016\". 21 december 2016.\n",
            " https://recast.ai/blog/2017-messenger-bot-landscape/\n",
            " (turing 1950)\n",
            " (weizenbaum 1966, p. 36)\n",
            " (weizenbaum 1966, pp. 44–5)\n",
            " güzelderefranchi 1995\n",
            " computer history museum 2006\n",
            " sondheim 1997\n",
            " network working group 1973—transcript of a session between parry and eliza. (this is not the dialogue from the iccc, which took place october 24–26, 1972, whereas this session is from september 18, 1972.)\n",
            " www.everything.com 13 november 1999\n",
            " (in german) chatroboter simulieren menschen\n",
            " \"china, wechat, and the origins of chatbots – chatbots magazine\". 12 march 2017. retrieved 2 july 2018.\n",
            " beaver, laurie (july 2016). the chatbots explainer. bi intelligence.\n",
            " \"facebook messenger hits 100,000 bots\". retrieved 2017-09-22.\n",
            " \"klm claims airline first with whatsapp business platform\".\n",
            " staff, forbes (26 october 2017). \"aeroméxico te atenderá por whatsapp durante 2018\". retrieved 2 july 2018.\n",
            " redacción (27 october 2017). \"podrás hacer 'check in' y consultar tu vuelo con aeroméxico a través de whatsapp\". retrieved 2 july 2018 – via huff post.\n",
            " \"building for people, and now businesses\". whatsapp.com. retrieved 2 july 2018.\n",
            " \"she is the company's most effective employee\". nordea news.\n",
            " \"better believe the bot boom is blowing up big for b2b, b2c businesses\". venturebeat.\n",
            " \"chatbots take education to the next level – chatbot news daily\". chatbot news daily. 2016-09-29. retrieved 2017-06-23.\n",
            " \"the ai revolution is underway! – pm360\". www.pm360online.com. retrieved 2 july 2018.\n",
            " \"80% of businesses want chatbots by 2020\". retrieved 2 july 2018.\n",
            " \"a virtual travel agent with all the answers\". the new york times. 4 march 2008.\n",
            " \"chatbot vendor directory released –\". www.hypergridbusiness.com.\n",
            " \"rare carat's watson-powered chatbot will help you put a diamond ring on it\". techcrunch. february 15, 2017.\n",
            " \"10 ways you may have already used ibm watson\". venturebeat. march 10, 2017.\n",
            " greenfield, rebecca. \"chatbots are your newest, dumbest co-workers\". bloomberg.\n",
            " \"facebook opens its messenger platform to chatbots\". 12 april 2016.\n",
            " \"chatbot reference architecture\". 1 january 2019.\n",
            " amy (2015-02-23). \"conversational toys – the latest trend in speech technology\". virtual agent chat. retrieved 2016-08-11.\n",
            " nagy, evie. \"using toytalk technology, new hello barbie will have real conversations with kids\". fast company. retrieved 18 march 2015.\n",
            " oren jacob, the co-founder and ceo of toytalk interviewed on the tv show triangulation on the twit.tv network\n",
            " \"artificial intelligence script tool\".\n",
            " takahashi, dean. \"elemental's smart connected toy taps ibm's watson supercomputer for its brains\". venture beat. retrieved 15 may 2015.\n",
            " \"awesome chatbots tools\".\n",
            " \"how to design a robust chatbot interaction\".\n",
            " \"principles of bot design\".\n",
            " implementations include botsociety botmock and botframe\n",
            " \"how to perform user testing on your chatbot\".\n",
            " implementations include rasa, wit.ai, dialogflow and watson\n",
            " \"what are the most common words your bot receives or sends\".\n",
            " \"how much it costs to make a chatbot\".\n",
            " yuan, michael (2018-02-19). chatbots: building intelligent, cross-platform, messaging bots. pearson education. isbn 9780134650616.\n",
            " \"oracle launches a chatbot development platform | venturebeat\". venturebeat.com. retrieved 2017-11-15.\n",
            " \"oracle introduces ai-powered intelligent bots to help enterprises engage customers and employees\". www.oracle.com. retrieved 2017-11-15.\n",
            " \"mobile service | oracle cloud\". cloud.oracle.com. retrieved 2017-11-15.\n",
            " \"from russia with love\" (pdf). retrieved 2007-12-09. psychologist and scientific american: mind contributing editor robert epstein reports how he was initially fooled by a chatterbot posing as an attractive girl in a personal ad he answered on a dating website. in the ad, the girl portrayed herself as being in southern california and then soon revealed, in poor english, that she was actually in russia. he became suspicious after a couple of months of email exchanges, sent her an email test of gibberish, and she still replied in general terms. the dating website is not named. scientific american: mind, october–november 2007, page 16–17, \"from russia with love: how i got fooled (and somewhat humiliated) by a computer\". also available online.\n",
            " bird, jordan j.; ekart, aniko; faria, diego r. (june 2018). advances in computational intelligence systems (1st ed.). nottingham, uk: springer. pp. 179–190. isbn 978-3-319-97982-3. retrieved 3 december 2018.\n",
            "references\n",
            "computer history museum (2006), \"internet history—1970's\", exhibits, computer history museum, archived from the original on 2008-02-21, retrieved 2008-03-05\n",
            "güzeldere, güven; franchi, stefano (1995-07-24), \"constructions of the mind\", stanford humanities review, sehr, stanford university, 4 (2), retrieved 2008-03-05\n",
            "mauldin, michael (1994), \"chatterbots, tinymuds, and the turing test: entering the loebner prize competition\", proceedings of the eleventh national conference on artificial intelligence, aaai press, retrieved 2008-03-05 (abstract)\n",
            "network working group (1973), \"rfc 439, parry encounters the doctor\", internet engineering task force, internet society, retrieved 2008-03-05\n",
            "sondheim, alan j (1997), <nettime> important documents from the early internet (1972), nettime.org, archived from the original on 2008-06-13, retrieved 2008-03-05\n",
            "searle, john (1980), \"minds, brains and programs\", behavioral and brain sciences, 3 (3): 417–457, doi:10.1017/s0140525x00005756\n",
            "shevat, amir (2017). designing bots: creating conversational experiences (first ed.). sebastopol, ca: o'reilly media. isbn 9781491974827. oclc 962125282.\n",
            "turing, alan (1950), \"computing machinery and intelligence\", mind, 59: 433–60, doi:10.1093/mind/lix.236.433\n",
            "weizenbaum, joseph (january 1966), \"eliza—a computer program for the study of natural language communication between man and machine\", communications of the acm, 9 (1): 36–45, doi:10.1145/365153.365168\n",
            "vte\n",
            "natural language processing\n",
            "\n",
            "\n"
          ]
        }
      ],
      "source": [
        "#your code here"
      ]
    },
    {
      "cell_type": "markdown",
      "metadata": {
        "id": "Dz0jOQj-kivA"
      },
      "source": [
        "### Sentence segmentation\n",
        "\n",
        "We will use the funtion .sent_tokenizer to convert documents into a list of sentences."
      ]
    },
    {
      "cell_type": "code",
      "execution_count": null,
      "metadata": {
        "id": "PBQwOOJYkivA",
        "outputId": "18e29b67-2759-41a1-dc58-f56224f73d58"
      },
      "outputs": [
        {
          "name": "stdout",
          "output_type": "stream",
          "text": [
            "['\\nchatbot\\nfrom wikipedia, the free encyclopedia\\njump to navigationjump to search\\na chatbot (also known as a smartbot, talkbot, chatterbot, bot, im bot, interactive agent, conversational interface or artificial conversational entity) is a computer program or an artificial intelligence which conducts a conversation via auditory or textual methods.', '[1] such programs are often designed to convincingly simulate how a human would behave as a conversational partner, thereby passing the turing test.', 'chatbots are typically used in dialog systems for various practical purposes including customer service or information acquisition.', 'some chatbots use sophisticated natural language processing systems, but many simpler ones scan for keywords within the input, then pull a reply with the most matching keywords, or the most similar wording pattern, from a database.', 'the term \"chatterbot\" was originally coined by michael mauldin (creator of the first verbot, julia) in 1994 to describe these conversational programs.', \"[2] today, most chatbots are accessed via virtual assistants such as google assistant and amazon alexa, via messaging apps such as facebook messenger or wechat, or via individual organizations' apps and websites.\", '[3][4] chatbots can be classified into usage categories such as conversational commerce (e-commerce via chat), analytics, communication, customer support, design, developer tools, education, entertainment, finance, food, games, health, hr, marketing, news, personal, productivity, shopping, social, sports, travel and utilities.', '[5]\\nbackground\\nin 1950, alan turing\\'s famous article \"computing machinery and intelligence\" was published,[6] which proposed what is now called the turing test as a criterion of intelligence.', 'this criterion depends on the ability of a computer program to impersonate a human in a real-time written conversation with a human judge, sufficiently well that the judge is unable to distinguish reliably—on the basis of the conversational content alone—between the program and a real human.', \"the notoriety of turing's proposed test stimulated great interest in joseph weizenbaum's program eliza, published in 1966, which seemed to be able to fool users into believing that they were conversing with a real human.\", 'however weizenbaum himself did not claim that eliza was genuinely intelligent, and the introduction to his paper presented it more as a debunking exercise:\\n\\n[in] artificial intelligence ... machines are made to behave in wondrous ways, often sufficient to dazzle even the most experienced observer.', 'but once a particular program is unmasked, once its inner workings are explained ... its magic crumbles away; it stands revealed as a mere collection of procedures ... the observer says to himself \"i could have written that\".', 'with that thought he moves the program in question from the shelf marked \"intelligent\", to that reserved for curios ... the object of this paper is to cause just such a re-evaluation of the program about to be \"explained\".', 'few programs ever needed it more.', \"[7]\\n\\neliza's key method of operation (copied by chatbot designers ever since) involves the recognition of cue words or phrases in the input, and the output of corresponding pre-prepared or pre-programmed responses that can move the conversation forward in an apparently meaningful way (e.g.\", \"by responding to any input that contains the word 'mother' with 'tell me more about your family').\", '[8] thus an illusion of understanding is generated, even though the processing involved has been merely superficial.', 'eliza showed that such an illusion is surprisingly easy to generate, because human judges are so ready to give the benefit of the doubt when conversational responses are capable of being interpreted as \"intelligent\".', \"interface designers have come to appreciate that humans' readiness to interpret computer output as genuinely conversational—even when it is actually based on rather simple pattern-matching—can be exploited for useful purposes.\", 'most people prefer to engage with programs that are human-like, and this gives chatbot-style techniques a potentially useful role in interactive systems that need to elicit information from users, as long as that information is relatively straightforward and falls into predictable categories.', 'thus, for example, online help systems can usefully employ chatbot techniques to identify the area of help that users require, potentially providing a \"friendlier\" interface than a more formal search or menu system.', 'this sort of usage holds the prospect of moving chatbot technology from weizenbaum\\'s \"shelf ... reserved for curios\" to that marked \"genuinely useful computational methods\".', 'development\\nthe classic historic early chatbots are eliza (1966) and parry (1972).', '[9][10][11][12] more recent notable programs include a.l.i.c.e., jabberwacky and d.u.d.e (agence nationale de la recherche and cnrs 2006).', 'while eliza and parry were used exclusively to simulate typed conversation, many chatbots now include functional features such as games and web searching abilities.', \"in 1984, a book called the policeman's beard is half constructed was published, allegedly written by the chatbot racter (though the program as released would not have been capable of doing so).\", '[13]\\n\\none pertinent field of ai research is natural language processing.', 'usually, weak ai fields employ specialized software or programming languages created specifically for the narrow function required.', 'for example, a.l.i.c.e.', 'uses a markup language called aiml, which is specific to its function as a conversational agent, and has since been adopted by various other developers of, so called, alicebots.', 'nevertheless, a.l.i.c.e.', 'is still purely based on pattern matching techniques without any reasoning capabilities, the same technique eliza was using back in 1966. this is not strong ai, which would require sapience and logical reasoning abilities.', 'jabberwacky learns new responses and context based on real-time user interactions, rather than being driven from a static database.', 'some more recent chatbots also combine real-time learning with evolutionary algorithms that optimise their ability to communicate based on each conversation held.', 'still, there is currently no general purpose conversational artificial intelligence, and some software developers focus on the practical aspect, information retrieval.', 'chatbot competitions focus on the turing test or more specific goals.', 'two such annual contests are the loebner prize and the chatterbox challenge (the latter has been offline since 2015, however materials can still be found from web archives).', \"[14]\\n\\napplication\\nsee also: virtual assistant\\n\\naeromexico airline chatbot running on facebook messenger, march 2018\\nmessaging apps\\nmany companies' chatbots run on messaging apps like facebook messenger (since 2016), wechat (since 2013),[15] whatsapp, livechat, kik, slack, line, telegram, or simply via sms.\", 'they are used for b2c customer service, sales and marketing.', '[16]\\n\\nin 2016, facebook messenger allowed developers to place chatbots on their platform.', 'there were 30,000 bots created for messenger in the first six months, rising to 100,000 by september 2017.', '[17]\\n\\nsince september 2017, this has also been as part of a pilot program on whatsapp.', 'airlines klm and aeroméxico both announced their participation in the testing;[18][19][20][21] both airlines had previously launched customer services on the facebook messenger platform.', \"the bots usually appear as one of the user's contacts, but can sometimes act as participants in a group chat.\", 'many banks, insurers, media companies, e-commerce companies, airlines, hotel chains, retailers, health care providers, government entities and restaurant chains have used chatbots to answer simple questions, increase customer engagement,[22] for promotion, and to offer additional ways to order from them.', '[23][24]\\n\\na 2017 study showed 4% of companies used chatbots.', '[25] according to a 2016 study, 80% of businesses said they intended to have one by 2020.', '[26]\\n\\nas part of company apps and websites\\nprevious generations of chatbots were present on company websites, e.g.', \"ask jenn from alaska airlines which debuted in 2008[27] or expedia's virtual customer service agent which launched in 2011.\", '[27][28] the newer generation of chatbots includes ibm watson-powered \"rocky\", introduced in february 2017 by the new york city-based e-commerce company rare carat to provide information to prospective diamond buyers.', '[29][30]\\n\\ncompany internal platforms\\nother companies explore ways they can use chatbots internally, for example for customer support, human resources, or even in internet-of-things (iot) projects.', 'overstock.com, for one, has reportedly launched a chatbot named mila to automate certain simple yet time-consuming processes when requesting for a sick leave.', '[31] other large companies such as lloyds banking group, royal bank of scotland, renault and citroën are now using automated online assistants instead of call centres with humans to provide a first point of contact.', \"a saas chatbot business ecosystem has been steadily growing since the f8 conference when facebook's mark zuckerberg unveiled that messenger would allow chatbots into the app.\", '[32] in large companies, like in hospitals and aviation organizations, it architects are designing reference architectures for intelligent chatbots that are used to unlock and share knowledge and experience in the organization more efficiently, and reduce the errors in answers from expert service desks significantly.[33].', 'these intelligent chatbots make use of all kinds of artificial intelligence like image moderation and natural language understanding (nlu), natural language generation (nlg), machine learning and deep learning.', 'toys\\nchatbots have also been incorporated into devices not primarily meant for computing such as toys.', '[34]\\n\\nhello barbie is an internet-connected version of the doll that uses a chatbot provided by the company toytalk,[35] which previously used the chatbot for a range of smartphone-based characters for children.', \"[36] these characters' behaviors are constrained by a set of rules that in effect emulate a particular character and produce a storyline.\", \"[37]\\n\\nibm's watson computer has been used as the basis for chatbot-based educational toys for companies such as cognitoys[34] intended to interact with children for educational purposes.\", '[38]\\n\\nchatbot creation\\nthe process of creating a chatbot follows a pattern similar to the development of a web page or a mobile app.', 'it can be divided into design, building, analytics and maintenance.', '[39]\\n\\ndesign\\nthe chatbot design is the process that defines the interaction between the user and the chatbot.', 'the chatbot designer will define the chatbot personality, the questions that will be asked to the users, and the overall interaction.', '[40][41] it can be viewed as a subset of the conversational design.', 'in order to speed up this process, designers can use dedicated chatbot design tools that allow for immediate preview, team collaboration and video export.', '[42] an important part of the chatbot design is also centered around user testing.', 'user testing can be performed following the same principles that guide the user testing of graphical interfaces.', \"[43]\\n\\nbuilding\\nthe process of building a chatbot can be divided into two main tasks: understanding the user's intent and producing the correct answer.\", 'the first task involves understanding the user input.', 'in order to properly understand a user input in a free text form, a natural language processing engine can be used.', '[44] the second task may involve different approaches depending on the type of the response that the chatbot will generate.', 'analytics\\nthe usage of the chatbot can be monitored in order to spot potential flaws or problems.', 'it can also provide useful insights that can improve the final user experience.', '[45]\\n\\nmaintenance\\nto keep chatbots up to speed with changing company products and services, traditional chatbot development platforms require ongoing maintenance.', 'this can either be in the form of an ongoing service provider or for larger enterprises in the form of an in-house chatbot training team.', '[46] to eliminate these costs, some startups are experimenting with artificial intelligence to develop self-learning chatbots, particularly in customer service applications.', 'chatbot development platforms\\nthe process of building, testing and deploying chatbots can be done on cloud-based chatbot development platforms[47] offered by cloud platform as a service (paas) providers such as oracle cloud platform and ibm watson.', '[48][49][50] these cloud platforms provide natural language processing, artificial intelligence and mobile backend as a service for chatbot development.', 'malicious use\\nmalicious chatbots are frequently used to fill chat rooms with spam and advertisements, by mimicking human behavior and conversations or to entice people into revealing personal information, such as bank account numbers.', 'they are commonly found on yahoo!', 'messenger, windows live messenger, aol instant messenger and other instant messaging protocols.', \"there has also been a published report of a chatbot used in a fake personal ad on a dating service's website.\", '[51]\\n\\ntay, an ai chatbot that learns from previous interaction, caused major controversy due to it being targeted by internet trolls on twitter.', 'the bot was exploited, and after 16 hours began to send extremely offensive tweets to users.', 'this suggests that although the bot learnt effectively from experience, adequate protection was not put in place to prevent misuse.', '[52]\\n\\nsee also\\napplications of artificial intelligence\\neugene goostman\\ninteractive online characters\\nlist of chatterbots\\nsitepal\\nsocial bot\\ntay\\ntwitterbot\\ncitations\\n \"what is a chatbot?\".', 'techtarget.com.', 'retrieved 30 january 2017.\\n mauldin 1994\\n orf, darren.', '\"google assistant is a mega ai bot that wants to be absoutely everywhere\".', '\"the 8 best chatbots of 2016\".', '21 december 2016.\\n https://recast.ai/blog/2017-messenger-bot-landscape/\\n (turing 1950)\\n (weizenbaum 1966, p. 36)\\n (weizenbaum 1966, pp.', '44–5)\\n güzelderefranchi 1995\\n computer history museum 2006\\n sondheim 1997\\n network working group 1973—transcript of a session between parry and eliza.', '(this is not the dialogue from the iccc, which took place october 24–26, 1972, whereas this session is from september 18, 1972.)', 'www.everything.com 13 november 1999\\n (in german) chatroboter simulieren menschen\\n \"china, wechat, and the origins of chatbots – chatbots magazine\".', '12 march 2017. retrieved 2 july 2018.\\n beaver, laurie (july 2016).', 'the chatbots explainer.', 'bi intelligence.', '\"facebook messenger hits 100,000 bots\".', 'retrieved 2017-09-22.', '\"klm claims airline first with whatsapp business platform\".', 'staff, forbes (26 october 2017).', '\"aeroméxico te atenderá por whatsapp durante 2018\".', 'retrieved 2 july 2018.\\n redacción (27 october 2017).', '\"podrás hacer \\'check in\\' y consultar tu vuelo con aeroméxico a través de whatsapp\".', 'retrieved 2 july 2018 – via huff post.', '\"building for people, and now businesses\".', 'whatsapp.com.', 'retrieved 2 july 2018.', '\"she is the company\\'s most effective employee\".', 'nordea news.', '\"better believe the bot boom is blowing up big for b2b, b2c businesses\".', 'venturebeat.', '\"chatbots take education to the next level – chatbot news daily\".', 'chatbot news daily.', '2016-09-29. retrieved 2017-06-23.', '\"the ai revolution is underway!', '– pm360\".', 'www.pm360online.com.', 'retrieved 2 july 2018.', '\"80% of businesses want chatbots by 2020\".', 'retrieved 2 july 2018.', '\"a virtual travel agent with all the answers\".', 'the new york times.', '4 march 2008.', '\"chatbot vendor directory released –\".', 'www.hypergridbusiness.com.', '\"rare carat\\'s watson-powered chatbot will help you put a diamond ring on it\".', 'techcrunch.', 'february 15, 2017.', '\"10 ways you may have already used ibm watson\".', 'venturebeat.', 'march 10, 2017.\\n greenfield, rebecca.', '\"chatbots are your newest, dumbest co-workers\".', 'bloomberg.', '\"facebook opens its messenger platform to chatbots\".', '12 april 2016.', '\"chatbot reference architecture\".', '1 january 2019.\\n amy (2015-02-23).', '\"conversational toys – the latest trend in speech technology\".', 'virtual agent chat.', 'retrieved 2016-08-11.\\n nagy, evie.', '\"using toytalk technology, new hello barbie will have real conversations with kids\".', 'fast company.', 'retrieved 18 march 2015.\\n oren jacob, the co-founder and ceo of toytalk interviewed on the tv show triangulation on the twit.tv network\\n \"artificial intelligence script tool\".', 'takahashi, dean.', '\"elemental\\'s smart connected toy taps ibm\\'s watson supercomputer for its brains\".', 'venture beat.', 'retrieved 15 may 2015.', '\"awesome chatbots tools\".', '\"how to design a robust chatbot interaction\".', '\"principles of bot design\".', 'implementations include botsociety botmock and botframe\\n \"how to perform user testing on your chatbot\".', 'implementations include rasa, wit.ai, dialogflow and watson\\n \"what are the most common words your bot receives or sends\".', '\"how much it costs to make a chatbot\".', 'yuan, michael (2018-02-19).', 'chatbots: building intelligent, cross-platform, messaging bots.', 'pearson education.', 'isbn 9780134650616.', '\"oracle launches a chatbot development platform | venturebeat\".', 'venturebeat.com.', 'retrieved 2017-11-15.', '\"oracle introduces ai-powered intelligent bots to help enterprises engage customers and employees\".', 'www.oracle.com.', 'retrieved 2017-11-15.', '\"mobile service | oracle cloud\".', 'cloud.oracle.com.', 'retrieved 2017-11-15.', '\"from russia with love\" (pdf).', 'retrieved 2007-12-09. psychologist and scientific american: mind contributing editor robert epstein reports how he was initially fooled by a chatterbot posing as an attractive girl in a personal ad he answered on a dating website.', 'in the ad, the girl portrayed herself as being in southern california and then soon revealed, in poor english, that she was actually in russia.', 'he became suspicious after a couple of months of email exchanges, sent her an email test of gibberish, and she still replied in general terms.', 'the dating website is not named.', 'scientific american: mind, october–november 2007, page 16–17, \"from russia with love: how i got fooled (and somewhat humiliated) by a computer\".', 'also available online.', 'bird, jordan j.; ekart, aniko; faria, diego r. (june 2018).', 'advances in computational intelligence systems (1st ed.).', 'nottingham, uk: springer.', 'pp.', '179–190.', 'isbn 978-3-319-97982-3. retrieved 3 december 2018.\\nreferences\\ncomputer history museum (2006), \"internet history—1970\\'s\", exhibits, computer history museum, archived from the original on 2008-02-21, retrieved 2008-03-05\\ngüzeldere, güven; franchi, stefano (1995-07-24), \"constructions of the mind\", stanford humanities review, sehr, stanford university, 4 (2), retrieved 2008-03-05\\nmauldin, michael (1994), \"chatterbots, tinymuds, and the turing test: entering the loebner prize competition\", proceedings of the eleventh national conference on artificial intelligence, aaai press, retrieved 2008-03-05 (abstract)\\nnetwork working group (1973), \"rfc 439, parry encounters the doctor\", internet engineering task force, internet society, retrieved 2008-03-05\\nsondheim, alan j (1997), <nettime> important documents from the early internet (1972), nettime.org, archived from the original on 2008-06-13, retrieved 2008-03-05\\nsearle, john (1980), \"minds, brains and programs\", behavioral and brain sciences, 3 (3): 417–457, doi:10.1017/s0140525x00005756\\nshevat, amir (2017).', 'designing bots: creating conversational experiences (first ed.).', \"sebastopol, ca: o'reilly media.\", 'isbn 9781491974827. oclc 962125282.\\nturing, alan (1950), \"computing machinery and intelligence\", mind, 59: 433–60, doi:10.1093/mind/lix.236.433\\nweizenbaum, joseph (january 1966), \"eliza—a computer program for the study of natural language communication between man and machine\", communications of the acm, 9 (1): 36–45, doi:10.1145/365153.365168\\nvte\\nnatural language processing']\n"
          ]
        }
      ],
      "source": [
        "#your code here"
      ]
    },
    {
      "cell_type": "markdown",
      "metadata": {
        "id": "VenwTMt9kivA"
      },
      "source": [
        "Great! You have separated the document into sentences. However, notice that it is difficult to decipher the individual sentence now.\n",
        "\n",
        "**Task: Print every sentence in a new line!**\n",
        "\n",
        "This way, it will be easier to read the sentences!\n",
        "\n",
        "Use the link [here](https://www.geeksforgeeks.org/print-lists-in-python-4-different-ways/) to learn how to do that!"
      ]
    },
    {
      "cell_type": "code",
      "execution_count": null,
      "metadata": {
        "id": "C1IsQKE1kivA",
        "outputId": "8c7b941a-12f6-43ae-b640-e1e6ab164dd5"
      },
      "outputs": [
        {
          "name": "stdout",
          "output_type": "stream",
          "text": [
            "printing lists in new line\n",
            "\n",
            "chatbot\n",
            "from wikipedia, the free encyclopedia\n",
            "jump to navigationjump to search\n",
            "a chatbot (also known as a smartbot, talkbot, chatterbot, bot, im bot, interactive agent, conversational interface or artificial conversational entity) is a computer program or an artificial intelligence which conducts a conversation via auditory or textual methods.\n",
            "[1] such programs are often designed to convincingly simulate how a human would behave as a conversational partner, thereby passing the turing test.\n",
            "chatbots are typically used in dialog systems for various practical purposes including customer service or information acquisition.\n",
            "some chatbots use sophisticated natural language processing systems, but many simpler ones scan for keywords within the input, then pull a reply with the most matching keywords, or the most similar wording pattern, from a database.\n",
            "the term \"chatterbot\" was originally coined by michael mauldin (creator of the first verbot, julia) in 1994 to describe these conversational programs.\n",
            "[2] today, most chatbots are accessed via virtual assistants such as google assistant and amazon alexa, via messaging apps such as facebook messenger or wechat, or via individual organizations' apps and websites.\n",
            "[3][4] chatbots can be classified into usage categories such as conversational commerce (e-commerce via chat), analytics, communication, customer support, design, developer tools, education, entertainment, finance, food, games, health, hr, marketing, news, personal, productivity, shopping, social, sports, travel and utilities.\n",
            "[5]\n",
            "background\n",
            "in 1950, alan turing's famous article \"computing machinery and intelligence\" was published,[6] which proposed what is now called the turing test as a criterion of intelligence.\n",
            "this criterion depends on the ability of a computer program to impersonate a human in a real-time written conversation with a human judge, sufficiently well that the judge is unable to distinguish reliably—on the basis of the conversational content alone—between the program and a real human.\n",
            "the notoriety of turing's proposed test stimulated great interest in joseph weizenbaum's program eliza, published in 1966, which seemed to be able to fool users into believing that they were conversing with a real human.\n",
            "however weizenbaum himself did not claim that eliza was genuinely intelligent, and the introduction to his paper presented it more as a debunking exercise:\n",
            "\n",
            "[in] artificial intelligence ... machines are made to behave in wondrous ways, often sufficient to dazzle even the most experienced observer.\n",
            "but once a particular program is unmasked, once its inner workings are explained ... its magic crumbles away; it stands revealed as a mere collection of procedures ... the observer says to himself \"i could have written that\".\n",
            "with that thought he moves the program in question from the shelf marked \"intelligent\", to that reserved for curios ... the object of this paper is to cause just such a re-evaluation of the program about to be \"explained\".\n",
            "few programs ever needed it more.\n",
            "[7]\n",
            "\n",
            "eliza's key method of operation (copied by chatbot designers ever since) involves the recognition of cue words or phrases in the input, and the output of corresponding pre-prepared or pre-programmed responses that can move the conversation forward in an apparently meaningful way (e.g.\n",
            "by responding to any input that contains the word 'mother' with 'tell me more about your family').\n",
            "[8] thus an illusion of understanding is generated, even though the processing involved has been merely superficial.\n",
            "eliza showed that such an illusion is surprisingly easy to generate, because human judges are so ready to give the benefit of the doubt when conversational responses are capable of being interpreted as \"intelligent\".\n",
            "interface designers have come to appreciate that humans' readiness to interpret computer output as genuinely conversational—even when it is actually based on rather simple pattern-matching—can be exploited for useful purposes.\n",
            "most people prefer to engage with programs that are human-like, and this gives chatbot-style techniques a potentially useful role in interactive systems that need to elicit information from users, as long as that information is relatively straightforward and falls into predictable categories.\n",
            "thus, for example, online help systems can usefully employ chatbot techniques to identify the area of help that users require, potentially providing a \"friendlier\" interface than a more formal search or menu system.\n",
            "this sort of usage holds the prospect of moving chatbot technology from weizenbaum's \"shelf ... reserved for curios\" to that marked \"genuinely useful computational methods\".\n",
            "development\n",
            "the classic historic early chatbots are eliza (1966) and parry (1972).\n",
            "[9][10][11][12] more recent notable programs include a.l.i.c.e., jabberwacky and d.u.d.e (agence nationale de la recherche and cnrs 2006).\n",
            "while eliza and parry were used exclusively to simulate typed conversation, many chatbots now include functional features such as games and web searching abilities.\n",
            "in 1984, a book called the policeman's beard is half constructed was published, allegedly written by the chatbot racter (though the program as released would not have been capable of doing so).\n",
            "[13]\n",
            "\n",
            "one pertinent field of ai research is natural language processing.\n",
            "usually, weak ai fields employ specialized software or programming languages created specifically for the narrow function required.\n",
            "for example, a.l.i.c.e.\n",
            "uses a markup language called aiml, which is specific to its function as a conversational agent, and has since been adopted by various other developers of, so called, alicebots.\n",
            "nevertheless, a.l.i.c.e.\n",
            "is still purely based on pattern matching techniques without any reasoning capabilities, the same technique eliza was using back in 1966. this is not strong ai, which would require sapience and logical reasoning abilities.\n",
            "jabberwacky learns new responses and context based on real-time user interactions, rather than being driven from a static database.\n",
            "some more recent chatbots also combine real-time learning with evolutionary algorithms that optimise their ability to communicate based on each conversation held.\n",
            "still, there is currently no general purpose conversational artificial intelligence, and some software developers focus on the practical aspect, information retrieval.\n",
            "chatbot competitions focus on the turing test or more specific goals.\n",
            "two such annual contests are the loebner prize and the chatterbox challenge (the latter has been offline since 2015, however materials can still be found from web archives).\n",
            "[14]\n",
            "\n",
            "application\n",
            "see also: virtual assistant\n",
            "\n",
            "aeromexico airline chatbot running on facebook messenger, march 2018\n",
            "messaging apps\n",
            "many companies' chatbots run on messaging apps like facebook messenger (since 2016), wechat (since 2013),[15] whatsapp, livechat, kik, slack, line, telegram, or simply via sms.\n",
            "they are used for b2c customer service, sales and marketing.\n",
            "[16]\n",
            "\n",
            "in 2016, facebook messenger allowed developers to place chatbots on their platform.\n",
            "there were 30,000 bots created for messenger in the first six months, rising to 100,000 by september 2017.\n",
            "[17]\n",
            "\n",
            "since september 2017, this has also been as part of a pilot program on whatsapp.\n",
            "airlines klm and aeroméxico both announced their participation in the testing;[18][19][20][21] both airlines had previously launched customer services on the facebook messenger platform.\n",
            "the bots usually appear as one of the user's contacts, but can sometimes act as participants in a group chat.\n",
            "many banks, insurers, media companies, e-commerce companies, airlines, hotel chains, retailers, health care providers, government entities and restaurant chains have used chatbots to answer simple questions, increase customer engagement,[22] for promotion, and to offer additional ways to order from them.\n",
            "[23][24]\n",
            "\n",
            "a 2017 study showed 4% of companies used chatbots.\n",
            "[25] according to a 2016 study, 80% of businesses said they intended to have one by 2020.\n",
            "[26]\n",
            "\n",
            "as part of company apps and websites\n",
            "previous generations of chatbots were present on company websites, e.g.\n",
            "ask jenn from alaska airlines which debuted in 2008[27] or expedia's virtual customer service agent which launched in 2011.\n",
            "[27][28] the newer generation of chatbots includes ibm watson-powered \"rocky\", introduced in february 2017 by the new york city-based e-commerce company rare carat to provide information to prospective diamond buyers.\n",
            "[29][30]\n",
            "\n",
            "company internal platforms\n",
            "other companies explore ways they can use chatbots internally, for example for customer support, human resources, or even in internet-of-things (iot) projects.\n",
            "overstock.com, for one, has reportedly launched a chatbot named mila to automate certain simple yet time-consuming processes when requesting for a sick leave.\n",
            "[31] other large companies such as lloyds banking group, royal bank of scotland, renault and citroën are now using automated online assistants instead of call centres with humans to provide a first point of contact.\n",
            "a saas chatbot business ecosystem has been steadily growing since the f8 conference when facebook's mark zuckerberg unveiled that messenger would allow chatbots into the app.\n",
            "[32] in large companies, like in hospitals and aviation organizations, it architects are designing reference architectures for intelligent chatbots that are used to unlock and share knowledge and experience in the organization more efficiently, and reduce the errors in answers from expert service desks significantly.[33].\n",
            "these intelligent chatbots make use of all kinds of artificial intelligence like image moderation and natural language understanding (nlu), natural language generation (nlg), machine learning and deep learning.\n",
            "toys\n",
            "chatbots have also been incorporated into devices not primarily meant for computing such as toys.\n",
            "[34]\n",
            "\n",
            "hello barbie is an internet-connected version of the doll that uses a chatbot provided by the company toytalk,[35] which previously used the chatbot for a range of smartphone-based characters for children.\n",
            "[36] these characters' behaviors are constrained by a set of rules that in effect emulate a particular character and produce a storyline.\n",
            "[37]\n",
            "\n",
            "ibm's watson computer has been used as the basis for chatbot-based educational toys for companies such as cognitoys[34] intended to interact with children for educational purposes.\n",
            "[38]\n",
            "\n",
            "chatbot creation\n",
            "the process of creating a chatbot follows a pattern similar to the development of a web page or a mobile app.\n",
            "it can be divided into design, building, analytics and maintenance.\n",
            "[39]\n",
            "\n",
            "design\n",
            "the chatbot design is the process that defines the interaction between the user and the chatbot.\n",
            "the chatbot designer will define the chatbot personality, the questions that will be asked to the users, and the overall interaction.\n",
            "[40][41] it can be viewed as a subset of the conversational design.\n",
            "in order to speed up this process, designers can use dedicated chatbot design tools that allow for immediate preview, team collaboration and video export.\n",
            "[42] an important part of the chatbot design is also centered around user testing.\n",
            "user testing can be performed following the same principles that guide the user testing of graphical interfaces.\n",
            "[43]\n",
            "\n",
            "building\n",
            "the process of building a chatbot can be divided into two main tasks: understanding the user's intent and producing the correct answer.\n",
            "the first task involves understanding the user input.\n",
            "in order to properly understand a user input in a free text form, a natural language processing engine can be used.\n",
            "[44] the second task may involve different approaches depending on the type of the response that the chatbot will generate.\n",
            "analytics\n",
            "the usage of the chatbot can be monitored in order to spot potential flaws or problems.\n",
            "it can also provide useful insights that can improve the final user experience.\n",
            "[45]\n",
            "\n",
            "maintenance\n",
            "to keep chatbots up to speed with changing company products and services, traditional chatbot development platforms require ongoing maintenance.\n",
            "this can either be in the form of an ongoing service provider or for larger enterprises in the form of an in-house chatbot training team.\n",
            "[46] to eliminate these costs, some startups are experimenting with artificial intelligence to develop self-learning chatbots, particularly in customer service applications.\n",
            "chatbot development platforms\n",
            "the process of building, testing and deploying chatbots can be done on cloud-based chatbot development platforms[47] offered by cloud platform as a service (paas) providers such as oracle cloud platform and ibm watson.\n",
            "[48][49][50] these cloud platforms provide natural language processing, artificial intelligence and mobile backend as a service for chatbot development.\n",
            "malicious use\n",
            "malicious chatbots are frequently used to fill chat rooms with spam and advertisements, by mimicking human behavior and conversations or to entice people into revealing personal information, such as bank account numbers.\n",
            "they are commonly found on yahoo!\n",
            "messenger, windows live messenger, aol instant messenger and other instant messaging protocols.\n",
            "there has also been a published report of a chatbot used in a fake personal ad on a dating service's website.\n",
            "[51]\n",
            "\n",
            "tay, an ai chatbot that learns from previous interaction, caused major controversy due to it being targeted by internet trolls on twitter.\n",
            "the bot was exploited, and after 16 hours began to send extremely offensive tweets to users.\n",
            "this suggests that although the bot learnt effectively from experience, adequate protection was not put in place to prevent misuse.\n",
            "[52]\n",
            "\n",
            "see also\n",
            "applications of artificial intelligence\n",
            "eugene goostman\n",
            "interactive online characters\n",
            "list of chatterbots\n",
            "sitepal\n",
            "social bot\n",
            "tay\n",
            "twitterbot\n",
            "citations\n",
            " \"what is a chatbot?\".\n",
            "techtarget.com.\n",
            "retrieved 30 january 2017.\n",
            " mauldin 1994\n",
            " orf, darren.\n",
            "\"google assistant is a mega ai bot that wants to be absoutely everywhere\".\n",
            "\"the 8 best chatbots of 2016\".\n",
            "21 december 2016.\n",
            " https://recast.ai/blog/2017-messenger-bot-landscape/\n",
            " (turing 1950)\n",
            " (weizenbaum 1966, p. 36)\n",
            " (weizenbaum 1966, pp.\n",
            "44–5)\n",
            " güzelderefranchi 1995\n",
            " computer history museum 2006\n",
            " sondheim 1997\n",
            " network working group 1973—transcript of a session between parry and eliza.\n",
            "(this is not the dialogue from the iccc, which took place october 24–26, 1972, whereas this session is from september 18, 1972.)\n",
            "www.everything.com 13 november 1999\n",
            " (in german) chatroboter simulieren menschen\n",
            " \"china, wechat, and the origins of chatbots – chatbots magazine\".\n",
            "12 march 2017. retrieved 2 july 2018.\n",
            " beaver, laurie (july 2016).\n",
            "the chatbots explainer.\n",
            "bi intelligence.\n",
            "\"facebook messenger hits 100,000 bots\".\n",
            "retrieved 2017-09-22.\n",
            "\"klm claims airline first with whatsapp business platform\".\n",
            "staff, forbes (26 october 2017).\n",
            "\"aeroméxico te atenderá por whatsapp durante 2018\".\n",
            "retrieved 2 july 2018.\n",
            " redacción (27 october 2017).\n",
            "\"podrás hacer 'check in' y consultar tu vuelo con aeroméxico a través de whatsapp\".\n",
            "retrieved 2 july 2018 – via huff post.\n",
            "\"building for people, and now businesses\".\n",
            "whatsapp.com.\n",
            "retrieved 2 july 2018.\n",
            "\"she is the company's most effective employee\".\n",
            "nordea news.\n",
            "\"better believe the bot boom is blowing up big for b2b, b2c businesses\".\n",
            "venturebeat.\n",
            "\"chatbots take education to the next level – chatbot news daily\".\n",
            "chatbot news daily.\n",
            "2016-09-29. retrieved 2017-06-23.\n",
            "\"the ai revolution is underway!\n",
            "– pm360\".\n",
            "www.pm360online.com.\n",
            "retrieved 2 july 2018.\n",
            "\"80% of businesses want chatbots by 2020\".\n",
            "retrieved 2 july 2018.\n",
            "\"a virtual travel agent with all the answers\".\n",
            "the new york times.\n",
            "4 march 2008.\n",
            "\"chatbot vendor directory released –\".\n",
            "www.hypergridbusiness.com.\n",
            "\"rare carat's watson-powered chatbot will help you put a diamond ring on it\".\n",
            "techcrunch.\n",
            "february 15, 2017.\n",
            "\"10 ways you may have already used ibm watson\".\n",
            "venturebeat.\n",
            "march 10, 2017.\n",
            " greenfield, rebecca.\n",
            "\"chatbots are your newest, dumbest co-workers\".\n",
            "bloomberg.\n",
            "\"facebook opens its messenger platform to chatbots\".\n",
            "12 april 2016.\n",
            "\"chatbot reference architecture\".\n",
            "1 january 2019.\n",
            " amy (2015-02-23).\n",
            "\"conversational toys – the latest trend in speech technology\".\n",
            "virtual agent chat.\n",
            "retrieved 2016-08-11.\n",
            " nagy, evie.\n",
            "\"using toytalk technology, new hello barbie will have real conversations with kids\".\n",
            "fast company.\n",
            "retrieved 18 march 2015.\n",
            " oren jacob, the co-founder and ceo of toytalk interviewed on the tv show triangulation on the twit.tv network\n",
            " \"artificial intelligence script tool\".\n",
            "takahashi, dean.\n",
            "\"elemental's smart connected toy taps ibm's watson supercomputer for its brains\".\n",
            "venture beat.\n",
            "retrieved 15 may 2015.\n",
            "\"awesome chatbots tools\".\n",
            "\"how to design a robust chatbot interaction\".\n",
            "\"principles of bot design\".\n",
            "implementations include botsociety botmock and botframe\n",
            " \"how to perform user testing on your chatbot\".\n",
            "implementations include rasa, wit.ai, dialogflow and watson\n",
            " \"what are the most common words your bot receives or sends\".\n",
            "\"how much it costs to make a chatbot\".\n",
            "yuan, michael (2018-02-19).\n",
            "chatbots: building intelligent, cross-platform, messaging bots.\n",
            "pearson education.\n",
            "isbn 9780134650616.\n",
            "\"oracle launches a chatbot development platform | venturebeat\".\n",
            "venturebeat.com.\n",
            "retrieved 2017-11-15.\n",
            "\"oracle introduces ai-powered intelligent bots to help enterprises engage customers and employees\".\n",
            "www.oracle.com.\n",
            "retrieved 2017-11-15.\n",
            "\"mobile service | oracle cloud\".\n",
            "cloud.oracle.com.\n",
            "retrieved 2017-11-15.\n",
            "\"from russia with love\" (pdf).\n",
            "retrieved 2007-12-09. psychologist and scientific american: mind contributing editor robert epstein reports how he was initially fooled by a chatterbot posing as an attractive girl in a personal ad he answered on a dating website.\n",
            "in the ad, the girl portrayed herself as being in southern california and then soon revealed, in poor english, that she was actually in russia.\n",
            "he became suspicious after a couple of months of email exchanges, sent her an email test of gibberish, and she still replied in general terms.\n",
            "the dating website is not named.\n",
            "scientific american: mind, october–november 2007, page 16–17, \"from russia with love: how i got fooled (and somewhat humiliated) by a computer\".\n",
            "also available online.\n",
            "bird, jordan j.; ekart, aniko; faria, diego r. (june 2018).\n",
            "advances in computational intelligence systems (1st ed.).\n",
            "nottingham, uk: springer.\n",
            "pp.\n",
            "179–190.\n",
            "isbn 978-3-319-97982-3. retrieved 3 december 2018.\n",
            "references\n",
            "computer history museum (2006), \"internet history—1970's\", exhibits, computer history museum, archived from the original on 2008-02-21, retrieved 2008-03-05\n",
            "güzeldere, güven; franchi, stefano (1995-07-24), \"constructions of the mind\", stanford humanities review, sehr, stanford university, 4 (2), retrieved 2008-03-05\n",
            "mauldin, michael (1994), \"chatterbots, tinymuds, and the turing test: entering the loebner prize competition\", proceedings of the eleventh national conference on artificial intelligence, aaai press, retrieved 2008-03-05 (abstract)\n",
            "network working group (1973), \"rfc 439, parry encounters the doctor\", internet engineering task force, internet society, retrieved 2008-03-05\n",
            "sondheim, alan j (1997), <nettime> important documents from the early internet (1972), nettime.org, archived from the original on 2008-06-13, retrieved 2008-03-05\n",
            "searle, john (1980), \"minds, brains and programs\", behavioral and brain sciences, 3 (3): 417–457, doi:10.1017/s0140525x00005756\n",
            "shevat, amir (2017).\n",
            "designing bots: creating conversational experiences (first ed.).\n",
            "sebastopol, ca: o'reilly media.\n",
            "isbn 9781491974827. oclc 962125282.\n",
            "turing, alan (1950), \"computing machinery and intelligence\", mind, 59: 433–60, doi:10.1093/mind/lix.236.433\n",
            "weizenbaum, joseph (january 1966), \"eliza—a computer program for the study of natural language communication between man and machine\", communications of the acm, 9 (1): 36–45, doi:10.1145/365153.365168\n",
            "vte\n",
            "natural language processing\n"
          ]
        }
      ],
      "source": [
        "#your code here"
      ]
    },
    {
      "cell_type": "markdown",
      "metadata": {
        "id": "UD-nzZwhkivB"
      },
      "source": [
        "### Word tokenization\n",
        "\n",
        "We will use the funtion .word_tokenizer to convert sentences into a list of words."
      ]
    },
    {
      "cell_type": "code",
      "execution_count": null,
      "metadata": {
        "id": "w9DwxCQIkivB",
        "outputId": "2e0a713c-f0f4-4177-98d3-0be4dae4cce6"
      },
      "outputs": [
        {
          "name": "stdout",
          "output_type": "stream",
          "text": [
            "['chatbot', 'from', 'wikipedia', ',', 'the', 'free', 'encyclopedia', 'jump', 'to', 'navigationjump', 'to', 'search', 'a', 'chatbot', '(', 'also', 'known', 'as', 'a', 'smartbot', ',', 'talkbot', ',', 'chatterbot', ',', 'bot', ',', 'im', 'bot', ',', 'interactive', 'agent', ',', 'conversational', 'interface', 'or', 'artificial', 'conversational', 'entity', ')', 'is', 'a', 'computer', 'program', 'or', 'an', 'artificial', 'intelligence', 'which', 'conducts', 'a', 'conversation', 'via', 'auditory', 'or', 'textual', 'methods', '.', '[', '1', ']', 'such', 'programs', 'are', 'often', 'designed', 'to', 'convincingly', 'simulate', 'how', 'a', 'human', 'would', 'behave', 'as', 'a', 'conversational', 'partner', ',', 'thereby', 'passing', 'the', 'turing', 'test', '.', 'chatbots', 'are', 'typically', 'used', 'in', 'dialog', 'systems', 'for', 'various', 'practical', 'purposes', 'including', 'customer', 'service', 'or', 'information', 'acquisition', '.', 'some', 'chatbots', 'use', 'sophisticated', 'natural', 'language', 'processing', 'systems', ',', 'but', 'many', 'simpler', 'ones', 'scan', 'for', 'keywords', 'within', 'the', 'input', ',', 'then', 'pull', 'a', 'reply', 'with', 'the', 'most', 'matching', 'keywords', ',', 'or', 'the', 'most', 'similar', 'wording', 'pattern', ',', 'from', 'a', 'database', '.', 'the', 'term', '``', 'chatterbot', \"''\", 'was', 'originally', 'coined', 'by', 'michael', 'mauldin', '(', 'creator', 'of', 'the', 'first', 'verbot', ',', 'julia', ')', 'in', '1994', 'to', 'describe', 'these', 'conversational', 'programs', '.', '[', '2', ']', 'today', ',', 'most', 'chatbots', 'are', 'accessed', 'via', 'virtual', 'assistants', 'such', 'as', 'google', 'assistant', 'and', 'amazon', 'alexa', ',', 'via', 'messaging', 'apps', 'such', 'as', 'facebook', 'messenger', 'or', 'wechat', ',', 'or', 'via', 'individual', 'organizations', \"'\", 'apps', 'and', 'websites', '.', '[', '3', ']', '[', '4', ']', 'chatbots', 'can', 'be', 'classified', 'into', 'usage', 'categories', 'such', 'as', 'conversational', 'commerce', '(', 'e-commerce', 'via', 'chat', ')', ',', 'analytics', ',', 'communication', ',', 'customer', 'support', ',', 'design', ',', 'developer', 'tools', ',', 'education', ',', 'entertainment', ',', 'finance', ',', 'food', ',', 'games', ',', 'health', ',', 'hr', ',', 'marketing', ',', 'news', ',', 'personal', ',', 'productivity', ',', 'shopping', ',', 'social', ',', 'sports', ',', 'travel', 'and', 'utilities', '.', '[', '5', ']', 'background', 'in', '1950', ',', 'alan', 'turing', \"'s\", 'famous', 'article', '``', 'computing', 'machinery', 'and', 'intelligence', \"''\", 'was', 'published', ',', '[', '6', ']', 'which', 'proposed', 'what', 'is', 'now', 'called', 'the', 'turing', 'test', 'as', 'a', 'criterion', 'of', 'intelligence', '.', 'this', 'criterion', 'depends', 'on', 'the', 'ability', 'of', 'a', 'computer', 'program', 'to', 'impersonate', 'a', 'human', 'in', 'a', 'real-time', 'written', 'conversation', 'with', 'a', 'human', 'judge', ',', 'sufficiently', 'well', 'that', 'the', 'judge', 'is', 'unable', 'to', 'distinguish', 'reliably—on', 'the', 'basis', 'of', 'the', 'conversational', 'content', 'alone—between', 'the', 'program', 'and', 'a', 'real', 'human', '.', 'the', 'notoriety', 'of', 'turing', \"'s\", 'proposed', 'test', 'stimulated', 'great', 'interest', 'in', 'joseph', 'weizenbaum', \"'s\", 'program', 'eliza', ',', 'published', 'in', '1966', ',', 'which', 'seemed', 'to', 'be', 'able', 'to', 'fool', 'users', 'into', 'believing', 'that', 'they', 'were', 'conversing', 'with', 'a', 'real', 'human', '.', 'however', 'weizenbaum', 'himself', 'did', 'not', 'claim', 'that', 'eliza', 'was', 'genuinely', 'intelligent', ',', 'and', 'the', 'introduction', 'to', 'his', 'paper', 'presented', 'it', 'more', 'as', 'a', 'debunking', 'exercise', ':', '[', 'in', ']', 'artificial', 'intelligence', '...', 'machines', 'are', 'made', 'to', 'behave', 'in', 'wondrous', 'ways', ',', 'often', 'sufficient', 'to', 'dazzle', 'even', 'the', 'most', 'experienced', 'observer', '.', 'but', 'once', 'a', 'particular', 'program', 'is', 'unmasked', ',', 'once', 'its', 'inner', 'workings', 'are', 'explained', '...', 'its', 'magic', 'crumbles', 'away', ';', 'it', 'stands', 'revealed', 'as', 'a', 'mere', 'collection', 'of', 'procedures', '...', 'the', 'observer', 'says', 'to', 'himself', '``', 'i', 'could', 'have', 'written', 'that', \"''\", '.', 'with', 'that', 'thought', 'he', 'moves', 'the', 'program', 'in', 'question', 'from', 'the', 'shelf', 'marked', '``', 'intelligent', \"''\", ',', 'to', 'that', 'reserved', 'for', 'curios', '...', 'the', 'object', 'of', 'this', 'paper', 'is', 'to', 'cause', 'just', 'such', 'a', 're-evaluation', 'of', 'the', 'program', 'about', 'to', 'be', '``', 'explained', \"''\", '.', 'few', 'programs', 'ever', 'needed', 'it', 'more', '.', '[', '7', ']', 'eliza', \"'s\", 'key', 'method', 'of', 'operation', '(', 'copied', 'by', 'chatbot', 'designers', 'ever', 'since', ')', 'involves', 'the', 'recognition', 'of', 'cue', 'words', 'or', 'phrases', 'in', 'the', 'input', ',', 'and', 'the', 'output', 'of', 'corresponding', 'pre-prepared', 'or', 'pre-programmed', 'responses', 'that', 'can', 'move', 'the', 'conversation', 'forward', 'in', 'an', 'apparently', 'meaningful', 'way', '(', 'e.g', '.', 'by', 'responding', 'to', 'any', 'input', 'that', 'contains', 'the', 'word', \"'mother\", \"'\", 'with', \"'tell\", 'me', 'more', 'about', 'your', 'family', \"'\", ')', '.', '[', '8', ']', 'thus', 'an', 'illusion', 'of', 'understanding', 'is', 'generated', ',', 'even', 'though', 'the', 'processing', 'involved', 'has', 'been', 'merely', 'superficial', '.', 'eliza', 'showed', 'that', 'such', 'an', 'illusion', 'is', 'surprisingly', 'easy', 'to', 'generate', ',', 'because', 'human', 'judges', 'are', 'so', 'ready', 'to', 'give', 'the', 'benefit', 'of', 'the', 'doubt', 'when', 'conversational', 'responses', 'are', 'capable', 'of', 'being', 'interpreted', 'as', '``', 'intelligent', \"''\", '.', 'interface', 'designers', 'have', 'come', 'to', 'appreciate', 'that', 'humans', \"'\", 'readiness', 'to', 'interpret', 'computer', 'output', 'as', 'genuinely', 'conversational—even', 'when', 'it', 'is', 'actually', 'based', 'on', 'rather', 'simple', 'pattern-matching—can', 'be', 'exploited', 'for', 'useful', 'purposes', '.', 'most', 'people', 'prefer', 'to', 'engage', 'with', 'programs', 'that', 'are', 'human-like', ',', 'and', 'this', 'gives', 'chatbot-style', 'techniques', 'a', 'potentially', 'useful', 'role', 'in', 'interactive', 'systems', 'that', 'need', 'to', 'elicit', 'information', 'from', 'users', ',', 'as', 'long', 'as', 'that', 'information', 'is', 'relatively', 'straightforward', 'and', 'falls', 'into', 'predictable', 'categories', '.', 'thus', ',', 'for', 'example', ',', 'online', 'help', 'systems', 'can', 'usefully', 'employ', 'chatbot', 'techniques', 'to', 'identify', 'the', 'area', 'of', 'help', 'that', 'users', 'require', ',', 'potentially', 'providing', 'a', '``', 'friendlier', \"''\", 'interface', 'than', 'a', 'more', 'formal', 'search', 'or', 'menu', 'system', '.', 'this', 'sort', 'of', 'usage', 'holds', 'the', 'prospect', 'of', 'moving', 'chatbot', 'technology', 'from', 'weizenbaum', \"'s\", '``', 'shelf', '...', 'reserved', 'for', 'curios', \"''\", 'to', 'that', 'marked', '``', 'genuinely', 'useful', 'computational', 'methods', \"''\", '.', 'development', 'the', 'classic', 'historic', 'early', 'chatbots', 'are', 'eliza', '(', '1966', ')', 'and', 'parry', '(', '1972', ')', '.', '[', '9', ']', '[', '10', ']', '[', '11', ']', '[', '12', ']', 'more', 'recent', 'notable', 'programs', 'include', 'a.l.i.c.e.', ',', 'jabberwacky', 'and', 'd.u.d.e', '(', 'agence', 'nationale', 'de', 'la', 'recherche', 'and', 'cnrs', '2006', ')', '.', 'while', 'eliza', 'and', 'parry', 'were', 'used', 'exclusively', 'to', 'simulate', 'typed', 'conversation', ',', 'many', 'chatbots', 'now', 'include', 'functional', 'features', 'such', 'as', 'games', 'and', 'web', 'searching', 'abilities', '.', 'in', '1984', ',', 'a', 'book', 'called', 'the', 'policeman', \"'s\", 'beard', 'is', 'half', 'constructed', 'was', 'published', ',', 'allegedly', 'written', 'by', 'the', 'chatbot', 'racter', '(', 'though', 'the', 'program', 'as', 'released', 'would', 'not', 'have', 'been', 'capable', 'of', 'doing', 'so', ')', '.', '[', '13', ']', 'one', 'pertinent', 'field', 'of', 'ai', 'research', 'is', 'natural', 'language', 'processing', '.', 'usually', ',', 'weak', 'ai', 'fields', 'employ', 'specialized', 'software', 'or', 'programming', 'languages', 'created', 'specifically', 'for', 'the', 'narrow', 'function', 'required', '.', 'for', 'example', ',', 'a.l.i.c.e', '.', 'uses', 'a', 'markup', 'language', 'called', 'aiml', ',', 'which', 'is', 'specific', 'to', 'its', 'function', 'as', 'a', 'conversational', 'agent', ',', 'and', 'has', 'since', 'been', 'adopted', 'by', 'various', 'other', 'developers', 'of', ',', 'so', 'called', ',', 'alicebots', '.', 'nevertheless', ',', 'a.l.i.c.e', '.', 'is', 'still', 'purely', 'based', 'on', 'pattern', 'matching', 'techniques', 'without', 'any', 'reasoning', 'capabilities', ',', 'the', 'same', 'technique', 'eliza', 'was', 'using', 'back', 'in', '1966.', 'this', 'is', 'not', 'strong', 'ai', ',', 'which', 'would', 'require', 'sapience', 'and', 'logical', 'reasoning', 'abilities', '.', 'jabberwacky', 'learns', 'new', 'responses', 'and', 'context', 'based', 'on', 'real-time', 'user', 'interactions', ',', 'rather', 'than', 'being', 'driven', 'from', 'a', 'static', 'database', '.', 'some', 'more', 'recent', 'chatbots', 'also', 'combine', 'real-time', 'learning', 'with', 'evolutionary', 'algorithms', 'that', 'optimise', 'their', 'ability', 'to', 'communicate', 'based', 'on', 'each', 'conversation', 'held', '.', 'still', ',', 'there', 'is', 'currently', 'no', 'general', 'purpose', 'conversational', 'artificial', 'intelligence', ',', 'and', 'some', 'software', 'developers', 'focus', 'on', 'the', 'practical', 'aspect', ',', 'information', 'retrieval', '.', 'chatbot', 'competitions', 'focus', 'on', 'the', 'turing', 'test', 'or', 'more', 'specific', 'goals', '.', 'two', 'such', 'annual', 'contests', 'are', 'the', 'loebner', 'prize', 'and', 'the', 'chatterbox', 'challenge', '(', 'the', 'latter', 'has', 'been', 'offline', 'since', '2015', ',', 'however', 'materials', 'can', 'still', 'be', 'found', 'from', 'web', 'archives', ')', '.', '[', '14', ']', 'application', 'see', 'also', ':', 'virtual', 'assistant', 'aeromexico', 'airline', 'chatbot', 'running', 'on', 'facebook', 'messenger', ',', 'march', '2018', 'messaging', 'apps', 'many', 'companies', \"'\", 'chatbots', 'run', 'on', 'messaging', 'apps', 'like', 'facebook', 'messenger', '(', 'since', '2016', ')', ',', 'wechat', '(', 'since', '2013', ')', ',', '[', '15', ']', 'whatsapp', ',', 'livechat', ',', 'kik', ',', 'slack', ',', 'line', ',', 'telegram', ',', 'or', 'simply', 'via', 'sms', '.', 'they', 'are', 'used', 'for', 'b2c', 'customer', 'service', ',', 'sales', 'and', 'marketing', '.', '[', '16', ']', 'in', '2016', ',', 'facebook', 'messenger', 'allowed', 'developers', 'to', 'place', 'chatbots', 'on', 'their', 'platform', '.', 'there', 'were', '30,000', 'bots', 'created', 'for', 'messenger', 'in', 'the', 'first', 'six', 'months', ',', 'rising', 'to', '100,000', 'by', 'september', '2017', '.', '[', '17', ']', 'since', 'september', '2017', ',', 'this', 'has', 'also', 'been', 'as', 'part', 'of', 'a', 'pilot', 'program', 'on', 'whatsapp', '.', 'airlines', 'klm', 'and', 'aeroméxico', 'both', 'announced', 'their', 'participation', 'in', 'the', 'testing', ';', '[', '18', ']', '[', '19', ']', '[', '20', ']', '[', '21', ']', 'both', 'airlines', 'had', 'previously', 'launched', 'customer', 'services', 'on', 'the', 'facebook', 'messenger', 'platform', '.', 'the', 'bots', 'usually', 'appear', 'as', 'one', 'of', 'the', 'user', \"'s\", 'contacts', ',', 'but', 'can', 'sometimes', 'act', 'as', 'participants', 'in', 'a', 'group', 'chat', '.', 'many', 'banks', ',', 'insurers', ',', 'media', 'companies', ',', 'e-commerce', 'companies', ',', 'airlines', ',', 'hotel', 'chains', ',', 'retailers', ',', 'health', 'care', 'providers', ',', 'government', 'entities', 'and', 'restaurant', 'chains', 'have', 'used', 'chatbots', 'to', 'answer', 'simple', 'questions', ',', 'increase', 'customer', 'engagement', ',', '[', '22', ']', 'for', 'promotion', ',', 'and', 'to', 'offer', 'additional', 'ways', 'to', 'order', 'from', 'them', '.', '[', '23', ']', '[', '24', ']', 'a', '2017', 'study', 'showed', '4', '%', 'of', 'companies', 'used', 'chatbots', '.', '[', '25', ']', 'according', 'to', 'a', '2016', 'study', ',', '80', '%', 'of', 'businesses', 'said', 'they', 'intended', 'to', 'have', 'one', 'by', '2020', '.', '[', '26', ']', 'as', 'part', 'of', 'company', 'apps', 'and', 'websites', 'previous', 'generations', 'of', 'chatbots', 'were', 'present', 'on', 'company', 'websites', ',', 'e.g', '.', 'ask', 'jenn', 'from', 'alaska', 'airlines', 'which', 'debuted', 'in', '2008', '[', '27', ']', 'or', 'expedia', \"'s\", 'virtual', 'customer', 'service', 'agent', 'which', 'launched', 'in', '2011', '.', '[', '27', ']', '[', '28', ']', 'the', 'newer', 'generation', 'of', 'chatbots', 'includes', 'ibm', 'watson-powered', '``', 'rocky', \"''\", ',', 'introduced', 'in', 'february', '2017', 'by', 'the', 'new', 'york', 'city-based', 'e-commerce', 'company', 'rare', 'carat', 'to', 'provide', 'information', 'to', 'prospective', 'diamond', 'buyers', '.', '[', '29', ']', '[', '30', ']', 'company', 'internal', 'platforms', 'other', 'companies', 'explore', 'ways', 'they', 'can', 'use', 'chatbots', 'internally', ',', 'for', 'example', 'for', 'customer', 'support', ',', 'human', 'resources', ',', 'or', 'even', 'in', 'internet-of-things', '(', 'iot', ')', 'projects', '.', 'overstock.com', ',', 'for', 'one', ',', 'has', 'reportedly', 'launched', 'a', 'chatbot', 'named', 'mila', 'to', 'automate', 'certain', 'simple', 'yet', 'time-consuming', 'processes', 'when', 'requesting', 'for', 'a', 'sick', 'leave', '.', '[', '31', ']', 'other', 'large', 'companies', 'such', 'as', 'lloyds', 'banking', 'group', ',', 'royal', 'bank', 'of', 'scotland', ',', 'renault', 'and', 'citroën', 'are', 'now', 'using', 'automated', 'online', 'assistants', 'instead', 'of', 'call', 'centres', 'with', 'humans', 'to', 'provide', 'a', 'first', 'point', 'of', 'contact', '.', 'a', 'saas', 'chatbot', 'business', 'ecosystem', 'has', 'been', 'steadily', 'growing', 'since', 'the', 'f8', 'conference', 'when', 'facebook', \"'s\", 'mark', 'zuckerberg', 'unveiled', 'that', 'messenger', 'would', 'allow', 'chatbots', 'into', 'the', 'app', '.', '[', '32', ']', 'in', 'large', 'companies', ',', 'like', 'in', 'hospitals', 'and', 'aviation', 'organizations', ',', 'it', 'architects', 'are', 'designing', 'reference', 'architectures', 'for', 'intelligent', 'chatbots', 'that', 'are', 'used', 'to', 'unlock', 'and', 'share', 'knowledge', 'and', 'experience', 'in', 'the', 'organization', 'more', 'efficiently', ',', 'and', 'reduce', 'the', 'errors', 'in', 'answers', 'from', 'expert', 'service', 'desks', 'significantly.', '[', '33', ']', '.', 'these', 'intelligent', 'chatbots', 'make', 'use', 'of', 'all', 'kinds', 'of', 'artificial', 'intelligence', 'like', 'image', 'moderation', 'and', 'natural', 'language', 'understanding', '(', 'nlu', ')', ',', 'natural', 'language', 'generation', '(', 'nlg', ')', ',', 'machine', 'learning', 'and', 'deep', 'learning', '.', 'toys', 'chatbots', 'have', 'also', 'been', 'incorporated', 'into', 'devices', 'not', 'primarily', 'meant', 'for', 'computing', 'such', 'as', 'toys', '.', '[', '34', ']', 'hello', 'barbie', 'is', 'an', 'internet-connected', 'version', 'of', 'the', 'doll', 'that', 'uses', 'a', 'chatbot', 'provided', 'by', 'the', 'company', 'toytalk', ',', '[', '35', ']', 'which', 'previously', 'used', 'the', 'chatbot', 'for', 'a', 'range', 'of', 'smartphone-based', 'characters', 'for', 'children', '.', '[', '36', ']', 'these', 'characters', \"'\", 'behaviors', 'are', 'constrained', 'by', 'a', 'set', 'of', 'rules', 'that', 'in', 'effect', 'emulate', 'a', 'particular', 'character', 'and', 'produce', 'a', 'storyline', '.', '[', '37', ']', 'ibm', \"'s\", 'watson', 'computer', 'has', 'been', 'used', 'as', 'the', 'basis', 'for', 'chatbot-based', 'educational', 'toys', 'for', 'companies', 'such', 'as', 'cognitoys', '[', '34', ']', 'intended', 'to', 'interact', 'with', 'children', 'for', 'educational', 'purposes', '.', '[', '38', ']', 'chatbot', 'creation', 'the', 'process', 'of', 'creating', 'a', 'chatbot', 'follows', 'a', 'pattern', 'similar', 'to', 'the', 'development', 'of', 'a', 'web', 'page', 'or', 'a', 'mobile', 'app', '.', 'it', 'can', 'be', 'divided', 'into', 'design', ',', 'building', ',', 'analytics', 'and', 'maintenance', '.', '[', '39', ']', 'design', 'the', 'chatbot', 'design', 'is', 'the', 'process', 'that', 'defines', 'the', 'interaction', 'between', 'the', 'user', 'and', 'the', 'chatbot', '.', 'the', 'chatbot', 'designer', 'will', 'define', 'the', 'chatbot', 'personality', ',', 'the', 'questions', 'that', 'will', 'be', 'asked', 'to', 'the', 'users', ',', 'and', 'the', 'overall', 'interaction', '.', '[', '40', ']', '[', '41', ']', 'it', 'can', 'be', 'viewed', 'as', 'a', 'subset', 'of', 'the', 'conversational', 'design', '.', 'in', 'order', 'to', 'speed', 'up', 'this', 'process', ',', 'designers', 'can', 'use', 'dedicated', 'chatbot', 'design', 'tools', 'that', 'allow', 'for', 'immediate', 'preview', ',', 'team', 'collaboration', 'and', 'video', 'export', '.', '[', '42', ']', 'an', 'important', 'part', 'of', 'the', 'chatbot', 'design', 'is', 'also', 'centered', 'around', 'user', 'testing', '.', 'user', 'testing', 'can', 'be', 'performed', 'following', 'the', 'same', 'principles', 'that', 'guide', 'the', 'user', 'testing', 'of', 'graphical', 'interfaces', '.', '[', '43', ']', 'building', 'the', 'process', 'of', 'building', 'a', 'chatbot', 'can', 'be', 'divided', 'into', 'two', 'main', 'tasks', ':', 'understanding', 'the', 'user', \"'s\", 'intent', 'and', 'producing', 'the', 'correct', 'answer', '.', 'the', 'first', 'task', 'involves', 'understanding', 'the', 'user', 'input', '.', 'in', 'order', 'to', 'properly', 'understand', 'a', 'user', 'input', 'in', 'a', 'free', 'text', 'form', ',', 'a', 'natural', 'language', 'processing', 'engine', 'can', 'be', 'used', '.', '[', '44', ']', 'the', 'second', 'task', 'may', 'involve', 'different', 'approaches', 'depending', 'on', 'the', 'type', 'of', 'the', 'response', 'that', 'the', 'chatbot', 'will', 'generate', '.', 'analytics', 'the', 'usage', 'of', 'the', 'chatbot', 'can', 'be', 'monitored', 'in', 'order', 'to', 'spot', 'potential', 'flaws', 'or', 'problems', '.', 'it', 'can', 'also', 'provide', 'useful', 'insights', 'that', 'can', 'improve', 'the', 'final', 'user', 'experience', '.', '[', '45', ']', 'maintenance', 'to', 'keep', 'chatbots', 'up', 'to', 'speed', 'with', 'changing', 'company', 'products', 'and', 'services', ',', 'traditional', 'chatbot', 'development', 'platforms', 'require', 'ongoing', 'maintenance', '.', 'this', 'can', 'either', 'be', 'in', 'the', 'form', 'of', 'an', 'ongoing', 'service', 'provider', 'or', 'for', 'larger', 'enterprises', 'in', 'the', 'form', 'of', 'an', 'in-house', 'chatbot', 'training', 'team', '.', '[', '46', ']', 'to', 'eliminate', 'these', 'costs', ',', 'some', 'startups', 'are', 'experimenting', 'with', 'artificial', 'intelligence', 'to', 'develop', 'self-learning', 'chatbots', ',', 'particularly', 'in', 'customer', 'service', 'applications', '.', 'chatbot', 'development', 'platforms', 'the', 'process', 'of', 'building', ',', 'testing', 'and', 'deploying', 'chatbots', 'can', 'be', 'done', 'on', 'cloud-based', 'chatbot', 'development', 'platforms', '[', '47', ']', 'offered', 'by', 'cloud', 'platform', 'as', 'a', 'service', '(', 'paas', ')', 'providers', 'such', 'as', 'oracle', 'cloud', 'platform', 'and', 'ibm', 'watson', '.', '[', '48', ']', '[', '49', ']', '[', '50', ']', 'these', 'cloud', 'platforms', 'provide', 'natural', 'language', 'processing', ',', 'artificial', 'intelligence', 'and', 'mobile', 'backend', 'as', 'a', 'service', 'for', 'chatbot', 'development', '.', 'malicious', 'use', 'malicious', 'chatbots', 'are', 'frequently', 'used', 'to', 'fill', 'chat', 'rooms', 'with', 'spam', 'and', 'advertisements', ',', 'by', 'mimicking', 'human', 'behavior', 'and', 'conversations', 'or', 'to', 'entice', 'people', 'into', 'revealing', 'personal', 'information', ',', 'such', 'as', 'bank', 'account', 'numbers', '.', 'they', 'are', 'commonly', 'found', 'on', 'yahoo', '!', 'messenger', ',', 'windows', 'live', 'messenger', ',', 'aol', 'instant', 'messenger', 'and', 'other', 'instant', 'messaging', 'protocols', '.', 'there', 'has', 'also', 'been', 'a', 'published', 'report', 'of', 'a', 'chatbot', 'used', 'in', 'a', 'fake', 'personal', 'ad', 'on', 'a', 'dating', 'service', \"'s\", 'website', '.', '[', '51', ']', 'tay', ',', 'an', 'ai', 'chatbot', 'that', 'learns', 'from', 'previous', 'interaction', ',', 'caused', 'major', 'controversy', 'due', 'to', 'it', 'being', 'targeted', 'by', 'internet', 'trolls', 'on', 'twitter', '.', 'the', 'bot', 'was', 'exploited', ',', 'and', 'after', '16', 'hours', 'began', 'to', 'send', 'extremely', 'offensive', 'tweets', 'to', 'users', '.', 'this', 'suggests', 'that', 'although', 'the', 'bot', 'learnt', 'effectively', 'from', 'experience', ',', 'adequate', 'protection', 'was', 'not', 'put', 'in', 'place', 'to', 'prevent', 'misuse', '.', '[', '52', ']', 'see', 'also', 'applications', 'of', 'artificial', 'intelligence', 'eugene', 'goostman', 'interactive', 'online', 'characters', 'list', 'of', 'chatterbots', 'sitepal', 'social', 'bot', 'tay', 'twitterbot', 'citations', '``', 'what', 'is', 'a', 'chatbot', '?', \"''\", '.', 'techtarget.com', '.', 'retrieved', '30', 'january', '2017.', 'mauldin', '1994', 'orf', ',', 'darren', '.', '``', 'google', 'assistant', 'is', 'a', 'mega', 'ai', 'bot', 'that', 'wants', 'to', 'be', 'absoutely', 'everywhere', \"''\", '.', '``', 'the', '8', 'best', 'chatbots', 'of', '2016', \"''\", '.', '21', 'december', '2016.', 'https', ':', '//recast.ai/blog/2017-messenger-bot-landscape/', '(', 'turing', '1950', ')', '(', 'weizenbaum', '1966', ',', 'p.', '36', ')', '(', 'weizenbaum', '1966', ',', 'pp', '.', '44–5', ')', 'güzelderefranchi', '1995', 'computer', 'history', 'museum', '2006', 'sondheim', '1997', 'network', 'working', 'group', '1973—transcript', 'of', 'a', 'session', 'between', 'parry', 'and', 'eliza', '.', '(', 'this', 'is', 'not', 'the', 'dialogue', 'from', 'the', 'iccc', ',', 'which', 'took', 'place', 'october', '24–26', ',', '1972', ',', 'whereas', 'this', 'session', 'is', 'from', 'september', '18', ',', '1972', '.', ')', 'www.everything.com', '13', 'november', '1999', '(', 'in', 'german', ')', 'chatroboter', 'simulieren', 'menschen', '``', 'china', ',', 'wechat', ',', 'and', 'the', 'origins', 'of', 'chatbots', '–', 'chatbots', 'magazine', \"''\", '.', '12', 'march', '2017.', 'retrieved', '2', 'july', '2018.', 'beaver', ',', 'laurie', '(', 'july', '2016', ')', '.', 'the', 'chatbots', 'explainer', '.', 'bi', 'intelligence', '.', '``', 'facebook', 'messenger', 'hits', '100,000', 'bots', \"''\", '.', 'retrieved', '2017-09-22', '.', '``', 'klm', 'claims', 'airline', 'first', 'with', 'whatsapp', 'business', 'platform', \"''\", '.', 'staff', ',', 'forbes', '(', '26', 'october', '2017', ')', '.', '``', 'aeroméxico', 'te', 'atenderá', 'por', 'whatsapp', 'durante', '2018', \"''\", '.', 'retrieved', '2', 'july', '2018.', 'redacción', '(', '27', 'october', '2017', ')', '.', '``', 'podrás', 'hacer', \"'check\", 'in', \"'\", 'y', 'consultar', 'tu', 'vuelo', 'con', 'aeroméxico', 'a', 'través', 'de', 'whatsapp', \"''\", '.', 'retrieved', '2', 'july', '2018', '–', 'via', 'huff', 'post', '.', '``', 'building', 'for', 'people', ',', 'and', 'now', 'businesses', \"''\", '.', 'whatsapp.com', '.', 'retrieved', '2', 'july', '2018', '.', '``', 'she', 'is', 'the', 'company', \"'s\", 'most', 'effective', 'employee', \"''\", '.', 'nordea', 'news', '.', '``', 'better', 'believe', 'the', 'bot', 'boom', 'is', 'blowing', 'up', 'big', 'for', 'b2b', ',', 'b2c', 'businesses', \"''\", '.', 'venturebeat', '.', '``', 'chatbots', 'take', 'education', 'to', 'the', 'next', 'level', '–', 'chatbot', 'news', 'daily', \"''\", '.', 'chatbot', 'news', 'daily', '.', '2016-09-29.', 'retrieved', '2017-06-23', '.', '``', 'the', 'ai', 'revolution', 'is', 'underway', '!', '–', 'pm360', \"''\", '.', 'www.pm360online.com', '.', 'retrieved', '2', 'july', '2018', '.', '``', '80', '%', 'of', 'businesses', 'want', 'chatbots', 'by', '2020', \"''\", '.', 'retrieved', '2', 'july', '2018', '.', '``', 'a', 'virtual', 'travel', 'agent', 'with', 'all', 'the', 'answers', \"''\", '.', 'the', 'new', 'york', 'times', '.', '4', 'march', '2008', '.', '``', 'chatbot', 'vendor', 'directory', 'released', '–', \"''\", '.', 'www.hypergridbusiness.com', '.', '``', 'rare', 'carat', \"'s\", 'watson-powered', 'chatbot', 'will', 'help', 'you', 'put', 'a', 'diamond', 'ring', 'on', 'it', \"''\", '.', 'techcrunch', '.', 'february', '15', ',', '2017', '.', '``', '10', 'ways', 'you', 'may', 'have', 'already', 'used', 'ibm', 'watson', \"''\", '.', 'venturebeat', '.', 'march', '10', ',', '2017.', 'greenfield', ',', 'rebecca', '.', '``', 'chatbots', 'are', 'your', 'newest', ',', 'dumbest', 'co-workers', \"''\", '.', 'bloomberg', '.', '``', 'facebook', 'opens', 'its', 'messenger', 'platform', 'to', 'chatbots', \"''\", '.', '12', 'april', '2016', '.', '``', 'chatbot', 'reference', 'architecture', \"''\", '.', '1', 'january', '2019.', 'amy', '(', '2015-02-23', ')', '.', '``', 'conversational', 'toys', '–', 'the', 'latest', 'trend', 'in', 'speech', 'technology', \"''\", '.', 'virtual', 'agent', 'chat', '.', 'retrieved', '2016-08-11.', 'nagy', ',', 'evie', '.', '``', 'using', 'toytalk', 'technology', ',', 'new', 'hello', 'barbie', 'will', 'have', 'real', 'conversations', 'with', 'kids', \"''\", '.', 'fast', 'company', '.', 'retrieved', '18', 'march', '2015.', 'oren', 'jacob', ',', 'the', 'co-founder', 'and', 'ceo', 'of', 'toytalk', 'interviewed', 'on', 'the', 'tv', 'show', 'triangulation', 'on', 'the', 'twit.tv', 'network', '``', 'artificial', 'intelligence', 'script', 'tool', \"''\", '.', 'takahashi', ',', 'dean', '.', '``', 'elemental', \"'s\", 'smart', 'connected', 'toy', 'taps', 'ibm', \"'s\", 'watson', 'supercomputer', 'for', 'its', 'brains', \"''\", '.', 'venture', 'beat', '.', 'retrieved', '15', 'may', '2015', '.', '``', 'awesome', 'chatbots', 'tools', \"''\", '.', '``', 'how', 'to', 'design', 'a', 'robust', 'chatbot', 'interaction', \"''\", '.', '``', 'principles', 'of', 'bot', 'design', \"''\", '.', 'implementations', 'include', 'botsociety', 'botmock', 'and', 'botframe', '``', 'how', 'to', 'perform', 'user', 'testing', 'on', 'your', 'chatbot', \"''\", '.', 'implementations', 'include', 'rasa', ',', 'wit.ai', ',', 'dialogflow', 'and', 'watson', '``', 'what', 'are', 'the', 'most', 'common', 'words', 'your', 'bot', 'receives', 'or', 'sends', \"''\", '.', '``', 'how', 'much', 'it', 'costs', 'to', 'make', 'a', 'chatbot', \"''\", '.', 'yuan', ',', 'michael', '(', '2018-02-19', ')', '.', 'chatbots', ':', 'building', 'intelligent', ',', 'cross-platform', ',', 'messaging', 'bots', '.', 'pearson', 'education', '.', 'isbn', '9780134650616', '.', '``', 'oracle', 'launches', 'a', 'chatbot', 'development', 'platform', '|', 'venturebeat', \"''\", '.', 'venturebeat.com', '.', 'retrieved', '2017-11-15', '.', '``', 'oracle', 'introduces', 'ai-powered', 'intelligent', 'bots', 'to', 'help', 'enterprises', 'engage', 'customers', 'and', 'employees', \"''\", '.', 'www.oracle.com', '.', 'retrieved', '2017-11-15', '.', '``', 'mobile', 'service', '|', 'oracle', 'cloud', \"''\", '.', 'cloud.oracle.com', '.', 'retrieved', '2017-11-15', '.', '``', 'from', 'russia', 'with', 'love', \"''\", '(', 'pdf', ')', '.', 'retrieved', '2007-12-09.', 'psychologist', 'and', 'scientific', 'american', ':', 'mind', 'contributing', 'editor', 'robert', 'epstein', 'reports', 'how', 'he', 'was', 'initially', 'fooled', 'by', 'a', 'chatterbot', 'posing', 'as', 'an', 'attractive', 'girl', 'in', 'a', 'personal', 'ad', 'he', 'answered', 'on', 'a', 'dating', 'website', '.', 'in', 'the', 'ad', ',', 'the', 'girl', 'portrayed', 'herself', 'as', 'being', 'in', 'southern', 'california', 'and', 'then', 'soon', 'revealed', ',', 'in', 'poor', 'english', ',', 'that', 'she', 'was', 'actually', 'in', 'russia', '.', 'he', 'became', 'suspicious', 'after', 'a', 'couple', 'of', 'months', 'of', 'email', 'exchanges', ',', 'sent', 'her', 'an', 'email', 'test', 'of', 'gibberish', ',', 'and', 'she', 'still', 'replied', 'in', 'general', 'terms', '.', 'the', 'dating', 'website', 'is', 'not', 'named', '.', 'scientific', 'american', ':', 'mind', ',', 'october–november', '2007', ',', 'page', '16–17', ',', '``', 'from', 'russia', 'with', 'love', ':', 'how', 'i', 'got', 'fooled', '(', 'and', 'somewhat', 'humiliated', ')', 'by', 'a', 'computer', \"''\", '.', 'also', 'available', 'online', '.', 'bird', ',', 'jordan', 'j.', ';', 'ekart', ',', 'aniko', ';', 'faria', ',', 'diego', 'r.', '(', 'june', '2018', ')', '.', 'advances', 'in', 'computational', 'intelligence', 'systems', '(', '1st', 'ed.', ')', '.', 'nottingham', ',', 'uk', ':', 'springer', '.', 'pp', '.', '179–190', '.', 'isbn', '978-3-319-97982-3.', 'retrieved', '3', 'december', '2018.', 'references', 'computer', 'history', 'museum', '(', '2006', ')', ',', '``', 'internet', 'history—1970', \"'s\", \"''\", ',', 'exhibits', ',', 'computer', 'history', 'museum', ',', 'archived', 'from', 'the', 'original', 'on', '2008-02-21', ',', 'retrieved', '2008-03-05', 'güzeldere', ',', 'güven', ';', 'franchi', ',', 'stefano', '(', '1995-07-24', ')', ',', '``', 'constructions', 'of', 'the', 'mind', \"''\", ',', 'stanford', 'humanities', 'review', ',', 'sehr', ',', 'stanford', 'university', ',', '4', '(', '2', ')', ',', 'retrieved', '2008-03-05', 'mauldin', ',', 'michael', '(', '1994', ')', ',', '``', 'chatterbots', ',', 'tinymuds', ',', 'and', 'the', 'turing', 'test', ':', 'entering', 'the', 'loebner', 'prize', 'competition', \"''\", ',', 'proceedings', 'of', 'the', 'eleventh', 'national', 'conference', 'on', 'artificial', 'intelligence', ',', 'aaai', 'press', ',', 'retrieved', '2008-03-05', '(', 'abstract', ')', 'network', 'working', 'group', '(', '1973', ')', ',', '``', 'rfc', '439', ',', 'parry', 'encounters', 'the', 'doctor', \"''\", ',', 'internet', 'engineering', 'task', 'force', ',', 'internet', 'society', ',', 'retrieved', '2008-03-05', 'sondheim', ',', 'alan', 'j', '(', '1997', ')', ',', '<', 'nettime', '>', 'important', 'documents', 'from', 'the', 'early', 'internet', '(', '1972', ')', ',', 'nettime.org', ',', 'archived', 'from', 'the', 'original', 'on', '2008-06-13', ',', 'retrieved', '2008-03-05', 'searle', ',', 'john', '(', '1980', ')', ',', '``', 'minds', ',', 'brains', 'and', 'programs', \"''\", ',', 'behavioral', 'and', 'brain', 'sciences', ',', '3', '(', '3', ')', ':', '417–457', ',', 'doi:10.1017/s0140525x00005756', 'shevat', ',', 'amir', '(', '2017', ')', '.', 'designing', 'bots', ':', 'creating', 'conversational', 'experiences', '(', 'first', 'ed.', ')', '.', 'sebastopol', ',', 'ca', ':', \"o'reilly\", 'media', '.', 'isbn', '9781491974827.', 'oclc', '962125282.', 'turing', ',', 'alan', '(', '1950', ')', ',', '``', 'computing', 'machinery', 'and', 'intelligence', \"''\", ',', 'mind', ',', '59', ':', '433–60', ',', 'doi:10.1093/mind/lix.236.433', 'weizenbaum', ',', 'joseph', '(', 'january', '1966', ')', ',', '``', 'eliza—a', 'computer', 'program', 'for', 'the', 'study', 'of', 'natural', 'language', 'communication', 'between', 'man', 'and', 'machine', \"''\", ',', 'communications', 'of', 'the', 'acm', ',', '9', '(', '1', ')', ':', '36–45', ',', 'doi:10.1145/365153.365168', 'vte', 'natural', 'language', 'processing']\n"
          ]
        }
      ],
      "source": [
        "#your code here"
      ]
    },
    {
      "cell_type": "markdown",
      "metadata": {
        "id": "F9pfeiKwkivB"
      },
      "source": [
        "Now we have our tokens!\n",
        "\n",
        "It is useful to inspect our tokens to make sure they look as expected, and to make sure that we have enough information to train our chatbot. Each sentence token can be considered one piece of knowledge as they provide a single piece of information about your knowledge base. The size of your knowledge base will determine how capable your chatbot will be.\n",
        "\n",
        "The code to print the lengths of your sentence and word tokens are below."
      ]
    },
    {
      "cell_type": "code",
      "execution_count": null,
      "metadata": {
        "id": "AKSoC1uykivG",
        "outputId": "185b6649-0642-47a8-954d-777107a112ea"
      },
      "outputs": [
        {
          "name": "stdout",
          "output_type": "stream",
          "text": [
            "184 3667\n"
          ]
        }
      ],
      "source": [
        "# Use this to check the size of your knowledge base. There should be at least 150 sentence tokens, and if possible, up to 1000\n",
        "# to provide enough context for your chatbot.\n",
        "\n",
        "#your code here"
      ]
    },
    {
      "cell_type": "markdown",
      "metadata": {
        "id": "g8_8M76akivG"
      },
      "source": [
        "Great job! we now have an idea of the amount of information passed to our chatbot. If you find that you do not have enough sentence tokens, this is the time to go back out and search for more information!  \n",
        "  \n",
        "### Lemmatization\n",
        "\n",
        "We will lemmatize our word tokens using the WordNetLemmatizer that we have downloaded."
      ]
    },
    {
      "cell_type": "code",
      "execution_count": null,
      "metadata": {
        "id": "IEXgBQ-VkivG"
      },
      "outputs": [],
      "source": [
        "lemmer = nltk.stem.WordNetLemmatizer() #Initiate lemmer class. WordNet is a semantically-oriented dictionary of English included in NLTK.\n",
        "def LemTokens(tokens):\n",
        "    return [lemmer.lemmatize(token) for token in tokens]"
      ]
    },
    {
      "cell_type": "markdown",
      "metadata": {
        "id": "zwhaKXkjkivG"
      },
      "source": [
        "### Normalization\n",
        "\n",
        "We also write functions to remove punctuation since that will not be useful for our knowledge base."
      ]
    },
    {
      "cell_type": "code",
      "execution_count": null,
      "metadata": {
        "id": "YIYJ33pXkivG"
      },
      "outputs": [],
      "source": [
        "remove_punct_dict = dict((ord(punct), None) for punct in string.punctuation)\n",
        "def LemNormalize(text):\n",
        "    return LemTokens(nltk.word_tokenize(text.lower().translate(remove_punct_dict))) #see previous section 1.2.5 lemmatization"
      ]
    },
    {
      "cell_type": "markdown",
      "metadata": {
        "id": "qL-MalYFkivH"
      },
      "source": [
        "Time to see how these functions work! call the function on the following sentence and print the output. What has our function done to the test sentence?"
      ]
    },
    {
      "cell_type": "code",
      "execution_count": null,
      "metadata": {
        "id": "2uiViDiAkivH",
        "outputId": "7542f008-3f35-41fe-eada-a09728580497"
      },
      "outputs": [
        {
          "data": {
            "text/plain": [
              "['Today',\n",
              " 'wa',\n",
              " 'a',\n",
              " 'wonderful',\n",
              " 'day',\n",
              " '.',\n",
              " 'The',\n",
              " 'sun',\n",
              " 'wa',\n",
              " 'shining',\n",
              " 'so',\n",
              " 'brightly',\n",
              " 'and',\n",
              " 'the',\n",
              " 'bird',\n",
              " 'were',\n",
              " 'chirping',\n",
              " 'loudly',\n",
              " '!']"
            ]
          },
          "execution_count": 10,
          "metadata": {},
          "output_type": "execute_result"
        }
      ],
      "source": [
        "test_sentence='Today was a wonderful day. The sun was shining so brightly and the birds were chirping loudly!'\n",
        "test_word_tokens = nltk.word_tokenize(#your code here)# converts documents to list of words\n",
        "\n",
        "lemmer = nltk.stem.WordNetLemmatizer()\n",
        "def LemTokens(tokens):\n",
        "    return [lemmer.lemmatize(token) for token in tokens]\n",
        "\n",
        "LemTokens(#your code here)"
      ]
    },
    {
      "cell_type": "markdown",
      "metadata": {
        "id": "3DRb1yGokivH"
      },
      "source": [
        "## 2. Matching topics with cosine similarity\n",
        "\n",
        "Congratulations, you have now converted your knowledge database from text into sentences and tokens! Do you remember what is the next step after this? Computers are good at processing numbers, and therefore, we will next convert our tokens into numbers!\n",
        "\n",
        "To do so, we will revisit the bag of words and tf-idf from acquire stage and experience 2.\n",
        "\n",
        "How does having our document vector help us to create our chatbot?  \n",
        "\n",
        "**How would computer finds similarity?**\n",
        "\n",
        "Suppose you want to create a chatbot that can read your input, 'considers' what your input is talking about, and then respond with something that makes the most sense. One of the most common ways is by taking the question, and looking for information within the dataset that is very similar to our question. For example, if the questions contains the phrase 'computer failure', we will assume that the answer lies in sentences that contains words similar to 'computer failure' like 'computer crash', or 'hardware failure'.\n",
        "\n",
        "**What is [cosine similarity](https://en.wikipedia.org/wiki/Cosine_similarity)?**\n",
        "\n",
        "Remember that we will convert our dataset into document vectors? cosine similarity allows us to find similar vectors, and these vectors will be assumed to be similar in meaning."
      ]
    },
    {
      "cell_type": "markdown",
      "metadata": {
        "id": "ETsCjKdzkivK"
      },
      "source": [
        "## 3. Get your chatbot to say its first words\n",
        "\n",
        "### Greetings\n",
        "At the start of every conversation, your chatbot may expect a greeting. These greetings are not a question, but your chatbot should have a reply to the greeting too. We can input some common greetings you expect to receive, and get your chatbot to reply with a random selection of greeting responses.  \n",
        "   \n",
        "Tip: Your chatbot may throw up some warnings. Do not worry about those as long as your chatbot is giving you reasonable answers."
      ]
    },
    {
      "cell_type": "markdown",
      "metadata": {
        "id": "E3maOx8ekivK"
      },
      "source": [
        "### Create list of inputs and responses\n",
        "\n",
        "Let's first create the list of greetings your chatbot will have"
      ]
    },
    {
      "cell_type": "code",
      "execution_count": null,
      "metadata": {
        "id": "r0WYJHZ-kivK"
      },
      "outputs": [],
      "source": [
        "GREETING_INPUTS = [\"hello\", \"hi\", \"greetings\", \"sup\", \"what's up\",\"hey\", \"hey there\"]\n",
        "GREETING_RESPONSES = [\"hi\", \"hey\", \"*nods*\", \"hi there\", \"hello\", \"I am glad! You are talking to me\"]"
      ]
    },
    {
      "cell_type": "markdown",
      "metadata": {
        "id": "hdbp-5lPkivL"
      },
      "source": [
        "**Task: Add some greeting inputs and responses to personalize your chatbot**"
      ]
    },
    {
      "cell_type": "code",
      "execution_count": null,
      "metadata": {
        "id": "2y78f_05kivL"
      },
      "outputs": [],
      "source": [
        "# Your code here"
      ]
    },
    {
      "cell_type": "markdown",
      "metadata": {
        "id": "YPgVzB3skivL"
      },
      "source": [
        "### Create function to receive and return greetings"
      ]
    },
    {
      "cell_type": "code",
      "execution_count": null,
      "metadata": {
        "id": "578471G6kivL"
      },
      "outputs": [],
      "source": [
        "def greeting(sentence):\n",
        "    for word in sentence.split(): # Looks at each word in your sentence\n",
        "        if word.lower() in GREETING_INPUTS: # checks if the word matches a GREETING_INPUT\n",
        "            return random.choice(GREETING_RESPONSES) # replies with a GREETING_RESPONSE"
      ]
    },
    {
      "cell_type": "markdown",
      "metadata": {
        "id": "uNK1JfVBkivL"
      },
      "source": [
        "Let's test this out! type different types of greetings into the chatbot and see how it responds. Run the greeting a few different times. Do you get the same answer each time?  \n",
        "Hint: pressing ctrl-enter allows you to run the highlighted cell. Holding ctrl and pressing enter multiple times allows you to run the same cell repeatedly."
      ]
    },
    {
      "cell_type": "code",
      "execution_count": null,
      "metadata": {
        "id": "T29LHPiFkivL",
        "outputId": "3bcbd771-e2ef-4f63-b845-efc0b62816a8"
      },
      "outputs": [
        {
          "data": {
            "text/plain": [
              "'hi there'"
            ]
          },
          "execution_count": 20,
          "metadata": {},
          "output_type": "execute_result"
        }
      ],
      "source": [
        "# Your code here"
      ]
    },
    {
      "cell_type": "markdown",
      "metadata": {
        "id": "WOGjQD8DkivM"
      },
      "source": [
        "### Create function to receive questions and return answers\n",
        "\n",
        "Now let us define a function to calculate a response when someone asks the robot a question.\n",
        "\n",
        "The response function:\n",
        "1. Takes in a question\n",
        "2. Uses cosine similarity to find the closest sentence to the question\n",
        "3. Returns that sentence as an answer\n",
        "\n",
        "To prevent the chatbot from returning completely useless answers, we will only return an answer if it has a cosine similarity greater than 0. Otherise, the chatbot will simply say that it does not understand the question.\n",
        "\n",
        "**Note:** The Chatbot is using TFIDF to vectorize our dataset. To learn more about TFIDF click [here](https://www.geeksforgeeks.org/understanding-tf-idf-term-frequency-inverse-document-frequency/)"
      ]
    },
    {
      "cell_type": "code",
      "execution_count": null,
      "metadata": {
        "id": "skOsfLkKkivM"
      },
      "outputs": [],
      "source": [
        "def response(user_response):\n",
        "\n",
        "    robo_response='' # initialize a variable to contain string\n",
        "    sent_tokens.append(user_response) #add user response to sent_tokens\n",
        "    TfidfVec = TfidfVectorizer(tokenizer=LemNormalize, stop_words='english')\n",
        "    tfidf = TfidfVec.fit_transform(sent_tokens) #get tfidf value\n",
        "    vals = cosine_similarity(tfidf[-1], tfidf) #get cosine similarity value\n",
        "    idx=vals.argsort()[0][-2]\n",
        "    flat = vals.flatten()\n",
        "    flat.sort() #sort in ascending order\n",
        "    req_tfidf = flat[-2]\n",
        "\n",
        "    if(req_tfidf==0):\n",
        "        robo_response=robo_response+\"I am sorry! I don't understand you\"\n",
        "        return robo_response\n",
        "    else:\n",
        "        robo_response = robo_response+sent_tokens[idx]\n",
        "        return robo_response"
      ]
    },
    {
      "cell_type": "markdown",
      "metadata": {
        "id": "Gz3PVreqkivM"
      },
      "source": [
        "### Testing the response function\n",
        "\n",
        "Test the response function. Write some questions into the response() function and inspect the results. Are they close to the answers?\n",
        "\n",
        "If you constantly get the response 'I'm sorry! I don't understand you', you might need to add more information into your knowledge base."
      ]
    },
    {
      "cell_type": "code",
      "execution_count": null,
      "metadata": {
        "scrolled": true,
        "id": "17Dts2wbkivM",
        "outputId": "d2462ef1-3802-4972-ac51-c32a09fd852f"
      },
      "outputs": [
        {
          "name": "stderr",
          "output_type": "stream",
          "text": [
            "C:\\ProgramData\\Anaconda3\\envs\\data_idp3e\\lib\\site-packages\\sklearn\\feature_extraction\\text.py:300: UserWarning: Your stop_words may be inconsistent with your preprocessing. Tokenizing the stop words generated tokens ['ha', 'le', 'u', 'wa'] not in stop_words.\n",
            "  'stop_words.' % sorted(inconsistent))\n"
          ]
        },
        {
          "data": {
            "text/plain": [
              "'what do chatbots do'"
            ]
          },
          "execution_count": 107,
          "metadata": {},
          "output_type": "execute_result"
        }
      ],
      "source": [
        "# Your code here"
      ]
    },
    {
      "cell_type": "markdown",
      "metadata": {
        "id": "uGj3sDmXkivM"
      },
      "source": [
        "### Adding more information into knowledge base\n",
        "\n",
        "You can add more information into your knowledge base either by hand, for specific answers you have, or by searching for and adding more data into the text file!"
      ]
    },
    {
      "cell_type": "markdown",
      "metadata": {
        "id": "aDZ4zi1okivN"
      },
      "source": [
        "## 4. Test your clever chatbot!\n",
        "\n",
        "### Testing your chatbot\n",
        "Now it is time to test your chatbot. This chatbot will be run entirely inside your jupyter notebook. You can train your chatbot to do specific tasks on commands.\n",
        "\n",
        "For instance:\n",
        "1. Saying 'bye' will cause the chatbot to shutdown.\n",
        "2. Giving a response that is one of the greeting phrases will cause the chatbot to give a greeting in return.   "
      ]
    },
    {
      "cell_type": "markdown",
      "metadata": {
        "id": "25Imx5RQkivN"
      },
      "source": [
        "You can add more features to your chatbot based on a list of keywords that triggers a certain behavior. For example, you can get your chatbot to tell the time, to tell a joke, or even print pictures.\n",
        "  \n",
        "Your basic chatbot is written below. You can play with it to see how well it can understand questions in your knowledge base. It will not be able to answer questions very well because chatbots require many thousands of sentences which takes many days to train. It should still be able to answer simple questions!  \n",
        "\n",
        "**Adding time features to your chatbot**\n",
        "\n",
        "You will now add more features to your chatbot to improve its capabilities! For a start, add a feature to your chatbot that will allow it to tell you the time if the user inputs 'time'.  \n",
        "Hint: Use a similar template to the greeting function above. You can get the current time by importing datetime and calling datetime.datetime.now()."
      ]
    },
    {
      "cell_type": "code",
      "execution_count": null,
      "metadata": {
        "id": "ArSEHtXlkivN",
        "outputId": "9055bcfb-22b8-41e3-da24-a5008fcb6f0b"
      },
      "outputs": [
        {
          "data": {
            "text/plain": [
              "'2019-01-20 13:47:28'"
            ]
          },
          "execution_count": 39,
          "metadata": {},
          "output_type": "execute_result"
        }
      ],
      "source": [
        "import datetime\n",
        "\n",
        "def tell_time(sentence):\n",
        "    for word in sentence.split():\n",
        "        # your code here\n",
        "            currentdt = datetime.datetime.now()\n",
        "            return currentdt.strftime(\"%Y-%m-%d %H:%M:%S\")\n",
        "\n",
        "tell_time('time')"
      ]
    },
    {
      "cell_type": "markdown",
      "metadata": {
        "id": "D13lea3OkivN"
      },
      "source": [
        "### Test your chatbot now!"
      ]
    },
    {
      "cell_type": "code",
      "execution_count": null,
      "metadata": {
        "id": "g4tFrbOYkivN",
        "outputId": "994a3446-a35b-42e1-abfa-80c8cec513bd"
      },
      "outputs": [
        {
          "name": "stdout",
          "output_type": "stream",
          "text": [
            "ROBO: My name is Robo. I will answer your queries about Chatbots. If you want to exit, type Bye!\n",
            "bye\n",
            "ROBO: Bye! take care..\n"
          ]
        }
      ],
      "source": [
        "flag=True\n",
        "print(\"ROBO: My name is Robo. I will answer your queries about Chatbots. If you want to exit, type Bye!\")\n",
        "while(flag==True):\n",
        "    user_response = input()\n",
        "    user_response=user_response.lower()\n",
        "    if(user_response!='bye'):\n",
        "        if(user_response=='thanks' or user_response=='thank you' ):\n",
        "            flag=False\n",
        "            print(\"ROBO: You are welcome..\")\n",
        "        else:\n",
        "            if(greeting(user_response)!=None):\n",
        "                print(\"ROBO: \"+greeting(user_response))\n",
        "                # Uncomment the statement below once you have written your tell_time fuction.\n",
        "#             if(tell_time(user_response)!=None):\n",
        "#                 print(\"ROBO: \"+tell_time(user_response))\n",
        "            else:\n",
        "                print(\"ROBO: \",end=\"\")\n",
        "                print(response(user_response))\n",
        "                sent_tokens.remove(user_response)\n",
        "    else:\n",
        "        flag=False\n",
        "        print(\"ROBO: Bye! take care..\")"
      ]
    },
    {
      "cell_type": "markdown",
      "metadata": {
        "id": "rHtY0eWFkivO"
      },
      "source": [
        "Now you have a very basic chatbot that can be trained on data you have chosen. Improve your chatbot in the following ways:\n",
        "1. increase the number of greeting inputs and greeting responses\n",
        "2. increase the number of words to say goodbye i.e. see you!, quit, exit\n",
        "3. train your chatbot on a different topic, or add to your chatbot's knowledge base by adding more data"
      ]
    },
    {
      "cell_type": "code",
      "execution_count": null,
      "metadata": {
        "id": "1NpvxpZakivO"
      },
      "outputs": [],
      "source": []
    }
  ],
  "metadata": {
    "kernelspec": {
      "display_name": "Python 3 (ipykernel)",
      "language": "python",
      "name": "python3"
    },
    "language_info": {
      "codemirror_mode": {
        "name": "ipython",
        "version": 3
      },
      "file_extension": ".py",
      "mimetype": "text/x-python",
      "name": "python",
      "nbconvert_exporter": "python",
      "pygments_lexer": "ipython3",
      "version": "3.9.12"
    },
    "colab": {
      "provenance": []
    }
  },
  "nbformat": 4,
  "nbformat_minor": 0
}